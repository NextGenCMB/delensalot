{
 "cells": [
  {
   "attachments": {},
   "cell_type": "markdown",
   "metadata": {},
   "source": [
    "# Test delensalots `sims.sims_lib` module\n",
    "This notebook serves in understanding how data can be provided and accessed and we see the behaviour of the libraries"
   ]
  },
  {
   "cell_type": "code",
   "execution_count": 1,
   "metadata": {},
   "outputs": [
    {
     "name": "stdout",
     "output_type": "stream",
     "text": [
      "cond4mpi does not exists. No MPI loaded\n",
      "mpi.py: Plancklens.mpi disabled as per environ variable \n",
      "\n"
     ]
    }
   ],
   "source": [
    "from IPython.display import clear_output\n",
    "from datetime import datetime\n",
    "import os\n",
    "from os.path import join as opj\n",
    "\n",
    "import healpy as hp\n",
    "import numpy as np\n",
    "import matplotlib.pyplot as plt\n",
    "\n",
    "import delensalot\n",
    "from delensalot.utility.utils_hp import gauss_beam\n",
    "from delensalot.sims.sims_lib import Xunl, Xsky, Xobs, Simhandler\n",
    "\n",
    "os.environ[\"SCRATCH\"] = \"./SCRATCH/delensalot\""
   ]
  },
  {
   "attachments": {},
   "cell_type": "markdown",
   "metadata": {},
   "source": [
    "# Main interface\n",
    "is `Simhandler`, and provides the most important function `get_sim_pmap()` which returns the observed QU maps. Simhandler is flexible: you can provide `cls` to generate realizations from, (un)lensed realizations, or observed maps. Simhandler will do the rest for you.\n",
    "\n",
    "The two most important parameter are `flavour` and `space`. They are used to decide how to work with the data.\n",
    " * flavour can be in [`unl`,`sky`,`obs`],\n",
    " * space in [`cl`,`alm`,`map`]\n",
    "\n",
    "`Simhandler` never stores the generated data on disk per default, but in memory."
   ]
  },
  {
   "attachments": {},
   "cell_type": "markdown",
   "metadata": {},
   "source": [
    "## flavour = `obs`\n",
    " 1. already on disk\n",
    " 2. need to be generated\n",
    "\n",
    "For the first case, simply provide `libdir`, `fns`, `spin`, `lmax`, so delensalot knows exactly what this data is. "
   ]
  },
  {
   "cell_type": "code",
   "execution_count": 2,
   "metadata": {},
   "outputs": [
    {
     "data": {
      "text/plain": [
       "array([[ 16.93667809, -10.69699026,  11.10045604, ...,  -2.31878458,\n",
       "          3.82031646,  -0.31462867],\n",
       "       [  5.91189672,   0.10350747,  -0.43444732, ...,   2.28714553,\n",
       "         -6.70083286,   9.01127998]])"
      ]
     },
     "execution_count": 2,
     "metadata": {},
     "output_type": "execute_result"
    }
   ],
   "source": [
    "sims = Simhandler(\n",
    "    flavour='obs', space='map', \n",
    "    libdir=\"/mnt/c/Users/sebas/OneDrive/Desktop/Uni/ext/git/notebooks/dlensalot/dev/SCRATCH/delensalot/sims/('healpix', {'nside': 2048})\",\n",
    "    fns=['Qmapobs_{}.npy', 'Umapobs_{}.npy'],\n",
    "    spin=2,\n",
    "    lmax=4096)\n",
    "sims.get_sim_obs(0, space='map', field='polarization', spin=2)"
   ]
  },
  {
   "attachments": {},
   "cell_type": "markdown",
   "metadata": {},
   "source": [
    "In the second case, there is no obs data, and `get_sim_obs()` will therefore fail. This is intended. We don't accidently want to generate fake data being generated."
   ]
  },
  {
   "cell_type": "code",
   "execution_count": 3,
   "metadata": {},
   "outputs": [
    {
     "ename": "AssertionError",
     "evalue": "need to provide libdir",
     "output_type": "error",
     "traceback": [
      "\u001b[0;31m---------------------------------------------------------------------------\u001b[0m",
      "\u001b[0;31mAssertionError\u001b[0m                            Traceback (most recent call last)",
      "Cell \u001b[0;32mIn[3], line 1\u001b[0m\n\u001b[0;32m----> 1\u001b[0m sims \u001b[39m=\u001b[39m Simhandler(\n\u001b[1;32m      2\u001b[0m     flavour\u001b[39m=\u001b[39;49m\u001b[39m'\u001b[39;49m\u001b[39mobs\u001b[39;49m\u001b[39m'\u001b[39;49m, space\u001b[39m=\u001b[39;49m\u001b[39m'\u001b[39;49m\u001b[39mmap\u001b[39;49m\u001b[39m'\u001b[39;49m)\n\u001b[1;32m      3\u001b[0m sims\u001b[39m.\u001b[39mget_sim_obs(\u001b[39m0\u001b[39m, space\u001b[39m=\u001b[39m\u001b[39m'\u001b[39m\u001b[39mmap\u001b[39m\u001b[39m'\u001b[39m, field\u001b[39m=\u001b[39m\u001b[39m'\u001b[39m\u001b[39mpolarization\u001b[39m\u001b[39m'\u001b[39m, spin\u001b[39m=\u001b[39m\u001b[39m2\u001b[39m)\n",
      "File \u001b[0;32m/mnt/c/Users/sebas/OneDrive/Desktop/Uni/ext/git/delensalot/delensalot/sims/sims_lib.py:680\u001b[0m, in \u001b[0;36mSimhandler.__init__\u001b[0;34m(self, flavour, space, maps, cls_lib, unl_lib, obs_lib, len_lib, noise_lib, libdir_noise, libdir, libdir_phi, fns, fnsP, simidxs, lmax, transfunction, nlev, fnsnoise, spin, CAMB_fn, clphi_fn, phi_field, phi_space, epsilon, geometry, field)\u001b[0m\n\u001b[1;32m    678\u001b[0m \u001b[39mif\u001b[39;00m flavour \u001b[39m==\u001b[39m \u001b[39m'\u001b[39m\u001b[39mobs\u001b[39m\u001b[39m'\u001b[39m:\n\u001b[1;32m    679\u001b[0m     \u001b[39mself\u001b[39m\u001b[39m.\u001b[39msimidxs \u001b[39m=\u001b[39m simidxs\n\u001b[0;32m--> 680\u001b[0m     \u001b[39massert\u001b[39;00m libdir \u001b[39m!=\u001b[39m DNaV, \u001b[39m\"\u001b[39m\u001b[39mneed to provide libdir\u001b[39m\u001b[39m\"\u001b[39m\n\u001b[1;32m    681\u001b[0m     \u001b[39massert\u001b[39;00m fns \u001b[39m!=\u001b[39m DNaV, \u001b[39m'\u001b[39m\u001b[39myou need to provide fns\u001b[39m\u001b[39m'\u001b[39m \n\u001b[1;32m    682\u001b[0m     \u001b[39massert\u001b[39;00m lmax \u001b[39m!=\u001b[39m DNaV, \u001b[39m\"\u001b[39m\u001b[39mneed to provide lmax\u001b[39m\u001b[39m\"\u001b[39m\n",
      "\u001b[0;31mAssertionError\u001b[0m: need to provide libdir"
     ]
    }
   ],
   "source": [
    "sims = Simhandler(\n",
    "    flavour='obs', space='map')\n",
    "sims.get_sim_obs(0, space='map', field='polarization', spin=2)"
   ]
  },
  {
   "attachments": {},
   "cell_type": "markdown",
   "metadata": {},
   "source": [
    "## flavour = `sky`\n",
    " 1. already on disk\n",
    " 2. need to be generated\n",
    "\n",
    "For the first case, simply provide `libdir`, `fns`, `spin`, `lmax`, so delensalot knows exactly what this data is. Additionally, to generate the observed maps, it needs a `transfunction`, and `nlev`."
   ]
  },
  {
   "cell_type": "code",
   "execution_count": 2,
   "metadata": {},
   "outputs": [],
   "source": [
    "sims = Simhandler(\n",
    "    flavour='sky', space='map', \n",
    "    libdir=\"/mnt/c/Users/sebas/OneDrive/Desktop/Uni/ext/git/notebooks/dlensalot/dev/SCRATCH/delensalot/sims/('healpix', {'nside': 2048})\",\n",
    "    fns=['Qmapobs_{}.npy', 'Umapobs_{}.npy'],\n",
    "    spin=2,\n",
    "    lmax=4096,\n",
    "    transfunction=gauss_beam(1.0/180/60 * np.pi, lmax=4096),\n",
    "    nlev={'P': np.sqrt(10)},\n",
    "    )\n",
    "obs = sims.get_sim_obs(0, space='map', field='polarization', spin=2)"
   ]
  },
  {
   "attachments": {},
   "cell_type": "markdown",
   "metadata": {},
   "source": [
    "For the second case, again, it will fail as intended."
   ]
  },
  {
   "cell_type": "code",
   "execution_count": 6,
   "metadata": {},
   "outputs": [
    {
     "ename": "AssertionError",
     "evalue": "need to provide libdir",
     "output_type": "error",
     "traceback": [
      "\u001b[0;31m---------------------------------------------------------------------------\u001b[0m",
      "\u001b[0;31mAssertionError\u001b[0m                            Traceback (most recent call last)",
      "Cell \u001b[0;32mIn[6], line 1\u001b[0m\n\u001b[0;32m----> 1\u001b[0m sims \u001b[39m=\u001b[39m Simhandler(\n\u001b[1;32m      2\u001b[0m     flavour\u001b[39m=\u001b[39;49m\u001b[39m'\u001b[39;49m\u001b[39msky\u001b[39;49m\u001b[39m'\u001b[39;49m, space\u001b[39m=\u001b[39;49m\u001b[39m'\u001b[39;49m\u001b[39mmap\u001b[39;49m\u001b[39m'\u001b[39;49m,\n\u001b[1;32m      3\u001b[0m     spin\u001b[39m=\u001b[39;49m\u001b[39m2\u001b[39;49m,\n\u001b[1;32m      4\u001b[0m     lmax\u001b[39m=\u001b[39;49m\u001b[39m4096\u001b[39;49m,\n\u001b[1;32m      5\u001b[0m     nlev\u001b[39m=\u001b[39;49m{\u001b[39m'\u001b[39;49m\u001b[39mP\u001b[39;49m\u001b[39m'\u001b[39;49m: np\u001b[39m.\u001b[39;49msqrt(\u001b[39m10\u001b[39;49m)},\n\u001b[1;32m      6\u001b[0m     transfunction\u001b[39m=\u001b[39;49mgauss_beam(\u001b[39m1.0\u001b[39;49m\u001b[39m/\u001b[39;49m\u001b[39m180\u001b[39;49m\u001b[39m/\u001b[39;49m\u001b[39m60\u001b[39;49m \u001b[39m*\u001b[39;49m np\u001b[39m.\u001b[39;49mpi, lmax\u001b[39m=\u001b[39;49m\u001b[39m4096\u001b[39;49m),\n\u001b[1;32m      7\u001b[0m     )\n\u001b[1;32m      8\u001b[0m obs \u001b[39m=\u001b[39m sims\u001b[39m.\u001b[39mget_sim_obs(\u001b[39m0\u001b[39m, space\u001b[39m=\u001b[39m\u001b[39m'\u001b[39m\u001b[39mmap\u001b[39m\u001b[39m'\u001b[39m, field\u001b[39m=\u001b[39m\u001b[39m'\u001b[39m\u001b[39mpolarization\u001b[39m\u001b[39m'\u001b[39m, spin\u001b[39m=\u001b[39m\u001b[39m2\u001b[39m)\n",
      "File \u001b[0;32m/mnt/c/Users/sebas/OneDrive/Desktop/Uni/ext/git/delensalot/delensalot/sims/sims_lib.py:690\u001b[0m, in \u001b[0;36mSimhandler.__init__\u001b[0;34m(self, flavour, space, maps, cls_lib, unl_lib, obs_lib, len_lib, noise_lib, libdir_noise, libdir, libdir_phi, fns, fnsP, simidxs, lmax, transfunction, nlev, fnsnoise, spin, CAMB_fn, clphi_fn, phi_field, phi_space, epsilon, geometry, field)\u001b[0m\n\u001b[1;32m    688\u001b[0m     \u001b[39mself\u001b[39m\u001b[39m.\u001b[39mfns \u001b[39m=\u001b[39m \u001b[39mself\u001b[39m\u001b[39m.\u001b[39mobs_lib\u001b[39m.\u001b[39mfns\n\u001b[1;32m    689\u001b[0m \u001b[39mif\u001b[39;00m flavour \u001b[39m==\u001b[39m \u001b[39m'\u001b[39m\u001b[39msky\u001b[39m\u001b[39m'\u001b[39m:\n\u001b[0;32m--> 690\u001b[0m     \u001b[39massert\u001b[39;00m libdir \u001b[39m!=\u001b[39m DNaV, \u001b[39m\"\u001b[39m\u001b[39mneed to provide libdir\u001b[39m\u001b[39m\"\u001b[39m\n\u001b[1;32m    691\u001b[0m     \u001b[39massert\u001b[39;00m fns \u001b[39m!=\u001b[39m DNaV, \u001b[39m'\u001b[39m\u001b[39myou need to provide fns\u001b[39m\u001b[39m'\u001b[39m \n\u001b[1;32m    692\u001b[0m     \u001b[39massert\u001b[39;00m lmax \u001b[39m!=\u001b[39m DNaV, \u001b[39m\"\u001b[39m\u001b[39mneed to provide lmax\u001b[39m\u001b[39m\"\u001b[39m\n",
      "\u001b[0;31mAssertionError\u001b[0m: need to provide libdir"
     ]
    }
   ],
   "source": [
    "sims = Simhandler(\n",
    "    flavour='unl', space='map',\n",
    "    spin=2,\n",
    "    lmax=4096,\n",
    "    nlev={'P': np.sqrt(10)},\n",
    "    transfunction=gauss_beam(1.0/180/60 * np.pi, lmax=4096),\n",
    "    )\n",
    "obs = sims.get_sim_obs(0, space='map', field='polarization', spin=2)"
   ]
  },
  {
   "attachments": {},
   "cell_type": "markdown",
   "metadata": {},
   "source": [
    "## flavour = `unl`\n",
    " 1. already on disk\n",
    " 2. need to be generated\n",
    "\n",
    "For the first case, simply provide `libdir`, `fns`, `spin`, `lmax`, so delensalot knows exactly what this data is. Additionally, to generate the lensed maps, you can provide a phi realization yourself. Again, it needs a `transfunction`, and `nlev`."
   ]
  },
  {
   "cell_type": "code",
   "execution_count": 3,
   "metadata": {},
   "outputs": [
    {
     "name": "stdout",
     "output_type": "stream",
     "text": [
      "deflection std is 1.92e+07 amin: this is really too high a value for something sensible\n"
     ]
    }
   ],
   "source": [
    "sims = Simhandler(\n",
    "    flavour='unl', space='map', \n",
    "    libdir=\"/mnt/c/Users/sebas/OneDrive/Desktop/Uni/ext/git/notebooks/dlensalot/dev/SCRATCH/delensalot/sims/('healpix', {'nside': 2048})\",\n",
    "    fns=['Qmapobs_{}.npy', 'Umapobs_{}.npy'],\n",
    "    libdir_phi=\"/mnt/c/Users/sebas/OneDrive/Desktop/Uni/ext/git/notebooks/dlensalot/dev/SCRATCH/delensalot/sims/('healpix', {'nside': 2048})\",\n",
    "    fnsP='Qmapobs_{}.npy',\n",
    "    phi_field='potential',\n",
    "    phi_space='map',\n",
    "    spin=2,\n",
    "    lmax=4096,\n",
    "    phi_lmax=4096,\n",
    "    transfunction=gauss_beam(1.0/180/60 * np.pi, lmax=4096),\n",
    "    nlev={'P': np.sqrt(10)},\n",
    "    )\n",
    "obs = sims.get_sim_obs(0, space='map', field='polarization', spin=2)"
   ]
  },
  {
   "attachments": {},
   "cell_type": "markdown",
   "metadata": {},
   "source": [
    "It can happen that you are provided unlensed maps, and only the phi power spectrum. You can generate observed maps from this as follows"
   ]
  },
  {
   "cell_type": "code",
   "execution_count": null,
   "metadata": {},
   "outputs": [],
   "source": [
    "sims = Simhandler(\n",
    "    flavour='unl', space='map', \n",
    "    libdir=\"/mnt/c/Users/sebas/OneDrive/Desktop/Uni/ext/git/notebooks/dlensalot/dev/SCRATCH/delensalot/sims/('healpix', {'nside': 2048})\",\n",
    "    fns=['Qmapobs_{}.npy', 'Umapobs_{}.npy'],\n",
    "    spin=2,\n",
    "    lmax=4096,\n",
    "    phi_field='potential',\n",
    "    phi_space='cl',\n",
    "    phi_fn=opj(os.path.dirname(delensalot.__file__), 'data', 'cls', 'FFP10_wdipole_lenspotentialCls.dat'),\n",
    "    phi_lmax=4096,\n",
    "    transfunction=gauss_beam(1.0/180/60 * np.pi, lmax=4096),\n",
    "    nlev={'P': np.sqrt(10)},\n",
    "    )\n",
    "obs = sims.get_sim_obs(0, space='map', field='polarization', spin=2)"
   ]
  },
  {
   "attachments": {},
   "cell_type": "markdown",
   "metadata": {},
   "source": [
    "## flavour = `unl`, space= `cl`\n",
    " 1. need to be generated\n",
    "\n",
    "Simply provide `lmax` and `phi_lmax`, so delensalot knows exactly what this data is. You can provide two power spectra, one for the CMB, and one for phi, but you can also leave it blank. Again, it needs a `transfunction`, and `nlev`."
   ]
  },
  {
   "cell_type": "code",
   "execution_count": null,
   "metadata": {},
   "outputs": [],
   "source": [
    "sims = Simhandler(\n",
    "    flavour='unl', space='cl',\n",
    "    lmax=4096,\n",
    "    phi_lmax=4096,\n",
    "    CMB_fn = opj(os.path.dirname(delensalot.__file__), 'data', 'cls', 'FFP10_wdipole_lenspotentialCls.dat'),\n",
    "    phi_fn = opj(os.path.dirname(delensalot.__file__), 'data', 'cls', 'FFP10_wdipole_lenspotentialCls.dat'),\n",
    "    phi_field = 'potential',\n",
    "    phi_space = 'cl',\n",
    "    transfunction=gauss_beam(1.0/180/60 * np.pi, lmax=4096),\n",
    "    nlev={'P': np.sqrt(10)},\n",
    "    )\n",
    "obs = sims.get_sim_obs(0, space='map', field='polarization', spin=2)"
   ]
  },
  {
   "cell_type": "code",
   "execution_count": null,
   "metadata": {},
   "outputs": [],
   "source": [
    "sims = Simhandler(\n",
    "    flavour='unl', space='cl',\n",
    "    lmax=4096,\n",
    "    phi_lmax=4096,\n",
    "    CMB_fn = opj(os.path.dirname(delensalot.__file__), 'data', 'cls', 'FFP10_wdipole_lenspotentialCls.dat'),\n",
    "    transfunction=gauss_beam(1.0/180/60 * np.pi, lmax=4096),\n",
    "    nlev={'P': np.sqrt(10)},\n",
    "    )\n",
    "obs = sims.get_sim_obs(0, space='map', field='polarization', spin=2)"
   ]
  },
  {
   "attachments": {},
   "cell_type": "markdown",
   "metadata": {},
   "source": [
    "# Individual libraries\n",
    "Tests for\n",
    " * `class Cls()`\n",
    " * `class Xunl()`\n",
    " * `class Xsky()`\n",
    " * `class Xobs()`"
   ]
  },
  {
   "cell_type": "code",
   "execution_count": 2,
   "metadata": {},
   "outputs": [],
   "source": [
    "synobs = Xobs(lmax=4096, transfunction=gauss_beam(1.0/180/60 * np.pi, lmax=4096), nlev={'P': np.sqrt(10)}, geometry=('healpix', {'nside': 2048}))\n",
    "synobs.get_sim_obs(0, field='polarization', space='map', spin=2)"
   ]
  },
  {
   "cell_type": "code",
   "execution_count": 5,
   "metadata": {},
   "outputs": [
    {
     "data": {
      "text/plain": [
       "array([[ 16.93667809, -10.69699026,  11.10045604, ...,  -2.31878458,\n",
       "          3.82031646,  -0.31462867],\n",
       "       [  5.91189672,   0.10350747,  -0.43444732, ...,   2.28714553,\n",
       "         -6.70083286,   9.01127998]])"
      ]
     },
     "execution_count": 5,
     "metadata": {},
     "output_type": "execute_result"
    }
   ],
   "source": [
    "synobs_prec = Xobs(lmax=4096, libdir=\"/mnt/c/Users/sebas/OneDrive/Desktop/Uni/ext/git/notebooks/dlensalot/dev/SCRATCH/delensalot/sims/('healpix', {'nside': 2048})\", fns=['Qmapobs_{}.npy', 'Umapobs_{}.npy'], space='map')\n",
    "synobs_prec.get_sim_obs(0, field='polarization', space='map', spin=2)"
   ]
  },
  {
   "cell_type": "code",
   "execution_count": 7,
   "metadata": {},
   "outputs": [],
   "source": [
    "synsky = Xsky(lmax=4096)\n",
    "synsky.get_sim_sky(0, field='polarization', space='map', spin=2)\n"
   ]
  },
  {
   "cell_type": "code",
   "execution_count": 3,
   "metadata": {},
   "outputs": [
    {
     "data": {
      "text/plain": [
       "array([[ 16.93667809, -10.69699026,  11.10045604, ...,  -2.31878458,\n",
       "          3.82031646,  -0.31462867],\n",
       "       [  5.91189672,   0.10350747,  -0.43444732, ...,   2.28714553,\n",
       "         -6.70083286,   9.01127998]])"
      ]
     },
     "execution_count": 3,
     "metadata": {},
     "output_type": "execute_result"
    }
   ],
   "source": [
    "synsky_prec = Xsky(lmax=4096, libdir=\"/mnt/c/Users/sebas/OneDrive/Desktop/Uni/ext/git/notebooks/dlensalot/dev/SCRATCH/delensalot/sims/('healpix', {'nside': 2048})\", fns=['Qmapobs_{}.npy', 'Umapobs_{}.npy'], space='map', spin=2)\n",
    "synsky_prec.get_sim_sky(0, field='polarization', space='map', spin=2)"
   ]
  },
  {
   "cell_type": "code",
   "execution_count": 9,
   "metadata": {},
   "outputs": [],
   "source": [
    "synunl = Xunl(lmax=4096)\n",
    "synunl.get_sim_unl(0, field='polarization', space='map', spin=2)\n"
   ]
  },
  {
   "cell_type": "code",
   "execution_count": 4,
   "metadata": {},
   "outputs": [
    {
     "data": {
      "text/plain": [
       "array([[ 16.93667809, -10.69699026,  11.10045604, ...,  -2.31878458,\n",
       "          3.82031646,  -0.31462867],\n",
       "       [  5.91189672,   0.10350747,  -0.43444732, ...,   2.28714553,\n",
       "         -6.70083286,   9.01127998]])"
      ]
     },
     "execution_count": 4,
     "metadata": {},
     "output_type": "execute_result"
    }
   ],
   "source": [
    "synunl_prec = Xunl(lmax=4096, libdir=\"/mnt/c/Users/sebas/OneDrive/Desktop/Uni/ext/git/notebooks/dlensalot/dev/SCRATCH/delensalot/sims/('healpix', {'nside': 2048})\", fns=['Qmapobs_{}.npy', 'Umapobs_{}.npy'], space='map', spin=2)\n",
    "synunl_prec.get_sim_unl(0, field='polarization', space='map', spin=2)"
   ]
  }
 ],
 "metadata": {
  "kernelspec": {
   "display_name": "delensalot",
   "language": "python",
   "name": "python3"
  },
  "language_info": {
   "codemirror_mode": {
    "name": "ipython",
    "version": 3
   },
   "file_extension": ".py",
   "mimetype": "text/x-python",
   "name": "python",
   "nbconvert_exporter": "python",
   "pygments_lexer": "ipython3",
   "version": "3.11.3"
  },
  "orig_nbformat": 4
 },
 "nbformat": 4,
 "nbformat_minor": 2
}
