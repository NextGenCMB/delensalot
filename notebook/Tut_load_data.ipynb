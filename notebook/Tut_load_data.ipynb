{
 "cells": [
  {
   "cell_type": "markdown",
   "id": "dad17e81-e68d-4b98-b0b7-06c55928475f",
   "metadata": {},
   "source": [
    "# Tutorial 1: load data"
   ]
  },
  {
   "cell_type": "markdown",
   "id": "246d7d69-f62d-48d9-b90c-54de55dbc8ee",
   "metadata": {},
   "source": [
    "In this tutorial, you will learn how to use D.lensalot to read the data and mask provided"
   ]
  },
  {
   "cell_type": "code",
   "execution_count": null,
   "id": "278ec2b0-7002-4333-bc30-d05574a8e18b",
   "metadata": {},
   "outputs": [],
   "source": []
  },
  {
   "cell_type": "code",
   "execution_count": null,
   "id": "73fd3d60-30bd-455a-9a5a-438ab8aa5e95",
   "metadata": {},
   "outputs": [],
   "source": [
    "import numpy as np\n",
    "import healpy as hp\n",
    "import os, sys\n",
    "from os.path import join as opj\n",
    "\n",
    "import matplotlib\n",
    "import matplotlib.pyplot as plt\n",
    "matplotlib.rcParams.update({'font.size': 14})\n",
    "import matplotlib.gridspec as gridspec\n",
    "\n",
    "from astropy.io import fits\n",
    "from lenscarf.iterators.statics import rec\n",
    "import plancklens\n",
    "from plancklens import utils, qresp\n",
    "from plancklens.sims import planck2018_sims\n",
    "\n",
    "from lenscarf.utils import cli\n",
    "\n",
    "nside = 2048\n",
    "lmax_cl = 2048\n",
    "lmax_plot = 195\n",
    "lmax_qlm = 2500\n",
    "lmax_mask = 4096\n",
    "\n",
    "iteration = [0,12]\n",
    "\n",
    "ll = np.arange(0,lmax_plot+1,1)\n",
    "binspace = 5\n",
    "scale_uk = (2 * ll + 1) * ll**2 * (ll + 1)**2\n",
    "scale_ps = ll*(ll+1)/(2*np.pi)\n",
    "label_scale_ps = r'$\\frac{\\ell(\\ell+1)}{2 \\pi}$'\n",
    "label_scale_lp = r'$\\frac{\\ell^2(\\ell+1)^2}{2 \\pi}$'\n",
    "scale_lp = ll**2 * (ll + 1)**2 * 1e7 / (2 * np.pi)\n",
    "\n",
    "psl = r'$\\frac{l(l+1)}{2\\pi}C_\\ell \\/ [\\mu K^2]$'"
   ]
  },
  {
   "cell_type": "code",
   "execution_count": null,
   "id": "ccb2f554-aad1-4faf-af31-baae4802005d",
   "metadata": {},
   "outputs": [],
   "source": []
  }
 ],
 "metadata": {
  "kernelspec": {
   "display_name": "py3.7",
   "language": "python",
   "name": "py3.7"
  },
  "language_info": {
   "codemirror_mode": {
    "name": "ipython",
    "version": 3
   },
   "file_extension": ".py",
   "mimetype": "text/x-python",
   "name": "python",
   "nbconvert_exporter": "python",
   "pygments_lexer": "ipython3",
   "version": "3.7.11"
  }
 },
 "nbformat": 4,
 "nbformat_minor": 5
}
