{
 "cells": [
  {
   "cell_type": "code",
   "execution_count": 1,
   "id": "df8890d0-3d19-4bda-a800-74a105397f1e",
   "metadata": {},
   "outputs": [
    {
     "name": "stdout",
     "output_type": "stream",
     "text": [
      "MSC: reverting to standard healpy\n"
     ]
    }
   ],
   "source": [
    "import numpy as np\n",
    "import healpy as hp\n",
    "import os, sys\n",
    "from os.path import join as opj\n",
    "\n",
    "import matplotlib.pyplot as plt\n",
    "import matplotlib\n",
    "matplotlib.rcParams.update({'font.size': 14})\n",
    "import matplotlib.gridspec as gridspec\n",
    "\n",
    "\n",
    "from astropy.io import fits\n",
    "from lenscarf.iterators.statics import rec\n",
    "import plancklens\n",
    "from plancklens import utils, qresp\n",
    "from plancklens.sims import planck2018_sims\n",
    "\n",
    "from component_separation.MSC.MSC import pospace as ps\n",
    "from lenscarf.utils import cli\n",
    "\n",
    "nside = 2048\n",
    "lmax_cl = 2048\n",
    "lmax_plot = 195\n",
    "lmax_qlm = 2500\n",
    "lmax_mask = 4096\n",
    "\n",
    "iteration = [0,12]\n",
    "\n",
    "ll = np.arange(0,lmax_plot+1,1)\n",
    "binspace = 5\n",
    "scale_uk = (2 * ll + 1) * ll**2 * (ll + 1)**2\n",
    "scale_ps = ll*(ll+1)/(2*np.pi)\n",
    "label_scale_ps = r'$\\frac{\\ell(\\ell+1)}{2 \\pi}$'\n",
    "label_scale_lp = r'$\\frac{\\ell^2(\\ell+1)^2}{2 \\pi}$'\n",
    "scale_lp = ll**2 * (ll + 1)**2 * 1e7 / (2 * np.pi)\n",
    "\n",
    "psl = r'$\\frac{l(l+1)}{2\\pi}C_\\ell \\/ [\\mu K^2]$'"
   ]
  },
  {
   "cell_type": "code",
   "execution_count": null,
   "id": "d697ca09-8690-4a4b-822b-35183a6dfa39",
   "metadata": {},
   "outputs": [],
   "source": []
  }
 ],
 "metadata": {
  "kernelspec": {
   "display_name": "py3.7",
   "language": "python",
   "name": "py3.7"
  },
  "language_info": {
   "codemirror_mode": {
    "name": "ipython",
    "version": 3
   },
   "file_extension": ".py",
   "mimetype": "text/x-python",
   "name": "python",
   "nbconvert_exporter": "python",
   "pygments_lexer": "ipython3",
   "version": "3.7.11"
  }
 },
 "nbformat": 4,
 "nbformat_minor": 5
}
