{
 "cells": [
  {
   "cell_type": "markdown",
   "id": "d44829d8-0f20-47ec-a573-6bf7837e2a54",
   "metadata": {},
   "source": [
    "# Tutorial 0: create your own Parameterfile\n",
    "In this tutorial, you will learn how to create a parameterfile which contains all configurations to successfully delens your data.\n",
    "\n",
    "To convert this tutorial into a parameterfile, execute `jupyter nbconvert --to script 'Tut0.ipynb'` in your shell."
   ]
  },
  {
   "cell_type": "markdown",
   "id": "debccd67-cdcb-45c5-b341-59ce44b7083b",
   "metadata": {},
   "source": [
    "## Basic imports"
   ]
  },
  {
   "cell_type": "code",
   "execution_count": 1,
   "id": "314f17ae-6e25-4055-9bf9-aa800c70dfdb",
   "metadata": {},
   "outputs": [],
   "source": [
    "import os\n",
    "from os.path import join as opj\n",
    "import numpy as np\n",
    "import healpy as hp\n",
    "\n",
    "import plancklens\n",
    "from plancklens import utils\n",
    "from plancklens import qresp\n",
    "from plancklens import qest, qecl\n",
    "from plancklens.qcinv import cd_solve\n",
    "\n",
    "from plancklens.sims import maps, phas, planck2018_sims\n",
    "from plancklens.filt import filt_simple, filt_util\n",
    "\n",
    "from lenscarf import remapping\n",
    "from lenscarf import utils_scarf, utils_sims\n",
    "from lenscarf.iterators import cs_iterator as scarf_iterator, steps\n",
    "\n",
    "from lenscarf.utils import cli\n",
    "from lenscarf.utils_hp import gauss_beam, almxfl, alm_copy\n",
    "from lenscarf.opfilt.opfilt_iso_ee_wl import alm_filter_nlev_wl"
   ]
  },
  {
   "cell_type": "markdown",
   "id": "bf858d8c-d24a-4a85-8157-7f2bcc1bcd28",
   "metadata": {},
   "source": [
    "## Overview\n",
    "Delensing consists of the following steps which need to be configured,\n",
    " * output path\n",
    " * general\n",
    " * geometry\n",
    " * fiducial spectra\n",
    " * transfer function\n",
    " * quadratic estimator\n",
    " * chain descriptor\n",
    " * libdir iterator\n",
    " * data / simulations"
   ]
  },
  {
   "cell_type": "markdown",
   "id": "0d06958f-2e8d-4d86-9f55-eed845050f66",
   "metadata": {},
   "source": [
    "## output path\n",
    "Let us store the `Dlensalot` output @ `$SCRATCH/Dlensalot/tutorial0/cmbs4_idealized/`"
   ]
  },
  {
   "cell_type": "code",
   "execution_count": 4,
   "id": "4111b53a-12df-43ae-934b-e5ae16ef3dfb",
   "metadata": {},
   "outputs": [],
   "source": [
    "TEMP =  opj(os.environ['SCRATCH'], 'Dlensalot/tutorial0', 'cmbs4_idealized')"
   ]
  },
  {
   "cell_type": "markdown",
   "id": "9364ab1b-161a-4478-af7d-ddf646e29e11",
   "metadata": {},
   "source": [
    "# general\n",
    "For this tutorial, we assume that data goes to ell<=4000. "
   ]
  },
  {
   "cell_type": "code",
   "execution_count": 5,
   "id": "b89df96e-d0bd-4fe7-95b3-1226889818a3",
   "metadata": {},
   "outputs": [],
   "source": [
    "lmax_ivf, mmax_ivf, beam, nlev_t, nlev_p = (3000, 3000, 1., 1., np.sqrt(2.))\n",
    "\n",
    "lmin_tlm, lmin_elm, lmin_blm = (30, 30, 30) # The fiducial transfer functions are set to zero below these lmins\n",
    "# for delensing useful to cut much more B. It can also help since the cg inversion does not have to reconstruct those.\n",
    "\n",
    "lmax_qlm, mmax_qlm = (4000, 4000) # Lensing map is reconstructed down to this lmax and mmax\n",
    "# NB: the QEs from plancklens does not support mmax != lmax, but the MAP pipeline does\n",
    "lmax_unl, mmax_unl = (4000, 4000) # Delensed CMB is reconstructed down to this lmax and mmax\n",
    "\n",
    "#----------------- pixelization and geometry info for the input maps and the MAP pipeline and for lensing operations\n",
    "nside = 2048\n",
    "zbounds     = (-1.,1.) # colatitude sky cuts for noise variance maps (We could exclude all rings which are completely masked)\n",
    "\n",
    "zbounds_len = (-1.,1.) # Outside of these bounds the reconstructed maps are assumed to be zero\n",
    "pb_ctr, pb_extent = (0., 2 * np.pi) # Longitude cuts, if any, in the form (center of patch, patch extent)\n",
    "\n",
    "lensres = 1.7  # Deflection operations will be performed at this resolution\n",
    "Lmin = 2 # The reconstruction of all lensing multipoles below that will not be attempted\n",
    "stepper = steps.nrstep(lmax_qlm, mmax_qlm, val=0.5) # handler of the size steps in the MAP BFGS iterative search"
   ]
  },
  {
   "cell_type": "markdown",
   "id": "e92d3017-d3db-493e-9c10-e4c1870e9504",
   "metadata": {},
   "source": [
    "## geometry\n",
    " * When working with CMB data, most likely you will be working with healpix maps, which are defined by the healpix geometry.\n",
    " * There could be use cases in which you could want the geometry to be different.\n",
    " * D.lensalot uses Scarf, a python wrapper about DUCC to calculate the spherical harmonics.\n",
    " * DUCC itself supports various predefined, and custom geometries.\n",
    " * For more info, see https://scarfcmb.readthedocs.io/en/latest/geometry.html"
   ]
  },
  {
   "cell_type": "code",
   "execution_count": null,
   "id": "a4507da8-1031-4c82-af46-fd04071e60dd",
   "metadata": {},
   "outputs": [],
   "source": [
    "ninvjob_geometry = utils_scarf.Geom.get_healpix_geometry(nside, zbounds=zbounds)\n",
    "lenjob_geometry = utils_scarf.Geom.get_thingauss_geometry(lmax_unl, 2, zbounds=zbounds_len)\n",
    "lenjob_pbgeometry =utils_scarf.pbdGeometry(lenjob_geometry, utils_scarf.pbounds(pb_ctr, pb_extent))"
   ]
  }
 ],
 "metadata": {
  "kernelspec": {
   "display_name": "py3.7",
   "language": "python",
   "name": "py3.7"
  },
  "language_info": {
   "codemirror_mode": {
    "name": "ipython",
    "version": 3
   },
   "file_extension": ".py",
   "mimetype": "text/x-python",
   "name": "python",
   "nbconvert_exporter": "python",
   "pygments_lexer": "ipython3",
   "version": "3.7.11"
  }
 },
 "nbformat": 4,
 "nbformat_minor": 5
}
