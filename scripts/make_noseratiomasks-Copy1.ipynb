{
 "cells": [
  {
   "cell_type": "markdown",
   "id": "72f3a603-d615-4468-b291-14dfbbf7db2f",
   "metadata": {},
   "source": [
    "# This notebook\n",
    " * Generates masks based on noiselevel ratios"
   ]
  },
  {
   "cell_type": "code",
   "execution_count": 2,
   "id": "80ed1aad-728d-4f24-a0a8-6ba6f71cac42",
   "metadata": {},
   "outputs": [
    {
     "name": "stdout",
     "output_type": "stream",
     "text": [
      "MSC: reverting to standard healpy\n"
     ]
    }
   ],
   "source": [
    "import numpy as np\n",
    "import healpy as hp\n",
    "import os, sys\n",
    "from astropy.io import fits\n",
    "import warnings\n",
    "warnings.filterwarnings('ignore')\n",
    "\n",
    "import matplotlib.pyplot as plt\n",
    "import matplotlib \n",
    "import matplotlib.gridspec as gridspec\n",
    "\n",
    "import component_separation.MSC.MSC.pospace as ps\n",
    "\n",
    "from lerepi.config.cmbs4.data import data_08d as sims_if\n",
    "sims  = sims_if.ILC_May2022('00')\n",
    "\n",
    "simids = np.array([0])\n",
    "nside = 2048\n",
    "lmax = 2047\n",
    "lmax_plot = lmax\n",
    "\n",
    "ll = np.arange(0,lmax_plot+1,1)\n",
    "binspace = 5\n",
    "scale_uk = (2 * ll + 1) * ll**2 * (ll + 1)**2\n",
    "scale_ps = ll*(ll+1)/(2*np.pi)\n",
    "label_scale_ps = r'$\\frac{\\ell(\\ell+1)}{2 \\pi}$'\n",
    "label_scale_lp = r'$\\frac{\\ell^2(\\ell+1)^2}{2 \\pi}$'\n",
    "scale_lp = ll**2 * (ll + 1)**2 * 1e7 / (2 * np.pi)\n",
    "\n",
    "psl = r'$\\frac{l(l+1)}{2\\pi}C_\\ell \\/ [\\mu K^2]$'"
   ]
  },
  {
   "cell_type": "code",
   "execution_count": 5,
   "id": "2bb59526-97ec-43df-bee6-5202f7d59e90",
   "metadata": {},
   "outputs": [],
   "source": [
    "def bandpass_alms(alms, lmin, lmax=None):\n",
    "    \"\"\"\n",
    "    lmin: minimum multipole to keep in alms\n",
    "    lmax: maximimum multipole to keep in alms\n",
    "    \"\"\"\n",
    "    \n",
    "    if len(alms) == 3:\n",
    "        out = np.zeros(alms.shape, dtype=complex)\n",
    "        for idx, _alms in enumerate(alms):\n",
    "            out[idx] = bandpass_alms(_alms, lmin, lmax=lmax)\n",
    "        return out\n",
    "    \n",
    "    lmax_in_alms = hp.Alm.getlmax(len(alms))\n",
    "    if lmax is None:\n",
    "        lmax = lmax_in_alms\n",
    "    else:\n",
    "        assert isinstance(lmax, int), \"lmax should be int: {}\".format(lmax)\n",
    "        assert lmax <= lmax_in_alms, \"lmax exceeds lmax in alms: {} > {}\".format(lmax, lmax_in_alms)\n",
    "    \n",
    "    fl = np.zeros(lmax_in_alms + 1, dtype=float)\n",
    "    fl[lmin:lmax+1] = 1\n",
    "    \n",
    "    return hp.almxfl(alms, fl)"
   ]
  },
  {
   "cell_type": "code",
   "execution_count": null,
   "id": "c6b37a14-56b8-4ffa-9b46-07ae96bca9c3",
   "metadata": {},
   "outputs": [],
   "source": [
    "for n in [2,5,10,50,100]:\n",
    "    mask = sc.get_nlev_mask(n)\n",
    "    hp.mollview(np.where(mask==0,np.nan,mask))\n",
    "    hp.write_map('/global/homes/s/sebibel/git/lerepi/lerepi/config/cmbs4/data/masks/08d_mask_r%s.fits'%n, mask)"
   ]
  },
  {
   "cell_type": "code",
   "execution_count": null,
   "id": "3a55f674-ec2c-4954-82b6-893cc9c56e49",
   "metadata": {},
   "outputs": [],
   "source": [
    "rhits_08d_cleaned = np.nan_to_num(np.where(rhits_08d>0,rhits_08d,0))\n",
    "hp.write_map('/global/cscratch1/sd/sebibel/cmbs4/08d_rhits_positive_nonan.fits',rhits_08d_cleaned)"
   ]
  }
 ],
 "metadata": {
  "interpreter": {
   "hash": "515a3d44c5f45ca18e4ddf59e48d9891284729e702e8850e3af3969b61a12c5b"
  },
  "kernelspec": {
   "display_name": "py3.7",
   "language": "python",
   "name": "py3.7"
  },
  "language_info": {
   "codemirror_mode": {
    "name": "ipython",
    "version": 3
   },
   "file_extension": ".py",
   "mimetype": "text/x-python",
   "name": "python",
   "nbconvert_exporter": "python",
   "pygments_lexer": "ipython3",
   "version": "3.7.11"
  }
 },
 "nbformat": 4,
 "nbformat_minor": 5
}
