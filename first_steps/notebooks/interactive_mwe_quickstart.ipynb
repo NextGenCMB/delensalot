{
 "cells": [
  {
   "attachments": {},
   "cell_type": "markdown",
   "id": "051ee046",
   "metadata": {},
   "source": [
    "![delensalot logo](./../../res/dlensalot3.png)\n",
    "\n",
    "# Interactive minimal working example - quickstart\n",
    "In this notebook, you generate lensed CMB simulations on the full sky inclusive of isotropic white noise and without foregrounds.\n",
    "At the end of this tutorial, you will plot the power spectra of the CMB and lensing potential realizations.\n"
   ]
  },
  {
   "cell_type": "code",
   "execution_count": 1,
   "id": "fa0679f4-94e2-46f6-89f6-4d7ca782d3b3",
   "metadata": {
    "tags": [
     "parameters"
    ]
   },
   "outputs": [
    {
     "name": "stdout",
     "output_type": "stream",
     "text": [
      "cond4mpi does not exists. No MPI loaded\n",
      "mpi.py: Plancklens.mpi disabled as per environ variable \n",
      "\n"
     ]
    }
   ],
   "source": [
    "from IPython.display import clear_output\n",
    "from datetime import datetime\n",
    "import os\n",
    "from os.path import join as opj\n",
    "\n",
    "import numpy as np\n",
    "import healpy as hp\n",
    "import matplotlib.pyplot as plt\n",
    "\n",
    "import delensalot\n",
    "\n",
    "dlensalot_model = DLENSALOT_Model(defaults_to='P_FS_TEST', analysis = DLENSALOT_Analysis(key=key, TEMP_suffix='test'), itrec = DLENSALOT_Itrec(itmax=3))\n",
    "delensalot.del_TEMP(transform(dlensalot_model, l2T_Transformer()))\n",
    "delensalot_runner = run(config_fn='', job_id='generate_sim', config_model=dlensalot_model, verbose=True)\n",
    "ana_mwe = delensalot_runner.init_job()\n",
    "bsky = ana_mwe.simulationdata.get_sim_sky(simidx=0, field='polarization', space='map', spin=0)[1]\n",
    "obs = ana_mwe.simulationdata.get_sim_obs(simidx=0, field='polarization', space='map', spin=2)\n",
    "\n",
    "if job_id == 'QE_lensrec':\n",
    "    dlensalot_model.itrec.itmax = 0\n",
    "blt = delensalot.map2tempblm(obs, lmax_cmb=dlensalot_model.analysis.lm_max_ivf[0], beam=dlensalot_model.analysis.beam, itmax=dlensalot_model.itrec.itmax, noise={'P':dlensalot_model.noisemodel.nlev_p}, use_approximateWF=use_approximateWF, defaults_to='P_FS_TEST', verbose=True, )\n",
    "\n",
    "input = hp.anafast(bsky, lmax=200)\n",
    "output = hp.anafast(bsky-hp.alm2map(blt, nside=1024), lmax=200)\n",
    "Al = np.mean(output[30:200]/input[30:200])\n",
    "assert Al < self.Al_assert[job_id][key], \"{}, {}, {}, {}\".format(job_id, key, Al, self.Al_assert[job_id][key])\n",
    "print(Al, self.Al_assert[job_id][key])"
   ]
  },
  {
   "attachments": {},
   "cell_type": "markdown",
   "id": "f59f1be8-dbae-4653-b3a3-30b5e2cb6201",
   "metadata": {},
   "source": [
    "This concludes the tutorial.\n",
    "\n",
    "# Summary and next steps\n",
    "This tutorial demonstrated how to generate delensed maps in a quick way and without knowing much about delensalot.\n",
    "\n",
    "Check out the other tutorials, or see the [documentation](link_to_rtd_doc), or [github](https://github.com/NextGenCMB/delensalot)."
   ]
  }
 ],
 "metadata": {
  "kernelspec": {
   "display_name": "base",
   "language": "python",
   "name": "python3"
  },
  "language_info": {
   "codemirror_mode": {
    "name": "ipython",
    "version": 3
   },
   "file_extension": ".py",
   "mimetype": "text/x-python",
   "name": "python",
   "nbconvert_exporter": "python",
   "pygments_lexer": "ipython3",
   "version": "3.11.3"
  },
  "vscode": {
   "interpreter": {
    "hash": "65961d4674e66eb6a6f8a9136b5ded565d50b3b2a8296e6abdb99c8dbd69c6d4"
   }
  }
 },
 "nbformat": 4,
 "nbformat_minor": 5
}
