{
 "cells": [
  {
   "attachments": {},
   "cell_type": "markdown",
   "id": "051ee046",
   "metadata": {},
   "source": [
    "![delensalot logo](./../../res/dlensalot2.png)\n",
    "\n",
    "# Interactive minimal working example - quickstart\n",
    "In this notebook, you generate lensed CMB simulations on the full sky inclusive of isotropic white noise and without foregrounds.\n",
    "At the end of this tutorial, you will plot the power spectra of the CMB and lensing potential realizations.\n"
   ]
  },
  {
   "attachments": {},
   "cell_type": "markdown",
   "id": "b3c5625d",
   "metadata": {},
   "source": [
    "# `map2tempblm()`\n",
    " * generate obs and sky maps\n",
    " * map2tempblm()\n",
    " * check residual lensing amplitude"
   ]
  },
  {
   "cell_type": "code",
   "execution_count": 1,
   "id": "8a43ff3a",
   "metadata": {},
   "outputs": [
    {
     "name": "stdout",
     "output_type": "stream",
     "text": [
      "cond4mpi does not exists. No MPI loaded\n",
      "mpi.py: Plancklens.mpi disabled as per environ variable \n",
      "\n",
      "INFO:: 06-08 16:18:30:: delensalot.config.metamodel.dlensalot_mm.__attrs_post_init__ - couldnt find matching default value for k analysis\n",
      "INFO:: 06-08 16:18:30:: delensalot.config.metamodel.dlensalot_mm.__attrs_post_init__ - couldnt find matching default value for k analysis\n",
      "INFO:: 06-08 16:18:30:: delensalot.config.metamodel.dlensalot_mm.__attrs_post_init__ - couldnt find matching default value for k simulationdata\n",
      "INFO:: 06-08 16:18:30:: delensalot.config.metamodel.dlensalot_mm.__attrs_post_init__ - couldnt find matching default value for k simulationdata\n",
      "INFO:: 06-08 16:18:30:: delensalot.config.metamodel.dlensalot_mm.__attrs_post_init__ - couldnt find matching default value for k simulationdata\n",
      "INFO:: 06-08 16:18:30:: delensalot.config.metamodel.dlensalot_mm.__attrs_post_init__ - couldnt find matching default value for k simulationdata\n",
      "INFO:: 06-08 16:18:30:: delensalot.config.metamodel.dlensalot_mm.__attrs_post_init__ - couldnt find matching default value for k simulationdata\n",
      "INFO:: 06-08 16:18:30:: delensalot.config.metamodel.dlensalot_mm.__attrs_post_init__ - couldnt find matching default value for k simulationdata\n",
      "INFO:: 06-08 16:18:30:: delensalot.config.metamodel.dlensalot_mm.__attrs_post_init__ - couldnt find matching default value for k simulationdata\n",
      "INFO:: 06-08 16:18:30:: delensalot.config.metamodel.dlensalot_mm.__attrs_post_init__ - couldnt find matching default value for k simulationdata\n",
      "INFO:: 06-08 16:18:30:: delensalot.config.metamodel.dlensalot_mm.__attrs_post_init__ - couldnt find matching default value for k noisemodel\n",
      "INFO:: 06-08 16:18:30:: delensalot.config.handler.log - store() Started\n",
      "INFO:: 06-08 16:18:30:: delensalot.config.handler.store - \n",
      "INFO:: 06-08 16:18:30:: root.store - Matching config file found. Resuming where I left off.\n",
      "INFO:: 06-08 16:18:30:: root.store - /mnt/c/Users/sebas/OneDrive/Desktop/Uni/ext/git/delensalot/delensalot/reconstruction/analysis/quickstart_lminB200/\n",
      "INFO:: 06-08 16:18:30:: delensalot.config.handler.log - store() Finished\n",
      "INFO:: 06-08 16:18:31:: delensalot.core.mpi.inner_function - rank: 0, size: 1, name: x86_64 with 12 cpus\n",
      "INFO:: 06-08 16:18:31:: delensalot.config.handler.log - run() Started\n",
      "INFO:: 06-08 16:18:31:: delensalot.core.handler.log - Sim.collect_jobs() started\n",
      "INFO:: 06-08 16:18:31:: delensalot.core.handler.log - Sim.collect_jobs() finished: jobs=[]\n",
      "INFO:: 06-08 16:18:31:: delensalot.core.handler.log - Sim.run() started\n",
      "INFO:: 06-08 16:18:31:: delensalot.core.handler.log - Sim.run() finished\n",
      "INFO:: 06-08 16:18:31:: delensalot.config.handler.log - run() Finished\n",
      "INFO:: 06-08 16:18:31:: delensalot.sims.sims_lib.get_sim_sky - requesting \"sky_spacemap_spin0_fieldpolarization_0\"\n",
      "INFO:: 06-08 16:18:31:: delensalot.sims.sims_lib.get_sim_sky - ..nothing cached..\n",
      "INFO:: 06-08 16:18:31:: delensalot.sims.sims_lib.get_sim_sky - .., but stored on disk.\n",
      "INFO:: 06-08 16:19:19:: delensalot.sims.sims_lib.get_sim_obs - requesting \"obs_spacemap_spin2_fieldpolarization_0\"\n",
      "INFO:: 06-08 16:19:19:: delensalot.sims.sims_lib.get_sim_obs - ..nothing cached..\n",
      "INFO:: 06-08 16:19:19:: delensalot.sims.sims_lib.get_sim_obs - .., but stored on disk.\n"
     ]
    }
   ],
   "source": [
    "from IPython.display import clear_output\n",
    "from datetime import datetime\n",
    "import os\n",
    "from os.path import join as opj\n",
    "\n",
    "import numpy as np\n",
    "import healpy as hp\n",
    "import matplotlib.pyplot as plt\n",
    "\n",
    "import delensalot\n",
    "from delensalot.run import run\n",
    "from delensalot.config.metamodel.dlensalot_mm import DLENSALOT_Model, DLENSALOT_Analysis, DLENSALOT_Itrec\n",
    "\n",
    "delensalot_model = DLENSALOT_Model(defaults_to='P_FS_CMBS4', analysis = DLENSALOT_Analysis(key='p_p', TEMP_suffix='my_first_delensalot_analysis_quickstart'), itrec = DLENSALOT_Itrec(itmax=3))\n",
    "delensalot_runner = run(config_fn='', job_id='generate_sim', config_model=delensalot_model, verbose=True)\n",
    "delensalot_runner.run()\n",
    "ana_mwe = delensalot_runner.init_job()\n",
    "bsky = ana_mwe.simulationdata.get_sim_sky(simidx=0, field='polarization', space='alm', spin=0)[1]\n",
    "obs = ana_mwe.simulationdata.get_sim_obs(simidx=0, field='polarization', space='map', spin=2)"
   ]
  },
  {
   "cell_type": "code",
   "execution_count": 2,
   "id": "fa0679f4-94e2-46f6-89f6-4d7ca782d3b3",
   "metadata": {
    "tags": [
     "parameters"
    ]
   },
   "outputs": [
    {
     "name": "stdout",
     "output_type": "stream",
     "text": [
      "INFO:: 06-08 16:19:25:: delensalot.config.metamodel.dlensalot_mm.__attrs_post_init__ - couldnt find matching default value for k analysis\n",
      "INFO:: 06-08 16:19:25:: delensalot.config.metamodel.dlensalot_mm.__attrs_post_init__ - couldnt find matching default value for k analysis\n",
      "INFO:: 06-08 16:19:25:: delensalot.config.metamodel.dlensalot_mm.__attrs_post_init__ - couldnt find matching default value for k simulationdata\n",
      "INFO:: 06-08 16:19:25:: delensalot.config.metamodel.dlensalot_mm.__attrs_post_init__ - couldnt find matching default value for k simulationdata\n",
      "INFO:: 06-08 16:19:25:: delensalot.config.metamodel.dlensalot_mm.__attrs_post_init__ - couldnt find matching default value for k simulationdata\n",
      "INFO:: 06-08 16:19:25:: delensalot.config.metamodel.dlensalot_mm.__attrs_post_init__ - couldnt find matching default value for k simulationdata\n",
      "INFO:: 06-08 16:19:25:: delensalot.config.metamodel.dlensalot_mm.__attrs_post_init__ - couldnt find matching default value for k simulationdata\n",
      "INFO:: 06-08 16:19:25:: delensalot.config.metamodel.dlensalot_mm.__attrs_post_init__ - couldnt find matching default value for k simulationdata\n",
      "INFO:: 06-08 16:19:25:: delensalot.config.metamodel.dlensalot_mm.__attrs_post_init__ - couldnt find matching default value for k noisemodel\n",
      "INFO:: 06-08 16:19:25:: delensalot.config.handler.log - store() Started\n",
      "INFO:: 06-08 16:19:25:: delensalot.config.handler.store - \n",
      "INFO:: 06-08 16:19:25:: root.store - Matching config file found. Resuming where I left off.\n",
      "INFO:: 06-08 16:19:25:: root.store - /mnt/c/Users/sebas/OneDrive/Desktop/Uni/ext/git/delensalot/delensalot/reconstruction/analysis/510c_lminB200/\n",
      "INFO:: 06-08 16:19:25:: delensalot.config.handler.log - store() Finished\n",
      "INFO:: 06-08 16:19:27:: delensalot.core.mpi.inner_function - rank: 0, size: 1, name: x86_64 with 12 cpus\n",
      "INFO:: 06-08 16:19:27:: delensalot.core.mpi.inner_function - rank: 0, size: 1, name: x86_64 with 12 cpus\n",
      "INFO:: 06-08 16:19:27:: delensalot.core.mpi.inner_function - rank: 0, size: 1, name: x86_64 with 12 cpus\n",
      "INFO:: 06-08 16:19:27:: delensalot.config.handler.log - run() Started\n",
      "INFO:: 06-08 16:19:27:: delensalot.core.handler.log - Sim.collect_jobs() started\n",
      "INFO:: 06-08 16:19:27:: delensalot.core.handler.log - Sim.collect_jobs() finished: jobs=[]\n",
      "INFO:: 06-08 16:19:27:: delensalot.core.handler.log - Sim.collect_jobs() started\n",
      "INFO:: 06-08 16:19:27:: delensalot.core.handler.log - Sim.collect_jobs() finished: jobs=[]\n",
      "INFO:: 06-08 16:19:27:: delensalot.core.handler.run - 0, task calc_phi started, jobs: [0]\n",
      "INFO:: 06-08 16:19:27:: delensalot.core.handler.log - Sim.run() started\n",
      "INFO:: 06-08 16:19:28:: delensalot.core.handler.log - Sim.run() finished\n",
      "INFO:: 06-08 16:19:28:: delensalot.core.handler.log - Sim.run() started\n"
     ]
    },
    {
     "name": "stderr",
     "output_type": "stream",
     "text": [
      "/mnt/c/Users/sebas/OneDrive/Desktop/Uni/ext/git/plancklens/plancklens/utils.py:124: RuntimeWarning: overflow encountered in cast\n",
      "  return hashlib.sha1(np.copy(cl.astype(dtype), order='C')).hexdigest()\n"
     ]
    },
    {
     "name": "stdout",
     "output_type": "stream",
     "text": [
      "INFO:: 06-08 16:19:28:: delensalot.core.handler.log - Sim.run() finished\n",
      "INFO:: 06-08 16:19:28:: delensalot.core.handler.run - 0, task calc_phi started\n",
      "INFO:: 06-08 16:19:28:: delensalot.sims.sims_lib.get_sim_obs - requesting \"obs_spacemap_spin2_fieldpolarization_0\"\n",
      "INFO:: 06-08 16:19:28:: delensalot.sims.sims_lib.get_sim_obs - found \"obs_spacemap_spin2_fieldpolarization_0\"\n",
      "INFO:: 06-08 16:22:17:: delensalot.core.iterator.iteration_handler.log - get_datmaps() started\n",
      "INFO:: 06-08 16:22:17:: delensalot.sims.sims_lib.get_sim_obs - requesting \"obs_spacemap_spin2_fieldpolarization_0\"\n",
      "INFO:: 06-08 16:22:17:: delensalot.sims.sims_lib.get_sim_obs - found \"obs_spacemap_spin2_fieldpolarization_0\"\n",
      "INFO:: 06-08 16:22:38:: delensalot.core.iterator.iteration_handler.log - get_datmaps() finished\n",
      "INFO:: 06-08 16:22:39:: delensalot.core.iterator.cs_iterator.log - iterate(it=0, key=p) started\n",
      "INFO:: 06-08 16:22:39:: delensalot.core.iterator.cs_iterator.log - iterate(it=0, key=p) finished\n",
      "INFO:: 06-08 16:22:39:: delensalot.core.handler.run - 0, simidx 0 done with it 0\n",
      "INFO:: 06-08 16:22:39:: delensalot.core.iterator.cs_iterator.log - iterate(it=1, key=p) started\n",
      "INFO:: 06-08 16:22:39:: delensalot.core.iterator.cs_iterator_fast.log - fastWF.calc_gradlik() started: it=1, key=p\n",
      "INFO:: 06-08 16:23:51:: delensalot.core.opfilt.MAP_opfilt_iso_p.__init__ - PRE_OP_DIAG: extending transfer fct from lmax 4000 to lmax 4200\n",
      "(2048, 4200) [00:00:01] (0, 0.41912809)\n",
      "(2048, 4200) [00:00:03] (1, 0.00000000)\n",
      "INFO:: 06-08 16:24:02:: delensalot.core.iterator.cs_iterator_fast.calc_gradlik - caching wflm_p_it0\n",
      "INFO:: 06-08 16:25:15:: delensalot.core.iterator.cs_iterator_fast.calc_gradlik - get_qlms calculation done; (71 secs)\n",
      "INFO:: 06-08 16:25:15:: delensalot.core.iterator.cs_iterator_fast.log - fastWF.calc_gradlik() finished: it=1, key=p\n",
      "INFO:: 06-08 16:25:15:: delensalot.core.iterator.cs_iterator_fast.log - fastWF.calc_graddet() started: it=1, key=p\n",
      "INFO:: 06-08 16:25:16:: delensalot.core.iterator.cs_iterator_fast.log - fastWF.calc_graddet() finished: it=1, key=p\n",
      "INFO:: 06-08 16:25:17:: delensalot.core.iterator.cs_iterator.log - build_incr(it=1, key=p) started\n",
      "INFO:: 06-08 16:25:17:: delensalot.core.iterator.cs_iterator.log - get_hessian(k=0, key=p) started\n",
      "INFO:: 06-08 16:25:17:: delensalot.core.iterator.cs_iterator.log - get_hessian(k=0, key=p) finished\n",
      "INFO:: 06-08 16:25:17:: delensalot.core.iterator.cs_iterator.build_incr - calculating descent direction\n",
      "INFO:: 06-08 16:25:17:: delensalot.core.iterator.cs_iterator.log -  Start of prt_time()\n",
      " [00:00:00]  Exec. time for descent direction calculationtor.prt_time - \n",
      "INFO:: 06-08 16:25:17:: delensalot.core.iterator.cs_iterator.log -  Finished prt_time()\n",
      "INFO:: 06-08 16:25:17:: delensalot.core.iterator.cs_iterator.log - build_incr(it=1, key=p) finished\n",
      "INFO:: 06-08 16:25:19:: delensalot.core.iterator.cs_iterator_fast.log - fastWF.load_graddet() started: it=0, key=p\n",
      "INFO:: 06-08 16:25:20:: delensalot.core.iterator.cs_iterator_fast.log - fastWF.load_graddet() finished: it=0, key=p\n",
      "INFO:: 06-08 16:25:21:: delensalot.core.iterator.cs_iterator_fast.log - fastWF.load_graddet() started: it=0, key=p\n",
      "INFO:: 06-08 16:25:21:: delensalot.core.iterator.cs_iterator_fast.log - fastWF.load_graddet() finished: it=0, key=p\n",
      "INFO:: 06-08 16:25:22:: delensalot.core.iterator.cs_iterator.log - iterate(it=1, key=p) finished\n",
      "INFO:: 06-08 16:25:22:: delensalot.core.handler.run - 0, simidx 0 done with it 1\n",
      "INFO:: 06-08 16:25:22:: delensalot.core.iterator.cs_iterator.log - iterate(it=2, key=p) started\n",
      "INFO:: 06-08 16:25:22:: delensalot.core.iterator.cs_iterator_fast.log - fastWF.calc_gradlik() started: it=2, key=p\n",
      "INFO:: 06-08 16:26:27:: delensalot.core.opfilt.MAP_opfilt_iso_p.__init__ - PRE_OP_DIAG: extending transfer fct from lmax 4000 to lmax 4200\n",
      "(2048, 4200) [00:00:01] (0, 0.10665660)\n",
      "(2048, 4200) [00:00:03] (1, 0.00000000)\n",
      "INFO:: 06-08 16:26:30:: delensalot.core.iterator.cs_iterator_fast.calc_gradlik - caching wflm_p_it1\n",
      "INFO:: 06-08 16:27:47:: delensalot.core.iterator.cs_iterator_fast.calc_gradlik - get_qlms calculation done; (76 secs)\n",
      "INFO:: 06-08 16:27:47:: delensalot.core.iterator.cs_iterator_fast.log - fastWF.calc_gradlik() finished: it=2, key=p\n",
      "INFO:: 06-08 16:27:47:: delensalot.core.iterator.cs_iterator_fast.log - fastWF.calc_graddet() started: it=2, key=p\n",
      "INFO:: 06-08 16:27:48:: delensalot.core.iterator.cs_iterator_fast.log - fastWF.calc_graddet() finished: it=2, key=p\n",
      "INFO:: 06-08 16:27:49:: delensalot.core.iterator.cs_iterator.log - build_incr(it=2, key=p) started\n",
      "INFO:: 06-08 16:27:49:: delensalot.core.iterator.cs_iterator_fast.log - fastWF.load_graddet() started: it=0, key=p\n",
      "INFO:: 06-08 16:27:49:: delensalot.core.iterator.cs_iterator_fast.log - fastWF.load_graddet() finished: it=0, key=p\n",
      "INFO:: 06-08 16:27:50:: delensalot.core.iterator.cs_iterator.log - get_hessian(k=1, key=p) started\n",
      "INFO:: 06-08 16:27:50:: delensalot.core.iterator.bfgs.add_ys - Linked y vector rlm_yn_0_p to Hessian\n",
      "INFO:: 06-08 16:27:50:: delensalot.core.iterator.bfgs.add_ys - Linked s vector rlm_sn_0_p to Hessian\n",
      "INFO:: 06-08 16:27:50:: delensalot.core.iterator.cs_iterator.log - get_hessian(k=1, key=p) finished\n",
      "INFO:: 06-08 16:27:50:: delensalot.core.iterator.cs_iterator.build_incr - calculating descent direction\n",
      "INFO:: 06-08 16:27:55:: delensalot.core.iterator.cs_iterator.log -  Start of prt_time()\n",
      " [00:00:04]  Exec. time for descent direction calculationtor.prt_time - \n",
      "INFO:: 06-08 16:27:55:: delensalot.core.iterator.cs_iterator.log -  Finished prt_time()\n",
      "INFO:: 06-08 16:27:55:: delensalot.core.iterator.cs_iterator.log - build_incr(it=2, key=p) finished\n",
      "INFO:: 06-08 16:27:57:: delensalot.core.iterator.cs_iterator_fast.log - fastWF.load_graddet() started: it=0, key=p\n",
      "INFO:: 06-08 16:27:57:: delensalot.core.iterator.cs_iterator_fast.log - fastWF.load_graddet() finished: it=0, key=p\n",
      "INFO:: 06-08 16:27:59:: delensalot.core.iterator.cs_iterator_fast.log - fastWF.load_graddet() started: it=0, key=p\n",
      "INFO:: 06-08 16:27:59:: delensalot.core.iterator.cs_iterator_fast.log - fastWF.load_graddet() finished: it=0, key=p\n",
      "INFO:: 06-08 16:27:59:: delensalot.core.iterator.cs_iterator.log - iterate(it=2, key=p) finished\n",
      "INFO:: 06-08 16:27:59:: delensalot.core.handler.run - 0, simidx 0 done with it 2\n",
      "INFO:: 06-08 16:27:59:: delensalot.core.iterator.cs_iterator.log - iterate(it=3, key=p) started\n",
      "INFO:: 06-08 16:27:59:: delensalot.core.iterator.cs_iterator_fast.log - fastWF.calc_gradlik() started: it=3, key=p\n",
      "INFO:: 06-08 16:28:59:: delensalot.core.opfilt.MAP_opfilt_iso_p.__init__ - PRE_OP_DIAG: extending transfer fct from lmax 4000 to lmax 4200\n",
      "(2048, 4200) [00:00:01] (0, 0.03803759)\n",
      "(2048, 4200) [00:00:03] (1, 0.00000000)\n",
      "INFO:: 06-08 16:29:03:: delensalot.core.iterator.cs_iterator_fast.calc_gradlik - caching wflm_p_it2\n",
      "INFO:: 06-08 16:30:14:: delensalot.core.iterator.cs_iterator_fast.calc_gradlik - get_qlms calculation done; (70 secs)\n",
      "INFO:: 06-08 16:30:14:: delensalot.core.iterator.cs_iterator_fast.log - fastWF.calc_gradlik() finished: it=3, key=p\n",
      "INFO:: 06-08 16:30:14:: delensalot.core.iterator.cs_iterator_fast.log - fastWF.calc_graddet() started: it=3, key=p\n",
      "INFO:: 06-08 16:30:14:: delensalot.core.iterator.cs_iterator_fast.log - fastWF.calc_graddet() finished: it=3, key=p\n",
      "INFO:: 06-08 16:30:17:: delensalot.core.iterator.cs_iterator.log - build_incr(it=3, key=p) started\n",
      "INFO:: 06-08 16:30:18:: delensalot.core.iterator.cs_iterator_fast.log - fastWF.load_graddet() started: it=0, key=p\n",
      "INFO:: 06-08 16:30:18:: delensalot.core.iterator.cs_iterator_fast.log - fastWF.load_graddet() finished: it=0, key=p\n",
      "INFO:: 06-08 16:30:20:: delensalot.core.iterator.cs_iterator.log - get_hessian(k=2, key=p) started\n",
      "INFO:: 06-08 16:30:20:: delensalot.core.iterator.bfgs.add_ys - Linked y vector rlm_yn_0_p to Hessian\n",
      "INFO:: 06-08 16:30:20:: delensalot.core.iterator.bfgs.add_ys - Linked s vector rlm_sn_0_p to Hessian\n",
      "INFO:: 06-08 16:30:20:: delensalot.core.iterator.bfgs.add_ys - Linked y vector rlm_yn_1_p to Hessian\n",
      "INFO:: 06-08 16:30:20:: delensalot.core.iterator.bfgs.add_ys - Linked s vector rlm_sn_1_p to Hessian\n",
      "INFO:: 06-08 16:30:20:: delensalot.core.iterator.cs_iterator.log - get_hessian(k=2, key=p) finished\n",
      "INFO:: 06-08 16:30:20:: delensalot.core.iterator.cs_iterator.build_incr - calculating descent direction\n",
      "INFO:: 06-08 16:30:33:: delensalot.core.iterator.cs_iterator.log -  Start of prt_time()\n",
      " [00:00:13]  Exec. time for descent direction calculationtor.prt_time - \n",
      "INFO:: 06-08 16:30:33:: delensalot.core.iterator.cs_iterator.log -  Finished prt_time()\n",
      "INFO:: 06-08 16:30:33:: delensalot.core.iterator.cs_iterator.log - build_incr(it=3, key=p) finished\n",
      "INFO:: 06-08 16:30:35:: delensalot.core.iterator.cs_iterator_fast.log - fastWF.load_graddet() started: it=0, key=p\n",
      "INFO:: 06-08 16:30:36:: delensalot.core.iterator.cs_iterator_fast.log - fastWF.load_graddet() finished: it=0, key=p\n",
      "INFO:: 06-08 16:30:39:: delensalot.core.iterator.cs_iterator_fast.log - fastWF.load_graddet() started: it=0, key=p\n",
      "INFO:: 06-08 16:30:39:: delensalot.core.iterator.cs_iterator_fast.log - fastWF.load_graddet() finished: it=0, key=p\n",
      "INFO:: 06-08 16:30:40:: delensalot.core.iterator.cs_iterator.log - iterate(it=3, key=p) finished\n",
      "INFO:: 06-08 16:30:40:: delensalot.core.handler.run - 0, simidx 0 done with it 3\n",
      "INFO:: 06-08 16:30:40:: delensalot.core.handler.run - 0, task calc_blt started, jobs: [0]\n",
      "INFO:: 06-08 16:30:40:: delensalot.core.handler.log - Sim.run() started\n",
      "INFO:: 06-08 16:30:40:: delensalot.core.handler.log - Sim.run() finished\n",
      "INFO:: 06-08 16:30:40:: delensalot.core.handler.run - 0, task calc_blt started\n",
      "INFO:: 06-08 16:30:43:: delensalot.core.iterator.iteration_handler.log - get_datmaps() started\n",
      "INFO:: 06-08 16:30:43:: delensalot.sims.sims_lib.get_sim_obs - requesting \"obs_spacemap_spin2_fieldpolarization_0\"\n",
      "INFO:: 06-08 16:30:43:: delensalot.sims.sims_lib.get_sim_obs - found \"obs_spacemap_spin2_fieldpolarization_0\"\n",
      "INFO:: 06-08 16:31:01:: delensalot.core.iterator.iteration_handler.log - get_datmaps() finished\n",
      "INFO:: 06-08 16:31:08:: delensalot.core.iterator.cs_iterator.log - get_template_blm(it=0) started\n",
      "INFO:: 06-08 16:31:51:: delensalot.core.iterator.cs_iterator.log - get_template_blm(it=0) finished\n",
      "INFO:: 06-08 16:31:56:: delensalot.core.iterator.iteration_handler.log - get_datmaps() started\n",
      "INFO:: 06-08 16:31:56:: delensalot.sims.sims_lib.get_sim_obs - requesting \"obs_spacemap_spin2_fieldpolarization_0\"\n",
      "INFO:: 06-08 16:31:56:: delensalot.sims.sims_lib.get_sim_obs - found \"obs_spacemap_spin2_fieldpolarization_0\"\n",
      "INFO:: 06-08 16:32:16:: delensalot.core.iterator.iteration_handler.log - get_datmaps() finished\n",
      "INFO:: 06-08 16:32:21:: delensalot.core.iterator.iteration_handler.log - get_datmaps() started\n",
      "INFO:: 06-08 16:32:21:: delensalot.sims.sims_lib.get_sim_obs - requesting \"obs_spacemap_spin2_fieldpolarization_0\"\n",
      "INFO:: 06-08 16:32:21:: delensalot.sims.sims_lib.get_sim_obs - found \"obs_spacemap_spin2_fieldpolarization_0\"\n",
      "INFO:: 06-08 16:32:41:: delensalot.core.iterator.iteration_handler.log - get_datmaps() finished\n",
      "INFO:: 06-08 16:32:42:: delensalot.core.iterator.cs_iterator.log - get_template_blm(it=1) started\n",
      "INFO:: 06-08 16:33:10:: delensalot.core.iterator.cs_iterator.log - get_template_blm(it=1) finished\n"
     ]
    }
   ],
   "source": [
    "blt = delensalot.map2tempblm(obs, lmax_cmb=delensalot_model.analysis.lm_max_ivf[0], beam=delensalot_model.analysis.beam, itmax=delensalot_model.itrec.itmax, noise={'P':delensalot_model.noisemodel.nlev_p}, use_approximateWF=True, defaults_to='P_FS_TEST', verbose=True, )"
   ]
  },
  {
   "cell_type": "code",
   "execution_count": null,
   "id": "765322da",
   "metadata": {},
   "outputs": [],
   "source": [
    "input = hp.anafast(bsky, lmax=200)\n",
    "output = hp.anafast(bsky-hp.alm2map(blt, nside=1024), lmax=200)\n",
    "\n",
    "Al = np.mean(output[30:200]/input[30:200])\n",
    "print(Al, self.Al_assert[job_id][key])"
   ]
  },
  {
   "attachments": {},
   "cell_type": "markdown",
   "id": "3ffe700c",
   "metadata": {},
   "source": [
    "# `anafast()`\n",
    " * generate obs and sky maps\n",
    " * anafast()\n",
    " * check residual lensing amplitude"
   ]
  },
  {
   "cell_type": "code",
   "execution_count": null,
   "id": "01313fc3",
   "metadata": {},
   "outputs": [],
   "source": [
    "from IPython.display import clear_output\n",
    "from datetime import datetime\n",
    "import os\n",
    "from os.path import join as opj\n",
    "\n",
    "import numpy as np\n",
    "import healpy as hp\n",
    "import matplotlib.pyplot as plt\n",
    "\n",
    "import delensalot\n",
    "from delensalot.run import run\n",
    "from delensalot.config.metamodel.dlensalot_mm import DLENSALOT_Model, DLENSALOT_Analysis, DLENSALOT_Itrec\n",
    "\n",
    "delensalot_model = DLENSALOT_Model(defaults_to='P_FS_CMBS4', analysis = DLENSALOT_Analysis(key='p_p', TEMP_suffix='my_first_delensalot_analysis_quickstart'), itrec = DLENSALOT_Itrec(itmax=3))\n",
    "delensalot_runner = run(config_fn='', job_id='generate_sim', config_model=delensalot_model, verbose=True)\n",
    "delensalot_runner.run()\n",
    "ana_mwe = delensalot_runner.init_job()\n",
    "bsky = ana_mwe.simulationdata.get_sim_sky(simidx=0, field='polarization', space='map', spin=0)[1]\n",
    "obs = ana_mwe.simulationdata.get_sim_obs(simidx=0, field='polarization', space='map', spin=2)"
   ]
  },
  {
   "cell_type": "code",
   "execution_count": null,
   "id": "f15403d0",
   "metadata": {},
   "outputs": [],
   "source": [
    "blt = delensalot.anafast(obs, lmax_cmb=delensalot_model.analysis.lm_max_ivf[0], beam=delensalot_model.analysis.beam, itmax=delensalot_model.itrec.itmax, noise={'P':delensalot_model.noisemodel.nlev_p}, use_approximateWF=True, defaults_to='P_FS_TEST', verbose=True, )"
   ]
  },
  {
   "cell_type": "code",
   "execution_count": null,
   "id": "8aa2f472",
   "metadata": {},
   "outputs": [],
   "source": [
    "input = hp.anafast(bsky, lmax=200)\n",
    "output = hp.anafast(bsky-hp.alm2map(blt, nside=1024), lmax=200)\n",
    "\n",
    "Al = np.mean(output[30:200]/input[30:200])\n",
    "print(Al, self.Al_assert[job_id][key])"
   ]
  },
  {
   "attachments": {},
   "cell_type": "markdown",
   "id": "f59f1be8-dbae-4653-b3a3-30b5e2cb6201",
   "metadata": {},
   "source": [
    "This concludes the tutorial.\n",
    "\n",
    "# Summary and next steps\n",
    "This tutorial demonstrated how to generate delensed maps in a quick way and without knowing much about delensalot.\n",
    "\n",
    "Check out the other tutorials, or see the [documentation](link_to_rtd_doc), or [github](https://github.com/NextGenCMB/delensalot)."
   ]
  }
 ],
 "metadata": {
  "kernelspec": {
   "display_name": "base",
   "language": "python",
   "name": "python3"
  },
  "language_info": {
   "codemirror_mode": {
    "name": "ipython",
    "version": 3
   },
   "file_extension": ".py",
   "mimetype": "text/x-python",
   "name": "python",
   "nbconvert_exporter": "python",
   "pygments_lexer": "ipython3",
   "version": "3.11.3"
  },
  "vscode": {
   "interpreter": {
    "hash": "65961d4674e66eb6a6f8a9136b5ded565d50b3b2a8296e6abdb99c8dbd69c6d4"
   }
  }
 },
 "nbformat": 4,
 "nbformat_minor": 5
}
