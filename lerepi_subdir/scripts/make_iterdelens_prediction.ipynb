{
 "cells": [
  {
   "cell_type": "markdown",
   "id": "72f3a603-d615-4468-b291-14dfbbf7db2f",
   "metadata": {},
   "source": [
    "# This notebook\n",
    " * Calculates residual lensing amplitude forecasts for MAP"
   ]
  },
  {
   "cell_type": "code",
   "execution_count": null,
   "id": "80ed1aad-728d-4f24-a0a8-6ba6f71cac42",
   "metadata": {},
   "outputs": [
    {
     "name": "stdout",
     "output_type": "stream",
     "text": [
      "MSC: reverting to standard healpy\n"
     ]
    }
   ],
   "source": [
    "import numpy as np\n",
    "import healpy as hp\n",
    "import os, sys\n",
    "from astropy.io import fits\n",
    "import warnings\n",
    "warnings.filterwarnings('ignore')\n",
    "\n",
    "import matplotlib.pyplot as plt\n",
    "import matplotlib \n",
    "import matplotlib.gridspec as gridspec\n",
    "\n",
    "import component_separation.MSC.MSC.pospace as ps\n",
    "\n",
    "from lerepi.config.cmbs4.data import data_08d as sims_if\n",
    "sims  = sims_if.ILC_May2022('00')\n",
    "\n",
    "simids = np.array([0])\n",
    "nside = 2048\n",
    "lmax = 2047\n",
    "lmax_plot = lmax\n",
    "\n",
    "ll = np.arange(0,lmax_plot+1,1)\n",
    "binspace = 5\n",
    "scale_uk = (2 * ll + 1) * ll**2 * (ll + 1)**2\n",
    "scale_ps = ll*(ll+1)/(2*np.pi)\n",
    "label_scale_ps = r'$\\frac{\\ell(\\ell+1)}{2 \\pi}$'\n",
    "label_scale_lp = r'$\\frac{\\ell^2(\\ell+1)^2}{2 \\pi}$'\n",
    "scale_lp = ll**2 * (ll + 1)**2 * 1e7 / (2 * np.pi)\n",
    "\n",
    "psl = r'$\\frac{l(l+1)}{2\\pi}C_\\ell \\/ [\\mu K^2]$'"
   ]
  },
  {
   "cell_type": "code",
   "execution_count": null,
   "id": "2bb59526-97ec-43df-bee6-5202f7d59e90",
   "metadata": {},
   "outputs": [],
   "source": [
    "def bandpass_alms(alms, lmin, lmax=None):\n",
    "    \"\"\"\n",
    "    lmin: minimum multipole to keep in alms\n",
    "    lmax: maximimum multipole to keep in alms\n",
    "    \"\"\"\n",
    "    \n",
    "    if len(alms) == 3:\n",
    "        out = np.zeros(alms.shape, dtype=complex)\n",
    "        for idx, _alms in enumerate(alms):\n",
    "            out[idx] = bandpass_alms(_alms, lmin, lmax=lmax)\n",
    "        return out\n",
    "    \n",
    "    lmax_in_alms = hp.Alm.getlmax(len(alms))\n",
    "    if lmax is None:\n",
    "        lmax = lmax_in_alms\n",
    "    else:\n",
    "        assert isinstance(lmax, int), \"lmax should be int: {}\".format(lmax)\n",
    "        assert lmax <= lmax_in_alms, \"lmax exceeds lmax in alms: {} > {}\".format(lmax, lmax_in_alms)\n",
    "    \n",
    "    fl = np.zeros(lmax_in_alms + 1, dtype=float)\n",
    "    fl[lmin:lmax+1] = 1\n",
    "    \n",
    "    return hp.almxfl(alms, fl)"
   ]
  },
  {
   "cell_type": "code",
   "execution_count": null,
   "id": "964d81ef-9958-4bf0-8e5e-6144bc32896e",
   "metadata": {
    "tags": []
   },
   "outputs": [
    {
     "name": "stdout",
     "output_type": "stream",
     "text": [
      " [00:02:48]  --------> 83%\n"
     ]
    }
   ],
   "source": [
    "matplotlib.rcParams.update({'font.size': 18})\n",
    "cls_path = opj(os.path.dirname(plancklens.__file__), 'data', 'cls')\n",
    "cls_unl = utils.camb_clfile(opj(cls_path, 'FFP10_wdipole_lenspotentialCls.dat'))\n",
    "cls_len = utils.camb_clfile(opj(cls_path, 'FFP10_wdipole_lensedCls.dat'))\n",
    "itmax = 5\n",
    "nO_iter = n0s.get_N0_iter('p_p', 0.59/np.sqrt(2), 0.7, 2.3, cls_unl, 2, 3000, itmax, None, 4000, ret_delcls=True)"
   ]
  },
  {
   "cell_type": "code",
   "execution_count": 56,
   "id": "4276d8d6-b30f-4db3-9bba-c3ba57e29788",
   "metadata": {},
   "outputs": [
    {
     "name": "stderr",
     "output_type": "stream",
     "text": [
      "/global/homes/s/sebibel/.conda/envs/py3.7/lib/python3.7/site-packages/ipykernel_launcher.py:2: RuntimeWarning: invalid value encountered in true_divide\n",
      "  \n",
      "/global/homes/s/sebibel/.conda/envs/py3.7/lib/python3.7/site-packages/ipykernel_launcher.py:2: RuntimeWarning: invalid value encountered in true_divide\n",
      "  \n",
      "/global/homes/s/sebibel/.conda/envs/py3.7/lib/python3.7/site-packages/ipykernel_launcher.py:2: RuntimeWarning: invalid value encountered in true_divide\n",
      "  \n",
      "/global/homes/s/sebibel/.conda/envs/py3.7/lib/python3.7/site-packages/ipykernel_launcher.py:2: RuntimeWarning: invalid value encountered in true_divide\n",
      "  \n",
      "/global/homes/s/sebibel/.conda/envs/py3.7/lib/python3.7/site-packages/ipykernel_launcher.py:2: RuntimeWarning: invalid value encountered in true_divide\n",
      "  \n"
     ]
    },
    {
     "data": {
      "text/plain": [
       "Text(0, 0.5, '$A_\\\\ell$')"
      ]
     },
     "execution_count": 56,
     "metadata": {},
     "output_type": "execute_result"
    },
    {
     "data": {
      "image/png": "[encoded data removed]",
      "text/plain": [
       "<Figure size 432x288 with 1 Axes>"
      ]
     },
     "metadata": {
      "needs_background": "light"
     },
     "output_type": "display_data"
    }
   ],
   "source": [
    "for n in range(1,len(nO_iter[-1])):\n",
    "    plt.plot(nO_iter[-2][n]['bb'][:6901]/cls_len['bb'], label=n)\n",
    "    # plt.plot(nO_iter[-2][n]['bb'][:6901])\n",
    "# plt.plot(cls_len['bb'])\n",
    "    # plt.plot(nO_iter[-2][n]['bb'])\n",
    "plt.xlim(10,200)\n",
    "plt.xscale('log')\n",
    "plt.legend(title='itertion')\n",
    "# plt.yscale('log')\n",
    "plt.ylim(0,0.3)\n",
    "plt.xlabel('Multipole $\\ell$')\n",
    "plt.ylabel('$A_\\ell$')"
   ]
  }
 ],
 "metadata": {
  "interpreter": {
   "hash": "515a3d44c5f45ca18e4ddf59e48d9891284729e702e8850e3af3969b61a12c5b"
  },
  "kernelspec": {
   "display_name": "py3.7",
   "language": "python",
   "name": "py3.7"
  },
  "language_info": {
   "codemirror_mode": {
    "name": "ipython",
    "version": 3
   },
   "file_extension": ".py",
   "mimetype": "text/x-python",
   "name": "python",
   "nbconvert_exporter": "python",
   "pygments_lexer": "ipython3",
   "version": "3.7.11"
  }
 },
 "nbformat": 4,
 "nbformat_minor": 5
}
