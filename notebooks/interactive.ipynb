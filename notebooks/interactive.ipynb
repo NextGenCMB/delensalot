{
 "cells": [
  {
   "cell_type": "markdown",
   "id": "7339e9b4-9187-4181-82fe-76cc47f93161",
   "metadata": {},
   "source": [
    "# Interact with lerepi\n",
    "This notebook serves as starting point on how to interact with D.lensalot interactively, i.e. Jobs are loaded and all D.lensalot object are accessible"
   ]
  },
  {
   "cell_type": "markdown",
   "id": "b2f24c79",
   "metadata": {},
   "source": [
    "# Header"
   ]
  },
  {
   "cell_type": "code",
   "execution_count": 2,
   "id": "052d392f",
   "metadata": {},
   "outputs": [
    {
     "name": "stdout",
     "output_type": "stream",
     "text": [
      "INFO:: 07-22 03:51:: lenscarf.lerepi.core.handler.log - load_configfile() Started: /pscratch/sd/s/sebibel/dlensalot/lenscarf/sims_90/ILC_Matthieu_Dec21_91_OBDtrunc200_highcut5/s91.py\n",
      "MSC: using scarf with 1 OMP threads\n",
      "INFO:: 07-22 03:51:: lenscarf.lerepi.core.handler.log - load_configfile() Finished\n",
      "INFO:: 07-22 03:51:: lenscarf.lerepi.core.handler.log - store() Started\n",
      "WARNING:: 07-22 03:51:: root.store - config file /pscratch/sd/s/sebibel/dlensalot/lenscarf/sims_90/ILC_Matthieu_Dec21_91_OBDtrunc200_highcut5/s91.py already exist. Checking differences.\n",
      "INFO:: 07-22 03:51:: lenscarf.lerepi.core.handler.log - load_configfile() Started: /pscratch/sd/s/sebibel/dlensalot/lenscarf/sims_90/ILC_Matthieu_Dec21_91_OBDtrunc200_highcut5/s91.py\n",
      "INFO:: 07-22 03:51:: lenscarf.lerepi.core.handler.log - load_configfile() Finished\n",
      "INFO:: 07-22 03:51:: root.store - config file look the same. Resuming where I left off last time.\n",
      "INFO:: 07-22 03:51:: root.store - Matching config file found. Resuming where I left off.\n",
      "INFO:: 07-22 03:51:: lenscarf.lerepi.core.handler.log - store() Finished\n",
      "INFO:: 07-22 03:51:: lenscarf.lerepi.core.handler.log - collect_jobs() Started\n",
      "INFO:: 07-22 03:51:: lenscarf.lerepi.core.handler.log - collect_jobs() Finished\n",
      "INFO:: 07-22 03:51:: lenscarf.lerepi.core.handler.log - get_jobs() Started\n",
      "INFO:: 07-22 03:51:: lenscarf.lerepi.core.handler.log - get_jobs() Finished\n"
     ]
    }
   ],
   "source": [
    "import numpy as np\n",
    "import healpy as hp\n",
    "import matplotlib.pyplot as plt\n",
    "\n",
    "from lenscarf.run import run\n",
    "fn = '/pscratch/sd/s/sebibel/dlensalot/lenscarf/sims_90/ILC_Matthieu_Dec21_91_OBDtrunc200_highcut5/s91.py'\n",
    "interactive = run(config=fn, job_id='MAP_lensrec')"
   ]
  },
  {
   "cell_type": "markdown",
   "id": "531259de",
   "metadata": {},
   "source": [
    "## Now you have full access to all D.lensalot objects "
   ]
  },
  {
   "cell_type": "code",
   "execution_count": 3,
   "id": "b66990c1-3b6c-4c94-9177-c4394982f3e1",
   "metadata": {},
   "outputs": [
    {
     "data": {
      "text/plain": [
       "{'dlm_mod_bool': -1,\n",
       " 'temp_suffix': 'highcut2',\n",
       " 'TEMP': '/pscratch/sd/s/sebibel/dlensalot/lenscarf/sims_90/ILC_Matthieu_Dec21_91_OBDtrunc200_highcut2',\n",
       " 'overwrite_libdir': None,\n",
       " 'tr': 16,\n",
       " 'version': 'noMF',\n",
       " 'k': 'p_p',\n",
       " 'itmax': 10,\n",
       " 'simidxs_mf': array([], dtype=int64),\n",
       " 'Nmf': 0,\n",
       " 'zbounds': (-1, 1),\n",
       " 'zbounds_len': (-1, 1),\n",
       " 'pb_ctr': 0,\n",
       " 'pb_extent': 6.283185307179586,\n",
       " 'lensres': 1.7,\n",
       " 'Lmin': 2,\n",
       " 'lmax_filt': 2048,\n",
       " 'lmax_ivf': 2048,\n",
       " 'lmin_ivf': 2,\n",
       " 'mmax_ivf': 2048,\n",
       " 'mmin_ivf': 2,\n",
       " 'lmax_unl': 2048,\n",
       " 'mmax_unl': 2048,\n",
       " 'nlev_t': array([15.55054703, 15.20572886, 14.86427291, ...,  0.15877118,\n",
       "         0.18100636,  0.20225695]),\n",
       " 'nlev_p': array([15.55054703, 15.20572886, 14.86427291, ...,  0.15877118,\n",
       "         0.18100636,  0.20225695]),\n",
       " 'cls_unl': {'tt': array([0.00000000e+00, 3.15384486e+03, 1.08426834e+03, ...,\n",
       "         9.66229400e-10, 9.65260803e-10, 9.64292720e-10]),\n",
       "  'ee': array([0.00000000e+00, 0.00000000e+00, 3.62414129e-02, ...,\n",
       "         2.00006407e-12, 1.99423451e-12, 1.98828000e-12]),\n",
       "  'bb': array([0., 0., 0., ..., 0., 0., 0.]),\n",
       "  'te': array([0.00000000e+00, 0.00000000e+00, 2.93875049e+00, ...,\n",
       "         1.40842175e-11, 1.40724986e-11, 1.40607859e-11]),\n",
       "  'pp': array([0.00000000e+00, 5.94954817e-08, 8.92404300e-09, ...,\n",
       "         7.91637420e-25, 7.91001884e-25, 7.90366882e-25]),\n",
       "  'pt': array([0.00000000e+00, 6.20759604e-03, 1.28926184e-03, ...,\n",
       "         2.46796544e-19, 2.46782393e-19, 2.46768224e-19]),\n",
       "  'pe': array([ 0.00000000e+00,  0.00000000e+00, -5.60260517e-06, ...,\n",
       "          2.53157091e-22,  2.53085247e-22,  2.53013434e-22])},\n",
       " 'cls_len': {'tt': array([0.00000000e+00, 3.15384486e+03, 1.08437306e+03, ...,\n",
       "         4.73193243e-08, 4.72884497e-08, 4.72312005e-08]),\n",
       "  'ee': array([0.00000000e+00, 0.00000000e+00, 3.62435072e-02, ...,\n",
       "         5.94198156e-10, 5.93471562e-10, 5.93194004e-10]),\n",
       "  'bb': array([0.00000000e+00, 0.00000000e+00, 1.97459570e-06, ...,\n",
       "         3.76402516e-10, 3.76293414e-10, 3.75748914e-10]),\n",
       "  'te': array([ 0.00000000e+00,  0.00000000e+00,  2.93875049e+00, ...,\n",
       "         -7.69387920e-10, -7.68650143e-10, -7.67912762e-10])},\n",
       " 'STANDARD_TRANSFERFUNCTION': 'with_pixwin',\n",
       " 'transf_tlm': array([0.        , 0.        , 0.        , ..., 0.12346473, 0.12321251,\n",
       "        0.12296068]),\n",
       " 'transf_elm': array([0.        , 0.        , 0.        , ..., 0.12346473, 0.12321251,\n",
       "        0.12296068]),\n",
       " 'transf_blm': array([0.        , 0.        , 0.        , ..., 0.12346473, 0.12321251,\n",
       "        0.12296068]),\n",
       " 'ftl': array([   0.        ,    0.        ,    0.        , ..., 2944.41668585,\n",
       "        2949.52845183, 2954.61681012]),\n",
       " 'fel': array([     0.        ,      0.        ,      0.        , ...,\n",
       "        103539.95748435, 103844.90029077, 104100.90324195]),\n",
       " 'fbl': array([      0.        ,       0.        ,       0.        , ...,\n",
       "        4541930.82931575, 3806469.41193137, 3237311.91178774]),\n",
       " 'ftl_unl': array([   0.        ,    0.        ,    0.        , ..., 2862.11223615,\n",
       "        2865.66587463, 2869.1920429 ]),\n",
       " 'fel_unl': array([     0.        ,      0.        ,      0.        , ...,\n",
       "        113152.45602704, 113818.16186053, 114425.91092258]),\n",
       " 'fbl_unl': array([      0.        ,       0.        ,       0.        , ...,\n",
       "        7146448.42720817, 5476079.11852638, 4367907.17041912]),\n",
       " 'imin': 0,\n",
       " 'imax': 19,\n",
       " 'simidxs': array([ 1,  3,  5,  7,  9, 11, 13, 15, 17, 19]),\n",
       " 'dataclass_parameters': {'fg': '91'},\n",
       " 'nside': 2048,\n",
       " 'sims': <lenscarf.lerepi.config.pico.data.sims_90.ILC_Matthieu_Dec21 at 0x7f6cc9976910>,\n",
       " 'fg': '91',\n",
       " 'beam': 8.0,\n",
       " 'lmax_transf': 2048,\n",
       " 'transf_data': array([1.        , 0.99999902, 0.99999707, ..., 0.12936988, 0.12911151,\n",
       "        0.12885354]),\n",
       " 'ninvjob_geometry': <scarf.Geometry at 0x7f6cc99742f0>,\n",
       " 'OBD_type': 'trunc',\n",
       " 'BMARG_LIBDIR': None,\n",
       " 'BMARG_LCUT': None,\n",
       " 'BMARG_RESCALE': None,\n",
       " 'tpl': None,\n",
       " 'tpl_kwargs': {},\n",
       " 'lmin_tlm': 30,\n",
       " 'lmin_elm': 10,\n",
       " 'lmin_blm': 200,\n",
       " 'nlev_dep': nan,\n",
       " 'inf': 10000.0,\n",
       " 'masks': ([array([1., 1., 1., ..., 1., 1., 1.]),\n",
       "   array([1., 1., 1., ..., 1., 1., 1.])],\n",
       "  array([1., 1., 1., ..., 1., 1., 1.])),\n",
       " 'rhits_normalised': None,\n",
       " 'lmax_qlm': 2048,\n",
       " 'mmax_qlm': 2048,\n",
       " 'cg_tol': 0.001,\n",
       " 'chain_model': DLENSALOT_Chaindescriptor(p0=0, p1=['diag_cl'], p2=None, p3=2048, p4=inf, p5=None, p6='tr_cg', p7='cache_mem'),\n",
       " 'chain_descr': <function lenscarf.lerepi.core.transformer.lerepi2dlensalot.l2lensrec_Transformer.build_v2.<locals>._process_Qerec.<locals>.<lambda>(p2, p5)>,\n",
       " 'ninvjob_qe_geometry': <scarf.Geometry at 0x7f6bcdfed130>,\n",
       " 'ivfs': <plancklens.filt.filt_simple.library_fullsky_alms_sepTP at 0x7f6bcdfed210>,\n",
       " 'qlms_dd': <plancklens.qest.library at 0x7f6bcdfed110>,\n",
       " 'QE_LENSING_CL_ANALYSIS': False,\n",
       " 'cpp': array([0.00000000e+00, 0.00000000e+00, 8.92404300e-09, ...,\n",
       "        7.86835423e-22, 7.84691624e-22, 7.82518262e-22]),\n",
       " 'FILTER': 'opfilt_iso_ee_wl.alm_filter_nlev_wl',\n",
       " 'ivfs_qe': 'simple',\n",
       " 'subtract_meanfield': True,\n",
       " 'tasks': ['calc_phi', 'calc_btemplate'],\n",
       " 'tol_iter': <function lenscarf.lerepi.core.transformer.lerepi2dlensalot.l2lensrec_Transformer.build_v2.<locals>._process_Itrec.<locals>.<lambda>(itr)>,\n",
       " 'soltn_cond': <function configfile.<lambda>(it)>,\n",
       " 'lenjob_geometry': <scarf.Geometry at 0x7f6bfe218f70>,\n",
       " 'lenjob_pbgeometry': <lenscarf.utils_scarf.pbdGeometry at 0x7f6bfe218ed0>,\n",
       " 'iterator_typ': 'pertmf',\n",
       " 'mfvar': None,\n",
       " 'stepper_model': DLENSALOT_Stepper(typ='harmonicbump', lmax_qlm=-1, mmax_qlm=-1, xa=400, xb=1500),\n",
       " 'stepper': <lenscarf.iterators.steps.harmonicbump at 0x7f6bfe2185d0>,\n",
       " 'dlensalot_model': <lenscarf.lerepi.core.metamodel.dlensalot.DLENSALOT_Concept at 0x7f6bfe3ac350>,\n",
       " 'qe': <lenscarf.core.handler.QE_lr at 0x7f6bfe3ac8d0>,\n",
       " 'libdir_iterators': <function lenscarf.core.handler.MAP_lr.__init__.<locals>.<lambda>(qe_key, simidx, version)>,\n",
       " 'ith': lenscarf.iterators.iteration_handler.scarf_iterator_pertmf,\n",
       " 'jobs': [[1, 3, 5, 7, 9, 11, 13, 15, 17, 19], []]}"
      ]
     },
     "execution_count": 3,
     "metadata": {},
     "output_type": "execute_result"
    }
   ],
   "source": [
    "interactive.job.__dict__"
   ]
  },
  {
   "cell_type": "code",
   "execution_count": 14,
   "id": "303b8745",
   "metadata": {},
   "outputs": [
    {
     "data": {
      "image/png": "[encoded data removed]",
      "text/plain": [
       "<Figure size 432x288 with 1 Axes>"
      ]
     },
     "metadata": {
      "needs_background": "light"
     },
     "output_type": "display_data"
    }
   ],
   "source": [
    "plt.plot(interactive.job.nlev_p*1e-7)\n",
    "noise_j = np.loadtxt(\"/pscratch/sd/s/sebibel/data/pico/noise/Clsmooth_julien.npy\")\n",
    "plt.plot(noise_j)\n",
    "plt.yscale('log')\n",
    "# np.sqrt(val) * (60 * 180 / np.pi)"
   ]
  },
  {
   "cell_type": "code",
   "execution_count": 19,
   "id": "d3609219",
   "metadata": {},
   "outputs": [
    {
     "data": {
      "text/plain": [
       "-1"
      ]
     },
     "execution_count": 19,
     "metadata": {},
     "output_type": "execute_result"
    }
   ],
   "source": [
    "hp.Alm.getlmax(2100225, 2000)"
   ]
  },
  {
   "cell_type": "code",
   "execution_count": 3,
   "id": "1a598fcb-e9c7-4e7f-955b-bcc98424357e",
   "metadata": {
    "tags": []
   },
   "outputs": [
    {
     "data": {
      "image/png": "[encoded data removed]",
      "text/plain": [
       "<Figure size 432x288 with 1 Axes>"
      ]
     },
     "metadata": {
      "needs_background": "light"
     },
     "output_type": "display_data"
    }
   ],
   "source": [
    "plt.plot(hp.alm2cl(interactive.job.dlensalot_model.ivfs.get_sim_emliklm(1)))\n",
    "plt.plot(hp.alm2cl(interactive.job.dlensalot_model.ivfs.get_sim_bmliklm(1)))\n",
    "plt.xscale('log')\n",
    "plt.yscale('log')\n",
    "# job.dlensalot_model.cinv_p"
   ]
  },
  {
   "cell_type": "code",
   "execution_count": 4,
   "id": "88ab7769-aa37-4051-9aef-d77c3f4726fc",
   "metadata": {},
   "outputs": [
    {
     "ename": "NameError",
     "evalue": "name 'job' is not defined",
     "output_type": "error",
     "traceback": [
      "\u001b[0;31m---------------------------------------------------------------------------\u001b[0m",
      "\u001b[0;31mNameError\u001b[0m                                 Traceback (most recent call last)",
      "\u001b[0;32m/tmp/ipykernel_156325/933199395.py\u001b[0m in \u001b[0;36m<module>\u001b[0;34m\u001b[0m\n\u001b[1;32m      1\u001b[0m \u001b[0;32mfrom\u001b[0m \u001b[0mlenscarf\u001b[0m\u001b[0;34m.\u001b[0m\u001b[0mutils\u001b[0m \u001b[0;32mimport\u001b[0m \u001b[0mread_map\u001b[0m\u001b[0;34m\u001b[0m\u001b[0;34m\u001b[0m\u001b[0m\n\u001b[0;32m----> 2\u001b[0;31m \u001b[0mhp\u001b[0m\u001b[0;34m.\u001b[0m\u001b[0mmollview\u001b[0m\u001b[0;34m(\u001b[0m\u001b[0mread_map\u001b[0m\u001b[0;34m(\u001b[0m\u001b[0mjob\u001b[0m\u001b[0;34m.\u001b[0m\u001b[0mdlensalot_model\u001b[0m\u001b[0;34m.\u001b[0m\u001b[0mcinv_p\u001b[0m\u001b[0;34m.\u001b[0m\u001b[0mninv\u001b[0m\u001b[0;34m)\u001b[0m\u001b[0;34m)\u001b[0m\u001b[0;31m#-read_map(parfile.cinv_p.ninv))\u001b[0m\u001b[0;34m\u001b[0m\u001b[0;34m\u001b[0m\u001b[0m\n\u001b[0m",
      "\u001b[0;31mNameError\u001b[0m: name 'job' is not defined"
     ]
    }
   ],
   "source": [
    "from lenscarf.utils import read_map\n",
    "hp.mollview(read_map(job.dlensalot_model.cinv_p.ninv))#-read_map(parfile.cinv_p.ninv))"
   ]
  },
  {
   "cell_type": "code",
   "execution_count": 5,
   "id": "524932e5-2c94-4032-945a-7f918a0208da",
   "metadata": {},
   "outputs": [
    {
     "data": {
      "text/plain": [
       "{'lib_dir': '/global/cscratch1/sd/sebibel/cmbs4/08d_00_rNone_isOBD_MF100_OBDtest2/cinv_p',\n",
       " 'lmax': 3000,\n",
       " 'nside': 2048,\n",
       " 'cl': {'tt': array([0.00000000e+00, 3.15384486e+03, 1.08437306e+03, ...,\n",
       "         4.73193243e-08, 4.72884497e-08, 4.72312005e-08]),\n",
       "  'ee': array([0.00000000e+00, 0.00000000e+00, 3.62435072e-02, ...,\n",
       "         5.94198156e-10, 5.93471562e-10, 5.93194004e-10]),\n",
       "  'bb': array([0.00000000e+00, 0.00000000e+00, 1.97459570e-06, ...,\n",
       "         3.76402516e-10, 3.76293414e-10, 3.75748914e-10]),\n",
       "  'te': array([ 0.00000000e+00,  0.00000000e+00,  2.93875049e+00, ...,\n",
       "         -7.69387920e-10, -7.68650143e-10, -7.67912762e-10])},\n",
       " 'transf': array([1.        , 0.99999992, 0.99999976, ..., 0.69566554, 0.69549715,\n",
       "        0.69532874]),\n",
       " 'ninv': [[array([8.47641977]),\n",
       "   '/global/cscratch1/sd/sebibel/cmbs4/08d_ninv_truncified.fits']],\n",
       " 'n_inv_filt': <plancklens.qcinv.util.jit at 0x155511d5a8d0>,\n",
       " 'chain': <plancklens.qcinv.util.jit at 0x155511d5a610>}"
      ]
     },
     "execution_count": 5,
     "metadata": {},
     "output_type": "execute_result"
    }
   ],
   "source": [
    "job.dlensalot_model.cinv_p.__dict__"
   ]
  },
  {
   "cell_type": "code",
   "execution_count": 6,
   "id": "b32658c3-8fc9-47ac-befa-9cda463449b5",
   "metadata": {},
   "outputs": [
    {
     "data": {
      "text/plain": [
       "array([15.55054703, 15.20572886, 14.86427291, ...,  0.15877118,\n",
       "        0.18100636,  0.20225695])"
      ]
     },
     "execution_count": 6,
     "metadata": {},
     "output_type": "execute_result"
    }
   ],
   "source": [
    "interactive.job.nlev_t"
   ]
  },
  {
   "cell_type": "code",
   "execution_count": null,
   "id": "7cb54032-a6ea-49c4-8156-b332c8d7ff71",
   "metadata": {},
   "outputs": [],
   "source": []
  }
 ],
 "metadata": {
  "kernelspec": {
   "display_name": "Python 3.7.11 ('py3.7p': conda)",
   "language": "python",
   "name": "python3"
  },
  "language_info": {
   "codemirror_mode": {
    "name": "ipython",
    "version": 3
   },
   "file_extension": ".py",
   "mimetype": "text/x-python",
   "name": "python",
   "nbconvert_exporter": "python",
   "pygments_lexer": "ipython3",
   "version": "3.7.11"
  },
  "vscode": {
   "interpreter": {
    "hash": "96d0485bd602dee2fe546bdb1aa725bb056ad76da47667a4d750e05245214379"
   }
  }
 },
 "nbformat": 4,
 "nbformat_minor": 5
}
