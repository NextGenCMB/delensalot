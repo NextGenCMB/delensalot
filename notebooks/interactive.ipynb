{
 "cells": [
  {
   "cell_type": "markdown",
   "id": "7339e9b4-9187-4181-82fe-76cc47f93161",
   "metadata": {},
   "source": [
    "# Interact with  `D.lensalot`\n",
    "This notebook serves as starting point on how to interact with `D.lensalot` interactively, i.e. Jobs are loaded and all `D.lensalot` object are accessible"
   ]
  },
  {
   "cell_type": "markdown",
   "id": "b2f24c79",
   "metadata": {},
   "source": [
    "# Header"
   ]
  },
  {
   "cell_type": "code",
   "execution_count": 1,
   "id": "fa0679f4-94e2-46f6-89f6-4d7ca782d3b3",
   "metadata": {},
   "outputs": [
    {
     "name": "stdout",
     "output_type": "stream",
     "text": [
      "could not setup healpix hack. reverting to standard healpy\n"
     ]
    }
   ],
   "source": [
    "import os\n",
    "from os.path import join as opj\n",
    "import numpy as np\n",
    "import healpy as hp\n",
    "\n",
    "import matplotlib.pyplot as plt\n",
    "\n",
    "from lenscarf import run"
   ]
  },
  {
   "cell_type": "markdown",
   "id": "89997871",
   "metadata": {},
   "source": [
    "# Choose analysis"
   ]
  },
  {
   "cell_type": "code",
   "execution_count": 2,
   "id": "15f61a75-9182-4379-bc43-3c0a7398e34b",
   "metadata": {},
   "outputs": [],
   "source": [
    "## 08b\n",
    "fns = opj(os.environ['SCRATCH'],'dlensalot/lenscarf/data_08b/caterinaILC_May12_{}_OBD/c08b_v2.py')"
   ]
  },
  {
   "cell_type": "markdown",
   "id": "c9526c0c",
   "metadata": {},
   "source": [
    "# Choose any job you'd like to have interactive access to\n",
    "and print the job settings. `Dlensalot_Model` supports pretty reading"
   ]
  },
  {
   "cell_type": "code",
   "execution_count": 3,
   "id": "052d392f",
   "metadata": {},
   "outputs": [
    {
     "name": "stdout",
     "output_type": "stream",
     "text": [
      "MSC: using scarf with 1 OMP threads\n",
      "WARNING:: 11-03 08:44:: root.store - config file /pscratch/sd/s/sebibel/dlensalot/lenscarf/data_08b/caterinaILC_May12_00_OBD/c08b_v2.py already exist. Checking differences.\n",
      "WARNING:: 11-03 08:44:: root.store - config file /pscratch/sd/s/sebibel/dlensalot/lenscarf/data_08b/caterinaILC_May12_00_OBD/c08b_v2.py already exist. Checking differences.\n"
     ]
    }
   ],
   "source": [
    "from lenscarf.run import run\n",
    "ana_interactive = run(config=fns.format('00'), verbose=False).job\n",
    "ana_delensing = run(config=fns.format('00'), job_id='map_delensing', verbose=False).job\n",
    "# ana_QElensrec = run(config=fns.format('00'), job_id='QE_lensrec', verbose=False).job"
   ]
  },
  {
   "cell_type": "markdown",
   "id": "531259de",
   "metadata": {},
   "source": [
    "## Now you have full access to all D.lensalot objects "
   ]
  },
  {
   "cell_type": "code",
   "execution_count": 4,
   "id": "e9ef976b-1152-4ca0-b2e4-d4b20fe62f06",
   "metadata": {},
   "outputs": [
    {
     "data": {
      "text/plain": [
       "dict_keys(['imin', 'imax', 'simidxs', 'fg', '_package', '_module', '_class', 'class_parameters', 'sims', 'ec', 'ic', 'fc', 'nside', 'data', 'jobs'])"
      ]
     },
     "execution_count": 4,
     "metadata": {},
     "output_type": "execute_result"
    }
   ],
   "source": [
    "ana_interactive.__dict__.keys()"
   ]
  },
  {
   "cell_type": "code",
   "execution_count": 5,
   "id": "d7047919",
   "metadata": {},
   "outputs": [
    {
     "data": {
      "text/plain": [
       "dict_keys(['data_from_CFS', 'k', 'version', 'imin', 'imax', 'simidxs', 'its', 'Nmf', 'fg', '_package', '_module', '_class', 'class_parameters', 'sims', 'ec', 'nside', 'data_type', 'data_field', 'TEMP', 'libdir_iterators', 'analysis_path', 'base_mask', 'masks', 'binmasks', 'mask_ids', 'beam', 'lmax_transf', 'transf', 'cls_path', 'cls_len', 'clg_templ', 'clc_templ', 'binning', 'lmax', 'lmax_mask', 'edges', 'edges_id', 'sha_edges', 'dirid', 'edges_center', 'ct', 'vers_str', 'TEMP_DELENSED_SPECTRUM', 'dlm_mod_bool', 'file_op', 'cl_calc', 'outdir_plot_rel', 'outdir_plot_root', 'outdir_plot_abs', 'lib', 'jobs'])"
      ]
     },
     "execution_count": 5,
     "metadata": {},
     "output_type": "execute_result"
    }
   ],
   "source": [
    "ana_delensing.__dict__.keys()"
   ]
  },
  {
   "cell_type": "code",
   "execution_count": 7,
   "id": "29b10752-47d0-4104-96d0-4d76a5a88e28",
   "metadata": {},
   "outputs": [
    {
     "data": {
      "text/plain": [
       "{'facunits': 1000000.0,\n",
       " 'fg': '00',\n",
       " 'path_set1': '/global/cfs/cdirs/cmbs4/awg/lowellbb/reanalysis/foreground_cleaned_maps/08b.00_umilta_210511//cmbs4_08b00_cmb_b02_ellmin30_ellmax4050_map_2048_%04d.fits',\n",
       " 'path_noise_set1': '/global/cfs/cdirs/cmbs4/awg/lowellbb/reanalysis/foreground_cleaned_maps/08b.00_umilta_210511//cmbs4_08b00_noise_b02_ellmin30_ellmax4050_map_2048_%04d.fits',\n",
       " 'rhitsi': True,\n",
       " 'p2mask': '/global/cfs/cdirs/cmbs4/awg/lowellbb/reanalysis/foreground_cleaned_maps/08b.00_umilta_210511//ILC_mask_08b_smooth_30arcmin.fits',\n",
       " 'path_set2': '/global/cfs/cdirs/cmbs4/awg/lowellbb/reanalysis/foreground_cleaned_maps/08b.00_umilta_210921//cmbs4_08b00_cmb_b02_ellmin30_ellmax4050_map_2048_%04d.fits',\n",
       " 'path_noise_set2': '/global/cfs/cdirs/cmbs4/awg/lowellbb/reanalysis/foreground_cleaned_maps/08b.00_umilta_210921//cmbs4_08b00_noise_b02_ellmin30_ellmax4050_map_2048_%04d.fits'}"
      ]
     },
     "execution_count": 7,
     "metadata": {},
     "output_type": "execute_result"
    }
   ],
   "source": [
    "ana_delensing.sims.__dict__"
   ]
  },
  {
   "cell_type": "code",
   "execution_count": null,
   "id": "98387959",
   "metadata": {},
   "outputs": [],
   "source": []
  }
 ],
 "metadata": {
  "kernelspec": {
   "display_name": "py3.7p",
   "language": "python",
   "name": "py3.7p"
  },
  "language_info": {
   "codemirror_mode": {
    "name": "ipython",
    "version": 3
   },
   "file_extension": ".py",
   "mimetype": "text/x-python",
   "name": "python",
   "nbconvert_exporter": "python",
   "pygments_lexer": "ipython3",
   "version": "3.7.11 (default, Jul 27 2021, 14:32:16) \n[GCC 7.5.0]"
  },
  "vscode": {
   "interpreter": {
    "hash": "66ced08a5998eef429c58b9354be0d5077119143d9d6c1c2663dd0aea6e3799b"
   }
  }
 },
 "nbformat": 4,
 "nbformat_minor": 5
}
