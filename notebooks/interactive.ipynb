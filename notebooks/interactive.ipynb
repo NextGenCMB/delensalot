{
 "cells": [
  {
   "cell_type": "markdown",
   "id": "7339e9b4-9187-4181-82fe-76cc47f93161",
   "metadata": {},
   "source": [
    "# Interact with lerepi\n",
    "This notebook serves as starting point on how to interact with D.lensalot interactively, i.e. Jobs are loaded and all D.lensalot object are accessible"
   ]
  },
  {
   "cell_type": "markdown",
   "id": "b2f24c79",
   "metadata": {},
   "source": [
    "# Header"
   ]
  },
  {
   "cell_type": "code",
   "execution_count": 1,
   "id": "052d392f",
   "metadata": {},
   "outputs": [
    {
     "name": "stdout",
     "output_type": "stream",
     "text": [
      "could not setup healpix hack. reverting to standard healpy\n",
      "MSC: using scarf with 1 OMP threads\n",
      "WARNING:: 07-26 00:20:: root.store - config file /pscratch/sd/s/sebibel/dlensalot/lenscarf/sims_90/ILC_Matthieu_Dec21_91_OBDtrunc200_highcut5/s91.py already exist. Checking differences.\n"
     ]
    }
   ],
   "source": [
    "import numpy as np\n",
    "import healpy as hp\n",
    "import matplotlib.pyplot as plt\n",
    "\n",
    "from lenscarf.run import run\n",
    "fn = '/pscratch/sd/s/sebibel/dlensalot/lenscarf/sims_90/ILC_Matthieu_Dec21_91_OBDtrunc200_highcut5/s91.py'\n",
    "interactive = run(config=fn, job_id='MAP_lensrec', verbose=False).job"
   ]
  },
  {
   "cell_type": "markdown",
   "id": "531259de",
   "metadata": {},
   "source": [
    "## Now you have full access to all D.lensalot objects "
   ]
  },
  {
   "cell_type": "code",
   "execution_count": 2,
   "id": "b66990c1-3b6c-4c94-9177-c4394982f3e1",
   "metadata": {},
   "outputs": [
    {
     "data": {
      "text/plain": [
       "{'dlm_mod_bool': False,\n",
       " 'temp_suffix': 'highcut5',\n",
       " 'TEMP': '/pscratch/sd/s/sebibel/dlensalot/lenscarf/sims_90/ILC_Matthieu_Dec21_91_OBDtrunc200_highcut5',\n",
       " 'overwrite_libdir': None,\n",
       " 'tr': 16,\n",
       " 'version': 'noMF',\n",
       " 'k': 'p_p',\n",
       " 'itmax': 10,\n",
       " 'simidxs_mf': array([], dtype=int64),\n",
       " 'Nmf': 0,\n",
       " 'zbounds': (-1, 1),\n",
       " 'zbounds_len': (-1, 1),\n",
       " 'pb_ctr': 0,\n",
       " 'pb_extent': 6.283185307179586,\n",
       " 'lensres': 1.7,\n",
       " 'Lmin': 2,\n",
       " 'lmax_filt': 2048,\n",
       " 'lmax_ivf': 2000,\n",
       " 'lmin_ivf': 2,\n",
       " 'mmax_ivf': 2000,\n",
       " 'mmin_ivf': 2,\n",
       " 'lmax_unl': 2500,\n",
       " 'mmax_unl': 2500,\n",
       " 'nlev_t': array([0.        , 0.        , 0.        , ..., 0.33334712, 0.33301819,\n",
       "        0.33269034]),\n",
       " 'nlev_p': array([0.        , 0.        , 0.        , ..., 0.33334712, 0.33301819,\n",
       "        0.33269034]),\n",
       " 'cls_unl': {'tt': array([0.00000000e+00, 3.15384486e+03, 1.08426834e+03, ...,\n",
       "         9.66229400e-10, 9.65260803e-10, 9.64292720e-10]),\n",
       "  'ee': array([0.00000000e+00, 0.00000000e+00, 3.62414129e-02, ...,\n",
       "         2.00006407e-12, 1.99423451e-12, 1.98828000e-12]),\n",
       "  'bb': array([0., 0., 0., ..., 0., 0., 0.]),\n",
       "  'te': array([0.00000000e+00, 0.00000000e+00, 2.93875049e+00, ...,\n",
       "         1.40842175e-11, 1.40724986e-11, 1.40607859e-11]),\n",
       "  'pp': array([0.00000000e+00, 5.94954817e-08, 8.92404300e-09, ...,\n",
       "         7.91637420e-25, 7.91001884e-25, 7.90366882e-25]),\n",
       "  'pt': array([0.00000000e+00, 6.20759604e-03, 1.28926184e-03, ...,\n",
       "         2.46796544e-19, 2.46782393e-19, 2.46768224e-19]),\n",
       "  'pe': array([ 0.00000000e+00,  0.00000000e+00, -5.60260517e-06, ...,\n",
       "          2.53157091e-22,  2.53085247e-22,  2.53013434e-22])},\n",
       " 'cls_len': {'tt': array([0.00000000e+00, 3.15384486e+03, 1.08437306e+03, ...,\n",
       "         4.73193243e-08, 4.72884497e-08, 4.72312005e-08]),\n",
       "  'ee': array([0.00000000e+00, 0.00000000e+00, 3.62435072e-02, ...,\n",
       "         5.94198156e-10, 5.93471562e-10, 5.93194004e-10]),\n",
       "  'bb': array([0.00000000e+00, 0.00000000e+00, 1.97459570e-06, ...,\n",
       "         3.76402516e-10, 3.76293414e-10, 3.75748914e-10]),\n",
       "  'te': array([ 0.00000000e+00,  0.00000000e+00,  2.93875049e+00, ...,\n",
       "         -7.69387920e-10, -7.68650143e-10, -7.67912762e-10])},\n",
       " 'STANDARD_TRANSFERFUNCTION': 'with_pixwin',\n",
       " 'transf_tlm': array([0.        , 0.        , 0.        , ..., 0.13603852, 0.13576713,\n",
       "        0.13549614]),\n",
       " 'transf_elm': array([0.        , 0.        , 0.        , ..., 0.13603852, 0.13576713,\n",
       "        0.13549614]),\n",
       " 'transf_blm': array([0.        , 0.        , 0.        , ..., 0.13603852, 0.13576713,\n",
       "        0.13549614]),\n",
       " 'ftl': array([   0.        ,    0.        ,    0.        , ..., 2765.77022687,\n",
       "        2768.4065467 , 2771.04394007]),\n",
       " 'fel': array([    0.        ,     0.        ,     0.        , ...,\n",
       "        70440.36033527, 70909.44045343, 71383.0499347 ]),\n",
       " 'fbl': array([      0.        ,       0.        ,       0.        , ...,\n",
       "        1679369.74440433, 1676918.20391972, 1674462.20221407]),\n",
       " 'ftl_unl': array([   0.        ,    0.        ,    0.        , ..., 2800.37388773,\n",
       "        2799.95791615, 2799.66729146]),\n",
       " 'fel_unl': array([    0.        ,     0.        ,     0.        , ...,\n",
       "        67351.24438529, 67937.10075832, 68526.87382552]),\n",
       " 'fbl_unl': array([      0.        ,       0.        ,       0.        , ...,\n",
       "        1968240.51436075, 1964269.71258558, 1960293.99200866]),\n",
       " 'imin': 0,\n",
       " 'imax': 19,\n",
       " 'simidxs': array([ 1,  3,  5,  7,  9, 11, 13, 15, 17, 19]),\n",
       " 'dataclass_parameters': {'fg': '91'},\n",
       " 'nside': 2048,\n",
       " 'sims': <lenscarf.lerepi.config.pico.data.sims_90.ILC_Matthieu_Dec21 at 0x7fbd65173bd0>,\n",
       " 'fg': '91',\n",
       " 'data_type': 'map',\n",
       " 'data_field': 'eb',\n",
       " 'beam': 8.0,\n",
       " 'lmax_transf': 2048,\n",
       " 'ninvjob_geometry': <scarf.Geometry at 0x7fbd69cfd970>,\n",
       " 'OBD_type': 'trunc',\n",
       " 'BMARG_LIBDIR': None,\n",
       " 'BMARG_LCUT': None,\n",
       " 'BMARG_RESCALE': None,\n",
       " 'tpl': None,\n",
       " 'tpl_kwargs': {},\n",
       " 'lmin_tlm': 30,\n",
       " 'lmin_elm': 10,\n",
       " 'lmin_blm': 200,\n",
       " 'nlev_dep': nan,\n",
       " 'inf': 10000.0,\n",
       " 'masks': ([array([1., 1., 1., ..., 1., 1., 1.]),\n",
       "   array([1., 1., 1., ..., 1., 1., 1.])],\n",
       "  array([1., 1., 1., ..., 1., 1., 1.])),\n",
       " 'rhits_normalised': None,\n",
       " 'lmax_qlm': 2500,\n",
       " 'mmax_qlm': 2500,\n",
       " 'cg_tol': <function lenscarf.lerepi.core.transformer.lerepi2dlensalot.l2lensrec_Transformer.build_v2.<locals>._process_Itrec.<locals>.<lambda>(itr)>,\n",
       " 'chain_model': DLENSALOT_Chaindescriptor(p0=0, p1=['diag_cl'], p2=None, p3=2048, p4=inf, p5=None, p6='tr_cg', p7='cache_mem'),\n",
       " 'chain_descr': <function lenscarf.lerepi.core.transformer.lerepi2dlensalot.l2lensrec_Transformer.build_v2.<locals>._process_Qerec.<locals>.<lambda>(p2, p5)>,\n",
       " 'ninvjob_qe_geometry': <scarf.Geometry at 0x7fbd6504ff70>,\n",
       " 'ivfs': <plancklens.filt.filt_simple.library_fullsky_alms_sepTP at 0x7fbd6504f710>,\n",
       " 'qlms_dd': <plancklens.qest.library at 0x7fbd6504fb90>,\n",
       " 'QE_LENSING_CL_ANALYSIS': False,\n",
       " 'cpp': array([0.00000000e+00, 0.00000000e+00, 8.92404300e-09, ...,\n",
       "        2.56559002e-22, 2.55987694e-22, 2.55417720e-22]),\n",
       " 'filter': 'opfilt_iso_ee_wl.alm_filter_nlev_wl',\n",
       " 'ivfs_qe': 'simple',\n",
       " 'subtract_meanfield': True,\n",
       " 'tasks': ['calc_phi', 'calc_btemplate'],\n",
       " 'soltn_cond': <function configfile.<lambda>(it)>,\n",
       " 'lenjob_geometry': <scarf.Geometry at 0x7fbd65106630>,\n",
       " 'lenjob_pbgeometry': <lenscarf.utils_scarf.pbdGeometry at 0x7fbd69d4fd50>,\n",
       " 'iterator_typ': 'pertmf',\n",
       " 'mfvar': None,\n",
       " 'stepper_model': DLENSALOT_Stepper(typ='harmonicbump', lmax_qlm=-1, mmax_qlm=-1, xa=400, xb=1500),\n",
       " 'stepper': <lenscarf.iterators.steps.harmonicbump at 0x7fbd6504f310>,\n",
       " 'dlensalot_model': <lenscarf.lerepi.core.metamodel.dlensalot.DLENSALOT_Concept at 0x7fbd65106d50>,\n",
       " 'qe': <lenscarf.core.handler.QE_lr at 0x7fbd65025bd0>,\n",
       " 'libdir_iterators': <function lenscarf.core.handler.MAP_lr.__init__.<locals>.<lambda>(qe_key, simidx, version)>,\n",
       " 'ith': lenscarf.iterators.iteration_handler.scarf_iterator_pertmf,\n",
       " 'jobs': [[], [1, 3, 5, 7, 9, 11, 13, 15, 17, 19]]}"
      ]
     },
     "execution_count": 2,
     "metadata": {},
     "output_type": "execute_result"
    }
   ],
   "source": [
    "interactive.__dict__"
   ]
  },
  {
   "cell_type": "code",
   "execution_count": 4,
   "id": "303b8745",
   "metadata": {},
   "outputs": [
    {
     "data": {
      "image/png": "[encoded data removed]",
      "text/plain": [
       "<Figure size 432x288 with 1 Axes>"
      ]
     },
     "metadata": {
      "needs_background": "light"
     },
     "output_type": "display_data"
    }
   ],
   "source": [
    "plt.plot(interactive.nlev_p*1e-7)\n",
    "# noise_j = np.loadtxt(\"/pscratch/sd/s/sebibel/data/pico/noise/Clsmooth_julien.npy\")\n",
    "# plt.plot(noise_j)\n",
    "plt.yscale('log')\n",
    "# np.sqrt(val) * (60 * 180 / np.pi)"
   ]
  },
  {
   "cell_type": "code",
   "execution_count": 5,
   "id": "1a598fcb-e9c7-4e7f-955b-bcc98424357e",
   "metadata": {
    "tags": []
   },
   "outputs": [
    {
     "data": {
      "image/png": "[encoded data removed]",
      "text/plain": [
       "<Figure size 432x288 with 1 Axes>"
      ]
     },
     "metadata": {
      "needs_background": "light"
     },
     "output_type": "display_data"
    }
   ],
   "source": [
    "plt.plot(hp.alm2cl(interactive.dlensalot_model.ivfs.get_sim_emliklm(1)))\n",
    "plt.plot(hp.alm2cl(interactive.dlensalot_model.ivfs.get_sim_bmliklm(1)))\n",
    "plt.xscale('log')\n",
    "plt.yscale('log')\n",
    "# job.dlensalot_model.cinv_p"
   ]
  },
  {
   "cell_type": "code",
   "execution_count": 15,
   "id": "4fec175e",
   "metadata": {},
   "outputs": [
    {
     "data": {
      "text/plain": [
       "[<matplotlib.lines.Line2D at 0x7fbd65074210>]"
      ]
     },
     "execution_count": 15,
     "metadata": {},
     "output_type": "execute_result"
    },
    {
     "data": {
      "image/png": "[encoded data removed]",
      "text/plain": [
       "<Figure size 432x288 with 1 Axes>"
      ]
     },
     "metadata": {
      "needs_background": "light"
     },
     "output_type": "display_data"
    }
   ],
   "source": [
    "plt.loglog(hp.alm2cl(interactive.dlensalot_model.qlms_dd.get_sim_qlm(idx=1,k='p_p',lmax=2000)))"
   ]
  },
  {
   "cell_type": "code",
   "execution_count": 18,
   "id": "524932e5-2c94-4032-945a-7f918a0208da",
   "metadata": {},
   "outputs": [
    {
     "data": {
      "text/plain": [
       "{'sim_lib': <lenscarf.lerepi.config.pico.data.sims_90.ILC_Matthieu_Dec21 at 0x7fbd65173bd0>,\n",
       " 'ftl': array([   0.        ,    0.        ,    0.        , ..., 2765.77022687,\n",
       "        2768.4065467 , 2771.04394007]),\n",
       " 'fel': array([    0.        ,     0.        ,     0.        , ...,\n",
       "        70440.36033527, 70909.44045343, 71383.0499347 ]),\n",
       " 'fbl': array([      0.        ,       0.        ,       0.        , ...,\n",
       "        1679369.74440433, 1676918.20391972, 1674462.20221407]),\n",
       " 'lmax_fl': 2000,\n",
       " 'transf': {'t': array([0.        , 0.        , 0.        , ..., 0.13603852, 0.13576713,\n",
       "         0.13549614]),\n",
       "  'e': array([0.        , 0.        , 0.        , ..., 0.13603852, 0.13576713,\n",
       "         0.13549614]),\n",
       "  'b': array([0.        , 0.        , 0.        , ..., 0.13603852, 0.13576713,\n",
       "         0.13549614])},\n",
       " 'lib_dir': '/pscratch/sd/s/sebibel/dlensalot/lenscarf/sims_90/ILC_Matthieu_Dec21_91_OBDtrunc200_highcut5/ivfs',\n",
       " 'cl': {'tt': array([0.00000000e+00, 3.15384486e+03, 1.08437306e+03, ...,\n",
       "         4.73193243e-08, 4.72884497e-08, 4.72312005e-08]),\n",
       "  'ee': array([0.00000000e+00, 0.00000000e+00, 3.62435072e-02, ...,\n",
       "         5.94198156e-10, 5.93471562e-10, 5.93194004e-10]),\n",
       "  'bb': array([0.00000000e+00, 0.00000000e+00, 1.97459570e-06, ...,\n",
       "         3.76402516e-10, 3.76293414e-10, 3.75748914e-10]),\n",
       "  'te': array([ 0.00000000e+00,  0.00000000e+00,  2.93875049e+00, ...,\n",
       "         -7.69387920e-10, -7.68650143e-10, -7.67912762e-10])},\n",
       " 'soltn_lib': None,\n",
       " 'cache': True}"
      ]
     },
     "execution_count": 18,
     "metadata": {},
     "output_type": "execute_result"
    }
   ],
   "source": [
    "interactive.dlensalot_model.ivfs.__dict__"
   ]
  },
  {
   "cell_type": "code",
   "execution_count": 19,
   "id": "c4df9824",
   "metadata": {},
   "outputs": [
    {
     "data": {
      "text/plain": [
       "{'lib_dir': '/pscratch/sd/s/sebibel/dlensalot/lenscarf/sims_90/ILC_Matthieu_Dec21_91_OBDtrunc200_highcut5/qlms_dd',\n",
       " 'prefix': '/pscratch/sd/s/sebibel/dlensalot/lenscarf/sims_90/ILC_Matthieu_Dec21_91_OBDtrunc200_highcut5/qlms_dd',\n",
       " 'lmax_qlm': {'T': 2500, 'P': 2500, 'PS': 2500},\n",
       " 'f2map1': <plancklens.qest.lib_filt2map_sepTP at 0x7fbd6504f190>,\n",
       " 'f2map2': <plancklens.qest.lib_filt2map_sepTP at 0x7fbd6504f2d0>,\n",
       " 'fskies': {11: 1.0, 12: 1.0, 22: 1.0},\n",
       " 'fsky11': 1.0,\n",
       " 'fsky12': 1.0,\n",
       " 'fsky22': 1.0,\n",
       " 'resplib': None,\n",
       " 'keys_fund': ['ptt',\n",
       "  'xtt',\n",
       "  'p_p',\n",
       "  'x_p',\n",
       "  'p',\n",
       "  'x',\n",
       "  'stt',\n",
       "  's',\n",
       "  'ftt',\n",
       "  'f_p',\n",
       "  'f',\n",
       "  'dtt',\n",
       "  'ntt',\n",
       "  'a_p',\n",
       "  'pte',\n",
       "  'pet',\n",
       "  'ptb',\n",
       "  'pbt',\n",
       "  'pee',\n",
       "  'peb',\n",
       "  'pbe',\n",
       "  'pbb',\n",
       "  'xte',\n",
       "  'xet',\n",
       "  'xtb',\n",
       "  'xbt',\n",
       "  'xee',\n",
       "  'xeb',\n",
       "  'xbe',\n",
       "  'xbb'],\n",
       " 'keys': ['ptt',\n",
       "  'xtt',\n",
       "  'p_p',\n",
       "  'x_p',\n",
       "  'p',\n",
       "  'x',\n",
       "  'stt',\n",
       "  's',\n",
       "  'ftt',\n",
       "  'f_p',\n",
       "  'f',\n",
       "  'dtt',\n",
       "  'ntt',\n",
       "  'a_p',\n",
       "  'pte',\n",
       "  'pet',\n",
       "  'ptb',\n",
       "  'pbt',\n",
       "  'pee',\n",
       "  'peb',\n",
       "  'pbe',\n",
       "  'pbb',\n",
       "  'xte',\n",
       "  'xet',\n",
       "  'xtb',\n",
       "  'xbt',\n",
       "  'xee',\n",
       "  'xeb',\n",
       "  'xbe',\n",
       "  'xbb',\n",
       "  'p_tp',\n",
       "  'x_tp',\n",
       "  'p_te',\n",
       "  'p_tb',\n",
       "  'p_eb',\n",
       "  'x_te',\n",
       "  'x_tb',\n",
       "  'x_eb',\n",
       "  'ptt_bh_n',\n",
       "  'ptt_bh_s',\n",
       "  'ptt_bh_f',\n",
       "  'ptt_bh_d',\n",
       "  'dtt_bh_p',\n",
       "  'stt_bh_p',\n",
       "  'ftt_bh_d',\n",
       "  'p_bh_s'],\n",
       " 'keys_remaps': {'s': 'stt'}}"
      ]
     },
     "execution_count": 19,
     "metadata": {},
     "output_type": "execute_result"
    }
   ],
   "source": [
    "interactive.dlensalot_model.qlms_dd.__dict__"
   ]
  },
  {
   "cell_type": "code",
   "execution_count": 16,
   "id": "b32658c3-8fc9-47ac-befa-9cda463449b5",
   "metadata": {},
   "outputs": [
    {
     "data": {
      "text/plain": [
       "array([0.        , 0.        , 0.        , ..., 0.33334712, 0.33301819,\n",
       "       0.33269034])"
      ]
     },
     "execution_count": 16,
     "metadata": {},
     "output_type": "execute_result"
    }
   ],
   "source": [
    "interactive.nlev_t"
   ]
  },
  {
   "cell_type": "code",
   "execution_count": null,
   "id": "67453ad7",
   "metadata": {},
   "outputs": [],
   "source": []
  }
 ],
 "metadata": {
  "kernelspec": {
   "display_name": "Python 3.7.11 ('py3.7p': conda)",
   "language": "python",
   "name": "python3"
  },
  "language_info": {
   "codemirror_mode": {
    "name": "ipython",
    "version": 3
   },
   "file_extension": ".py",
   "mimetype": "text/x-python",
   "name": "python",
   "nbconvert_exporter": "python",
   "pygments_lexer": "ipython3",
   "version": "3.7.11"
  },
  "vscode": {
   "interpreter": {
    "hash": "96d0485bd602dee2fe546bdb1aa725bb056ad76da47667a4d750e05245214379"
   }
  }
 },
 "nbformat": 4,
 "nbformat_minor": 5
}
