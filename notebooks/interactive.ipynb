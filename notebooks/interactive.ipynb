{
 "cells": [
  {
   "cell_type": "markdown",
   "id": "7339e9b4-9187-4181-82fe-76cc47f93161",
   "metadata": {},
   "source": [
    "# Interact with  `D.lensalot`\n",
    "This notebook serves as starting point on how to interact with `D.lensalot` interactively, i.e. Jobs are loaded and all `D.lensalot` object are accessible"
   ]
  },
  {
   "cell_type": "markdown",
   "id": "b2f24c79",
   "metadata": {},
   "source": [
    "# Header"
   ]
  },
  {
   "cell_type": "code",
   "execution_count": 1,
   "id": "fa0679f4-94e2-46f6-89f6-4d7ca782d3b3",
   "metadata": {},
   "outputs": [
    {
     "name": "stdout",
     "output_type": "stream",
     "text": [
      "cond4mpi does not exists\n",
      "could not setup healpix hack. reverting to standard healpy\n",
      "MSC: using scarf with 2 OMP threads\n"
     ]
    }
   ],
   "source": [
    "import os\n",
    "from os.path import join as opj\n",
    "import numpy as np\n",
    "import healpy as hp\n",
    "\n",
    "import matplotlib.pyplot as plt\n",
    "\n",
    "import lenscarf\n",
    "from lenscarf.run import run"
   ]
  },
  {
   "cell_type": "markdown",
   "id": "89997871",
   "metadata": {},
   "source": [
    "# Choose analysis"
   ]
  },
  {
   "cell_type": "code",
   "execution_count": 2,
   "id": "15f61a75-9182-4379-bc43-3c0a7398e34b",
   "metadata": {},
   "outputs": [
    {
     "name": "stdout",
     "output_type": "stream",
     "text": [
      "WARNING:: 02-01 02:56:: root.store - config file /global/cscratch1/sd/sebibel/dlensalot/n32/sims_postborn/sims_postborn_lminB200_postborn_GF/conf_mwe_GF.py already exist. Checking differences.\n",
      "BAND 0 in 8 :\n",
      "resolve_poles: I have flipped 7 signs out of 12 pixels on north pole\n",
      "resolve_poles: I have flipped 10 signs out of 19 pixels on south pole\n",
      "input t1,t2 -0.147 11.476 in degrees\n",
      "North 9.090 and South 9.087 buffers in amin\n",
      "cell (theta,phi) in amin (0.909,0.525)\n",
      "BAND 1 in 8 :\n",
      "input t1,t2 11.011 22.741 in degrees\n",
      "North 9.176 and South 9.146 buffers in amin\n",
      "cell (theta,phi) in amin (0.918,0.510)\n",
      "BAND 2 in 8 :\n",
      "input t1,t2 22.234 33.998 in degrees\n",
      "North 9.193 and South 9.203 buffers in amin\n",
      "cell (theta,phi) in amin (0.920,0.737)\n",
      "BAND 3 in 8 :\n",
      "input t1,t2 33.492 45.260 in degrees\n",
      "North 9.192 and South 9.193 buffers in amin\n",
      "cell (theta,phi) in amin (0.921,0.468)\n",
      "BAND 4 in 8 :\n",
      "input t1,t2 44.737 56.495 in degrees\n",
      "North 9.197 and South 9.181 buffers in amin\n",
      "cell (theta,phi) in amin (0.920,0.550)\n",
      "BAND 5 in 8 :\n",
      "input t1,t2 55.983 67.739 in degrees\n",
      "North 9.162 and South 9.196 buffers in amin\n",
      "cell (theta,phi) in amin (0.920,0.610)\n",
      "BAND 6 in 8 :\n",
      "input t1,t2 67.248 79.000 in degrees\n",
      "North 9.184 and South 9.186 buffers in amin\n",
      "cell (theta,phi) in amin (0.919,0.647)\n",
      "BAND 7 in 8 :\n",
      "input t1,t2 78.494 90.259 in degrees\n",
      "North 9.195 and South 9.193 buffers in amin\n",
      "cell (theta,phi) in amin (0.920,0.659)\n",
      "    defl. spin 1 transform:  [00:02:00] \n",
      "        defl. angles calc.:  [00:00:51] \n",
      "                       vtm:  [00:08:46] \n",
      "               vtm2filtmap:  [00:00:55] \n",
      "                    interp:  [00:02:04] \n",
      "    pol. //-transport rot.:  [00:01:04] \n",
      "                     Total:  [00:15:43] \n",
      "Number of interpolating pixels: 314572800 ~ 17736^2 \n"
     ]
    }
   ],
   "source": [
    "fn = opj(os.path.dirname(os.path.abspath(lenscarf.__file__)),'ana/config/examples/mwe/conf_mwe_GF.py')\n",
    "# fn = '/pscratch/sd/s/sebibel/dlensalot/n32/sims_postborn/sims_postborn_lminB200_postborn_GF/conf_mwe_GF.py'\n",
    "ana_mwe = run(config=fn, job_id='QE_lensrec', verbose=False).job\n",
    "ana_mwe.run()"
   ]
  },
  {
   "cell_type": "code",
   "execution_count": null,
   "id": "1e55462f-8d70-43af-8659-3a3994db820c",
   "metadata": {},
   "outputs": [
    {
     "name": "stdout",
     "output_type": "stream",
     "text": [
      "WARNING:: 02-01 03:20:: root.store - config file /global/cscratch1/sd/sebibel/dlensalot/n32/sims_postborn/sims_postborn_lminB200_postborn_GF/conf_mwe_GF.py already exist. Checking differences.\n",
      "4504501 3000\n",
      "(2048, 4000) [00:02:37] (0, 0.51843604)\n",
      "(2048, 4000) [00:03:46] (1, 0.06623883)\n",
      "(2048, 4000) [00:04:55] (2, 0.02791038)\n",
      "(2048, 4000) [00:06:07] (3, 0.02446559)\n",
      "(2048, 4000) [00:07:18] (4, 0.01830115)\n",
      "(2048, 4000) [00:08:28] (5, 0.01715350)\n",
      "(2048, 4000) [00:09:38] (6, 0.01517977)\n",
      "(2048, 4000) [00:10:47] (7, 0.01419132)\n",
      "(2048, 4000) [00:11:56] (8, 0.01235648)\n",
      "(2048, 4000) [00:13:06] (9, 0.01050515)\n",
      "(2048, 4000) [00:14:16] (10, 0.01215542)\n",
      "(2048, 4000) [00:15:25] (11, 0.01105920)\n",
      "(2048, 4000) [00:16:34] (12, 0.00882206)\n",
      "(2048, 4000) [00:17:42] (13, 0.00831057)\n",
      "(2048, 4000) [00:18:52] (14, 0.00822483)\n",
      "(2048, 4000) [00:20:05] (15, 0.00875254)\n",
      "(2048, 4000) [00:21:14] (16, 0.00876567)\n",
      "(2048, 4000) [00:22:24] (17, 0.00829369)\n",
      "(2048, 4000) [00:23:33] (18, 0.00739494)\n",
      "(2048, 4000) [00:24:43] (19, 0.00667656)\n",
      "(2048, 4000) [00:25:53] (20, 0.00590639)\n",
      "(2048, 4000) [00:27:02] (21, 0.00531838)\n",
      "(2048, 4000) [00:28:11] (22, 0.00572633)\n",
      "(2048, 4000) [00:29:21] (23, 0.00616862)\n",
      "(2048, 4000) [00:30:31] (24, 0.00639624)\n",
      "(2048, 4000) [00:32:49] (25, 0.00634524)\n",
      "(2048, 4000) [00:33:59] (26, 0.00604782)\n",
      "(2048, 4000) [00:35:12] (27, 0.00582038)\n",
      "(2048, 4000) [00:36:23] (28, 0.00560636)\n",
      "(2048, 4000) [00:37:35] (29, 0.00524779)\n",
      "(2048, 4000) [00:38:48] (30, 0.00485047)\n",
      "(2048, 4000) [00:40:01] (31, 0.00465202)\n",
      "(2048, 4000) [00:41:15] (32, 0.00431241)\n",
      "(2048, 4000) [00:42:31] (33, 0.00405701)\n",
      "(2048, 4000) [00:43:42] (34, 0.00399591)\n",
      "(2048, 4000) [00:44:52] (35, 0.00404341)\n",
      "(2048, 4000) [00:46:05] (36, 0.00417893)\n",
      "(2048, 4000) [00:47:15] (37, 0.00425441)\n",
      "(2048, 4000) [00:48:28] (38, 0.00420872)\n",
      "(2048, 4000) [00:49:40] (39, 0.00417002)\n",
      "(2048, 4000) [00:50:52] (40, 0.00421112)\n",
      "(2048, 4000) [00:52:04] (41, 0.00410379)\n",
      "(2048, 4000) [00:53:18] (42, 0.00400631)\n",
      "(2048, 4000) [00:54:31] (43, 0.00389519)\n",
      "(2048, 4000) [00:55:43] (44, 0.00375368)\n",
      "(2048, 4000) [00:56:55] (45, 0.00364645)\n",
      "(2048, 4000) [00:58:12] (46, 0.00348411)\n",
      "(2048, 4000) [00:59:42] (47, 0.00332027)\n",
      "(2048, 4000) [01:01:13] (48, 0.00319022)\n",
      "(2048, 4000) [01:02:42] (49, 0.00306749)\n",
      "(2048, 4000) [01:05:41] (50, 0.00291612)\n",
      "(2048, 4000) [01:07:11] (51, 0.00284958)\n",
      "(2048, 4000) [01:08:37] (52, 0.00282763)\n",
      "(2048, 4000) [01:09:55] (53, 0.00282806)\n",
      "(2048, 4000) [01:11:13] (54, 0.00281328)\n",
      "(2048, 4000) [01:12:32] (55, 0.00269787)\n",
      "(2048, 4000) [01:13:54] (56, 0.00257500)\n",
      "(2048, 4000) [01:15:14] (57, 0.00248793)\n",
      "(2048, 4000) [01:16:27] (58, 0.00244632)\n",
      "(2048, 4000) [01:17:41] (59, 0.00244235)\n",
      "(2048, 4000) [01:18:59] (60, 0.00249161)\n",
      "(2048, 4000) [01:20:13] (61, 0.00251467)\n",
      "(2048, 4000) [01:21:30] (62, 0.00249796)\n",
      "(2048, 4000) [01:22:46] (63, 0.00248478)\n",
      "(2048, 4000) [01:24:03] (64, 0.00246990)\n",
      "(2048, 4000) [01:25:17] (65, 0.00249231)\n",
      "(2048, 4000) [01:26:29] (66, 0.00250708)\n",
      "(2048, 4000) [01:27:41] (67, 0.00245968)\n",
      "(2048, 4000) [01:28:54] (68, 0.00236350)\n",
      "(2048, 4000) [01:30:07] (69, 0.00227207)\n",
      "(2048, 4000) [01:31:21] (70, 0.00219221)\n",
      "(2048, 4000) [01:32:34] (71, 0.00217763)\n",
      "(2048, 4000) [01:33:44] (72, 0.00219376)\n",
      "(2048, 4000) [01:34:55] (73, 0.00217431)\n",
      "(2048, 4000) [01:36:03] (74, 0.00213388)\n",
      "(2048, 4000) [01:38:28] (75, 0.00204956)\n",
      "(2048, 4000) [01:39:42] (76, 0.00193453)\n",
      "(2048, 4000) [01:40:56] (77, 0.00182740)\n",
      "(2048, 4000) [01:42:08] (78, 0.00175917)\n",
      "(2048, 4000) [01:43:22] (79, 0.00172452)\n",
      "(2048, 4000) [01:44:34] (80, 0.00172357)\n",
      "(2048, 4000) [01:45:46] (81, 0.00171632)\n",
      "(2048, 4000) [01:47:00] (82, 0.00170232)\n",
      "(2048, 4000) [01:48:15] (83, 0.00171861)\n",
      "(2048, 4000) [01:49:34] (84, 0.00173592)\n",
      "(2048, 4000) [01:50:47] (85, 0.00174758)\n",
      "(2048, 4000) [01:52:05] (86, 0.00174122)\n",
      "(2048, 4000) [01:53:19] (87, 0.00171204)\n",
      "(2048, 4000) [01:54:32] (88, 0.00164734)\n",
      "(2048, 4000) [01:55:45] (89, 0.00155608)\n",
      "(2048, 4000) [01:56:59] (90, 0.00146307)\n",
      "(2048, 4000) [01:58:15] (91, 0.00140745)\n",
      "(2048, 4000) [01:59:29] (92, 0.00140638)\n",
      "(2048, 4000) [02:00:43] (93, 0.00139688)\n",
      "(2048, 4000) [02:01:55] (94, 0.00136955)\n",
      "(2048, 4000) [02:03:09] (95, 0.00133345)\n",
      "(2048, 4000) [02:04:20] (96, 0.00130211)\n",
      "(2048, 4000) [02:05:32] (97, 0.00127575)\n"
     ]
    }
   ],
   "source": [
    "fn = opj(os.path.dirname(os.path.abspath(lenscarf.__file__)),'ana/config/examples/mwe/conf_mwe_GF.py')\n",
    "ana_mwe = run(config=fn, job_id='MAP_lensrec', verbose=True).job\n",
    "ana_mwe.run()"
   ]
  },
  {
   "cell_type": "markdown",
   "id": "531259de",
   "metadata": {},
   "source": [
    "## Now you have full access to all D.lensalot objects "
   ]
  },
  {
   "cell_type": "code",
   "execution_count": 6,
   "id": "e9ef976b-1152-4ca0-b2e4-d4b20fe62f06",
   "metadata": {},
   "outputs": [
    {
     "ename": "AttributeError",
     "evalue": "'MAP_lr' object has no attribute 'get_plm'",
     "output_type": "error",
     "traceback": [
      "\u001b[0;31m---------------------------------------------------------------------------\u001b[0m",
      "\u001b[0;31mAttributeError\u001b[0m                            Traceback (most recent call last)",
      "\u001b[0;32m/tmp/ipykernel_179742/1772438968.py\u001b[0m in \u001b[0;36m<module>\u001b[0;34m\u001b[0m\n\u001b[0;32m----> 1\u001b[0;31m \u001b[0mplm_QE\u001b[0m \u001b[0;34m=\u001b[0m \u001b[0mana_mwe\u001b[0m\u001b[0;34m.\u001b[0m\u001b[0mget_plm\u001b[0m\u001b[0;34m(\u001b[0m\u001b[0;36m0\u001b[0m\u001b[0;34m)\u001b[0m\u001b[0;34m\u001b[0m\u001b[0;34m\u001b[0m\u001b[0m\n\u001b[0m\u001b[1;32m      2\u001b[0m \u001b[0;31m# plm_MAP = ana_mwe.get_plm_it(ana_mwe.itmax)\u001b[0m\u001b[0;34m\u001b[0m\u001b[0;34m\u001b[0m\u001b[0;34m\u001b[0m\u001b[0m\n\u001b[1;32m      3\u001b[0m \u001b[0mll\u001b[0m \u001b[0;34m=\u001b[0m \u001b[0mnp\u001b[0m\u001b[0;34m.\u001b[0m\u001b[0marange\u001b[0m\u001b[0;34m(\u001b[0m\u001b[0;36m0\u001b[0m\u001b[0;34m,\u001b[0m\u001b[0;36m4001\u001b[0m\u001b[0;34m,\u001b[0m\u001b[0;36m1\u001b[0m\u001b[0;34m)\u001b[0m\u001b[0;34m\u001b[0m\u001b[0;34m\u001b[0m\u001b[0m\n\u001b[1;32m      4\u001b[0m \u001b[0mscale_factor\u001b[0m \u001b[0;34m=\u001b[0m \u001b[0;34m(\u001b[0m\u001b[0mll\u001b[0m\u001b[0;34m*\u001b[0m\u001b[0;34m(\u001b[0m\u001b[0mll\u001b[0m\u001b[0;34m+\u001b[0m\u001b[0;36m1\u001b[0m\u001b[0;34m)\u001b[0m\u001b[0;34m)\u001b[0m\u001b[0;34m**\u001b[0m\u001b[0;36m2\u001b[0m\u001b[0;34m/\u001b[0m\u001b[0;34m(\u001b[0m\u001b[0;36m2\u001b[0m\u001b[0;34m*\u001b[0m\u001b[0mnp\u001b[0m\u001b[0;34m.\u001b[0m\u001b[0mpi\u001b[0m\u001b[0;34m)\u001b[0m\u001b[0;34m\u001b[0m\u001b[0;34m\u001b[0m\u001b[0m\n\u001b[1;32m      5\u001b[0m \u001b[0mplt\u001b[0m\u001b[0;34m.\u001b[0m\u001b[0mplot\u001b[0m\u001b[0;34m(\u001b[0m\u001b[0mscale_factor\u001b[0m\u001b[0;34m*\u001b[0m\u001b[0mhp\u001b[0m\u001b[0;34m.\u001b[0m\u001b[0malm2cl\u001b[0m\u001b[0;34m(\u001b[0m\u001b[0mplm_QE\u001b[0m\u001b[0;34m)\u001b[0m\u001b[0;34m,\u001b[0m \u001b[0mlabel\u001b[0m\u001b[0;34m=\u001b[0m\u001b[0;34mr'$C_L^{\\hat{\\phi}^{\\rm QE}\\hat{\\phi}^{\\rm QE}}$'\u001b[0m\u001b[0;34m)\u001b[0m\u001b[0;34m\u001b[0m\u001b[0;34m\u001b[0m\u001b[0m\n",
      "\u001b[0;31mAttributeError\u001b[0m: 'MAP_lr' object has no attribute 'get_plm'"
     ]
    }
   ],
   "source": [
    "plm_QE = ana_mwe.get_plm(0)\n",
    "# plm_MAP = ana_mwe.get_plm_it(ana_mwe.itmax)\n",
    "ll = np.arange(0,4001,1)\n",
    "scale_factor = (ll*(ll+1))**2/(2*np.pi)\n",
    "plt.plot(scale_factor*hp.alm2cl(plm_QE), label=r'$C_L^{\\hat{\\phi}^{\\rm QE}\\hat{\\phi}^{\\rm QE}}$')\n",
    "plt.plot(scale_factor*ana_mwe.cpp, label=r'$C_L^{\\phi\\phi,{\\rm fid}}$')\n",
    "# plt.plot(hp.alm2cl(plm_MAP)*np.arange(0,4001,1)**4/(2*np.pi), label=r'$C_L^{\\phi^{\\rm MAP}\\phi^{\\rm MAP}}$')\n",
    "\n",
    "plt.legend(fontsize=20)\n",
    "plt.xlabel('Multipole, L', fontsize=14)\n",
    "plt.ylabel(r'$\\left[L(L+1)\\right]^2/(2\\pi)$', fontsize=14)\n",
    "plt.xscale('log')\n",
    "plt.xlim(1,1e3)\n",
    "plt.ylim(1e-8,5e-7)\n",
    "plt.yscale('log')"
   ]
  },
  {
   "cell_type": "code",
   "execution_count": null,
   "id": "98387959",
   "metadata": {},
   "outputs": [],
   "source": []
  }
 ],
 "metadata": {
  "kernelspec": {
   "display_name": "py3.7p",
   "language": "python",
   "name": "py3.7p"
  },
  "language_info": {
   "codemirror_mode": {
    "name": "ipython",
    "version": 3
   },
   "file_extension": ".py",
   "mimetype": "text/x-python",
   "name": "python",
   "nbconvert_exporter": "python",
   "pygments_lexer": "ipython3",
   "version": "3.7.11"
  },
  "vscode": {
   "interpreter": {
    "hash": "916dbcbb3f70747c44a77c7bcd40155683ae19c65e1c03b4aa3499c5328201f1"
   }
  }
 },
 "nbformat": 4,
 "nbformat_minor": 5
}
