{
 "cells": [
  {
   "cell_type": "markdown",
   "id": "7339e9b4-9187-4181-82fe-76cc47f93161",
   "metadata": {},
   "source": [
    "# Interact with lerepi\n",
    "This notebook serves as starting point on how to interact with D.lensalot interactively, i.e. Jobs are loaded and all D.lensalot object are accessible"
   ]
  },
  {
   "cell_type": "markdown",
   "id": "b2f24c79",
   "metadata": {},
   "source": [
    "# Header"
   ]
  },
  {
   "cell_type": "code",
   "execution_count": 1,
   "id": "052d392f",
   "metadata": {},
   "outputs": [
    {
     "name": "stderr",
     "output_type": "stream",
     "text": [
      "INFO:: 07-01 07:40:: lenscarf.lerepi.core.handler.log - load_configfile() Started\n",
      "INFO:: 07-01 07:40:: lenscarf.lerepi.core.handler.log - load_configfile() Finished\n",
      "INFO:: 07-01 07:40:: lenscarf.lerepi.core.handler.log - store() Started\n",
      "WARNING:: 07-01 07:40:: root.store - config file /global/cscratch1/sd/sebibel/dlensalot/lenscarf/data_08d/ILC_May2022_00_OBD_r10_tol5e5/c08d_v2.py already exist. Checking differences.\n",
      "INFO:: 07-01 07:40:: lenscarf.lerepi.core.handler.log - load_configfile() Started\n",
      "INFO:: 07-01 07:40:: lenscarf.lerepi.core.handler.log - load_configfile() Finished\n",
      "INFO:: 07-01 07:40:: root.store - config file look the same. Resuming where I left off last time.\n",
      "INFO:: 07-01 07:40:: root.store - Matching config file found. Resuming where I left off.\n",
      "INFO:: 07-01 07:40:: lenscarf.lerepi.core.handler.log - store() Finished\n",
      "INFO:: 07-01 07:40:: lenscarf.lerepi.core.handler.log - collect_jobs() Started\n",
      "INFO:: 07-01 07:40:: lenscarf.lerepi.core.handler.log - collect_jobs() Finished\n",
      "INFO:: 07-01 07:40:: lenscarf.lerepi.core.handler.log - get_jobs() Started\n",
      "INFO:: 07-01 07:40:: lenscarf.lerepi.core.handler.log - get_jobs() Finished\n",
      "INFO:: 07-01 07:40:: lenscarf.lerepi.core.handler.log - collect_jobs() Started\n",
      "INFO:: 07-01 07:40:: lenscarf.lerepi.core.handler.init_job - transform started\n",
      "INFO:: 07-01 07:40:: lenscarf.lerepi.core.transformer.lerepi2dlensalot.log - build_v2() started\n",
      "INFO:: 07-01 07:40:: lenscarf.lerepi.core.transformer.lerepi2dlensalot.log - _process_Analysis() started\n"
     ]
    },
    {
     "name": "stdout",
     "output_type": "stream",
     "text": [
      "could not setup healpix hack. reverting to standard healpy\n"
     ]
    },
    {
     "name": "stderr",
     "output_type": "stream",
     "text": [
      "INFO:: 07-01 07:40:: lenscarf.lerepi.core.transformer.lerepi2dlensalot.log - _process_Analysis() finished\n",
      "INFO:: 07-01 07:40:: lenscarf.lerepi.core.transformer.lerepi2dlensalot.log - _process_Data() started\n",
      "INFO:: 07-01 07:40:: lenscarf.lerepi.core.transformer.lerepi2dlensalot.log - _process_Data() finished\n",
      "INFO:: 07-01 07:40:: lenscarf.lerepi.core.transformer.lerepi2dlensalot.log - _process_Noisemodel() started\n",
      "INFO:: 07-01 07:40:: lenscarf.lerepi.core.transformer.lerepi2dlensalot.log - _process_Noisemodel() finished\n",
      "INFO:: 07-01 07:40:: lenscarf.lerepi.core.transformer.lerepi2dlensalot.log - _process_Qerec() started\n",
      "INFO:: 07-01 07:40:: lenscarf.lerepi.core.transformer.lerepi2dlensalot.log - get_ninvt() started\n",
      "INFO:: 07-01 07:40:: lenscarf.lerepi.core.transformer.lerepi2dlensalot.log - get_ninvt() finished\n",
      "INFO:: 07-01 07:40:: lenscarf.lerepi.core.transformer.lerepi2dlensalot.log - get_ninvp() started\n",
      "INFO:: 07-01 07:40:: lenscarf.lerepi.core.transformer.lerepi2dlensalot.log - get_ninvp() finished\n",
      "INFO:: 07-01 07:40:: lenscarf.lerepi.core.transformer.lerepi2dlensalot.log - _process_Qerec() finished\n",
      "INFO:: 07-01 07:40:: lenscarf.lerepi.core.transformer.lerepi2dlensalot.log - _process_Itrec() started\n",
      "INFO:: 07-01 07:40:: lenscarf.lerepi.core.transformer.lerepi2dlensalot.log - _process_Itrec() finished\n",
      "INFO:: 07-01 07:40:: lenscarf.lerepi.core.transformer.lerepi2dlensalot.build_v2 - I am going to work with the following values:\n",
      "INFO:: 07-01 07:40:: lenscarf.lerepi.core.transformer.lerepi2dlensalot.build_v2 - ---------------------------------------------------\n",
      "dlm_mod_bool:\tFalse\n",
      "temp_suffix:\tr10_tol5e5\n",
      "TEMP:\t/global/cscratch1/sd/sebibel/dlensalot/lenscarf/data_08d/ILC_May2022_00_OBD_r10_tol5e5\n",
      "overwrite_libdir:\tNone\n",
      "tr:\t16\n",
      "version:\t\n",
      "k:\tp_p\n",
      "itmax:\t12\n",
      "nsims_mf:\t10\n",
      "zbounds:\t(-0.9208447138468424, 0.33658854166666663)\n",
      "zbounds_len:\t[-0.9745655601671674, 0.4949911282717345]\n",
      "pb_ctr:\t0\n",
      "pb_extent:\t6.283185307179586\n",
      "lensres:\t1.7\n",
      "Lmin:\t4\n",
      "lmax_filt:\t4000\n",
      "lmax_ivf:\t3000\n",
      "lmin_ivf:\t10\n",
      "mmax_ivf:\t3000\n",
      "mmin_ivf:\t10\n",
      "lmax_unl:\t4000\n",
      "mmax_unl:\t4000\n",
      "cls_unl:\t{'tt': array([0.00000000e+00, 3.15384486e+03, 1.08426834e+03, ...,\n",
      "       9.66229400e-10, 9.65260803e-10, 9.64292720e-10]), 'ee': array([0.00000000e+00, 0.00000000e+00, 3.62414129e-02, ...,\n",
      "       2.00006407e-12, 1.99423451e-12, 1.98828000e-12]), 'bb': array([0., 0., 0., ..., 0., 0., 0.]), 'te': array([0.00000000e+00, 0.00000000e+00, 2.93875049e+00, ...,\n",
      "       1.40842175e-11, 1.40724986e-11, 1.40607859e-11]), 'pp': array([0.00000000e+00, 5.94954817e-08, 8.92404300e-09, ...,\n",
      "       7.91637420e-25, 7.91001884e-25, 7.90366882e-25]), 'pt': array([0.00000000e+00, 6.20759604e-03, 1.28926184e-03, ...,\n",
      "       2.46796544e-19, 2.46782393e-19, 2.46768224e-19]), 'pe': array([ 0.00000000e+00,  0.00000000e+00, -5.60260517e-06, ...,\n",
      "        2.53157091e-22,  2.53085247e-22,  2.53013434e-22])}\n",
      "cls_len:\t{'tt': array([0.00000000e+00, 3.15384486e+03, 1.08437306e+03, ...,\n",
      "       4.73193243e-08, 4.72884497e-08, 4.72312005e-08]), 'ee': array([0.00000000e+00, 0.00000000e+00, 3.62435072e-02, ...,\n",
      "       5.94198156e-10, 5.93471562e-10, 5.93194004e-10]), 'bb': array([0.00000000e+00, 0.00000000e+00, 1.97459570e-06, ...,\n",
      "       3.76402516e-10, 3.76293414e-10, 3.75748914e-10]), 'te': array([ 0.00000000e+00,  0.00000000e+00,  2.93875049e+00, ...,\n",
      "       -7.69387920e-10, -7.68650143e-10, -7.67912762e-10])}\n",
      "STANDARD_TRANSFERFUNCTION:\tTrue\n",
      "transf_tlm:\t[0.         0.         0.         ... 0.69566554 0.69549715 0.69532874]\n",
      "transf_elm:\t[0.         0.         0.         ... 0.69566554 0.69549715 0.69532874]\n",
      "transf_blm:\t[0.         0.         0.         ... 0.69566554 0.69549715 0.69532874]\n",
      "ftl:\t[    0.             0.             0.         ... 50884.35570142\n",
      " 51001.61614582 51121.09598821]\n",
      "fel:\t[      0.               0.               0.         ... 1320614.99683882\n",
      " 1326169.16606993 1331738.13179494]\n",
      "fbl:\t[       0.                0.                0.         ...\n",
      " 11186333.1842377  11184724.70597486 11183109.6412544 ]\n",
      "ftl_unl:\t[    0.             0.             0.         ... 56638.46001567\n",
      " 56738.98896357 56842.00805226]\n",
      "fel_unl:\t[      0.               0.               0.         ... 1514907.05278384\n",
      " 1526158.30208184 1537414.24273178]\n",
      "fbl_unl:\t[       0.                0.                0.         ...\n",
      " 13536987.51423432 13530434.88166694 13523883.23757466]\n",
      "imin:\t0\n",
      "imax:\t99\n",
      "dataclass_parameters:\t{'fg': '00'}\n",
      "nside:\t2048\n",
      "sims:\t<lenscarf.lerepi.config.cmbs4.data.data_08d.ILC_May2022 object at 0x155491058e50>\n",
      "fg:\t00\n",
      "beam:\t2.3\n",
      "lmax_transf:\t4000\n",
      "transf_data:\t[1.         0.99999992 0.99999976 ... 0.52450907 0.52433978 0.52417051]\n",
      "ninvjob_geometry:\t<scarf.Geometry object at 0x1554914c92b0>\n",
      "OBD_type:\tOBD\n",
      "BMARG_LIBDIR:\t/global/cscratch1/sd/sebibel/cmbs4/OBD_matrices/08d/r10/\n",
      "BMARG_LCUT:\t200\n",
      "BMARG_RESCALE:\t1.2137316862970415\n",
      "tpl:\t<class 'lenscarf.opfilt.bmodes_ninv.template_dense'>\n",
      "tpl_kwargs:\t{'lmax_marg': 200, 'geom': <scarf.Geometry object at 0x1554914c92b0>, 'sht_threads': 16, '_lib_dir': '/global/cscratch1/sd/sebibel/cmbs4/OBD_matrices/08d/r10/', 'rescal': 1.2137316862970415}\n",
      "lmin_tlm:\t30\n",
      "lmin_elm:\t30\n",
      "lmin_blm:\t30\n",
      "CENTRALNLEV_UKAMIN:\t0.65\n",
      "nlev_t:\t0.4596194077712559\n",
      "nlev_p:\t0.65\n",
      "nlev_dep:\t10000.0\n",
      "inf:\t10000.0\n",
      "masks:\t([array([0., 0., 0., ..., 0., 0., 0.], dtype=float32), array([0., 0., 0., ..., 0., 0., 0.])], array([0., 0., 0., ..., 0., 0., 0.], dtype=float32))\n",
      "rhits_normalised:\t('/global/project/projectdirs/cmbs4/awg/lowellbb/reanalysis/mapphi_intermediate/s08d/masks/08d_rhits_positive_nonan.fits', 10)\n",
      "lmax_qlm:\t4000\n",
      "mmax_qlm:\t4000\n",
      "cg_tol:\t0.0003\n",
      "chain_model:\t\tp0:\t0\n",
      "\tp1:\t['diag_cl']\n",
      "\tp2:\tNone\n",
      "\tp3:\t2048\n",
      "\tp4:\tinf\n",
      "\tp5:\tNone\n",
      "\tp6:\ttr_cg\n",
      "\tp7:\tcache_mem\n",
      "\n",
      "chain_descr:\t<function l2lensrec_Transformer.build_v2.<locals>._process_Qerec.<locals>.<lambda> at 0x15548cb49200>\n",
      "ninvjob_qe_geometry:\t<scarf.Geometry object at 0x15548cb3f6f0>\n",
      "ninv_t:\t[array([0., 0., 0., ..., 0., 0., 0.])]\n",
      "ninvt_desc:\t[array([0., 0., 0., ..., 0., 0., 0.])]\n",
      "ninv_p:\t[array([0., 0., 0., ..., 0., 0., 0.])]\n",
      "ninvp_desc:\t[array([0., 0., 0., ..., 0., 0., 0.])]\n",
      "cinv_t:\t<plancklens.filt.filt_cinv.cinv_t object at 0x15548cab11d0>\n",
      "cinv_p:\t<lenscarf.opfilt.utils_cinv_p.cinv_p object at 0x15548cb3f110>\n",
      "ivfs_raw:\t<plancklens.filt.filt_cinv.library_cinv_sepTP object at 0x15548cab1390>\n",
      "ftl_rs:\t[0. 0. 0. ... 1. 1. 1.]\n",
      "fel_rs:\t[0. 0. 0. ... 1. 1. 1.]\n",
      "fbl_rs:\t[0. 0. 0. ... 1. 1. 1.]\n",
      "ivfs:\t<plancklens.filt.filt_util.library_ftl object at 0x15549106ec50>\n",
      "qlms_dd:\t<plancklens.qest.library object at 0x15548cb3f050>\n",
      "QE_LENSING_CL_ANALYSIS:\tFalse\n",
      "cpp:\t[0.00000000e+00 0.00000000e+00 0.00000000e+00 ... 1.83803472e-23\n",
      " 1.83546046e-23 1.83288998e-23]\n",
      "FILTER:\topfilt_ee_wl.alm_filter_ninv_wl\n",
      "tasks:\t['calc_phi', 'calc_meanfield', 'calc_btemplate']\n",
      "tol_iter:\t<function l2lensrec_Transformer.build_v2.<locals>._process_Itrec.<locals>.<lambda> at 0x15548ca845f0>\n",
      "soltn_cond:\t<function <lambda> at 0x15549107f560>\n",
      "lenjob_geometry:\t<scarf.Geometry object at 0x15548cab1470>\n",
      "lenjob_pbgeometry:\t<lenscarf.utils_scarf.pbdGeometry object at 0x15548ca51b90>\n",
      "iterator_typ:\tconstmf\n",
      "mfvar:\tNone\n",
      "stepper_model:\t\ttyp:\tharmonicbump\n",
      "\tlmax_qlm:\t-1\n",
      "\tmmax_qlm:\t-1\n",
      "\txa:\t400\n",
      "\txb:\t1500\n",
      "\n",
      "stepper:\t<lenscarf.iterators.steps.harmonicbump object at 0x15548ca51750>\n",
      "mf_dirname:\t/global/cscratch1/sd/sebibel/dlensalot/lenscarf/data_08d/ILC_May2022_00_OBD_r10_tol5e5/mf_010\n",
      "---------------------------------------------------\n",
      "\n",
      "INFO:: 07-01 07:40:: lenscarf.lerepi.core.transformer.lerepi2dlensalot.log - build_v2() finished\n",
      "INFO:: 07-01 07:40:: lenscarf.lerepi.core.handler.init_job - transform done\n",
      "INFO:: 07-01 07:40:: lenscarf.lerepi.core.handler.init_job - model init started\n",
      "INFO:: 07-01 07:40:: lenscarf.lerepi.core.handler.init_job - model init done\n",
      "INFO:: 07-01 07:40:: lenscarf.lerepi.core.handler.init_job - collect_jobs started\n",
      "INFO:: 07-01 07:40:: lenscarf.core.handler.log - collect_jobs() start\n",
      "INFO:: 07-01 07:40:: lenscarf.core.handler.log - collect_jobs() started: id=, overwrite_libdir=None\n",
      "INFO:: 07-01 07:40:: lenscarf.core.handler.log - collect_jobs() finished: jobs=[]\n",
      "INFO:: 07-01 07:40:: lenscarf.core.handler.log - collect_jobs() started: id=, overwrite_libdir=None\n",
      "INFO:: 07-01 07:40:: lenscarf.core.handler.log - collect_jobs() finished: jobs=[]\n",
      "INFO:: 07-01 07:40:: lenscarf.core.handler.collect_jobs - Waiting for all ransk to finish their task\n",
      "INFO:: 07-01 07:40:: lenscarf.core.handler.log - collect_jobs() started: id=, overwrite_libdir=None\n",
      "INFO:: 07-01 07:40:: lenscarf.core.handler.log - collect_jobs() finished: jobs=[]\n",
      "INFO:: 07-01 07:40:: lenscarf.core.handler.collect_jobs - Waiting for all ranks to finish their task\n",
      "INFO:: 07-01 07:40:: lenscarf.core.handler.log - collect_jobs() finished\n",
      "INFO:: 07-01 07:40:: lenscarf.lerepi.core.handler.init_job - collect_jobs done\n",
      "INFO:: 07-01 07:40:: lenscarf.lerepi.core.handler.log - init_job() Finished\n"
     ]
    },
    {
     "data": {
      "text/plain": [
       "<lenscarf.core.handler.MAP_lr at 0x15549135f6d0>"
      ]
     },
     "execution_count": 1,
     "metadata": {},
     "output_type": "execute_result"
    }
   ],
   "source": [
    "import numpy as np\n",
    "import healpy as hp\n",
    "import matplotlib.pyplot as plt\n",
    "\n",
    "from lenscarf.run import run\n",
    "\n",
    "interactive = run(config='/global/cscratch1/sd/sebibel/dlensalot/lenscarf/data_08d/ILC_May2022_00_OBD_r10_tol5e5/c08d_v2.py', job_id='MAP_lensrec')"
   ]
  },
  {
   "cell_type": "markdown",
   "id": "531259de",
   "metadata": {},
   "source": [
    "## Now you have full access to all D.lensalot objects "
   ]
  },
  {
   "cell_type": "code",
   "execution_count": 2,
   "id": "b66990c1-3b6c-4c94-9177-c4394982f3e1",
   "metadata": {},
   "outputs": [
    {
     "data": {
      "text/plain": [
       "<lenscarf.core.handler.MAP_lr at 0x15549135f6d0>"
      ]
     },
     "execution_count": 2,
     "metadata": {},
     "output_type": "execute_result"
    }
   ],
   "source": [
    "interactive.job"
   ]
  },
  {
   "cell_type": "code",
   "execution_count": 4,
   "id": "1a598fcb-e9c7-4e7f-955b-bcc98424357e",
   "metadata": {
    "tags": []
   },
   "outputs": [
    {
     "data": {
      "image/png": "[encoded data removed]",
      "text/plain": [
       "<Figure size 432x288 with 1 Axes>"
      ]
     },
     "metadata": {
      "needs_background": "light"
     },
     "output_type": "display_data"
    }
   ],
   "source": [
    "plt.plot(hp.alm2cl(interactive.job.dlensalot_model.ivfs.get_sim_emliklm(0)))\n",
    "plt.plot(hp.alm2cl(interactive.job.dlensalot_model.ivfs.get_sim_bmliklm(0)))\n",
    "plt.xscale('log')\n",
    "plt.yscale('log')\n",
    "# job.dlensalot_model.cinv_p"
   ]
  },
  {
   "cell_type": "code",
   "execution_count": 23,
   "id": "88ab7769-aa37-4051-9aef-d77c3f4726fc",
   "metadata": {},
   "outputs": [
    {
     "data": {
      "image/png": "[encoded data removed]",
      "text/plain": [
       "<Figure size 612x388.8 with 2 Axes>"
      ]
     },
     "metadata": {
      "needs_background": "light"
     },
     "output_type": "display_data"
    }
   ],
   "source": [
    "from lenscarf.utils import read_map\n",
    "hp.mollview(read_map(job.dlensalot_model.cinv_p.ninv))#-read_map(parfile.cinv_p.ninv))"
   ]
  },
  {
   "cell_type": "code",
   "execution_count": 5,
   "id": "524932e5-2c94-4032-945a-7f918a0208da",
   "metadata": {},
   "outputs": [
    {
     "data": {
      "text/plain": [
       "{'lib_dir': '/global/cscratch1/sd/sebibel/cmbs4/08d_00_rNone_isOBD_MF100_OBDtest2/cinv_p',\n",
       " 'lmax': 3000,\n",
       " 'nside': 2048,\n",
       " 'cl': {'tt': array([0.00000000e+00, 3.15384486e+03, 1.08437306e+03, ...,\n",
       "         4.73193243e-08, 4.72884497e-08, 4.72312005e-08]),\n",
       "  'ee': array([0.00000000e+00, 0.00000000e+00, 3.62435072e-02, ...,\n",
       "         5.94198156e-10, 5.93471562e-10, 5.93194004e-10]),\n",
       "  'bb': array([0.00000000e+00, 0.00000000e+00, 1.97459570e-06, ...,\n",
       "         3.76402516e-10, 3.76293414e-10, 3.75748914e-10]),\n",
       "  'te': array([ 0.00000000e+00,  0.00000000e+00,  2.93875049e+00, ...,\n",
       "         -7.69387920e-10, -7.68650143e-10, -7.67912762e-10])},\n",
       " 'transf': array([1.        , 0.99999992, 0.99999976, ..., 0.69566554, 0.69549715,\n",
       "        0.69532874]),\n",
       " 'ninv': [[array([8.47641977]),\n",
       "   '/global/cscratch1/sd/sebibel/cmbs4/08d_ninv_truncified.fits']],\n",
       " 'n_inv_filt': <plancklens.qcinv.util.jit at 0x155511d5a8d0>,\n",
       " 'chain': <plancklens.qcinv.util.jit at 0x155511d5a610>}"
      ]
     },
     "execution_count": 5,
     "metadata": {},
     "output_type": "execute_result"
    }
   ],
   "source": [
    "job.dlensalot_model.cinv_p.__dict__"
   ]
  }
 ],
 "metadata": {
  "kernelspec": {
   "display_name": "Python 3.7.11 ('py3.7': conda)",
   "language": "python",
   "name": "python3"
  },
  "language_info": {
   "codemirror_mode": {
    "name": "ipython",
    "version": 3
   },
   "file_extension": ".py",
   "mimetype": "text/x-python",
   "name": "python",
   "nbconvert_exporter": "python",
   "pygments_lexer": "ipython3",
   "version": "3.7.11"
  },
  "vscode": {
   "interpreter": {
    "hash": "66ced08a5998eef429c58b9354be0d5077119143d9d6c1c2663dd0aea6e3799b"
   }
  }
 },
 "nbformat": 4,
 "nbformat_minor": 5
}
