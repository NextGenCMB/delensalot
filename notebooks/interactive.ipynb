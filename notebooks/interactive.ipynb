{
 "cells": [
  {
   "cell_type": "markdown",
   "id": "7339e9b4-9187-4181-82fe-76cc47f93161",
   "metadata": {},
   "source": [
    "# Interact with  `D.lensalot`\n",
    "This notebook serves as starting point on how to interact with `D.lensalot` interactively, i.e. Jobs are loaded and all `D.lensalot` object are accessible"
   ]
  },
  {
   "cell_type": "markdown",
   "id": "b2f24c79",
   "metadata": {},
   "source": [
    "# Header"
   ]
  },
  {
   "cell_type": "code",
   "execution_count": 1,
   "id": "fa0679f4-94e2-46f6-89f6-4d7ca782d3b3",
   "metadata": {},
   "outputs": [
    {
     "name": "stdout",
     "output_type": "stream",
     "text": [
      "cond4mpi does not exists\n",
      "could not setup healpix hack. reverting to standard healpy\n",
      "MSC: using scarf with 2 OMP threads\n"
     ]
    }
   ],
   "source": [
    "import os\n",
    "from os.path import join as opj\n",
    "import numpy as np\n",
    "import healpy as hp\n",
    "\n",
    "import matplotlib.pyplot as plt\n",
    "\n",
    "import lenscarf\n",
    "from lenscarf.run import run"
   ]
  },
  {
   "cell_type": "markdown",
   "id": "89997871",
   "metadata": {},
   "source": [
    "# Choose analysis"
   ]
  },
  {
   "cell_type": "code",
   "execution_count": 3,
   "id": "15f61a75-9182-4379-bc43-3c0a7398e34b",
   "metadata": {},
   "outputs": [
    {
     "name": "stdout",
     "output_type": "stream",
     "text": [
      "WARNING:: 01-30 23:20:: root.store - config file /pscratch/sd/s/sebibel/dlensalot/n32/sims_postborn/sims_postborn_lminB200_postborn_GF/conf_mwe_GF.py already exist. Checking differences.\n",
      "5120 5120\n",
      " [00:02:13] collecting bands > 00%\n",
      "5120 5120\n",
      " [00:02:09] collecting bands > 00%\n",
      "5120 5120\n",
      " [00:02:13] collecting bands > 00%\n",
      "5120 5120\n",
      " [00:02:09] collecting bands > 00%\n"
     ]
    }
   ],
   "source": [
    "fn = opj(os.path.dirname(os.path.abspath(lenscarf.__file__)),'ana/config/examples/mwe/conf_mwe_GF.py')\n",
    "# fn = '/pscratch/sd/s/sebibel/dlensalot/n32/sims_postborn/sims_postborn_lminB200_postborn_GF/conf_mwe_GF.py'\n",
    "ana_mwe = run(config=fn, job_id='QE_lensrec', verbose=False).job\n",
    "ana_mwe.run()"
   ]
  },
  {
   "cell_type": "code",
   "execution_count": null,
   "id": "1e55462f-8d70-43af-8659-3a3994db820c",
   "metadata": {},
   "outputs": [
    {
     "name": "stdout",
     "output_type": "stream",
     "text": [
      "INFO:: 01-31 15:19:: lenscarf.lerepi.core.handler.log - load_configfile() Started: /global/u2/s/sebibel/git/lenscarf/lenscarf/ana/config/examples/mwe/conf_mwe_GF.py\n",
      "INFO:: 01-31 15:19:: lenscarf.lerepi.core.handler.log - load_configfile() Finished\n",
      "INFO:: 01-31 15:19:: lenscarf.lerepi.core.handler.log - store() Started\n",
      "WARNING:: 01-31 15:19:: root.store - config file /pscratch/sd/s/sebibel/dlensalot/n32/sims_postborn/sims_postborn_lminB200_postborn_GF/conf_mwe_GF.py already exist. Checking differences.\n",
      "INFO:: 01-31 15:19:: lenscarf.lerepi.core.handler.log - load_configfile() Started: /pscratch/sd/s/sebibel/dlensalot/n32/sims_postborn/sims_postborn_lminB200_postborn_GF/conf_mwe_GF.py\n",
      "INFO:: 01-31 15:19:: lenscarf.lerepi.core.handler.log - load_configfile() Finished\n",
      "INFO:: 01-31 15:19:: root.store - config file look the same. Resuming where I left off last time.\n",
      "INFO:: 01-31 15:19:: root.store - Matching config file found. Resuming where I left off.\n",
      "INFO:: 01-31 15:19:: lenscarf.lerepi.core.handler.log - store() Finished\n",
      "INFO:: 01-31 15:19:: lenscarf.lerepi.core.handler.log - collect_jobs() Started\n",
      "INFO:: 01-31 15:19:: lenscarf.lerepi.core.handler.log - collect_jobs() Finished\n",
      "INFO:: 01-31 15:19:: lenscarf.lerepi.core.handler.log - get_jobs() Started\n",
      "INFO:: 01-31 15:19:: lenscarf.lerepi.core.handler.log - get_jobs() Finished\n",
      "INFO:: 01-31 15:19:: lenscarf.lerepi.core.handler.log - init_job() Started\n",
      "INFO:: 01-31 15:19:: lenscarf.lerepi.core.handler.init_job - transform started\n",
      "INFO:: 01-31 15:19:: lenscarf.lerepi.core.transformer.lerepi2dlensalot.log - build() started\n",
      "INFO:: 01-31 15:19:: lenscarf.lerepi.core.transformer.lerepi2dlensalot.log - _process_Meta() started\n",
      "INFO:: 01-31 15:19:: lenscarf.lerepi.core.transformer.lerepi2dlensalot.log - _process_Meta() finished\n",
      "INFO:: 01-31 15:19:: lenscarf.lerepi.core.transformer.lerepi2dlensalot.log - _process_Computing() started\n",
      "INFO:: 01-31 15:19:: lenscarf.lerepi.core.transformer.lerepi2dlensalot.log - _process_Computing() finished\n",
      "INFO:: 01-31 15:19:: lenscarf.lerepi.core.transformer.lerepi2dlensalot.log - _process_Analysis() started\n",
      "INFO:: 01-31 15:19:: lenscarf.lerepi.core.transformer.lerepi2dlensalot.log - _process_Analysis() finished\n",
      "INFO:: 01-31 15:19:: lenscarf.lerepi.core.transformer.lerepi2dlensalot.log - _process_Noisemodel() started\n",
      "INFO:: 01-31 15:19:: lenscarf.lerepi.core.transformer.lerepi2dlensalot.log - _process_Noisemodel() finished\n",
      "INFO:: 01-31 15:19:: lenscarf.lerepi.core.transformer.lerepi2dlensalot.log - _process_Data() started\n",
      "INFO:: 01-31 15:19:: lenscarf.lerepi.core.transformer.lerepi2dlensalot.log - _process_Data() finished\n",
      "INFO:: 01-31 15:19:: lenscarf.lerepi.core.transformer.lerepi2dlensalot.log - _process_Qerec() started\n",
      "INFO:: 01-31 15:19:: lenscarf.lerepi.core.transformer.lerepi2dlensalot.log - _process_Qerec() finished\n",
      "INFO:: 01-31 15:19:: lenscarf.lerepi.core.transformer.lerepi2dlensalot.log - _process_Itrec() started\n",
      "INFO:: 01-31 15:19:: lenscarf.lerepi.core.transformer.lerepi2dlensalot.log - _process_Itrec() finished\n",
      "INFO:: 01-31 15:19:: lenscarf.lerepi.core.transformer.lerepi2dlensalot.build - I am going to work with the following values:\n",
      "INFO:: 01-31 15:19:: lenscarf.lerepi.core.transformer.lerepi2dlensalot.build - ---------------------------------------------------\n",
      "dversion:\t\n",
      "tr:\t2\n",
      "k:\tp_p\n",
      "version:\tnoMF\n",
      "simidxs:\t[0 1]\n",
      "simidxs_mf:\t[]\n",
      "Nmf:\t0\n",
      "TEMP_suffix:\tpostborn_GF\n",
      "TEMP:\t/pscratch/sd/s/sebibel/dlensalot/n32/sims_postborn/sims_postborn_lminB200_postborn_GF\n",
      "lm_max_len:\t(4000, 4000)\n",
      "cls_unl:\t{'tt': array([0.00000000e+00, 3.15384486e+03, 1.08426834e+03, ...,\n",
      "       9.66229400e-10, 9.65260803e-10, 9.64292720e-10]), 'ee': array([0.00000000e+00, 0.00000000e+00, 3.62414129e-02, ...,\n",
      "       2.00006407e-12, 1.99423451e-12, 1.98828000e-12]), 'bb': array([0., 0., 0., ..., 0., 0., 0.]), 'te': array([0.00000000e+00, 0.00000000e+00, 2.93875049e+00, ...,\n",
      "       1.40842175e-11, 1.40724986e-11, 1.40607859e-11]), 'pp': array([0.00000000e+00, 5.94954817e-08, 8.92404300e-09, ...,\n",
      "       7.91637420e-25, 7.91001884e-25, 7.90366882e-25]), 'pt': array([0.00000000e+00, 6.20759604e-03, 1.28926184e-03, ...,\n",
      "       2.46796544e-19, 2.46782393e-19, 2.46768224e-19]), 'pe': array([ 0.00000000e+00,  0.00000000e+00, -5.60260517e-06, ...,\n",
      "        2.53157091e-22,  2.53085247e-22,  2.53013434e-22])}\n",
      "cls_len:\t{'tt': array([0.00000000e+00, 3.15384486e+03, 1.08437306e+03, ...,\n",
      "       4.73193243e-08, 4.72884497e-08, 4.72312005e-08]), 'ee': array([0.00000000e+00, 0.00000000e+00, 3.62435072e-02, ...,\n",
      "       5.94198156e-10, 5.93471562e-10, 5.93194004e-10]), 'bb': array([0.00000000e+00, 0.00000000e+00, 1.97459570e-06, ...,\n",
      "       3.76402516e-10, 3.76293414e-10, 3.75748914e-10]), 'te': array([ 0.00000000e+00,  0.00000000e+00,  2.93875049e+00, ...,\n",
      "       -7.69387920e-10, -7.68650143e-10, -7.67912762e-10])}\n",
      "Lmin:\t2\n",
      "zbounds:\t(-1, 1)\n",
      "zbounds_len:\t(-1, 1)\n",
      "pb_ctr:\t-1\n",
      "pb_extent:\t1\n",
      "lm_max_ivf:\t(4000, 4000)\n",
      "lmax_ivf:\t4000\n",
      "sky_coverage:\tisotropic\n",
      "spectrum_type:\twhite\n",
      "lmin_teb:\t(10, 10, 200)\n",
      "OBD:\tFalse\n",
      "tpl:\tNone\n",
      "tpl_kwargs:\t{}\n",
      "lmin_tlm:\t10\n",
      "lmin_elm:\t10\n",
      "lmin_blm:\t200\n",
      "nlev_t:\t0.17677669529663687\n",
      "nlev_p:\t0.25\n",
      "_sims:\t<n32.sims.sims_postborn.sims_postborn object at 0x15481787e790>\n",
      "sims:\t<plancklens.sims.maps.cmb_maps_nlev object at 0x154812f34790>\n",
      "transferfunction:\tgauss_with_pixwin\n",
      "transf_tlm:\t[0.         0.         0.         ... 0.72812091 0.72800689 0.72789286]\n",
      "transf_elm:\t[0.         0.         0.         ... 0.72812091 0.72800689 0.72789286]\n",
      "transf_blm:\t[0.         0.         0.         ... 0.72812091 0.72800689 0.72789286]\n",
      "ftl:\t[     0.              0.              0.         ... 805450.21572979\n",
      " 807278.87329776 809163.17688153]\n",
      "fel:\t[       0.                0.                0.         ...\n",
      " 22629830.93941594 22666772.5252331  22703605.29234737]\n",
      "fbl:\t[       0.                0.                0.         ...\n",
      " 71905635.1656291  71909088.68589267 71914452.94451585]\n",
      "ftl_unl:\t[      0.               0.               0.         ... 1672123.75841255\n",
      " 1679560.44733539 1687162.987889  ]\n",
      "fel_unl:\t[       0.                0.                0.         ...\n",
      " 31909934.75770802 31913941.84704998 31918325.14965133]\n",
      "fbl_unl:\t[0.00000000e+00 0.00000000e+00 0.00000000e+00 ... 1.00247779e+08\n",
      " 1.00216384e+08 1.00184992e+08]\n",
      "btemplate_perturbative_lensremap:\tTrue\n",
      "qe_tasks:\t['calc_phi', 'calc_meanfield', 'calc_blt']\n",
      "QE_subtract_meanfield:\tFalse\n",
      "qe_lm_max_qlm:\t(4000, 4000)\n",
      "lm_max_qlm:\t(4000, 4000)\n",
      "qe_lmax_qlm:\t4000\n",
      "lmax_qlm:\t4000\n",
      "mmax_qlm:\t4000\n",
      "ninvjob_qe_geometry:\t<scarf.Geometry object at 0x154816fabeb0>\n",
      "qe_filter_directional:\tisotropic\n",
      "ivfs:\t<plancklens.filt.filt_simple.library_fullsky_sepTP object at 0x15481744e110>\n",
      "qlms_dd:\t<plancklens.qest.library object at 0x154816fad890>\n",
      "cg_tol:\t<function l2lensrec_Transformer.build.<locals>._process_Itrec.<locals>.<lambda> at 0x154812ee8440>\n",
      "chain_model:\t\t p0:\t0(type:<class 'int'>)\n",
      "\t p1:\t['diag_cl'](type:<class 'list'>)\n",
      "\t p2:\tNone(type:<class 'NoneType'>)\n",
      "\t p3:\t2048(type:<class 'int'>)\n",
      "\t p4:\tinf(type:<class 'float'>)\n",
      "\t p5:\tNone(type:<class 'NoneType'>)\n",
      "\t p6:\ttr_cg(type:<class 'str'>)\n",
      "\t p7:\tcache_mem(type:<class 'str'>)\n",
      "\n",
      "chain_descr:\t<function l2lensrec_Transformer.build.<locals>._process_Qerec.<locals>.<lambda> at 0x154812ee84d0>\n",
      "cl_analysis:\tFalse\n",
      "it_tasks:\t['calc_phi', 'calc_meanfield']\n",
      "lm_max_unl:\t(4000, 4000)\n",
      "lmax_unl:\t4000\n",
      "mmax_unl:\t4000\n",
      "it_lm_max_qlm:\t(4000, 4000)\n",
      "lenjob_pbgeometry:\t<lenscarf.utils_scarf.pbdGeometry object at 0x154812e34cd0>\n",
      "lenjob_geometry:\t<scarf.Geometry object at 0x154812efb730>\n",
      "mf_dirname:\t/pscratch/sd/s/sebibel/dlensalot/n32/sims_postborn/sims_postborn_lminB200_postborn_GF/mf_Nmf000\n",
      "it_filter_directional:\tisotropic\n",
      "sims_MAP:\t<plancklens.sims.maps.cmb_maps_nlev object at 0x154812f34790>\n",
      "itmax:\t10\n",
      "iterator_typ:\tconstmf\n",
      "lensres:\t0.8\n",
      "mfvar:\tNone\n",
      "soltn_cond:\t<function DLENSALOT_Itrec.<lambda> at 0x154812f5a3b0>\n",
      "stepper_model:\t\t typ:\tharmonicbump(type:<class 'str'>)\n",
      "\t lmax_qlm:\t4000(type:<class 'int'>)\n",
      "\t mmax_qlm:\t4000(type:<class 'int'>)\n",
      "\t xa:\t400(type:<class 'int'>)\n",
      "\t xb:\t1500(type:<class 'int'>)\n",
      "\n",
      "stepper:\t<lenscarf.iterators.steps.harmonicbump object at 0x154812eee7d0>\n",
      "cpp:\t[0.00000000e+00 0.00000000e+00 8.92404300e-09 ... 1.83803472e-23\n",
      " 1.83546046e-23 1.83288998e-23]\n",
      "---------------------------------------------------\n",
      "\n",
      "INFO:: 01-31 15:19:: lenscarf.lerepi.core.transformer.lerepi2dlensalot.log - build() finished\n",
      "INFO:: 01-31 15:19:: lenscarf.lerepi.core.handler.init_job - transform done\n",
      "INFO:: 01-31 15:19:: lenscarf.lerepi.core.handler.init_job - model init started\n",
      "INFO:: 01-31 15:19:: lenscarf.lerepi.core.handler.init_job - model init done\n",
      "INFO:: 01-31 15:19:: lenscarf.lerepi.core.handler.init_job - collect_jobs started\n",
      "INFO:: 01-31 15:19:: lenscarf.core.handler.log - collect_jobs() start\n",
      "INFO:: 01-31 15:19:: lenscarf.core.handler.log - collect_jobs() started: id=calc_phi\n",
      "INFO:: 01-31 15:19:: lenscarf.core.handler.log - collect_jobs() finished: jobs=[[], [], [], [], [], [], [], []]\n",
      "INFO:: 01-31 15:19:: lenscarf.core.handler.log - collect_jobs() started: id=calc_meanfield\n",
      "INFO:: 01-31 15:19:: lenscarf.core.handler.log - collect_jobs() finished: jobs=[[], [], [], [], [], [], [], [], [], [], [], [], [], []]\n",
      "INFO:: 01-31 15:19:: lenscarf.core.handler.collect_jobs - Waiting for all ranks to finish their task\n",
      "INFO:: 01-31 15:19:: lenscarf.core.handler.log - collect_jobs() finished\n",
      "INFO:: 01-31 15:19:: lenscarf.lerepi.core.handler.init_job - collect_jobs done\n",
      "INFO:: 01-31 15:19:: lenscarf.lerepi.core.handler.log - init_job() Finished\n",
      "INFO:: 01-31 15:19:: lenscarf.core.handler.log - run() started\n",
      "INFO:: 01-31 15:19:: lenscarf.core.handler.run - 0, task calc_phi started\n",
      "INFO:: 01-31 15:19:: lenscarf.core.handler.log - run() started\n",
      "INFO:: 01-31 15:19:: lenscarf.core.handler.run - 0, task calc_phi started\n",
      "INFO:: 01-31 15:19:: lenscarf.core.handler.log - run() finished\n",
      "INFO:: 01-31 15:19:: lenscarf.core.handler.log - get_wflm(0) started\n",
      "INFO:: 01-31 15:19:: lenscarf.core.handler.log - get_wflm(0) finished\n",
      "INFO:: 01-31 15:19:: lenscarf.core.handler.log - get_meanfield(0) started\n",
      "INFO:: 01-31 15:19:: lenscarf.core.handler.log - get_meanfield(0) finished\n",
      "INFO:: 01-31 15:19:: lenscarf.core.handler.log - get_plm(0) started\n",
      "INFO:: 01-31 15:19:: lenscarf.core.handler.log - get_plm(0) finished\n",
      "INFO:: 01-31 15:19:: lenscarf.remapping.__init__ -  Deflection std 0.00e+00 amin\n",
      "INFO:: 01-31 15:19:: lenscarf.iterators.iteration_handler.log - get_datmaps() started\n",
      "INFO:: 01-31 15:19:: lenscarf.remapping.__init__ -  Deflection std 4.85e+00 amin\n",
      " [00:02:06] collecting bands > 00%\n",
      "INFO:: 01-31 15:21:: lenscarf.remapping.__init__ -  Deflection std 4.85e+00 amin\n"
     ]
    }
   ],
   "source": [
    "fn = opj(os.path.dirname(os.path.abspath(lenscarf.__file__)),'ana/config/examples/mwe/conf_mwe_GF.py')\n",
    "ana_mwe = run(config=fn, job_id='MAP_lensrec', verbose=True).job\n",
    "ana_mwe.run()"
   ]
  },
  {
   "cell_type": "markdown",
   "id": "531259de",
   "metadata": {},
   "source": [
    "## Now you have full access to all D.lensalot objects "
   ]
  },
  {
   "cell_type": "code",
   "execution_count": 6,
   "id": "e9ef976b-1152-4ca0-b2e4-d4b20fe62f06",
   "metadata": {},
   "outputs": [
    {
     "ename": "AttributeError",
     "evalue": "'MAP_lr' object has no attribute 'get_plm'",
     "output_type": "error",
     "traceback": [
      "\u001b[0;31m---------------------------------------------------------------------------\u001b[0m",
      "\u001b[0;31mAttributeError\u001b[0m                            Traceback (most recent call last)",
      "\u001b[0;32m/tmp/ipykernel_179742/1772438968.py\u001b[0m in \u001b[0;36m<module>\u001b[0;34m\u001b[0m\n\u001b[0;32m----> 1\u001b[0;31m \u001b[0mplm_QE\u001b[0m \u001b[0;34m=\u001b[0m \u001b[0mana_mwe\u001b[0m\u001b[0;34m.\u001b[0m\u001b[0mget_plm\u001b[0m\u001b[0;34m(\u001b[0m\u001b[0;36m0\u001b[0m\u001b[0;34m)\u001b[0m\u001b[0;34m\u001b[0m\u001b[0;34m\u001b[0m\u001b[0m\n\u001b[0m\u001b[1;32m      2\u001b[0m \u001b[0;31m# plm_MAP = ana_mwe.get_plm_it(ana_mwe.itmax)\u001b[0m\u001b[0;34m\u001b[0m\u001b[0;34m\u001b[0m\u001b[0;34m\u001b[0m\u001b[0m\n\u001b[1;32m      3\u001b[0m \u001b[0mll\u001b[0m \u001b[0;34m=\u001b[0m \u001b[0mnp\u001b[0m\u001b[0;34m.\u001b[0m\u001b[0marange\u001b[0m\u001b[0;34m(\u001b[0m\u001b[0;36m0\u001b[0m\u001b[0;34m,\u001b[0m\u001b[0;36m4001\u001b[0m\u001b[0;34m,\u001b[0m\u001b[0;36m1\u001b[0m\u001b[0;34m)\u001b[0m\u001b[0;34m\u001b[0m\u001b[0;34m\u001b[0m\u001b[0m\n\u001b[1;32m      4\u001b[0m \u001b[0mscale_factor\u001b[0m \u001b[0;34m=\u001b[0m \u001b[0;34m(\u001b[0m\u001b[0mll\u001b[0m\u001b[0;34m*\u001b[0m\u001b[0;34m(\u001b[0m\u001b[0mll\u001b[0m\u001b[0;34m+\u001b[0m\u001b[0;36m1\u001b[0m\u001b[0;34m)\u001b[0m\u001b[0;34m)\u001b[0m\u001b[0;34m**\u001b[0m\u001b[0;36m2\u001b[0m\u001b[0;34m/\u001b[0m\u001b[0;34m(\u001b[0m\u001b[0;36m2\u001b[0m\u001b[0;34m*\u001b[0m\u001b[0mnp\u001b[0m\u001b[0;34m.\u001b[0m\u001b[0mpi\u001b[0m\u001b[0;34m)\u001b[0m\u001b[0;34m\u001b[0m\u001b[0;34m\u001b[0m\u001b[0m\n\u001b[1;32m      5\u001b[0m \u001b[0mplt\u001b[0m\u001b[0;34m.\u001b[0m\u001b[0mplot\u001b[0m\u001b[0;34m(\u001b[0m\u001b[0mscale_factor\u001b[0m\u001b[0;34m*\u001b[0m\u001b[0mhp\u001b[0m\u001b[0;34m.\u001b[0m\u001b[0malm2cl\u001b[0m\u001b[0;34m(\u001b[0m\u001b[0mplm_QE\u001b[0m\u001b[0;34m)\u001b[0m\u001b[0;34m,\u001b[0m \u001b[0mlabel\u001b[0m\u001b[0;34m=\u001b[0m\u001b[0;34mr'$C_L^{\\hat{\\phi}^{\\rm QE}\\hat{\\phi}^{\\rm QE}}$'\u001b[0m\u001b[0;34m)\u001b[0m\u001b[0;34m\u001b[0m\u001b[0;34m\u001b[0m\u001b[0m\n",
      "\u001b[0;31mAttributeError\u001b[0m: 'MAP_lr' object has no attribute 'get_plm'"
     ]
    }
   ],
   "source": [
    "plm_QE = ana_mwe.get_plm(0)\n",
    "# plm_MAP = ana_mwe.get_plm_it(ana_mwe.itmax)\n",
    "ll = np.arange(0,4001,1)\n",
    "scale_factor = (ll*(ll+1))**2/(2*np.pi)\n",
    "plt.plot(scale_factor*hp.alm2cl(plm_QE), label=r'$C_L^{\\hat{\\phi}^{\\rm QE}\\hat{\\phi}^{\\rm QE}}$')\n",
    "plt.plot(scale_factor*ana_mwe.cpp, label=r'$C_L^{\\phi\\phi,{\\rm fid}}$')\n",
    "# plt.plot(hp.alm2cl(plm_MAP)*np.arange(0,4001,1)**4/(2*np.pi), label=r'$C_L^{\\phi^{\\rm MAP}\\phi^{\\rm MAP}}$')\n",
    "\n",
    "plt.legend(fontsize=20)\n",
    "plt.xlabel('Multipole, L', fontsize=14)\n",
    "plt.ylabel(r'$\\left[L(L+1)\\right]^2/(2\\pi)$', fontsize=14)\n",
    "plt.xscale('log')\n",
    "plt.xlim(1,1e3)\n",
    "plt.ylim(1e-8,5e-7)\n",
    "plt.yscale('log')"
   ]
  },
  {
   "cell_type": "code",
   "execution_count": null,
   "id": "98387959",
   "metadata": {},
   "outputs": [],
   "source": []
  }
 ],
 "metadata": {
  "kernelspec": {
   "display_name": "py3.7p",
   "language": "python",
   "name": "py3.7p"
  },
  "language_info": {
   "codemirror_mode": {
    "name": "ipython",
    "version": 3
   },
   "file_extension": ".py",
   "mimetype": "text/x-python",
   "name": "python",
   "nbconvert_exporter": "python",
   "pygments_lexer": "ipython3",
   "version": "3.7.11"
  },
  "vscode": {
   "interpreter": {
    "hash": "916dbcbb3f70747c44a77c7bcd40155683ae19c65e1c03b4aa3499c5328201f1"
   }
  }
 },
 "nbformat": 4,
 "nbformat_minor": 5
}
