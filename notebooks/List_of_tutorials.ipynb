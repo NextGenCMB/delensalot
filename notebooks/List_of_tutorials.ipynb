{
 "cells": [
  {
   "cell_type": "markdown",
   "id": "849b2ef8-f3ac-44ea-ab42-1f1d849d5682",
   "metadata": {},
   "source": [
    "# Basetutorial"
   ]
  },
  {
   "cell_type": "markdown",
   "id": "d829aa5e-1a48-46d8-950e-c1db267a00bc",
   "metadata": {},
   "source": [
    "## Possible tutorials\n",
    " * Baseusage temperature / polarisation / combination\n",
    "     * Load data / masks\n",
    "     * Calculate responses, N0, biases, etc.\n",
    "     * Calculate Btemplate\n",
    "     * Calculate Lensingpotential\n",
    "     * Calculate Meanfield\n",
    "     * Calculate delensing efficiency\n",
    "     * Calculate delensed maps\n",
    " * Vary\n",
    "     * Apply different filters\n",
    "     * Apply different masks\n",
    "     * Apply different XXX\n",
    " * Evaluate\n",
    "     * Calculate Likelihood"
   ]
  }
 ],
 "metadata": {
  "kernelspec": {
   "display_name": "py3.7",
   "language": "python",
   "name": "py3.7"
  },
  "language_info": {
   "codemirror_mode": {
    "name": "ipython",
    "version": 3
   },
   "file_extension": ".py",
   "mimetype": "text/x-python",
   "name": "python",
   "nbconvert_exporter": "python",
   "pygments_lexer": "ipython3",
   "version": "3.7.11"
  }
 },
 "nbformat": 4,
 "nbformat_minor": 5
}
