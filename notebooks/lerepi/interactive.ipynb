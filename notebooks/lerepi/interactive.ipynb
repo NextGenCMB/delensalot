{
 "cells": [
  {
   "cell_type": "markdown",
   "id": "7339e9b4-9187-4181-82fe-76cc47f93161",
   "metadata": {},
   "source": [
    "# Interact with lerepi"
   ]
  },
  {
   "cell_type": "code",
   "execution_count": 7,
   "id": "fa0679f4-94e2-46f6-89f6-4d7ca782d3b3",
   "metadata": {},
   "outputs": [
    {
     "name": "stderr",
     "output_type": "stream",
     "text": [
      "INFO:lenscarf.lerepi.core.handler:store() Finished\n",
      "INFO:lenscarf.lerepi.core.handler:collect_jobs() Started\n",
      "INFO:lenscarf.lerepi.core.handler:collect_jobs() Finished\n"
     ]
    }
   ],
   "source": [
    "import logging\n",
    "import numpy as np\n",
    "import matplotlib.pyplot as plt\n",
    "\n",
    "import lenscarf.lerepi as lerepi\n",
    "from lenscarf.lerepi.core.parser import lerepi_parser\n",
    "from lenscarf.lerepi.core import handler\n",
    "import abc\n",
    "import os\n",
    "os.environ.get('OMP_NUM_THREADS', 4)\n",
    "\n",
    "import healpy as hp\n",
    "\n",
    "from lenscarf.utils import read_map\n",
    "from plancklens.qcinv import opfilt_pp\n",
    "\n",
    "class parserclass:\n",
    "    \"\"\"An abstract element base type for the parser formalism.\"\"\"\n",
    "    __metaclass__ = abc.ABCMeta\n",
    "    resume = ''\n",
    "    config_file = ''\n",
    "    purgehashs = ''\n",
    "    status = ''\n",
    "    \n",
    "parser = parserclass()\n",
    "module_path = os.path.dirname(lerepi.__file__)\n",
    "parser.resume =  ''\n",
    "parser.config_file = '{}/config/examples/interactive.py'.format(module_path)\n",
    "\n",
    "lerepi_handler = handler.handler(parser)\n",
    "lerepi_handler.collect_jobs()\n",
    "# lerepi_handler.run()"
   ]
  },
  {
   "cell_type": "code",
   "execution_count": 9,
   "id": "ebd293f8-0a72-4933-85a3-8725baf17b9a",
   "metadata": {},
   "outputs": [
    {
     "name": "stderr",
     "output_type": "stream",
     "text": [
      "INFO:lenscarf.lerepi.core.handler:get_jobs() Started\n",
      "INFO:lenscarf.lerepi.core.handler:get_jobs() Finished\n"
     ]
    },
    {
     "name": "stdout",
     "output_type": "stream",
     "text": [
      "[((DLENSALOT_Model(job=DLENSALOT_Job(QE_lensrec=True, MAP_lensrec=False, inspect_result=False, map_delensing=False, build_OBD=False, OMP_NUM_THREADS=8), analysis=DLENSALOT_Analysis(TEMP_suffix='interactive', K='p_p', V='', ITMAX=12, nsims_mf=100, LENSRES=1.7, Lmin=4, lmax_filt=4000, mmax_unl=4000, lmax_ivf=3000, mmax_ivf=3000, lmin_ivf=10, mmin_ivf=10, lmax_unl=4000, zbounds=('nmr_relative', inf), zbounds_len=('extend', 5.0), pbounds=[1.97, 5.71], STANDARD_TRANSFERFUNCTION=True), data=DLENSALOT_Data(IMIN=0, IMAX=499, class_parameters={'fg': '09'}, package_='lenscarf', module_='lerepi.config.cmbs4.data.data_08b', class_='caterinaILC_May12', beam=2.3, lmax_transf=4000, nside=2048), noisemodel=DLENSALOT_Noisemodel(typ='trunc', BMARG_LIBDIR='/global/project/projectdirs/cmbs4/awg/lowellbb/reanalysis/mapphi_intermediate/s08b/', BMARG_LCUT=200, BMARG_RESCALE=1.4358945138491783, ninvjob_geometry='healpix_geometry', lmin_tlm=30, lmin_elm=30, lmin_blm=30, CENTRALNLEV_UKAMIN=0.42, nlev_t=0.2969848480983499, nlev_p=0.42, nlev_dep=10000.0, inf=10000.0, mask=('nlev', inf), rhits_normalised=('/global/project/projectdirs/cmbs4/awg/lowellbb/reanalysis/mapphi_intermediate/s08b/masks/08b_rhits_positive_nonan.fits', inf), tpl='template_dense'), qerec=DLENSALOT_Qerec(FILTER_QE='sepTP', CG_TOL=0.001, ninvjob_qe_geometry='healpix_geometry_qe', lmax_qlm=4000, mmax_qlm=4000, chain=DLENSALOT_Chaindescriptor(p0=0, p1=['diag_cl'], p2=None, p3=2048, p4=inf, p5=None, p6='tr_cg', p7='cache_mem'), QE_LENSING_CL_ANALYSIS=False, overwrite_libdir='/global/cscratch1/sd/sebibel/cmbs4/s08b/cILC2021_09_lmax4000/'), itrec=DLENSALOT_Itrec(FILTER='opfilt_ee_wl.alm_filter_ninv_wl', TOL=3, lenjob_geometry='thin_gauss', lenjob_pbgeometry='pbdGeometry', iterator_typ='constmf', mfvar='', soltn_cond=<function <lambda> at 0x155533627950>, stepper=DLENSALOT_Stepper(typ='harmonicbump', lmax_qlm=-1, mmax_qlm=-1, xa=400, xb=1500), overwrite_itdir='ffi_p_it%d/', tasks=None), madel=DLENSALOT_Mapdelensing(edges='cmbs4', IMIN=-1, IMAX=-1, dlm_mod=-1, iterations=[12], droplist=array([], dtype=float64), base_mask=-1, nlevels=[1.2, 2, 5, 50], lmax_cl=2048, Cl_fid='ffp10', libdir_it='overwrite')), <lenscarf.lerepi.core.transformer.lerepi2dlensalot.l2lensrec_Transformer object at 0x15548ca7a450>), <class 'lenscarf.core.handler.QE_lr'>)]\n"
     ]
    }
   ],
   "source": [
    "jobs = lerepi_handler.get_jobs()\n",
    "print(jobs)"
   ]
  },
  {
   "cell_type": "code",
   "execution_count": 3,
   "id": "42e1ea9e-9b2f-4c48-af91-3678f8d29224",
   "metadata": {
    "tags": []
   },
   "outputs": [
    {
     "name": "stderr",
     "output_type": "stream",
     "text": [
      "INFO:lerepi.core.handler:Start of init_job()\n",
      "INFO:lerepi.core.handler:transform started\n"
     ]
    },
    {
     "name": "stdout",
     "output_type": "stream",
     "text": [
      "jit: instantiating ctype = <class 'plancklens.qcinv.multigrid.multigrid_chain'>\n",
      "jit: instantiating ctype = <class 'lenscarf.opfilt.bmodes_ninv.eblm_filter_ninv'>\n",
      "*** alm_filter_ninv: switching to same ninv_geometry but with unit weights\n",
      "Loading /global/project/projectdirs/cmbs4/awg/lowellbb/reanalysis/mapphi_intermediate/s08b/tniti.npy\n",
      "**** RESCALING tiniti with 1.4359\n",
      "ninv_febl: using 3.05 uK-amin noise Cl\n",
      "cinv_p::noiseP_uk_arcmin = 0.682\n"
     ]
    },
    {
     "name": "stderr",
     "output_type": "stream",
     "text": [
      "WARNING:healpy:setting the output map dtype to [dtype('float64')]\n",
      "WARNING:healpy:setting the output map dtype to [dtype('>f8')]\n"
     ]
    },
    {
     "name": "stdout",
     "output_type": "stream",
     "text": [
      "Caching sky fractions...\n"
     ]
    },
    {
     "name": "stderr",
     "output_type": "stream",
     "text": [
      "INFO:lerepi.core.handler:transform done\n",
      "INFO:lerepi.core.handler:model init started\n",
      "INFO:lerepi.core.handler:model init done\n",
      "INFO:lerepi.core.handler:collect_jobs started\n",
      "INFO:lerepi.core.handler:collect_jobs done\n",
      "INFO:lerepi.core.handler:Finished init_job()\n"
     ]
    }
   ],
   "source": [
    "job = lerepi_handler.init_job(jobs[0])"
   ]
  },
  {
   "cell_type": "code",
   "execution_count": 4,
   "id": "b66990c1-3b6c-4c94-9177-c4394982f3e1",
   "metadata": {},
   "outputs": [
    {
     "name": "stdout",
     "output_type": "stream",
     "text": [
      "(2048, 3000) [00:01:33] (0, 1.00000000)\n",
      "(2048, 3000) [00:02:32] (1, 0.27854829)\n",
      "(2048, 3000) [00:03:35] (2, 0.12734656)\n",
      "(2048, 3000) [00:04:34] (3, 0.07490872)\n",
      "(2048, 3000) [00:05:32] (4, 0.05025288)\n",
      "(2048, 3000) [00:06:30] (5, 0.03605925)\n",
      "(2048, 3000) [00:07:30] (6, 0.02714171)\n",
      "(2048, 3000) [00:08:31] (7, 0.02093587)\n",
      "(2048, 3000) [00:09:29] (8, 0.01660045)\n",
      "(2048, 3000) [00:10:26] (9, 0.01348617)\n",
      "(2048, 3000) [00:11:24] (10, 0.01116849)\n",
      "(2048, 3000) [00:12:24] (11, 0.00946296)\n",
      "(2048, 3000) [00:13:19] (12, 0.00813747)\n",
      "(2048, 3000) [00:14:15] (13, 0.00703586)\n",
      "(2048, 3000) [00:15:09] (14, 0.00609870)\n",
      "(2048, 3000) [00:16:04] (15, 0.00535796)\n",
      "(2048, 3000) [00:17:00] (16, 0.00475191)\n",
      "(2048, 3000) [00:17:55] (17, 0.00425484)\n",
      "(2048, 3000) [00:18:49] (18, 0.00382529)\n",
      "(2048, 3000) [00:19:46] (19, 0.00344920)\n",
      "(2048, 3000) [00:20:43] (20, 0.00312219)\n",
      "(2048, 3000) [00:21:40] (21, 0.00284074)\n",
      "(2048, 3000) [00:22:38] (22, 0.00256992)\n",
      "(2048, 3000) [00:23:35] (23, 0.00236948)\n",
      "(2048, 3000) [00:24:33] (24, 0.00218804)\n",
      "(2048, 3000) [00:26:25] (25, 0.00202552)\n",
      "(2048, 3000) [00:27:22] (26, 0.00187603)\n",
      "(2048, 3000) [00:28:20] (27, 0.00174450)\n",
      "(2048, 3000) [00:29:17] (28, 0.00162673)\n",
      "(2048, 3000) [00:30:14] (29, 0.00152350)\n",
      "(2048, 3000) [00:31:12] (30, 0.00143424)\n"
     ]
    },
    {
     "ename": "KeyboardInterrupt",
     "evalue": "",
     "output_type": "error",
     "traceback": [
      "\u001b[0;31m---------------------------------------------------------------------------\u001b[0m",
      "\u001b[0;31mKeyboardInterrupt\u001b[0m                         Traceback (most recent call last)",
      "\u001b[0;32m/tmp/ipykernel_60380/4085527379.py\u001b[0m in \u001b[0;36m<module>\u001b[0;34m\u001b[0m\n\u001b[0;32m----> 1\u001b[0;31m \u001b[0mBwf\u001b[0m \u001b[0;34m=\u001b[0m \u001b[0mjob\u001b[0m\u001b[0;34m.\u001b[0m\u001b[0mdlensalot_model\u001b[0m\u001b[0;34m.\u001b[0m\u001b[0mivfs\u001b[0m\u001b[0;34m.\u001b[0m\u001b[0mget_sim_bmliklm\u001b[0m\u001b[0;34m(\u001b[0m\u001b[0;36m0\u001b[0m\u001b[0;34m)\u001b[0m\u001b[0;34m\u001b[0m\u001b[0;34m\u001b[0m\u001b[0m\n\u001b[0m",
      "\u001b[0;32m/global/u2/s/sebibel/git/plancklens/plancklens/filt/filt_util.py\u001b[0m in \u001b[0;36mget_sim_bmliklm\u001b[0;34m(self, idx)\u001b[0m\n\u001b[1;32m     71\u001b[0m \u001b[0;34m\u001b[0m\u001b[0m\n\u001b[1;32m     72\u001b[0m     \u001b[0;32mdef\u001b[0m \u001b[0mget_sim_bmliklm\u001b[0m\u001b[0;34m(\u001b[0m\u001b[0mself\u001b[0m\u001b[0;34m,\u001b[0m \u001b[0midx\u001b[0m\u001b[0;34m)\u001b[0m\u001b[0;34m:\u001b[0m\u001b[0;34m\u001b[0m\u001b[0;34m\u001b[0m\u001b[0m\n\u001b[0;32m---> 73\u001b[0;31m         \u001b[0;32mreturn\u001b[0m \u001b[0mhp\u001b[0m\u001b[0;34m.\u001b[0m\u001b[0malmxfl\u001b[0m\u001b[0;34m(\u001b[0m\u001b[0mutils\u001b[0m\u001b[0;34m.\u001b[0m\u001b[0malm_copy\u001b[0m\u001b[0;34m(\u001b[0m\u001b[0mself\u001b[0m\u001b[0;34m.\u001b[0m\u001b[0mivfs\u001b[0m\u001b[0;34m.\u001b[0m\u001b[0mget_sim_bmliklm\u001b[0m\u001b[0;34m(\u001b[0m\u001b[0midx\u001b[0m\u001b[0;34m)\u001b[0m\u001b[0;34m,\u001b[0m \u001b[0mlmax\u001b[0m\u001b[0;34m=\u001b[0m\u001b[0mself\u001b[0m\u001b[0;34m.\u001b[0m\u001b[0mlmax\u001b[0m\u001b[0;34m)\u001b[0m\u001b[0;34m,\u001b[0m \u001b[0mself\u001b[0m\u001b[0;34m.\u001b[0m\u001b[0mlfilt_b\u001b[0m\u001b[0;34m)\u001b[0m\u001b[0;34m\u001b[0m\u001b[0;34m\u001b[0m\u001b[0m\n\u001b[0m\u001b[1;32m     74\u001b[0m \u001b[0;34m\u001b[0m\u001b[0m\n\u001b[1;32m     75\u001b[0m \u001b[0;34m\u001b[0m\u001b[0m\n",
      "\u001b[0;32m/global/u2/s/sebibel/git/plancklens/plancklens/filt/filt_simple.py\u001b[0m in \u001b[0;36mget_sim_bmliklm\u001b[0;34m(self, idx)\u001b[0m\n\u001b[1;32m    185\u001b[0m \u001b[0;34m\u001b[0m\u001b[0m\n\u001b[1;32m    186\u001b[0m         \"\"\"\n\u001b[0;32m--> 187\u001b[0;31m         \u001b[0;32mreturn\u001b[0m \u001b[0mhp\u001b[0m\u001b[0;34m.\u001b[0m\u001b[0malmxfl\u001b[0m\u001b[0;34m(\u001b[0m\u001b[0mself\u001b[0m\u001b[0;34m.\u001b[0m\u001b[0mget_sim_blm\u001b[0m\u001b[0;34m(\u001b[0m\u001b[0midx\u001b[0m\u001b[0;34m)\u001b[0m\u001b[0;34m,\u001b[0m \u001b[0mself\u001b[0m\u001b[0;34m.\u001b[0m\u001b[0mcl\u001b[0m\u001b[0;34m[\u001b[0m\u001b[0;34m'bb'\u001b[0m\u001b[0;34m]\u001b[0m\u001b[0;34m)\u001b[0m\u001b[0;34m\u001b[0m\u001b[0;34m\u001b[0m\u001b[0m\n\u001b[0m\u001b[1;32m    188\u001b[0m \u001b[0;34m\u001b[0m\u001b[0m\n\u001b[1;32m    189\u001b[0m \u001b[0;34m\u001b[0m\u001b[0m\n",
      "\u001b[0;32m/global/u2/s/sebibel/git/plancklens/plancklens/filt/filt_simple.py\u001b[0m in \u001b[0;36mget_sim_blm\u001b[0;34m(self, idx)\u001b[0m\n\u001b[1;32m    143\u001b[0m             \u001b[0;32melse\u001b[0m\u001b[0;34m:\u001b[0m\u001b[0;34m\u001b[0m\u001b[0;34m\u001b[0m\u001b[0m\n\u001b[1;32m    144\u001b[0m                 \u001b[0msoltn\u001b[0m \u001b[0;34m=\u001b[0m \u001b[0mnp\u001b[0m\u001b[0;34m.\u001b[0m\u001b[0marray\u001b[0m\u001b[0;34m(\u001b[0m\u001b[0;34m[\u001b[0m\u001b[0mself\u001b[0m\u001b[0;34m.\u001b[0m\u001b[0msoltn_lib\u001b[0m\u001b[0;34m.\u001b[0m\u001b[0mget_sim_emliklm\u001b[0m\u001b[0;34m(\u001b[0m\u001b[0midx\u001b[0m\u001b[0;34m)\u001b[0m\u001b[0;34m,\u001b[0m \u001b[0mself\u001b[0m\u001b[0;34m.\u001b[0m\u001b[0msoltn_lib\u001b[0m\u001b[0;34m.\u001b[0m\u001b[0mget_sim_bmliklm\u001b[0m\u001b[0;34m(\u001b[0m\u001b[0midx\u001b[0m\u001b[0;34m)\u001b[0m\u001b[0;34m]\u001b[0m\u001b[0;34m)\u001b[0m\u001b[0;34m\u001b[0m\u001b[0;34m\u001b[0m\u001b[0m\n\u001b[0;32m--> 145\u001b[0;31m             \u001b[0melm\u001b[0m\u001b[0;34m,\u001b[0m \u001b[0mblm\u001b[0m \u001b[0;34m=\u001b[0m \u001b[0mself\u001b[0m\u001b[0;34m.\u001b[0m\u001b[0m_apply_ivf_p\u001b[0m\u001b[0;34m(\u001b[0m\u001b[0mself\u001b[0m\u001b[0;34m.\u001b[0m\u001b[0msim_lib\u001b[0m\u001b[0;34m.\u001b[0m\u001b[0mget_sim_pmap\u001b[0m\u001b[0;34m(\u001b[0m\u001b[0midx\u001b[0m\u001b[0;34m)\u001b[0m\u001b[0;34m,\u001b[0m \u001b[0msoltn\u001b[0m\u001b[0;34m=\u001b[0m\u001b[0msoltn\u001b[0m\u001b[0;34m)\u001b[0m\u001b[0;34m\u001b[0m\u001b[0;34m\u001b[0m\u001b[0m\n\u001b[0m\u001b[1;32m    146\u001b[0m             \u001b[0;32mif\u001b[0m \u001b[0mself\u001b[0m\u001b[0;34m.\u001b[0m\u001b[0mcache\u001b[0m\u001b[0;34m:\u001b[0m\u001b[0;34m\u001b[0m\u001b[0;34m\u001b[0m\u001b[0m\n\u001b[1;32m    147\u001b[0m                 \u001b[0mhp\u001b[0m\u001b[0;34m.\u001b[0m\u001b[0mwrite_alm\u001b[0m\u001b[0;34m(\u001b[0m\u001b[0mtfname\u001b[0m\u001b[0;34m,\u001b[0m \u001b[0mblm\u001b[0m\u001b[0;34m)\u001b[0m\u001b[0;34m\u001b[0m\u001b[0;34m\u001b[0m\u001b[0m\n",
      "\u001b[0;32m/global/u2/s/sebibel/git/plancklens/plancklens/filt/filt_cinv.py\u001b[0m in \u001b[0;36m_apply_ivf_p\u001b[0;34m(self, pmap, soltn)\u001b[0m\n\u001b[1;32m    533\u001b[0m \u001b[0;34m\u001b[0m\u001b[0m\n\u001b[1;32m    534\u001b[0m     \u001b[0;32mdef\u001b[0m \u001b[0m_apply_ivf_p\u001b[0m\u001b[0;34m(\u001b[0m\u001b[0mself\u001b[0m\u001b[0;34m,\u001b[0m \u001b[0mpmap\u001b[0m\u001b[0;34m,\u001b[0m \u001b[0msoltn\u001b[0m\u001b[0;34m=\u001b[0m\u001b[0;32mNone\u001b[0m\u001b[0;34m)\u001b[0m\u001b[0;34m:\u001b[0m\u001b[0;34m\u001b[0m\u001b[0;34m\u001b[0m\u001b[0m\n\u001b[0;32m--> 535\u001b[0;31m         \u001b[0;32mreturn\u001b[0m \u001b[0mself\u001b[0m\u001b[0;34m.\u001b[0m\u001b[0mcinv_p\u001b[0m\u001b[0;34m.\u001b[0m\u001b[0mapply_ivf\u001b[0m\u001b[0;34m(\u001b[0m\u001b[0mpmap\u001b[0m\u001b[0;34m,\u001b[0m \u001b[0msoltn\u001b[0m\u001b[0;34m=\u001b[0m\u001b[0msoltn\u001b[0m\u001b[0;34m)\u001b[0m\u001b[0;34m\u001b[0m\u001b[0;34m\u001b[0m\u001b[0m\n\u001b[0m\u001b[1;32m    536\u001b[0m \u001b[0;34m\u001b[0m\u001b[0m\n\u001b[1;32m    537\u001b[0m     \u001b[0;32mdef\u001b[0m \u001b[0mget_tmliklm\u001b[0m\u001b[0;34m(\u001b[0m\u001b[0mself\u001b[0m\u001b[0;34m,\u001b[0m \u001b[0midx\u001b[0m\u001b[0;34m)\u001b[0m\u001b[0;34m:\u001b[0m\u001b[0;34m\u001b[0m\u001b[0;34m\u001b[0m\u001b[0m\n",
      "\u001b[0;32m/global/u2/s/sebibel/git/lenscarf/lenscarf/opfilt/utils_cinv_p.py\u001b[0m in \u001b[0;36mapply_ivf\u001b[0;34m(self, tmap, soltn)\u001b[0m\n\u001b[1;32m    103\u001b[0m \u001b[0;34m\u001b[0m\u001b[0m\n\u001b[1;32m    104\u001b[0m         \u001b[0;32massert\u001b[0m \u001b[0mlen\u001b[0m\u001b[0;34m(\u001b[0m\u001b[0mtmap\u001b[0m\u001b[0;34m)\u001b[0m \u001b[0;34m==\u001b[0m \u001b[0;36m2\u001b[0m\u001b[0;34m\u001b[0m\u001b[0;34m\u001b[0m\u001b[0m\n\u001b[0;32m--> 105\u001b[0;31m         \u001b[0mself\u001b[0m\u001b[0;34m.\u001b[0m\u001b[0mchain\u001b[0m\u001b[0;34m.\u001b[0m\u001b[0msolve\u001b[0m\u001b[0;34m(\u001b[0m\u001b[0mtalm\u001b[0m\u001b[0;34m,\u001b[0m \u001b[0;34m[\u001b[0m\u001b[0mtmap\u001b[0m\u001b[0;34m[\u001b[0m\u001b[0;36m0\u001b[0m\u001b[0;34m]\u001b[0m\u001b[0;34m,\u001b[0m \u001b[0mtmap\u001b[0m\u001b[0;34m[\u001b[0m\u001b[0;36m1\u001b[0m\u001b[0;34m]\u001b[0m\u001b[0;34m]\u001b[0m\u001b[0;34m)\u001b[0m\u001b[0;34m\u001b[0m\u001b[0;34m\u001b[0m\u001b[0m\n\u001b[0m\u001b[1;32m    106\u001b[0m \u001b[0;34m\u001b[0m\u001b[0m\n\u001b[1;32m    107\u001b[0m         \u001b[0;32mreturn\u001b[0m \u001b[0mtalm\u001b[0m\u001b[0;34m.\u001b[0m\u001b[0melm\u001b[0m\u001b[0;34m,\u001b[0m \u001b[0mtalm\u001b[0m\u001b[0;34m.\u001b[0m\u001b[0mblm\u001b[0m\u001b[0;34m\u001b[0m\u001b[0;34m\u001b[0m\u001b[0m\n",
      "\u001b[0;32m/global/u2/s/sebibel/git/plancklens/plancklens/qcinv/multigrid.py\u001b[0m in \u001b[0;36msolve\u001b[0;34m(self, soltn, tpn_map, apply_fini, dot_op)\u001b[0m\n\u001b[1;32m     66\u001b[0m         cd_solve.cd_solve(soltn, tpn_alm,\n\u001b[1;32m     67\u001b[0m                           \u001b[0mfwd_op\u001b[0m\u001b[0;34m,\u001b[0m \u001b[0mself\u001b[0m\u001b[0;34m.\u001b[0m\u001b[0mbstage\u001b[0m\u001b[0;34m.\u001b[0m\u001b[0mpre_ops\u001b[0m\u001b[0;34m,\u001b[0m \u001b[0mdot_op\u001b[0m\u001b[0;34m,\u001b[0m \u001b[0mmonitor\u001b[0m\u001b[0;34m,\u001b[0m\u001b[0;34m\u001b[0m\u001b[0;34m\u001b[0m\u001b[0m\n\u001b[0;32m---> 68\u001b[0;31m                           tr=self.bstage.tr, cache=self.bstage.cache)\n\u001b[0m\u001b[1;32m     69\u001b[0m         \u001b[0mfinifunc\u001b[0m\u001b[0;34m(\u001b[0m\u001b[0msoltn\u001b[0m\u001b[0;34m,\u001b[0m \u001b[0mself\u001b[0m\u001b[0;34m.\u001b[0m\u001b[0ms_cls\u001b[0m\u001b[0;34m,\u001b[0m \u001b[0mself\u001b[0m\u001b[0;34m.\u001b[0m\u001b[0mn_inv_filt\u001b[0m\u001b[0;34m)\u001b[0m\u001b[0;34m\u001b[0m\u001b[0;34m\u001b[0m\u001b[0m\n\u001b[1;32m     70\u001b[0m \u001b[0;34m\u001b[0m\u001b[0m\n",
      "\u001b[0;32m/global/u2/s/sebibel/git/plancklens/plancklens/qcinv/cd_solve.py\u001b[0m in \u001b[0;36mcd_solve\u001b[0;34m(x, b, fwd_op, pre_ops, dot_op, criterion, tr, cache, roundoff)\u001b[0m\n\u001b[1;32m     60\u001b[0m     \u001b[0miter\u001b[0m \u001b[0;34m=\u001b[0m \u001b[0;36m0\u001b[0m\u001b[0;34m\u001b[0m\u001b[0;34m\u001b[0m\u001b[0m\n\u001b[1;32m     61\u001b[0m     \u001b[0;32mwhile\u001b[0m \u001b[0;32mnot\u001b[0m \u001b[0mcriterion\u001b[0m\u001b[0;34m(\u001b[0m\u001b[0miter\u001b[0m\u001b[0;34m,\u001b[0m \u001b[0mx\u001b[0m\u001b[0;34m,\u001b[0m \u001b[0mresidual\u001b[0m\u001b[0;34m)\u001b[0m\u001b[0;34m:\u001b[0m\u001b[0;34m\u001b[0m\u001b[0;34m\u001b[0m\u001b[0m\n\u001b[0;32m---> 62\u001b[0;31m         \u001b[0msearchfwds\u001b[0m \u001b[0;34m=\u001b[0m \u001b[0;34m[\u001b[0m\u001b[0mfwd_op\u001b[0m\u001b[0;34m(\u001b[0m\u001b[0msearchdir\u001b[0m\u001b[0;34m)\u001b[0m \u001b[0;32mfor\u001b[0m \u001b[0msearchdir\u001b[0m \u001b[0;32min\u001b[0m \u001b[0msearchdirs\u001b[0m\u001b[0;34m]\u001b[0m\u001b[0;34m\u001b[0m\u001b[0;34m\u001b[0m\u001b[0m\n\u001b[0m\u001b[1;32m     63\u001b[0m         \u001b[0mdeltas\u001b[0m \u001b[0;34m=\u001b[0m \u001b[0;34m[\u001b[0m\u001b[0mdot_op\u001b[0m\u001b[0;34m(\u001b[0m\u001b[0msearchdir\u001b[0m\u001b[0;34m,\u001b[0m \u001b[0mresidual\u001b[0m\u001b[0;34m)\u001b[0m \u001b[0;32mfor\u001b[0m \u001b[0msearchdir\u001b[0m \u001b[0;32min\u001b[0m \u001b[0msearchdirs\u001b[0m\u001b[0;34m]\u001b[0m\u001b[0;34m\u001b[0m\u001b[0;34m\u001b[0m\u001b[0m\n\u001b[1;32m     64\u001b[0m \u001b[0;34m\u001b[0m\u001b[0m\n",
      "\u001b[0;32m/global/u2/s/sebibel/git/plancklens/plancklens/qcinv/cd_solve.py\u001b[0m in \u001b[0;36m<listcomp>\u001b[0;34m(.0)\u001b[0m\n\u001b[1;32m     60\u001b[0m     \u001b[0miter\u001b[0m \u001b[0;34m=\u001b[0m \u001b[0;36m0\u001b[0m\u001b[0;34m\u001b[0m\u001b[0;34m\u001b[0m\u001b[0m\n\u001b[1;32m     61\u001b[0m     \u001b[0;32mwhile\u001b[0m \u001b[0;32mnot\u001b[0m \u001b[0mcriterion\u001b[0m\u001b[0;34m(\u001b[0m\u001b[0miter\u001b[0m\u001b[0;34m,\u001b[0m \u001b[0mx\u001b[0m\u001b[0;34m,\u001b[0m \u001b[0mresidual\u001b[0m\u001b[0;34m)\u001b[0m\u001b[0;34m:\u001b[0m\u001b[0;34m\u001b[0m\u001b[0;34m\u001b[0m\u001b[0m\n\u001b[0;32m---> 62\u001b[0;31m         \u001b[0msearchfwds\u001b[0m \u001b[0;34m=\u001b[0m \u001b[0;34m[\u001b[0m\u001b[0mfwd_op\u001b[0m\u001b[0;34m(\u001b[0m\u001b[0msearchdir\u001b[0m\u001b[0;34m)\u001b[0m \u001b[0;32mfor\u001b[0m \u001b[0msearchdir\u001b[0m \u001b[0;32min\u001b[0m \u001b[0msearchdirs\u001b[0m\u001b[0;34m]\u001b[0m\u001b[0;34m\u001b[0m\u001b[0;34m\u001b[0m\u001b[0m\n\u001b[0m\u001b[1;32m     63\u001b[0m         \u001b[0mdeltas\u001b[0m \u001b[0;34m=\u001b[0m \u001b[0;34m[\u001b[0m\u001b[0mdot_op\u001b[0m\u001b[0;34m(\u001b[0m\u001b[0msearchdir\u001b[0m\u001b[0;34m,\u001b[0m \u001b[0mresidual\u001b[0m\u001b[0;34m)\u001b[0m \u001b[0;32mfor\u001b[0m \u001b[0msearchdir\u001b[0m \u001b[0;32min\u001b[0m \u001b[0msearchdirs\u001b[0m\u001b[0;34m]\u001b[0m\u001b[0;34m\u001b[0m\u001b[0;34m\u001b[0m\u001b[0m\n\u001b[1;32m     64\u001b[0m \u001b[0;34m\u001b[0m\u001b[0m\n",
      "\u001b[0;32m/global/u2/s/sebibel/git/plancklens/plancklens/qcinv/opfilt_pp.py\u001b[0m in \u001b[0;36m__call__\u001b[0;34m(self, alm)\u001b[0m\n\u001b[1;32m     47\u001b[0m \u001b[0;34m\u001b[0m\u001b[0m\n\u001b[1;32m     48\u001b[0m     \u001b[0;32mdef\u001b[0m \u001b[0m__call__\u001b[0m\u001b[0;34m(\u001b[0m\u001b[0mself\u001b[0m\u001b[0;34m,\u001b[0m \u001b[0malm\u001b[0m\u001b[0;34m)\u001b[0m\u001b[0;34m:\u001b[0m\u001b[0;34m\u001b[0m\u001b[0;34m\u001b[0m\u001b[0m\n\u001b[0;32m---> 49\u001b[0;31m         \u001b[0;32mreturn\u001b[0m \u001b[0mself\u001b[0m\u001b[0;34m.\u001b[0m\u001b[0mcalc\u001b[0m\u001b[0;34m(\u001b[0m\u001b[0malm\u001b[0m\u001b[0;34m)\u001b[0m\u001b[0;34m\u001b[0m\u001b[0;34m\u001b[0m\u001b[0m\n\u001b[0m\u001b[1;32m     50\u001b[0m \u001b[0;34m\u001b[0m\u001b[0m\n\u001b[1;32m     51\u001b[0m     \u001b[0;32mdef\u001b[0m \u001b[0mcalc\u001b[0m\u001b[0;34m(\u001b[0m\u001b[0mself\u001b[0m\u001b[0;34m,\u001b[0m \u001b[0malm\u001b[0m\u001b[0;34m)\u001b[0m\u001b[0;34m:\u001b[0m\u001b[0;34m\u001b[0m\u001b[0;34m\u001b[0m\u001b[0m\n",
      "\u001b[0;32m/global/u2/s/sebibel/git/plancklens/plancklens/qcinv/opfilt_pp.py\u001b[0m in \u001b[0;36mcalc\u001b[0;34m(self, alm)\u001b[0m\n\u001b[1;32m     51\u001b[0m     \u001b[0;32mdef\u001b[0m \u001b[0mcalc\u001b[0m\u001b[0;34m(\u001b[0m\u001b[0mself\u001b[0m\u001b[0;34m,\u001b[0m \u001b[0malm\u001b[0m\u001b[0;34m)\u001b[0m\u001b[0;34m:\u001b[0m\u001b[0;34m\u001b[0m\u001b[0;34m\u001b[0m\u001b[0m\n\u001b[1;32m     52\u001b[0m         \u001b[0mnlm\u001b[0m \u001b[0;34m=\u001b[0m \u001b[0malm\u001b[0m \u001b[0;34m*\u001b[0m \u001b[0;36m1.0\u001b[0m\u001b[0;34m\u001b[0m\u001b[0;34m\u001b[0m\u001b[0m\n\u001b[0;32m---> 53\u001b[0;31m         \u001b[0mself\u001b[0m\u001b[0;34m.\u001b[0m\u001b[0mn_inv_filt\u001b[0m\u001b[0;34m.\u001b[0m\u001b[0mapply_alm\u001b[0m\u001b[0;34m(\u001b[0m\u001b[0mnlm\u001b[0m\u001b[0;34m)\u001b[0m\u001b[0;34m\u001b[0m\u001b[0;34m\u001b[0m\u001b[0m\n\u001b[0m\u001b[1;32m     54\u001b[0m         \u001b[0mslm\u001b[0m \u001b[0;34m=\u001b[0m \u001b[0mself\u001b[0m\u001b[0;34m.\u001b[0m\u001b[0ms_inv_filt\u001b[0m\u001b[0;34m.\u001b[0m\u001b[0mcalc\u001b[0m\u001b[0;34m(\u001b[0m\u001b[0malm\u001b[0m\u001b[0;34m)\u001b[0m\u001b[0;34m\u001b[0m\u001b[0;34m\u001b[0m\u001b[0m\n\u001b[1;32m     55\u001b[0m         \u001b[0;32mreturn\u001b[0m \u001b[0mnlm\u001b[0m \u001b[0;34m+\u001b[0m \u001b[0mslm\u001b[0m\u001b[0;34m\u001b[0m\u001b[0;34m\u001b[0m\u001b[0m\n",
      "\u001b[0;32m/global/u2/s/sebibel/git/plancklens/plancklens/qcinv/opfilt_pp.py\u001b[0m in \u001b[0;36mapply_alm\u001b[0;34m(self, alm)\u001b[0m\n\u001b[1;32m    258\u001b[0m         \u001b[0mhp\u001b[0m\u001b[0;34m.\u001b[0m\u001b[0malmxfl\u001b[0m\u001b[0;34m(\u001b[0m\u001b[0malm\u001b[0m\u001b[0;34m.\u001b[0m\u001b[0melm\u001b[0m\u001b[0;34m,\u001b[0m \u001b[0mself\u001b[0m\u001b[0;34m.\u001b[0m\u001b[0mb_transf_e\u001b[0m\u001b[0;34m,\u001b[0m \u001b[0minplace\u001b[0m\u001b[0;34m=\u001b[0m\u001b[0;32mTrue\u001b[0m\u001b[0;34m)\u001b[0m\u001b[0;34m\u001b[0m\u001b[0;34m\u001b[0m\u001b[0m\n\u001b[1;32m    259\u001b[0m         \u001b[0mhp\u001b[0m\u001b[0;34m.\u001b[0m\u001b[0malmxfl\u001b[0m\u001b[0;34m(\u001b[0m\u001b[0malm\u001b[0m\u001b[0;34m.\u001b[0m\u001b[0mblm\u001b[0m\u001b[0;34m,\u001b[0m \u001b[0mself\u001b[0m\u001b[0;34m.\u001b[0m\u001b[0mb_transf_b\u001b[0m\u001b[0;34m,\u001b[0m \u001b[0minplace\u001b[0m\u001b[0;34m=\u001b[0m\u001b[0;32mTrue\u001b[0m\u001b[0;34m)\u001b[0m\u001b[0;34m\u001b[0m\u001b[0;34m\u001b[0m\u001b[0m\n\u001b[0;32m--> 260\u001b[0;31m         \u001b[0mqmap\u001b[0m\u001b[0;34m,\u001b[0m \u001b[0mumap\u001b[0m \u001b[0;34m=\u001b[0m \u001b[0malm2map_spin\u001b[0m\u001b[0;34m(\u001b[0m\u001b[0;34m(\u001b[0m\u001b[0malm\u001b[0m\u001b[0;34m.\u001b[0m\u001b[0melm\u001b[0m\u001b[0;34m,\u001b[0m \u001b[0malm\u001b[0m\u001b[0;34m.\u001b[0m\u001b[0mblm\u001b[0m\u001b[0;34m)\u001b[0m\u001b[0;34m,\u001b[0m \u001b[0mself\u001b[0m\u001b[0;34m.\u001b[0m\u001b[0mnside\u001b[0m\u001b[0;34m,\u001b[0m \u001b[0;36m2\u001b[0m\u001b[0;34m,\u001b[0m \u001b[0mlmax\u001b[0m\u001b[0;34m)\u001b[0m\u001b[0;34m\u001b[0m\u001b[0;34m\u001b[0m\u001b[0m\n\u001b[0m\u001b[1;32m    261\u001b[0m \u001b[0;34m\u001b[0m\u001b[0m\n\u001b[1;32m    262\u001b[0m         \u001b[0mself\u001b[0m\u001b[0;34m.\u001b[0m\u001b[0mapply_map\u001b[0m\u001b[0;34m(\u001b[0m\u001b[0;34m[\u001b[0m\u001b[0mqmap\u001b[0m\u001b[0;34m,\u001b[0m \u001b[0mumap\u001b[0m\u001b[0;34m]\u001b[0m\u001b[0;34m)\u001b[0m  \u001b[0;31m# applies N^{-1}\u001b[0m\u001b[0;34m\u001b[0m\u001b[0;34m\u001b[0m\u001b[0m\n",
      "\u001b[0;31mKeyboardInterrupt\u001b[0m: "
     ]
    }
   ],
   "source": [
    "Bwf = job.dlensalot_model.ivfs.get_sim_bmliklm(0)"
   ]
  },
  {
   "cell_type": "code",
   "execution_count": 9,
   "id": "e34a3751-1c7f-4a8f-8b22-f765fb3555e0",
   "metadata": {
    "tags": []
   },
   "outputs": [
    {
     "ename": "KeyError",
     "evalue": "'__jit_args'",
     "output_type": "error",
     "traceback": [
      "\u001b[0;31m---------------------------------------------------------------------------\u001b[0m",
      "\u001b[0;31mKeyError\u001b[0m                                  Traceback (most recent call last)",
      "\u001b[0;32m/tmp/ipykernel_14143/705650919.py\u001b[0m in \u001b[0;36m<module>\u001b[0;34m\u001b[0m\n\u001b[0;32m----> 1\u001b[0;31m \u001b[0mjob\u001b[0m\u001b[0;34m.\u001b[0m\u001b[0mdlensalot_model\u001b[0m\u001b[0;34m.\u001b[0m\u001b[0mcinv_p\u001b[0m\u001b[0;34m.\u001b[0m\u001b[0mchain\u001b[0m\u001b[0;34m.\u001b[0m\u001b[0minstantiate\u001b[0m\u001b[0;34m(\u001b[0m\u001b[0;34m)\u001b[0m\u001b[0;34m\u001b[0m\u001b[0;34m\u001b[0m\u001b[0m\n\u001b[0m",
      "\u001b[0;32m/global/u2/s/sebibel/git/plancklens/plancklens/qcinv/util.py\u001b[0m in \u001b[0;36minstantiate\u001b[0;34m(self)\u001b[0m\n\u001b[1;32m     46\u001b[0m \u001b[0;34m\u001b[0m\u001b[0m\n\u001b[1;32m     47\u001b[0m     \u001b[0;32mdef\u001b[0m \u001b[0minstantiate\u001b[0m\u001b[0;34m(\u001b[0m\u001b[0mself\u001b[0m\u001b[0;34m)\u001b[0m\u001b[0;34m:\u001b[0m\u001b[0;34m\u001b[0m\u001b[0;34m\u001b[0m\u001b[0m\n\u001b[0;32m---> 48\u001b[0;31m         \u001b[0;34m[\u001b[0m\u001b[0mctype\u001b[0m\u001b[0;34m,\u001b[0m \u001b[0mcargs\u001b[0m\u001b[0;34m,\u001b[0m \u001b[0mckwds\u001b[0m\u001b[0;34m]\u001b[0m \u001b[0;34m=\u001b[0m \u001b[0mself\u001b[0m\u001b[0;34m.\u001b[0m\u001b[0m__dict__\u001b[0m\u001b[0;34m[\u001b[0m\u001b[0;34m'__jit_args'\u001b[0m\u001b[0;34m]\u001b[0m\u001b[0;34m\u001b[0m\u001b[0;34m\u001b[0m\u001b[0m\n\u001b[0m\u001b[1;32m     49\u001b[0m         \u001b[0mprint\u001b[0m\u001b[0;34m(\u001b[0m\u001b[0;34m'jit: instantiating ctype ='\u001b[0m\u001b[0;34m,\u001b[0m \u001b[0mctype\u001b[0m\u001b[0;34m)\u001b[0m\u001b[0;34m\u001b[0m\u001b[0;34m\u001b[0m\u001b[0m\n\u001b[1;32m     50\u001b[0m         \u001b[0mself\u001b[0m\u001b[0;34m.\u001b[0m\u001b[0m__dict__\u001b[0m\u001b[0;34m[\u001b[0m\u001b[0;34m'__jit_obj'\u001b[0m\u001b[0;34m]\u001b[0m \u001b[0;34m=\u001b[0m \u001b[0mctype\u001b[0m\u001b[0;34m(\u001b[0m\u001b[0;34m*\u001b[0m\u001b[0mcargs\u001b[0m\u001b[0;34m,\u001b[0m \u001b[0;34m**\u001b[0m\u001b[0mckwds\u001b[0m\u001b[0;34m)\u001b[0m\u001b[0;34m\u001b[0m\u001b[0;34m\u001b[0m\u001b[0m\n",
      "\u001b[0;31mKeyError\u001b[0m: '__jit_args'"
     ]
    }
   ],
   "source": [
    "job.dlensalot_model.cinv_p.chain.instantiate()"
   ]
  },
  {
   "cell_type": "code",
   "execution_count": 4,
   "id": "1a598fcb-e9c7-4e7f-955b-bcc98424357e",
   "metadata": {
    "tags": []
   },
   "outputs": [
    {
     "data": {
      "image/png": "[encoded data removed]",
      "text/plain": [
       "<Figure size 432x288 with 1 Axes>"
      ]
     },
     "metadata": {
      "needs_background": "light"
     },
     "output_type": "display_data"
    }
   ],
   "source": [
    "plt.plot(hp.alm2cl(job.dlensalot_model.ivfs.get_sim_emliklm(0)))\n",
    "plt.plot(hp.alm2cl(job.dlensalot_model.ivfs.get_sim_bmliklm(0)))\n",
    "plt.xscale('log')\n",
    "plt.yscale('log')\n",
    "# job.dlensalot_model.cinv_p"
   ]
  },
  {
   "cell_type": "code",
   "execution_count": 23,
   "id": "88ab7769-aa37-4051-9aef-d77c3f4726fc",
   "metadata": {},
   "outputs": [
    {
     "data": {
      "image/png": "[encoded data removed]",
      "text/plain": [
       "<Figure size 612x388.8 with 2 Axes>"
      ]
     },
     "metadata": {
      "needs_background": "light"
     },
     "output_type": "display_data"
    }
   ],
   "source": [
    "from lenscarf.utils import read_map\n",
    "hp.mollview(read_map(job.dlensalot_model.cinv_p.ninv))#-read_map(parfile.cinv_p.ninv))"
   ]
  },
  {
   "cell_type": "code",
   "execution_count": 5,
   "id": "524932e5-2c94-4032-945a-7f918a0208da",
   "metadata": {},
   "outputs": [
    {
     "data": {
      "text/plain": [
       "{'lib_dir': '/global/cscratch1/sd/sebibel/cmbs4/08d_00_rNone_isOBD_MF100_OBDtest2/cinv_p',\n",
       " 'lmax': 3000,\n",
       " 'nside': 2048,\n",
       " 'cl': {'tt': array([0.00000000e+00, 3.15384486e+03, 1.08437306e+03, ...,\n",
       "         4.73193243e-08, 4.72884497e-08, 4.72312005e-08]),\n",
       "  'ee': array([0.00000000e+00, 0.00000000e+00, 3.62435072e-02, ...,\n",
       "         5.94198156e-10, 5.93471562e-10, 5.93194004e-10]),\n",
       "  'bb': array([0.00000000e+00, 0.00000000e+00, 1.97459570e-06, ...,\n",
       "         3.76402516e-10, 3.76293414e-10, 3.75748914e-10]),\n",
       "  'te': array([ 0.00000000e+00,  0.00000000e+00,  2.93875049e+00, ...,\n",
       "         -7.69387920e-10, -7.68650143e-10, -7.67912762e-10])},\n",
       " 'transf': array([1.        , 0.99999992, 0.99999976, ..., 0.69566554, 0.69549715,\n",
       "        0.69532874]),\n",
       " 'ninv': [[array([8.47641977]),\n",
       "   '/global/cscratch1/sd/sebibel/cmbs4/08d_ninv_truncified.fits']],\n",
       " 'n_inv_filt': <plancklens.qcinv.util.jit at 0x155511d5a8d0>,\n",
       " 'chain': <plancklens.qcinv.util.jit at 0x155511d5a610>}"
      ]
     },
     "execution_count": 5,
     "metadata": {},
     "output_type": "execute_result"
    }
   ],
   "source": [
    "job.dlensalot_model.cinv_p.__dict__"
   ]
  }
 ],
 "metadata": {
  "kernelspec": {
   "display_name": "Python 3.7.11 ('py3.7': conda)",
   "language": "python",
   "name": "python3"
  },
  "language_info": {
   "codemirror_mode": {
    "name": "ipython",
    "version": 3
   },
   "file_extension": ".py",
   "mimetype": "text/x-python",
   "name": "python",
   "nbconvert_exporter": "python",
   "pygments_lexer": "ipython3",
   "version": "3.7.11"
  },
  "vscode": {
   "interpreter": {
    "hash": "66ced08a5998eef429c58b9354be0d5077119143d9d6c1c2663dd0aea6e3799b"
   }
  }
 },
 "nbformat": 4,
 "nbformat_minor": 5
}
