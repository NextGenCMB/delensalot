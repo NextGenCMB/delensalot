{
 "cells": [
  {
   "cell_type": "code",
   "execution_count": 1,
   "metadata": {},
   "outputs": [
    {
     "name": "stdout",
     "output_type": "stream",
     "text": [
      "cond4mpi does not exists. No MPI loaded\n",
      "mpi.py: Plancklens.mpi disabled as per environ variable \n",
      "\n"
     ]
    }
   ],
   "source": [
    "from IPython.display import clear_output\n",
    "from datetime import datetime\n",
    "\n",
    "import os\n",
    "from os.path import join as opj\n",
    "if \"SCRATCH\" not in os.environ:\n",
    "    os.environ[\"SCRATCH\"] = \"/mnt/c/Users/sebas/OneDrive/SCRATCH\"\n",
    "\n",
    "import numpy as np\n",
    "import healpy as hp\n",
    "import matplotlib.pyplot as plt\n",
    "\n",
    "import delensalot\n",
    "from delensalot.run import run\n",
    "from delensalot.lerepi.visalot import plot_helper as ph"
   ]
  },
  {
   "cell_type": "code",
   "execution_count": 2,
   "metadata": {},
   "outputs": [
    {
     "name": "stdout",
     "output_type": "stream",
     "text": [
      "INFO:: 05-16 10:53:: delensalot.lerepi.core.handler.log - load_configfile() Started: /mnt/c/Users/sebas/OneDrive/Desktop/Uni/ext/git/delensalot/notebooks/examples/conf_mwe_applyOBD.py\n",
      "INFO:: 05-16 10:53:: delensalot.lerepi.core.metamodel.dlensalot_mm.__attrs_post_init__ - Setting default, using P_FS_CMBS4:\n",
      "\t{'meta': {'version': '0.2'}, 'job': {'jobs': ['generate_sim', 'QE_lensrec', 'MAP_lensrec']}, 'data': {'beam': 1.0, 'nlev_t': 1.0, 'nlev_p': 1.0, 'epsilon': 1e-05, 'nside': 2048, 'class_parameters': {'lmax': 4096, 'cls_unl': {'tt': array([0.00000000e+00, 3.15384486e+03, 1.08426834e+03, ...,\n",
      "       9.66229400e-10, 9.65260803e-10, 9.64292720e-10]), 'ee': array([0.00000000e+00, 0.00000000e+00, 3.62414129e-02, ...,\n",
      "       2.00006407e-12, 1.99423451e-12, 1.98828000e-12]), 'bb': array([0., 0., 0., ..., 0., 0., 0.]), 'te': array([0.00000000e+00, 0.00000000e+00, 2.93875049e+00, ...,\n",
      "       1.40842175e-11, 1.40724986e-11, 1.40607859e-11]), 'pp': array([0.00000000e+00, 5.94954817e-08, 8.92404300e-09, ...,\n",
      "       7.91637420e-25, 7.91001884e-25, 7.90366882e-25]), 'pt': array([0.00000000e+00, 6.20759604e-03, 1.28926184e-03, ...,\n",
      "       2.46796544e-19, 2.46782393e-19, 2.46768224e-19]), 'pe': array([ 0.00000000e+00,  0.00000000e+00, -5.60260517e-06, ...,\n",
      "        2.53157091e-22,  2.53085247e-22,  2.53013434e-22])}, 'lib_dir': '/mnt/c/Users/sebas/OneDrive/SCRATCH/sims/generic/nside2048/lmax4096/nlevp_sqrt(2)'}, 'lmax_transf': 4500, 'transferfunction': 'gauss_no_pixwin', 'package_': 'delensalot', 'module_': 'sims.generic', 'class_': 'sims_cmb_len'}, 'analysis': {'key': 'p_p', 'version': 'noMF', 'simidxs': array([0]), 'TEMP_suffix': 'P_FS_CMBS4', 'Lmin': 1, 'lm_max_ivf': (4000, 4000), 'lmin_teb': (2, 2, 200), 'simidxs_mf': [], 'zbounds': (-1, 1), 'zbounds_len': (-1, 1), 'pbounds': (0.0, 6.283185307179586), 'lm_max_len': (4000, 4000), 'mask': None, 'cls_unl': '/mnt/c/Users/sebas/OneDrive/Desktop/Uni/ext/git/delensalot/delensalot/data/cls/FFP10_wdipole_lenspotentialCls.dat', 'cls_len': '/mnt/c/Users/sebas/OneDrive/Desktop/Uni/ext/git/delensalot/delensalot/data/cls/FFP10_wdipole_lensedCls.dat', 'cpp': '/mnt/c/Users/sebas/OneDrive/Desktop/Uni/ext/git/delensalot/delensalot/data/cls/FFP10_wdipole_lenspotentialCls.dat', 'beam': 1.0}, 'qerec': {'tasks': ['calc_phi'], 'qlm_type': 'sepTP', 'cg_tol': 0.0001, 'filter_directional': 'isotropic', 'ninvjob_qe_geometry': 'healpix_geometry_qe', 'lm_max_qlm': (4000, 4000), 'cl_analysis': False, 'blt_pert': True, 'chain': {'p0': 0, 'p1': ['diag_cl'], 'p2': None, 'p3': 2048, 'p4': inf, 'p5': None, 'p6': 'tr_cg', 'p7': 'cache_mem'}}, 'itrec': {'stepper': {'typ': 'harmonicbump', 'lmax_qlm': 4000, 'mmax_qlm': 4000, 'a': 0.5, 'b': 0.499, 'xa': 400, 'xb': 1500}, 'chain': {'p0': 0, 'p1': ['diag_cl'], 'p2': None, 'p3': 2048, 'p4': inf, 'p5': None, 'p6': 'tr_cg', 'p7': 'cache_mem'}, 'tasks': ['calc_phi'], 'itmax': 1, 'cg_tol': 1e-05, 'iterator_typ': 'constmf', 'filter_directional': 'isotropic', 'lenjob_geometry': 'thin_gauss', 'lenjob_pbgeometry': 'pbdGeometry', 'lm_max_unl': (4500, 4500), 'lm_max_qlm': (4000, 4000), 'mfvar': '', 'soltn_cond': <function <lambda> at 0x7f758614ce00>}, 'noisemodel': {'sky_coverage': 'isotropic', 'spectrum_type': 'white', 'OBD': False, 'nlev_t': 1.0, 'nlev_p': 1.0, 'rhits_normalised': None, 'ninvjob_geometry': 'healpix_geometry'}, 'madel': {'edges': -1, 'dlm_mod': False, 'iterations': -1, 'masks': None, 'lmax': -1, 'Cl_fid': -1, 'libdir_it': None, 'binning': -1, 'spectrum_calculator': None}, 'computing': {'OMP_NUM_THREADS': 2}, 'obd': {'libdir': -123456789, 'rescale': 1, 'tpl': 'template_dense', 'nlev_dep': 10000.0, 'nside': 2048, 'lmax': 200, 'beam': 1.0}, 'config': {'outdir_plot_root': '/home/belkner/plots', 'outdir_plot_rel': ''}}\n",
      "INFO:: 05-16 10:53:: delensalot.lerepi.core.metamodel.dlensalot_mm.__attrs_post_init__ - couldnt find matching default value for k madel\n",
      "INFO:: 05-16 10:53:: delensalot.lerepi.core.handler.log - load_configfile() Finished\n",
      "INFO:: 05-16 10:53:: delensalot.lerepi.core.handler.log - store() Started\n",
      "WARNING:: 05-16 10:53:: root.store - config file /mnt/c/Users/sebas/OneDrive/SCRATCH/delensalot/generic/sims_cmb_len_OBD_my_first_dlensalot_analysis_applyOBD/conf_mwe_applyOBD.py already exist. Checking differences.\n",
      "INFO:: 05-16 10:53:: delensalot.lerepi.core.handler.log - load_configfile() Started: /mnt/c/Users/sebas/OneDrive/SCRATCH/delensalot/generic/sims_cmb_len_OBD_my_first_dlensalot_analysis_applyOBD/conf_mwe_applyOBD.py\n",
      "INFO:: 05-16 10:53:: delensalot.lerepi.core.metamodel.dlensalot_mm.__attrs_post_init__ - Setting default, using P_FS_CMBS4:\n",
      "\t{'meta': {'version': '0.2'}, 'job': {'jobs': ['generate_sim', 'QE_lensrec', 'MAP_lensrec']}, 'data': {'beam': 1.0, 'nlev_t': 1.0, 'nlev_p': 1.0, 'epsilon': 1e-05, 'nside': 2048, 'class_parameters': {'lmax': 4096, 'cls_unl': {'tt': array([0.00000000e+00, 3.15384486e+03, 1.08426834e+03, ...,\n",
      "       9.66229400e-10, 9.65260803e-10, 9.64292720e-10]), 'ee': array([0.00000000e+00, 0.00000000e+00, 3.62414129e-02, ...,\n",
      "       2.00006407e-12, 1.99423451e-12, 1.98828000e-12]), 'bb': array([0., 0., 0., ..., 0., 0., 0.]), 'te': array([0.00000000e+00, 0.00000000e+00, 2.93875049e+00, ...,\n",
      "       1.40842175e-11, 1.40724986e-11, 1.40607859e-11]), 'pp': array([0.00000000e+00, 5.94954817e-08, 8.92404300e-09, ...,\n",
      "       7.91637420e-25, 7.91001884e-25, 7.90366882e-25]), 'pt': array([0.00000000e+00, 6.20759604e-03, 1.28926184e-03, ...,\n",
      "       2.46796544e-19, 2.46782393e-19, 2.46768224e-19]), 'pe': array([ 0.00000000e+00,  0.00000000e+00, -5.60260517e-06, ...,\n",
      "        2.53157091e-22,  2.53085247e-22,  2.53013434e-22])}, 'lib_dir': '/mnt/c/Users/sebas/OneDrive/SCRATCH/sims/generic/nside2048/lmax4096/nlevp_sqrt(2)'}, 'lmax_transf': 4500, 'transferfunction': 'gauss_no_pixwin', 'package_': 'delensalot', 'module_': 'sims.generic', 'class_': 'sims_cmb_len'}, 'analysis': {'key': 'p_p', 'version': 'noMF', 'simidxs': array([0]), 'TEMP_suffix': 'P_FS_CMBS4', 'Lmin': 1, 'lm_max_ivf': (4000, 4000), 'lmin_teb': (2, 2, 200), 'simidxs_mf': [], 'zbounds': (-1, 1), 'zbounds_len': (-1, 1), 'pbounds': (0.0, 6.283185307179586), 'lm_max_len': (4000, 4000), 'mask': None, 'cls_unl': '/mnt/c/Users/sebas/OneDrive/Desktop/Uni/ext/git/delensalot/delensalot/data/cls/FFP10_wdipole_lenspotentialCls.dat', 'cls_len': '/mnt/c/Users/sebas/OneDrive/Desktop/Uni/ext/git/delensalot/delensalot/data/cls/FFP10_wdipole_lensedCls.dat', 'cpp': '/mnt/c/Users/sebas/OneDrive/Desktop/Uni/ext/git/delensalot/delensalot/data/cls/FFP10_wdipole_lenspotentialCls.dat', 'beam': 1.0}, 'qerec': {'tasks': ['calc_phi'], 'qlm_type': 'sepTP', 'cg_tol': 0.0001, 'filter_directional': 'isotropic', 'ninvjob_qe_geometry': 'healpix_geometry_qe', 'lm_max_qlm': (4000, 4000), 'cl_analysis': False, 'blt_pert': True, 'chain': {'p0': 0, 'p1': ['diag_cl'], 'p2': None, 'p3': 2048, 'p4': inf, 'p5': None, 'p6': 'tr_cg', 'p7': 'cache_mem'}}, 'itrec': {'stepper': {'typ': 'harmonicbump', 'lmax_qlm': 4000, 'mmax_qlm': 4000, 'a': 0.5, 'b': 0.499, 'xa': 400, 'xb': 1500}, 'chain': {'p0': 0, 'p1': ['diag_cl'], 'p2': None, 'p3': 2048, 'p4': inf, 'p5': None, 'p6': 'tr_cg', 'p7': 'cache_mem'}, 'tasks': ['calc_phi'], 'itmax': 1, 'cg_tol': 1e-05, 'iterator_typ': 'constmf', 'filter_directional': 'isotropic', 'lenjob_geometry': 'thin_gauss', 'lenjob_pbgeometry': 'pbdGeometry', 'lm_max_unl': (4500, 4500), 'lm_max_qlm': (4000, 4000), 'mfvar': '', 'soltn_cond': <function <lambda> at 0x7f758614ce00>}, 'noisemodel': {'sky_coverage': 'isotropic', 'spectrum_type': 'white', 'OBD': False, 'nlev_t': 1.0, 'nlev_p': 1.0, 'rhits_normalised': None, 'ninvjob_geometry': 'healpix_geometry'}, 'madel': {'edges': -1, 'dlm_mod': False, 'iterations': -1, 'masks': None, 'lmax': -1, 'Cl_fid': -1, 'libdir_it': None, 'binning': -1, 'spectrum_calculator': None}, 'computing': {'OMP_NUM_THREADS': 2}, 'obd': {'libdir': -123456789, 'rescale': 1, 'tpl': 'template_dense', 'nlev_dep': 10000.0, 'nside': 2048, 'lmax': 200, 'beam': 1.0}, 'config': {'outdir_plot_root': '/home/belkner/plots', 'outdir_plot_rel': ''}}\n",
      "INFO:: 05-16 10:53:: delensalot.lerepi.core.metamodel.dlensalot_mm.__attrs_post_init__ - couldnt find matching default value for k madel\n",
      "INFO:: 05-16 10:53:: delensalot.lerepi.core.handler.log - load_configfile() Finished\n",
      "INFO:: 05-16 10:53:: root.store - config file comparison done. No conflicts found.\n",
      "INFO:: 05-16 10:53:: root.store - Matching config file found. Resuming where I left off.\n",
      "INFO:: 05-16 10:53:: delensalot.lerepi.core.handler.log - store() Finished\n",
      "INFO:: 05-16 10:53:: delensalot.lerepi.core.handler.log - build_model() Started\n",
      "INFO:: 05-16 10:53:: delensalot.lerepi.core.transformer.lerepi2dlensalot.log - build() started\n"
     ]
    },
    {
     "ename": "AttributeError",
     "evalue": "'DLENSALOT_Analysis' object has no attribute 'K'",
     "output_type": "error",
     "traceback": [
      "\u001b[0;31m---------------------------------------------------------------------------\u001b[0m",
      "\u001b[0;31mAttributeError\u001b[0m                            Traceback (most recent call last)",
      "Cell \u001b[0;32mIn[2], line 2\u001b[0m\n\u001b[1;32m      1\u001b[0m fn \u001b[39m=\u001b[39m opj(os\u001b[39m.\u001b[39mgetcwd(), \u001b[39m'\u001b[39m\u001b[39mexamples/conf_mwe_applyOBD.py\u001b[39m\u001b[39m'\u001b[39m)\n\u001b[0;32m----> 2\u001b[0m ana_mwe_OBD \u001b[39m=\u001b[39m run(config\u001b[39m=\u001b[39;49mfn, job_id\u001b[39m=\u001b[39;49m\u001b[39m'\u001b[39;49m\u001b[39mdelens\u001b[39;49m\u001b[39m'\u001b[39;49m, verbose\u001b[39m=\u001b[39;49m\u001b[39mTrue\u001b[39;49;00m)\n\u001b[1;32m      3\u001b[0m ana_mwe_OBD\u001b[39m.\u001b[39mrun()\n\u001b[1;32m      4\u001b[0m ana_mwe_OBD \u001b[39m=\u001b[39m ana_mwe_OBD\u001b[39m.\u001b[39mjob\n",
      "File \u001b[0;32m/mnt/c/Users/sebas/OneDrive/Desktop/Uni/ext/git/delensalot/delensalot/run.py:55\u001b[0m, in \u001b[0;36mrun.__init__\u001b[0;34m(self, config, job_id, verbose, madel_kwargs)\u001b[0m\n\u001b[1;32m     53\u001b[0m \u001b[39mself\u001b[39m\u001b[39m.\u001b[39mlerepi_handler \u001b[39m=\u001b[39m handler\u001b[39m.\u001b[39mhandler(\u001b[39mself\u001b[39m\u001b[39m.\u001b[39mparser, madel_kwargs)\n\u001b[1;32m     54\u001b[0m \u001b[39mself\u001b[39m\u001b[39m.\u001b[39mlerepi_handler\u001b[39m.\u001b[39mcollect_job(\u001b[39mself\u001b[39m\u001b[39m.\u001b[39mjob_id)\n\u001b[0;32m---> 55\u001b[0m \u001b[39mself\u001b[39m\u001b[39m.\u001b[39mmodel \u001b[39m=\u001b[39m \u001b[39mself\u001b[39;49m\u001b[39m.\u001b[39;49m_build_model()\n",
      "File \u001b[0;32m/mnt/c/Users/sebas/OneDrive/Desktop/Uni/ext/git/delensalot/delensalot/run.py:70\u001b[0m, in \u001b[0;36mrun._build_model\u001b[0;34m(self)\u001b[0m\n\u001b[1;32m     69\u001b[0m \u001b[39mdef\u001b[39;00m \u001b[39m_build_model\u001b[39m(\u001b[39mself\u001b[39m):\n\u001b[0;32m---> 70\u001b[0m     \u001b[39mself\u001b[39m\u001b[39m.\u001b[39mmodel \u001b[39m=\u001b[39m \u001b[39mself\u001b[39;49m\u001b[39m.\u001b[39;49mlerepi_handler\u001b[39m.\u001b[39;49mbuild_model(\u001b[39mself\u001b[39;49m\u001b[39m.\u001b[39;49mlerepi_handler\u001b[39m.\u001b[39;49mjobs[\u001b[39m0\u001b[39;49m][\u001b[39mself\u001b[39;49m\u001b[39m.\u001b[39;49mjob_id])\n\u001b[1;32m     71\u001b[0m     \u001b[39mreturn\u001b[39;00m \u001b[39mself\u001b[39m\u001b[39m.\u001b[39mmodel\n",
      "File \u001b[0;32m~/anaconda3/envs/delensalot/lib/python3.11/site-packages/logdecorator/decorator.py:19\u001b[0m, in \u001b[0;36mDecoratorMixin.__call__.<locals>.wrapper\u001b[0;34m(*args, **kwargs)\u001b[0m\n\u001b[1;32m     17\u001b[0m \u001b[39m@wraps\u001b[39m(fn)\n\u001b[1;32m     18\u001b[0m \u001b[39mdef\u001b[39;00m \u001b[39mwrapper\u001b[39m(\u001b[39m*\u001b[39margs: Tuple[Any], \u001b[39m*\u001b[39m\u001b[39m*\u001b[39mkwargs: Any) \u001b[39m-\u001b[39m\u001b[39m>\u001b[39m Any:\n\u001b[0;32m---> 19\u001b[0m     \u001b[39mreturn\u001b[39;00m \u001b[39mself\u001b[39;49m\u001b[39m.\u001b[39;49mexecute(fn, \u001b[39m*\u001b[39;49margs, \u001b[39m*\u001b[39;49m\u001b[39m*\u001b[39;49mkwargs)\n",
      "File \u001b[0;32m~/anaconda3/envs/delensalot/lib/python3.11/site-packages/logdecorator/decorator.py:89\u001b[0m, in \u001b[0;36mlog_on_start.execute\u001b[0;34m(self, fn, *args, **kwargs)\u001b[0m\n\u001b[1;32m     87\u001b[0m \u001b[39mdef\u001b[39;00m \u001b[39mexecute\u001b[39m(\u001b[39mself\u001b[39m, fn: FunctionType, \u001b[39m*\u001b[39margs: Tuple[Any], \u001b[39m*\u001b[39m\u001b[39m*\u001b[39mkwargs: Any) \u001b[39m-\u001b[39m\u001b[39m>\u001b[39m Any:\n\u001b[1;32m     88\u001b[0m     \u001b[39mself\u001b[39m\u001b[39m.\u001b[39m_do_logging(fn, \u001b[39m*\u001b[39margs, \u001b[39m*\u001b[39m\u001b[39m*\u001b[39mkwargs)\n\u001b[0;32m---> 89\u001b[0m     \u001b[39mreturn\u001b[39;00m \u001b[39msuper\u001b[39;49m()\u001b[39m.\u001b[39;49mexecute(fn, \u001b[39m*\u001b[39;49margs, \u001b[39m*\u001b[39;49m\u001b[39m*\u001b[39;49mkwargs)\n",
      "File \u001b[0;32m~/anaconda3/envs/delensalot/lib/python3.11/site-packages/logdecorator/decorator.py:13\u001b[0m, in \u001b[0;36mDecoratorMixin.execute\u001b[0;34m(self, fn, *args, **kwargs)\u001b[0m\n\u001b[1;32m     12\u001b[0m \u001b[39mdef\u001b[39;00m \u001b[39mexecute\u001b[39m(\u001b[39mself\u001b[39m, fn: FunctionType, \u001b[39m*\u001b[39margs: Tuple[Any], \u001b[39m*\u001b[39m\u001b[39m*\u001b[39mkwargs: Any) \u001b[39m-\u001b[39m\u001b[39m>\u001b[39m Any:\n\u001b[0;32m---> 13\u001b[0m     \u001b[39mreturn\u001b[39;00m fn(\u001b[39m*\u001b[39;49margs, \u001b[39m*\u001b[39;49m\u001b[39m*\u001b[39;49mkwargs)\n",
      "File \u001b[0;32m~/anaconda3/envs/delensalot/lib/python3.11/site-packages/logdecorator/decorator.py:19\u001b[0m, in \u001b[0;36mDecoratorMixin.__call__.<locals>.wrapper\u001b[0;34m(*args, **kwargs)\u001b[0m\n\u001b[1;32m     17\u001b[0m \u001b[39m@wraps\u001b[39m(fn)\n\u001b[1;32m     18\u001b[0m \u001b[39mdef\u001b[39;00m \u001b[39mwrapper\u001b[39m(\u001b[39m*\u001b[39margs: Tuple[Any], \u001b[39m*\u001b[39m\u001b[39m*\u001b[39mkwargs: Any) \u001b[39m-\u001b[39m\u001b[39m>\u001b[39m Any:\n\u001b[0;32m---> 19\u001b[0m     \u001b[39mreturn\u001b[39;00m \u001b[39mself\u001b[39;49m\u001b[39m.\u001b[39;49mexecute(fn, \u001b[39m*\u001b[39;49margs, \u001b[39m*\u001b[39;49m\u001b[39m*\u001b[39;49mkwargs)\n",
      "File \u001b[0;32m~/anaconda3/envs/delensalot/lib/python3.11/site-packages/logdecorator/decorator.py:111\u001b[0m, in \u001b[0;36mlog_on_end.execute\u001b[0;34m(self, fn, *args, **kwargs)\u001b[0m\n\u001b[1;32m    110\u001b[0m \u001b[39mdef\u001b[39;00m \u001b[39mexecute\u001b[39m(\u001b[39mself\u001b[39m, fn: FunctionType, \u001b[39m*\u001b[39margs: Any, \u001b[39m*\u001b[39m\u001b[39m*\u001b[39mkwargs: Any) \u001b[39m-\u001b[39m\u001b[39m>\u001b[39m Any:\n\u001b[0;32m--> 111\u001b[0m     result \u001b[39m=\u001b[39m \u001b[39msuper\u001b[39;49m()\u001b[39m.\u001b[39;49mexecute(fn, \u001b[39m*\u001b[39;49margs, \u001b[39m*\u001b[39;49m\u001b[39m*\u001b[39;49mkwargs)\n\u001b[1;32m    112\u001b[0m     \u001b[39mself\u001b[39m\u001b[39m.\u001b[39m_do_logging(fn, result, \u001b[39m*\u001b[39margs, \u001b[39m*\u001b[39m\u001b[39m*\u001b[39mkwargs)\n\u001b[1;32m    114\u001b[0m     \u001b[39mreturn\u001b[39;00m result\n",
      "File \u001b[0;32m~/anaconda3/envs/delensalot/lib/python3.11/site-packages/logdecorator/decorator.py:13\u001b[0m, in \u001b[0;36mDecoratorMixin.execute\u001b[0;34m(self, fn, *args, **kwargs)\u001b[0m\n\u001b[1;32m     12\u001b[0m \u001b[39mdef\u001b[39;00m \u001b[39mexecute\u001b[39m(\u001b[39mself\u001b[39m, fn: FunctionType, \u001b[39m*\u001b[39margs: Tuple[Any], \u001b[39m*\u001b[39m\u001b[39m*\u001b[39mkwargs: Any) \u001b[39m-\u001b[39m\u001b[39m>\u001b[39m Any:\n\u001b[0;32m---> 13\u001b[0m     \u001b[39mreturn\u001b[39;00m fn(\u001b[39m*\u001b[39;49margs, \u001b[39m*\u001b[39;49m\u001b[39m*\u001b[39;49mkwargs)\n",
      "File \u001b[0;32m/mnt/c/Users/sebas/OneDrive/Desktop/Uni/ext/git/delensalot/delensalot/lerepi/core/handler.py:102\u001b[0m, in \u001b[0;36mhandler.build_model\u001b[0;34m(self, job)\u001b[0m\n\u001b[1;32m     99\u001b[0m \u001b[39m@log_on_start\u001b[39m(logging\u001b[39m.\u001b[39mINFO, \u001b[39m\"\u001b[39m\u001b[39mbuild_model() Started\u001b[39m\u001b[39m\"\u001b[39m)\n\u001b[1;32m    100\u001b[0m \u001b[39m@log_on_end\u001b[39m(logging\u001b[39m.\u001b[39mINFO, \u001b[39m\"\u001b[39m\u001b[39mbuild_model() Finished\u001b[39m\u001b[39m\"\u001b[39m)\n\u001b[1;32m    101\u001b[0m \u001b[39mdef\u001b[39;00m \u001b[39mbuild_model\u001b[39m(\u001b[39mself\u001b[39m, job):\n\u001b[0;32m--> 102\u001b[0m     \u001b[39mreturn\u001b[39;00m transform(\u001b[39m*\u001b[39;49mjob[\u001b[39m0\u001b[39;49m])\n",
      "File \u001b[0;32m/mnt/c/Users/sebas/OneDrive/Desktop/Uni/ext/git/delensalot/delensalot/lerepi/core/visitor.py:26\u001b[0m, in \u001b[0;36m_Visitor.__call__\u001b[0;34m(self, arg1, arg2)\u001b[0m\n\u001b[1;32m     24\u001b[0m \u001b[39mdef\u001b[39;00m \u001b[39m__call__\u001b[39m(\u001b[39mself\u001b[39m, arg1, arg2):\n\u001b[1;32m     25\u001b[0m     fun \u001b[39m=\u001b[39m \u001b[39mself\u001b[39m\u001b[39m.\u001b[39mcases[\u001b[39mtype\u001b[39m(arg1), \u001b[39mtype\u001b[39m(arg2)]\n\u001b[0;32m---> 26\u001b[0m     \u001b[39mreturn\u001b[39;00m fun(arg1, arg2)\n",
      "File \u001b[0;32m/mnt/c/Users/sebas/OneDrive/Desktop/Uni/ext/git/delensalot/delensalot/lerepi/core/transformer/lerepi2dlensalot.py:1074\u001b[0m, in \u001b[0;36mf5\u001b[0;34m(expr, transformer)\u001b[0m\n\u001b[1;32m   1072\u001b[0m \u001b[39m@transform\u001b[39m\u001b[39m.\u001b[39mcase(DLENSALOT_Model_mm, l2d_Transformer)\n\u001b[1;32m   1073\u001b[0m \u001b[39mdef\u001b[39;00m \u001b[39mf5\u001b[39m(expr, transformer): \u001b[39m# pylint: disable=missing-function-docstring\u001b[39;00m\n\u001b[0;32m-> 1074\u001b[0m     \u001b[39mreturn\u001b[39;00m transformer\u001b[39m.\u001b[39;49mbuild(expr)\n",
      "File \u001b[0;32m~/anaconda3/envs/delensalot/lib/python3.11/site-packages/logdecorator/decorator.py:19\u001b[0m, in \u001b[0;36mDecoratorMixin.__call__.<locals>.wrapper\u001b[0;34m(*args, **kwargs)\u001b[0m\n\u001b[1;32m     17\u001b[0m \u001b[39m@wraps\u001b[39m(fn)\n\u001b[1;32m     18\u001b[0m \u001b[39mdef\u001b[39;00m \u001b[39mwrapper\u001b[39m(\u001b[39m*\u001b[39margs: Tuple[Any], \u001b[39m*\u001b[39m\u001b[39m*\u001b[39mkwargs: Any) \u001b[39m-\u001b[39m\u001b[39m>\u001b[39m Any:\n\u001b[0;32m---> 19\u001b[0m     \u001b[39mreturn\u001b[39;00m \u001b[39mself\u001b[39;49m\u001b[39m.\u001b[39;49mexecute(fn, \u001b[39m*\u001b[39;49margs, \u001b[39m*\u001b[39;49m\u001b[39m*\u001b[39;49mkwargs)\n",
      "File \u001b[0;32m~/anaconda3/envs/delensalot/lib/python3.11/site-packages/logdecorator/decorator.py:89\u001b[0m, in \u001b[0;36mlog_on_start.execute\u001b[0;34m(self, fn, *args, **kwargs)\u001b[0m\n\u001b[1;32m     87\u001b[0m \u001b[39mdef\u001b[39;00m \u001b[39mexecute\u001b[39m(\u001b[39mself\u001b[39m, fn: FunctionType, \u001b[39m*\u001b[39margs: Tuple[Any], \u001b[39m*\u001b[39m\u001b[39m*\u001b[39mkwargs: Any) \u001b[39m-\u001b[39m\u001b[39m>\u001b[39m Any:\n\u001b[1;32m     88\u001b[0m     \u001b[39mself\u001b[39m\u001b[39m.\u001b[39m_do_logging(fn, \u001b[39m*\u001b[39margs, \u001b[39m*\u001b[39m\u001b[39m*\u001b[39mkwargs)\n\u001b[0;32m---> 89\u001b[0m     \u001b[39mreturn\u001b[39;00m \u001b[39msuper\u001b[39;49m()\u001b[39m.\u001b[39;49mexecute(fn, \u001b[39m*\u001b[39;49margs, \u001b[39m*\u001b[39;49m\u001b[39m*\u001b[39;49mkwargs)\n",
      "File \u001b[0;32m~/anaconda3/envs/delensalot/lib/python3.11/site-packages/logdecorator/decorator.py:13\u001b[0m, in \u001b[0;36mDecoratorMixin.execute\u001b[0;34m(self, fn, *args, **kwargs)\u001b[0m\n\u001b[1;32m     12\u001b[0m \u001b[39mdef\u001b[39;00m \u001b[39mexecute\u001b[39m(\u001b[39mself\u001b[39m, fn: FunctionType, \u001b[39m*\u001b[39margs: Tuple[Any], \u001b[39m*\u001b[39m\u001b[39m*\u001b[39mkwargs: Any) \u001b[39m-\u001b[39m\u001b[39m>\u001b[39m Any:\n\u001b[0;32m---> 13\u001b[0m     \u001b[39mreturn\u001b[39;00m fn(\u001b[39m*\u001b[39;49margs, \u001b[39m*\u001b[39;49m\u001b[39m*\u001b[39;49mkwargs)\n",
      "File \u001b[0;32m~/anaconda3/envs/delensalot/lib/python3.11/site-packages/logdecorator/decorator.py:19\u001b[0m, in \u001b[0;36mDecoratorMixin.__call__.<locals>.wrapper\u001b[0;34m(*args, **kwargs)\u001b[0m\n\u001b[1;32m     17\u001b[0m \u001b[39m@wraps\u001b[39m(fn)\n\u001b[1;32m     18\u001b[0m \u001b[39mdef\u001b[39;00m \u001b[39mwrapper\u001b[39m(\u001b[39m*\u001b[39margs: Tuple[Any], \u001b[39m*\u001b[39m\u001b[39m*\u001b[39mkwargs: Any) \u001b[39m-\u001b[39m\u001b[39m>\u001b[39m Any:\n\u001b[0;32m---> 19\u001b[0m     \u001b[39mreturn\u001b[39;00m \u001b[39mself\u001b[39;49m\u001b[39m.\u001b[39;49mexecute(fn, \u001b[39m*\u001b[39;49margs, \u001b[39m*\u001b[39;49m\u001b[39m*\u001b[39;49mkwargs)\n",
      "File \u001b[0;32m~/anaconda3/envs/delensalot/lib/python3.11/site-packages/logdecorator/decorator.py:111\u001b[0m, in \u001b[0;36mlog_on_end.execute\u001b[0;34m(self, fn, *args, **kwargs)\u001b[0m\n\u001b[1;32m    110\u001b[0m \u001b[39mdef\u001b[39;00m \u001b[39mexecute\u001b[39m(\u001b[39mself\u001b[39m, fn: FunctionType, \u001b[39m*\u001b[39margs: Any, \u001b[39m*\u001b[39m\u001b[39m*\u001b[39mkwargs: Any) \u001b[39m-\u001b[39m\u001b[39m>\u001b[39m Any:\n\u001b[0;32m--> 111\u001b[0m     result \u001b[39m=\u001b[39m \u001b[39msuper\u001b[39;49m()\u001b[39m.\u001b[39;49mexecute(fn, \u001b[39m*\u001b[39;49margs, \u001b[39m*\u001b[39;49m\u001b[39m*\u001b[39;49mkwargs)\n\u001b[1;32m    112\u001b[0m     \u001b[39mself\u001b[39m\u001b[39m.\u001b[39m_do_logging(fn, result, \u001b[39m*\u001b[39margs, \u001b[39m*\u001b[39m\u001b[39m*\u001b[39mkwargs)\n\u001b[1;32m    114\u001b[0m     \u001b[39mreturn\u001b[39;00m result\n",
      "File \u001b[0;32m~/anaconda3/envs/delensalot/lib/python3.11/site-packages/logdecorator/decorator.py:13\u001b[0m, in \u001b[0;36mDecoratorMixin.execute\u001b[0;34m(self, fn, *args, **kwargs)\u001b[0m\n\u001b[1;32m     12\u001b[0m \u001b[39mdef\u001b[39;00m \u001b[39mexecute\u001b[39m(\u001b[39mself\u001b[39m, fn: FunctionType, \u001b[39m*\u001b[39margs: Tuple[Any], \u001b[39m*\u001b[39m\u001b[39m*\u001b[39mkwargs: Any) \u001b[39m-\u001b[39m\u001b[39m>\u001b[39m Any:\n\u001b[0;32m---> 13\u001b[0m     \u001b[39mreturn\u001b[39;00m fn(\u001b[39m*\u001b[39;49margs, \u001b[39m*\u001b[39;49m\u001b[39m*\u001b[39;49mkwargs)\n",
      "File \u001b[0;32m/mnt/c/Users/sebas/OneDrive/Desktop/Uni/ext/git/delensalot/delensalot/lerepi/core/transformer/lerepi2dlensalot.py:840\u001b[0m, in \u001b[0;36ml2d_Transformer.build\u001b[0;34m(self, cf)\u001b[0m\n\u001b[1;32m    836\u001b[0m dl \u001b[39m=\u001b[39m DLENSALOT_Concept()\n\u001b[1;32m    838\u001b[0m dl\u001b[39m.\u001b[39mblt_pert \u001b[39m=\u001b[39m cf\u001b[39m.\u001b[39mqerec\u001b[39m.\u001b[39mblt_pert\n\u001b[0;32m--> 840\u001b[0m _process_Madel(dl, cf\u001b[39m.\u001b[39;49mmadel)\n\u001b[1;32m    841\u001b[0m _process_Config(dl, cf\u001b[39m.\u001b[39mconfig)\n\u001b[1;32m    842\u001b[0m _check_powspeccalculator(dl\u001b[39m.\u001b[39mcl_calc)\n",
      "File \u001b[0;32m/mnt/c/Users/sebas/OneDrive/Desktop/Uni/ext/git/delensalot/delensalot/lerepi/core/transformer/lerepi2dlensalot.py:630\u001b[0m, in \u001b[0;36ml2d_Transformer.build.<locals>._process_Madel\u001b[0;34m(dl, ma)\u001b[0m\n\u001b[1;32m    627\u001b[0m \u001b[39mdef\u001b[39;00m \u001b[39m_process_Madel\u001b[39m(dl, ma):\n\u001b[1;32m    629\u001b[0m     dl\u001b[39m.\u001b[39mdata_from_CFS \u001b[39m=\u001b[39m ma\u001b[39m.\u001b[39mdata_from_CFS\n\u001b[0;32m--> 630\u001b[0m     dl\u001b[39m.\u001b[39mk \u001b[39m=\u001b[39m cf\u001b[39m.\u001b[39;49manalysis\u001b[39m.\u001b[39;49mK\n\u001b[1;32m    631\u001b[0m     dl\u001b[39m.\u001b[39mversion \u001b[39m=\u001b[39m cf\u001b[39m.\u001b[39manalysis\u001b[39m.\u001b[39mV\n\u001b[1;32m    633\u001b[0m     dl\u001b[39m.\u001b[39mits \u001b[39m=\u001b[39m [\u001b[39m0\u001b[39m] \u001b[39mif\u001b[39;00m ma\u001b[39m.\u001b[39miterations \u001b[39m==\u001b[39m [] \u001b[39melse\u001b[39;00m ma\u001b[39m.\u001b[39miterations\n",
      "\u001b[0;31mAttributeError\u001b[0m: 'DLENSALOT_Analysis' object has no attribute 'K'"
     ]
    }
   ],
   "source": [
    "fn = opj(os.getcwd(), 'examples/conf_mwe_applyOBD.py')\n",
    "ana_mwe_OBD = run(config=fn, job_id='delens', verbose=True)\n",
    "ana_mwe_OBD.run()\n",
    "ana_mwe_OBD = ana_mwe_OBD.job"
   ]
  },
  {
   "cell_type": "code",
   "execution_count": null,
   "metadata": {},
   "outputs": [],
   "source": []
  }
 ],
 "metadata": {
  "kernelspec": {
   "display_name": "delensalot",
   "language": "python",
   "name": "python3"
  },
  "language_info": {
   "codemirror_mode": {
    "name": "ipython",
    "version": 3
   },
   "file_extension": ".py",
   "mimetype": "text/x-python",
   "name": "python",
   "nbconvert_exporter": "python",
   "pygments_lexer": "ipython3",
   "version": "3.11.3"
  },
  "orig_nbformat": 4
 },
 "nbformat": 4,
 "nbformat_minor": 2
}
