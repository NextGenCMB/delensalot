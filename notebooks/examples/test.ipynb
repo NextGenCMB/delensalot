{
 "cells": [
  {
   "cell_type": "code",
   "execution_count": 7,
   "metadata": {},
   "outputs": [
    {
     "name": "stdout",
     "output_type": "stream",
     "text": [
      "/home/belkner/anaconda3/lib/python3.9/os.py\n",
      "cond4mpi does not exists\n",
      "could not setup healpix hack. reverting to standard healpy\n"
     ]
    }
   ],
   "source": [
    "import multiprocessing\n",
    "import psutil\n",
    "\n",
    "import numpy as np\n",
    "import healpy as hp\n",
    "\n",
    "import os\n",
    "print(os.__file__)\n",
    "from os.path import join as opj\n",
    "\n",
    "import numpy as np\n",
    "import healpy as hp\n",
    "import matplotlib.pyplot as plt\n",
    "\n",
    "import lenscarf\n",
    "from lenscarf.run import run\n",
    "from lenscarf.lerepi.visalot import plot_helper as ph\n",
    "\n",
    "fn = opj(os.getcwd(), 'conf_mwe_fullsky_fastWF.py')\n",
    "import os\n",
    "if \"SCRATCH\" not in os.environ:\n",
    "    os.environ[\"SCRATCH\"] = \"/mnt/c/Users/sebas/OneDrive/SCRATCH\""
   ]
  },
  {
   "cell_type": "code",
   "execution_count": 3,
   "metadata": {},
   "outputs": [],
   "source": [
    "mf = np.load('/mnt/c/Users/sebas/OneDrive/SCRATCH/dlensalot/lenscarf/generic/sims_cmb_len_lminB200_my_first_dlensalot_analysis_fastWF_lownoise/p_p_sim0000noMF/mf.npy')"
   ]
  },
  {
   "cell_type": "code",
   "execution_count": 6,
   "metadata": {},
   "outputs": [
    {
     "data": {
      "text/plain": [
       "6"
      ]
     },
     "execution_count": 6,
     "metadata": {},
     "output_type": "execute_result"
    }
   ],
   "source": [
    "multiprocessing.cpu_count()\n",
    "int(psutil.cpu_count(logical=False))"
   ]
  },
  {
   "cell_type": "code",
   "execution_count": 3,
   "metadata": {},
   "outputs": [
    {
     "data": {
      "text/plain": [
       "2"
      ]
     },
     "execution_count": 3,
     "metadata": {},
     "output_type": "execute_result"
    }
   ],
   "source": [
    "int(psutil.cpu_count()/psutil.cpu_count(logical=False))"
   ]
  },
  {
   "cell_type": "code",
   "execution_count": null,
   "metadata": {},
   "outputs": [],
   "source": []
  }
 ],
 "metadata": {
  "kernelspec": {
   "display_name": "base",
   "language": "python",
   "name": "python3"
  },
  "language_info": {
   "codemirror_mode": {
    "name": "ipython",
    "version": 3
   },
   "file_extension": ".py",
   "mimetype": "text/x-python",
   "name": "python",
   "nbconvert_exporter": "python",
   "pygments_lexer": "ipython3",
   "version": "3.9.16"
  },
  "orig_nbformat": 4,
  "vscode": {
   "interpreter": {
    "hash": "65961d4674e66eb6a6f8a9136b5ded565d50b3b2a8296e6abdb99c8dbd69c6d4"
   }
  }
 },
 "nbformat": 4,
 "nbformat_minor": 2
}
