{
 "cells": [
  {
   "attachments": {},
   "cell_type": "markdown",
   "id": "7339e9b4-9187-4181-82fe-76cc47f93161",
   "metadata": {},
   "source": [
    "# Interactive minimal working example\n",
    "In this notebook you are going to run a single simulation, interactively, using the `simulation module` in `dlensalot/ana/config/examples/`, and our goal is to plot the lensing potential estimate."
   ]
  },
  {
   "attachments": {},
   "cell_type": "markdown",
   "id": "b2f24c79",
   "metadata": {},
   "source": [
    "# Header"
   ]
  },
  {
   "cell_type": "code",
   "execution_count": null,
   "id": "fa0679f4-94e2-46f6-89f6-4d7ca782d3b3",
   "metadata": {},
   "outputs": [],
   "source": [
    "import os\n",
    "from os.path import join as opj\n",
    "import numpy as np\n",
    "import healpy as hp\n",
    "\n",
    "import matplotlib.pyplot as plt\n",
    "\n",
    "import lenscarf\n",
    "from lenscarf.run import run"
   ]
  },
  {
   "cell_type": "markdown",
   "id": "89997871",
   "metadata": {},
   "source": [
    "# Choose analysis"
   ]
  },
  {
   "cell_type": "code",
   "execution_count": null,
   "id": "15f61a75-9182-4379-bc43-3c0a7398e34b",
   "metadata": {},
   "outputs": [],
   "source": [
    "## minimal working example\n",
    "fn = opj(os.path.dirname(os.path.abspath(lenscarf.__file__)),'ana/config/examples/mwe/conf_mwe.py')\n",
    "print(fn)\n",
    "ana_mwe = run(config=fn, job_ID='MAP_lensrec', verbose=False).job"
   ]
  },
  {
   "attachments": {},
   "cell_type": "markdown",
   "id": "531259de",
   "metadata": {},
   "source": [
    "# Check configuration\n",
    "Before running lensing reconstruction, let us look into the configuration file"
   ]
  },
  {
   "cell_type": "code",
   "execution_count": null,
   "id": "e9ef976b-1152-4ca0-b2e4-d4b20fe62f06",
   "metadata": {},
   "outputs": [],
   "source": [
    "ana_mwe.__dict__.keys()"
   ]
  },
  {
   "attachments": {},
   "cell_type": "markdown",
   "id": "2987fbb7",
   "metadata": {},
   "source": [
    "# Run ananlysis\n",
    "This may take a while. Good time to grab a coffee (but run the cell before first)"
   ]
  },
  {
   "cell_type": "code",
   "execution_count": null,
   "id": "a4bb9439",
   "metadata": {},
   "outputs": [],
   "source": [
    "ana_mwe.run()"
   ]
  },
  {
   "attachments": {},
   "cell_type": "markdown",
   "id": "17f2cbd0",
   "metadata": {},
   "source": [
    "# Check results\n",
    "Loading the configuration without any `job_id` defaults to having access to handy functions"
   ]
  },
  {
   "cell_type": "code",
   "execution_count": null,
   "id": "a47435ff",
   "metadata": {},
   "outputs": [],
   "source": [
    "fn = opj(lenscarf.TEMP, 'conf_mwe.py')\n",
    "my_dlensalot_results = run(config=fn, verbose=False).job"
   ]
  },
  {
   "cell_type": "code",
   "execution_count": null,
   "id": "18cd58c0",
   "metadata": {},
   "outputs": [],
   "source": [
    "QE_lensing_potential = my_dlensalot_results.load_plm(simidx=0, it=0)\n",
    "MAP_lensing_potential = my_dlensalot_results.load_plm(simidx=0, it=-1)\n",
    "\n",
    "QE_mean_field = my_dlensalot_results.load_mf(simidx=0, it=0)\n",
    "MAP_mean_field = my_dlensalot_results.load_mf(simidx=0, it=-1)\n",
    "\n",
    "QE_Blensing_template = my_dlensalot_results.get_blt(simidx=0, it=0)\n",
    "MAP_Blensing_template = my_dlensalot_results.get_blt(simidx=0, it=-1)\n",
    "\n",
    "QE_Eivf = my_dlensalot_results.get_ivf(simidx=0, it=0, 'E')\n",
    "MAP_Eivf = my_dlensalot_results.get_ivf(simidx=0, it=-1, 'E')\n",
    "\n",
    "QE_EWF = my_dlensalot_results.get_wf(simidx=0, it=0, 'E')\n",
    "MAP_EWF = my_dlensalot_results.get_wf(simidx=0, it=-1, 'E')\n",
    "\n",
    "MAP_Blensing_template = my_dlensalot_results.get_blt(simidx=0, it=-1)\n",
    "MAP_Blensing_template = my_dlensalot_results.get_blt(simidx=0, it=-1)"
   ]
  },
  {
   "attachments": {},
   "cell_type": "markdown",
   "id": "a62d7cf0",
   "metadata": {},
   "source": [
    "## Lensing potential"
   ]
  },
  {
   "cell_type": "code",
   "execution_count": null,
   "id": "b7fad59e",
   "metadata": {},
   "outputs": [],
   "source": [
    "plt.plot(hp.alm2cl(MAP_lensing_potential))\n",
    "plt.show()\n",
    "\n",
    "hp.mollview(hp.alm2map(MAP_lensing_potential))\n",
    "plt.show()"
   ]
  },
  {
   "attachments": {},
   "cell_type": "markdown",
   "id": "3c430bf1",
   "metadata": {},
   "source": [
    "## Delensed maps\n",
    "simply subtract the B lensing template from the input B lensing map (here FFP10)"
   ]
  },
  {
   "cell_type": "code",
   "execution_count": null,
   "id": "60feb8c2",
   "metadata": {},
   "outputs": [],
   "source": [
    "fiducial_lm = my_dlensalot_results.get_fiducial_lm()\n",
    "MAP_Blensing_template = my_dlensalot_results.get_blt(simidx=0, it=-1)\n",
    "MAP_delensed_map = fiducial_lm - MAP_Blensing_template\n",
    "\n",
    "hp.mollview(hp.alm2map(MAP_lensing_potential))\n",
    "plt.show()"
   ]
  },
  {
   "cell_type": "markdown",
   "id": "819033ff",
   "metadata": {},
   "source": []
  }
 ],
 "metadata": {
  "kernelspec": {
   "display_name": "Python 3",
   "language": "python",
   "name": "python3"
  },
  "language_info": {
   "codemirror_mode": {
    "name": "ipython",
    "version": 3
   },
   "file_extension": ".py",
   "mimetype": "text/x-python",
   "name": "python",
   "nbconvert_exporter": "python",
   "pygments_lexer": "ipython3",
   "version": "3.8.10"
  },
  "vscode": {
   "interpreter": {
    "hash": "916dbcbb3f70747c44a77c7bcd40155683ae19c65e1c03b4aa3499c5328201f1"
   }
  }
 },
 "nbformat": 4,
 "nbformat_minor": 5
}
