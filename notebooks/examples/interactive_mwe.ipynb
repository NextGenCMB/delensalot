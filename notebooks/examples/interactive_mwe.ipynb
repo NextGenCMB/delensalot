{
 "cells": [
  {
   "cell_type": "markdown",
   "id": "7339e9b4-9187-4181-82fe-76cc47f93161",
   "metadata": {},
   "source": [
    "# Interactive minimal working example\n",
    "In this notebook you are going to run a single simulation, interactively, using the `simulation module` in `dlensalot/ana/config/examples/`, and our goal is to plot the lensing potential estimate."
   ]
  },
  {
   "cell_type": "markdown",
   "id": "b2f24c79",
   "metadata": {},
   "source": [
    "# Header"
   ]
  },
  {
   "cell_type": "code",
   "execution_count": 1,
   "id": "fa0679f4-94e2-46f6-89f6-4d7ca782d3b3",
   "metadata": {},
   "outputs": [
    {
     "name": "stdout",
     "output_type": "stream",
     "text": [
      "cond4mpi does not exists\n",
      "could not setup healpix hack. reverting to standard healpy\n",
      "MSC: using scarf with 2 OMP threads\n"
     ]
    }
   ],
   "source": [
    "import os\n",
    "from os.path import join as opj\n",
    "import numpy as np\n",
    "import healpy as hp\n",
    "\n",
    "import matplotlib.pyplot as plt\n",
    "\n",
    "import lenscarf\n",
    "from lenscarf.run import run"
   ]
  },
  {
   "cell_type": "markdown",
   "id": "89997871",
   "metadata": {},
   "source": [
    "# Choose analysis"
   ]
  },
  {
   "cell_type": "code",
   "execution_count": 2,
   "id": "15f61a75-9182-4379-bc43-3c0a7398e34b",
   "metadata": {},
   "outputs": [
    {
     "name": "stdout",
     "output_type": "stream",
     "text": [
      "/global/u2/s/sebibel/git/lenscarf/lenscarf/ana/config/examples/mwe/conf_mwe_fullsky.py\n",
      "INFO:: 01-27 08:32:: lenscarf.lerepi.core.handler.log - load_configfile() Started: /global/u2/s/sebibel/git/lenscarf/lenscarf/ana/config/examples/mwe/conf_mwe_fullsky.py\n",
      "INFO:: 01-27 08:32:: lenscarf.lerepi.core.handler.log - load_configfile() Finished\n",
      "INFO:: 01-27 08:32:: lenscarf.lerepi.core.handler.log - store() Started\n",
      "WARNING:: 01-27 08:32:: root.store - config file /pscratch/sd/s/sebibel/dlensalot/lenscarf/sims_mwe/mwe_lminB200_my_first_dlensalot_analysis/conf_mwe_fullsky.py already exist. Checking differences.\n",
      "INFO:: 01-27 08:32:: lenscarf.lerepi.core.handler.log - load_configfile() Started: /pscratch/sd/s/sebibel/dlensalot/lenscarf/sims_mwe/mwe_lminB200_my_first_dlensalot_analysis/conf_mwe_fullsky.py\n",
      "INFO:: 01-27 08:32:: lenscarf.lerepi.core.handler.log - load_configfile() Finished\n",
      "INFO:: 01-27 08:32:: root.store - config file look the same. Resuming where I left off last time.\n",
      "INFO:: 01-27 08:32:: root.store - Matching config file found. Resuming where I left off.\n",
      "INFO:: 01-27 08:32:: lenscarf.lerepi.core.handler.log - store() Finished\n",
      "INFO:: 01-27 08:32:: lenscarf.lerepi.core.handler.log - collect_jobs() Started\n",
      "INFO:: 01-27 08:32:: lenscarf.lerepi.core.handler.log - collect_jobs() Finished\n",
      "INFO:: 01-27 08:32:: lenscarf.lerepi.core.handler.log - get_jobs() Started\n",
      "INFO:: 01-27 08:32:: lenscarf.lerepi.core.handler.log - get_jobs() Finished\n",
      "INFO:: 01-27 08:32:: lenscarf.lerepi.core.handler.log - init_job() Started\n",
      "INFO:: 01-27 08:32:: lenscarf.lerepi.core.handler.init_job - transform started\n",
      "INFO:: 01-27 08:32:: lenscarf.lerepi.core.transformer.lerepi2dlensalot.log - build() started\n",
      "INFO:: 01-27 08:32:: lenscarf.lerepi.core.transformer.lerepi2dlensalot.log - _process_Meta() started\n",
      "INFO:: 01-27 08:32:: lenscarf.lerepi.core.transformer.lerepi2dlensalot.log - _process_Meta() finished\n",
      "INFO:: 01-27 08:32:: lenscarf.lerepi.core.transformer.lerepi2dlensalot.log - _process_Computing() started\n",
      "INFO:: 01-27 08:32:: lenscarf.lerepi.core.transformer.lerepi2dlensalot.log - _process_Computing() finished\n",
      "INFO:: 01-27 08:32:: lenscarf.lerepi.core.transformer.lerepi2dlensalot.log - _process_Analysis() started\n",
      "INFO:: 01-27 08:32:: lenscarf.lerepi.core.transformer.lerepi2dlensalot.log - _process_Analysis() finished\n",
      "INFO:: 01-27 08:32:: lenscarf.lerepi.core.transformer.lerepi2dlensalot.log - _process_Noisemodel() started\n",
      "INFO:: 01-27 08:32:: lenscarf.lerepi.core.transformer.lerepi2dlensalot.log - _process_Noisemodel() finished\n",
      "INFO:: 01-27 08:32:: lenscarf.lerepi.core.transformer.lerepi2dlensalot.log - _process_Data() started\n",
      "INFO:: 01-27 08:32:: lenscarf.lerepi.core.transformer.lerepi2dlensalot.log - _process_Data() finished\n",
      "INFO:: 01-27 08:32:: lenscarf.lerepi.core.transformer.lerepi2dlensalot.log - _process_Qerec() started\n",
      "INFO:: 01-27 08:32:: lenscarf.lerepi.core.transformer.lerepi2dlensalot.log - _process_Qerec() finished\n",
      "INFO:: 01-27 08:32:: lenscarf.lerepi.core.transformer.lerepi2dlensalot.log - _process_Itrec() started\n",
      "INFO:: 01-27 08:32:: lenscarf.lerepi.core.transformer.lerepi2dlensalot.log - _process_Itrec() finished\n",
      "INFO:: 01-27 08:32:: lenscarf.lerepi.core.transformer.lerepi2dlensalot.build - I am going to work with the following values:\n",
      "INFO:: 01-27 08:32:: lenscarf.lerepi.core.transformer.lerepi2dlensalot.build - ---------------------------------------------------\n",
      "dversion:\t\n",
      "tr:\t2\n",
      "k:\tp_p\n",
      "version:\t\n",
      "simidxs:\t[  0   1   2   3   4   5   6   7   8   9  10  11  12  13  14  15  16  17\n",
      "  18  19  20  21  22  23  24  25  26  27  28  29  30  31  32  33  34  35\n",
      "  36  37  38  39  40  41  42  43  44  45  46  47  48  49  50  51  52  53\n",
      "  54  55  56  57  58  59  60  61  62  63  64  65  66  67  68  69  70  71\n",
      "  72  73  74  75  76  77  78  79  80  81  82  83  84  85  86  87  88  89\n",
      "  90  91  92  93  94  95  96  97  98  99 100 101 102 103 104 105 106 107\n",
      " 108 109 110 111 112 113 114 115 116 117 118 119 120 121 122 123 124 125\n",
      " 126 127 128 129 130 131 132 133 134 135 136 137 138 139 140 141 142 143\n",
      " 144 145 146 147 148 149 150 151 152 153 154 155 156 157 158 159 160 161\n",
      " 162 163 164 165 166 167 168 169 170 171 172 173 174 175 176 177 178 179\n",
      " 180 181 182 183 184 185 186 187 188 189 190 191 192 193 194 195 196 197\n",
      " 198 199]\n",
      "simidxs_mf:\t[  0   1   2   3   4   5   6   7   8   9  10  11  12  13  14  15  16  17\n",
      "  18  19  20  21  22  23  24  25  26  27  28  29  30  31  32  33  34  35\n",
      "  36  37  38  39  40  41  42  43  44  45  46  47  48  49  50  51  52  53\n",
      "  54  55  56  57  58  59  60  61  62  63  64  65  66  67  68  69  70  71\n",
      "  72  73  74  75  76  77  78  79  80  81  82  83  84  85  86  87  88  89\n",
      "  90  91  92  93  94  95  96  97  98  99 100 101 102 103 104 105 106 107\n",
      " 108 109 110 111 112 113 114 115 116 117 118 119 120 121 122 123 124 125\n",
      " 126 127 128 129 130 131 132 133 134 135 136 137 138 139 140 141 142 143\n",
      " 144 145 146 147 148 149 150 151 152 153 154 155 156 157 158 159 160 161\n",
      " 162 163 164 165 166 167 168 169 170 171 172 173 174 175 176 177 178 179\n",
      " 180 181 182 183 184 185 186 187 188 189 190 191 192 193 194 195 196 197\n",
      " 198 199]\n",
      "Nmf:\t200\n",
      "TEMP_suffix:\tmy_first_dlensalot_analysis\n",
      "TEMP:\t/pscratch/sd/s/sebibel/dlensalot/lenscarf/sims_mwe/mwe_lminB200_my_first_dlensalot_analysis\n",
      "lm_max_len:\t(4000, 4000)\n",
      "cls_unl:\t{'tt': array([0.00000000e+00, 3.15384486e+03, 1.08426834e+03, ...,\n",
      "       9.66229400e-10, 9.65260803e-10, 9.64292720e-10]), 'ee': array([0.00000000e+00, 0.00000000e+00, 3.62414129e-02, ...,\n",
      "       2.00006407e-12, 1.99423451e-12, 1.98828000e-12]), 'bb': array([0., 0., 0., ..., 0., 0., 0.]), 'te': array([0.00000000e+00, 0.00000000e+00, 2.93875049e+00, ...,\n",
      "       1.40842175e-11, 1.40724986e-11, 1.40607859e-11]), 'pp': array([0.00000000e+00, 5.94954817e-08, 8.92404300e-09, ...,\n",
      "       7.91637420e-25, 7.91001884e-25, 7.90366882e-25]), 'pt': array([0.00000000e+00, 6.20759604e-03, 1.28926184e-03, ...,\n",
      "       2.46796544e-19, 2.46782393e-19, 2.46768224e-19]), 'pe': array([ 0.00000000e+00,  0.00000000e+00, -5.60260517e-06, ...,\n",
      "        2.53157091e-22,  2.53085247e-22,  2.53013434e-22])}\n",
      "cls_len:\t{'tt': array([0.00000000e+00, 3.15384486e+03, 1.08437306e+03, ...,\n",
      "       4.73193243e-08, 4.72884497e-08, 4.72312005e-08]), 'ee': array([0.00000000e+00, 0.00000000e+00, 3.62435072e-02, ...,\n",
      "       5.94198156e-10, 5.93471562e-10, 5.93194004e-10]), 'bb': array([0.00000000e+00, 0.00000000e+00, 1.97459570e-06, ...,\n",
      "       3.76402516e-10, 3.76293414e-10, 3.75748914e-10]), 'te': array([ 0.00000000e+00,  0.00000000e+00,  2.93875049e+00, ...,\n",
      "       -7.69387920e-10, -7.68650143e-10, -7.67912762e-10])}\n",
      "Lmin:\t2\n",
      "zbounds:\t(-1, 1)\n",
      "zbounds_len:\t(-1, 1)\n",
      "pb_ctr:\t-1\n",
      "pb_extent:\t1\n",
      "lmax_ivf:\t4000\n",
      "sky_coverage:\tisotropic\n",
      "spectrum_type:\twhite\n",
      "lmin_teb:\t(10, 10, 200)\n",
      "OBD:\tFalse\n",
      "tpl:\tNone\n",
      "tpl_kwargs:\t{}\n",
      "lmin_tlm:\t10\n",
      "lmin_elm:\t10\n",
      "lmin_blm:\t200\n",
      "nlev_t:\t0.35355339059327373\n",
      "nlev_p:\t0.5\n",
      "data_type:\talm\n",
      "data_field:\teb\n",
      "beam:\t1\n",
      "lmax_transf:\t4096\n",
      "nside:\t2048\n",
      "sims:\t<plancklens.sims.maps.cmb_maps_nlev object at 0x1508b2790e50>\n",
      "transferfunction:\tgauss_with_pixwin\n",
      "transf_tlm:\t[0.         0.         0.         ... 0.72812091 0.72800689 0.72789286]\n",
      "transf_elm:\t[0.         0.         0.         ... 0.72812091 0.72800689 0.72789286]\n",
      "transf_blm:\t[0.         0.         0.         ... 0.72812091 0.72800689 0.72789286]\n",
      "ftl:\t[     0.              0.              0.         ... 795858.61431245\n",
      " 797640.94798666 799477.4785886 ]\n",
      "fel:\t[       0.                0.                0.         ...\n",
      " 13492489.00045714 13503902.77931847 13515253.54068985]\n",
      "fbl:\t[       0.                0.                0.         ...\n",
      " 22813879.446963   22809348.65336904 22805009.00605706]\n",
      "ftl_unl:\t[      0.               0.               0.         ... 1631308.6406618\n",
      " 1638373.36331302 1645594.10493452]\n",
      "fel_unl:\t[       0.                0.                0.         ...\n",
      " 16322785.665823   16321336.40256969 16319984.07069126]\n",
      "fbl_unl:\t[       0.                0.                0.         ...\n",
      " 25061944.74323243 25054096.12295443 25046247.96485967]\n",
      "qe_tasks:\t['calc_phi', 'calc_meanfield']\n",
      "qe_lm_max_qlm:\t(4000, 4000)\n",
      "qe_lmax_qlm:\t4000\n",
      "lmax_qlm:\t4000\n",
      "qe_filter_directional:\tisotropic\n",
      "ivfs:\t<plancklens.filt.filt_simple.library_fullsky_sepTP object at 0x1508b6c82350>\n",
      "qlms_dd:\t<plancklens.qest.library object at 0x1508f4e10390>\n",
      "cg_tol:\t<function l2lensrec_Transformer.build.<locals>._process_Itrec.<locals>.<lambda> at 0x1508b26eb830>\n",
      "chain_model:\t\tp0:\t0\n",
      "\tp1:\t['diag_cl']\n",
      "\tp2:\tNone\n",
      "\tp3:\t2048\n",
      "\tp4:\tinf\n",
      "\tp5:\tNone\n",
      "\tp6:\ttr_cg\n",
      "\tp7:\tcache_mem\n",
      "\n",
      "chain_descr:\t<function l2lensrec_Transformer.build.<locals>._process_Qerec.<locals>.<lambda> at 0x1508b26eba70>\n",
      "cl_analysis:\tFalse\n",
      "btemplate_perturbative_lensremap:\tFalse\n",
      "it_tasks:\t['calc_phi', 'calc_meanfield']\n",
      "lm_max_unl:\t(4000, 4000)\n",
      "it_lm_max_qlm:\t(4000, 4000)\n",
      "lenjob_pbgeometry:\t<lenscarf.utils_scarf.pbdGeometry object at 0x1508b7cc1390>\n",
      "lenjob_geometry:\t<scarf.Geometry object at 0x1508b6862070>\n",
      "mf_dirname:\t/pscratch/sd/s/sebibel/dlensalot/lenscarf/sims_mwe/mwe_lminB200_my_first_dlensalot_analysis/mf_Nmf200\n",
      "it_filter_directional:\tisotropic\n",
      "sims_MAP:\t<plancklens.sims.maps.cmb_maps_nlev object at 0x1508b2790e50>\n",
      "itmax:\t10\n",
      "iterator_typ:\tfastWF\n",
      "lensres:\t0.8\n",
      "mfvar:\tNone\n",
      "soltn_cond:\t<function DLENSALOT_Itrec.<lambda> at 0x1508b280da70>\n",
      "stepper_model:\t\ttyp:\t-1\n",
      "\tlmax_qlm:\t-1\n",
      "\tmmax_qlm:\t-1\n",
      "\txa:\t-1\n",
      "\txb:\t-1\n",
      "\n",
      "cpp:\t[0.00000000e+00 0.00000000e+00 8.92404300e-09 ... 1.83803472e-23\n",
      " 1.83546046e-23 1.83288998e-23]\n",
      "---------------------------------------------------\n",
      "\n",
      "INFO:: 01-27 08:32:: lenscarf.lerepi.core.transformer.lerepi2dlensalot.log - build() finished\n",
      "INFO:: 01-27 08:32:: lenscarf.lerepi.core.handler.init_job - transform done\n",
      "INFO:: 01-27 08:32:: lenscarf.lerepi.core.handler.init_job - model init started\n",
      "INFO:: 01-27 08:32:: lenscarf.lerepi.core.handler.init_job - model init done\n",
      "INFO:: 01-27 08:32:: lenscarf.lerepi.core.handler.init_job - collect_jobs started\n",
      "INFO:: 01-27 08:32:: lenscarf.core.handler.log - collect_jobs() started: id=None\n",
      "INFO:: 01-27 08:32:: lenscarf.core.handler.collect_jobs - [  0   1   2   3   4   5   6   7   8   9  10  11  12  13  14  15  16  17\n",
      "  18  19  20  21  22  23  24  25  26  27  28  29  30  31  32  33  34  35\n",
      "  36  37  38  39  40  41  42  43  44  45  46  47  48  49  50  51  52  53\n",
      "  54  55  56  57  58  59  60  61  62  63  64  65  66  67  68  69  70  71\n",
      "  72  73  74  75  76  77  78  79  80  81  82  83  84  85  86  87  88  89\n",
      "  90  91  92  93  94  95  96  97  98  99 100 101 102 103 104 105 106 107\n",
      " 108 109 110 111 112 113 114 115 116 117 118 119 120 121 122 123 124 125\n",
      " 126 127 128 129 130 131 132 133 134 135 136 137 138 139 140 141 142 143\n",
      " 144 145 146 147 148 149 150 151 152 153 154 155 156 157 158 159 160 161\n",
      " 162 163 164 165 166 167 168 169 170 171 172 173 174 175 176 177 178 179\n",
      " 180 181 182 183 184 185 186 187 188 189 190 191 192 193 194 195 196 197\n",
      " 198 199] - None\n",
      "INFO:: 01-27 08:32:: lenscarf.core.handler.log - collect_jobs() finished: jobs=[[], [0, 1, 2, 3, 4, 5, 6, 7, 8, 9, 10, 11, 12, 13, 14, 15, 16, 17, 18, 19, 20, 21, 22, 23, 24, 25, 26, 27, 28, 29, 30, 31, 32, 33, 34, 35, 36, 37, 38, 39, 40, 41, 42, 43, 44, 45, 46, 47, 48, 49, 50, 51, 52, 53, 54, 55, 56, 57, 58, 59, 60, 61, 62, 63, 64, 65, 66, 67, 68, 69, 70, 71, 72, 73, 74, 75, 76, 77, 78, 79, 80, 81, 82, 83, 84, 85, 86, 87, 88, 89, 90, 91, 92, 93, 94, 95, 96, 97, 98, 99, 100, 101, 102, 103, 104, 105, 106, 107, 108, 109, 110, 111, 112, 113, 114, 115, 116, 117, 118, 119, 120, 121, 122, 123, 124, 125, 126, 127, 128, 129, 130, 131, 132, 133, 134, 135, 136, 137, 138, 139, 140, 141, 142, 143, 144, 145, 146, 147, 148, 149, 150, 151, 152, 153, 154, 155, 156, 157, 158, 159, 160, 161, 162, 163, 164, 165, 166, 167, 168, 169, 170, 171, 172, 173, 174, 175, 176, 177, 178, 179, 180, 181, 182, 183, 184, 185, 186, 187, 188, 189, 190, 191, 192, 193, 194, 195, 196, 197, 198, 199]]\n",
      "INFO:: 01-27 08:32:: lenscarf.lerepi.core.handler.init_job - collect_jobs done\n",
      "INFO:: 01-27 08:32:: lenscarf.lerepi.core.handler.log - init_job() Finished\n"
     ]
    }
   ],
   "source": [
    "## minimal working example\n",
    "fn = opj(os.path.dirname(os.path.abspath(lenscarf.__file__)),'ana/config/examples/mwe/conf_mwe_fullsky.py')\n",
    "print(fn)\n",
    "ana_mwe = run(config=fn, job_id='QE_lensrec', verbose=True).job"
   ]
  },
  {
   "cell_type": "markdown",
   "id": "531259de",
   "metadata": {},
   "source": [
    "# Check configuration\n",
    "Before running lensing reconstruction, let us look into the configuration file"
   ]
  },
  {
   "cell_type": "code",
   "execution_count": 3,
   "id": "29b10752-47d0-4104-96d0-4d76a5a88e28",
   "metadata": {},
   "outputs": [],
   "source": [
    "# ana_mwe.__dict__.keys()\n",
    "# ana_mwe.sims.__dict__.keys()"
   ]
  },
  {
   "cell_type": "code",
   "execution_count": 4,
   "id": "84878de8-5ff1-406b-b038-8a226f56213f",
   "metadata": {},
   "outputs": [],
   "source": [
    "# a = ana_mwe.ivfs.sim_lib.get_sim_pmap(0)\n",
    "# print(a)"
   ]
  },
  {
   "cell_type": "markdown",
   "id": "5acce7f0",
   "metadata": {},
   "source": [
    "## And how does the simulation data look like?"
   ]
  },
  {
   "cell_type": "code",
   "execution_count": 48,
   "id": "610b76af-ade4-4d89-911b-fea4c1b244bd",
   "metadata": {},
   "outputs": [
    {
     "data": {
      "text/plain": [
       "(3145725,)"
      ]
     },
     "execution_count": 48,
     "metadata": {},
     "output_type": "execute_result"
    }
   ],
   "source": [
    "ana_mwe"
   ]
  },
  {
   "cell_type": "code",
   "execution_count": null,
   "id": "7c6f518c-a160-4f2b-9530-10a8fc7668b9",
   "metadata": {},
   "outputs": [
    {
     "name": "stdout",
     "output_type": "stream",
     "text": [
      "INFO:: 01-27 08:32:: lenscarf.core.handler.log - run() started\n",
      "INFO:: 01-27 08:32:: lenscarf.core.handler.run - 0, task calc_phi started\n",
      "INFO:: 01-27 08:32:: lenscarf.core.handler.run - 0, task calc_meanfield started\n",
      "INFO:: 01-27 08:32:: lenscarf.core.handler.log - get_sim_qlm(0) started\n",
      "INFO:: 01-27 08:32:: lenscarf.remapping.__init__ -  Deflection std 4.85e+00 amin\n",
      " [00:02:15] collecting bands > 00%\n",
      "INFO:: 01-27 08:34:: lenscarf.remapping.__init__ -  Deflection std 4.85e+00 amin\n",
      " [00:02:15] collecting bands > 00%\n",
      "generating QU map with \n",
      "[   0.           +0.j            0.           +0.j\n",
      "   -0.           +0.j         ... 1640.72518659-2589.58538379j\n",
      " 2452.25517539-3214.90999622j -722.70604461+4589.93968269j] [    0.           +0.j             0.           +0.j\n",
      "     0.           +0.j         ... -5817.11362421 +239.9859219j\n",
      " -1349.31377411+2005.10233237j  1520.17075343+1341.51683802j] /pscratch/sd/s/sebibel/dlensalot/lenscarf/sims_mwe/mwe_lminB200_my_first_dlensalot_analysis/ivfs/sim_0000_elm.fits\n"
     ]
    }
   ],
   "source": [
    "ana_mwe.run()"
   ]
  },
  {
   "cell_type": "code",
   "execution_count": null,
   "id": "aa25ab6e-dd4f-4495-8322-cb415473465b",
   "metadata": {},
   "outputs": [],
   "source": []
  }
 ],
 "metadata": {
  "kernelspec": {
   "display_name": "py3.7p",
   "language": "python",
   "name": "py3.7p"
  },
  "language_info": {
   "codemirror_mode": {
    "name": "ipython",
    "version": 3
   },
   "file_extension": ".py",
   "mimetype": "text/x-python",
   "name": "python",
   "nbconvert_exporter": "python",
   "pygments_lexer": "ipython3",
   "version": "3.7.11"
  },
  "vscode": {
   "interpreter": {
    "hash": "96d0485bd602dee2fe546bdb1aa725bb056ad76da47667a4d750e05245214379"
   }
  }
 },
 "nbformat": 4,
 "nbformat_minor": 5
}
