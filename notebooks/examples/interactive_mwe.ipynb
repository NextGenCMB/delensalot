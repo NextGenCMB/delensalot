{
 "cells": [
  {
   "cell_type": "markdown",
   "id": "7339e9b4-9187-4181-82fe-76cc47f93161",
   "metadata": {},
   "source": [
    "# Interactive minimal working example\n",
    "In this notebook you are going to run a single simulation, interactively, using the `simulation module` in `dlensalot/ana/config/examples/`, and our goal is to plot the lensing potential estimate."
   ]
  },
  {
   "cell_type": "markdown",
   "id": "b2f24c79",
   "metadata": {},
   "source": [
    "# Header"
   ]
  },
  {
   "cell_type": "code",
   "execution_count": 1,
   "id": "fa0679f4-94e2-46f6-89f6-4d7ca782d3b3",
   "metadata": {},
   "outputs": [
    {
     "name": "stdout",
     "output_type": "stream",
     "text": [
      "cond4mpi does not exists\n",
      "could not setup healpix hack. reverting to standard healpy\n",
      "MSC: using scarf with 2 OMP threads\n"
     ]
    }
   ],
   "source": [
    "import os\n",
    "from os.path import join as opj\n",
    "import numpy as np\n",
    "import healpy as hp\n",
    "\n",
    "import matplotlib.pyplot as plt\n",
    "\n",
    "import lenscarf\n",
    "from lenscarf.run import run"
   ]
  },
  {
   "cell_type": "markdown",
   "id": "89997871",
   "metadata": {},
   "source": [
    "# Choose analysis"
   ]
  },
  {
   "cell_type": "markdown",
   "id": "c673dd35-8bf2-4e14-b7f8-48a8e30a4721",
   "metadata": {},
   "source": [
    "## We will go step by step and do QE lens reconstruction first"
   ]
  },
  {
   "cell_type": "code",
   "execution_count": 2,
   "id": "15f61a75-9182-4379-bc43-3c0a7398e34b",
   "metadata": {},
   "outputs": [
    {
     "name": "stdout",
     "output_type": "stream",
     "text": [
      "/global/u2/s/sebibel/git/lenscarf/lenscarf/ana/config/examples/mwe/conf_mwe_fullsky.py\n",
      "WARNING:: 01-27 08:48:: root.store - config file /pscratch/sd/s/sebibel/dlensalot/lenscarf/sims_mwe/mwe_lminB200_my_first_dlensalot_analysis/conf_mwe_fullsky.py already exist. Checking differences.\n"
     ]
    }
   ],
   "source": [
    "## minimal working example\n",
    "fn = opj(os.path.dirname(os.path.abspath(lenscarf.__file__)),'ana/config/examples/mwe/conf_mwe_fullsky.py')\n",
    "print(fn)\n",
    "ana_mwe = run(config=fn, job_id='QE_lensrec', verbose=False).job"
   ]
  },
  {
   "cell_type": "markdown",
   "id": "531259de",
   "metadata": {},
   "source": [
    "# Check configuration\n",
    "Before running lensing reconstruction, let us look into the configuration file"
   ]
  },
  {
   "cell_type": "code",
   "execution_count": 17,
   "id": "29b10752-47d0-4104-96d0-4d76a5a88e28",
   "metadata": {
    "collapsed": true,
    "jupyter": {
     "outputs_hidden": true
    },
    "tags": []
   },
   "outputs": [
    {
     "name": "stdout",
     "output_type": "stream",
     "text": [
      "\tdversion:\t\n",
      "\ttr:\t2\n",
      "\tk:\tp_p\n",
      "\tversion:\t\n",
      "\tsimidxs:\t[0 1]\n",
      "\tsimidxs_mf:\t[0 1]\n",
      "\tNmf:\t2\n",
      "\tTEMP_suffix:\tmy_first_dlensalot_analysis\n",
      "\tTEMP:\t/pscratch/sd/s/sebibel/dlensalot/lenscarf/sims_mwe/mwe_lminB200_my_first_dlensalot_analysis\n",
      "\tlm_max_len:\t(4000, 4000)\n",
      "\tcls_unl:\t{'tt': array([0.00000000e+00, 3.15384486e+03, 1.08426834e+03, ...,\n",
      "       9.66229400e-10, 9.65260803e-10, 9.64292720e-10]), 'ee': array([0.00000000e+00, 0.00000000e+00, 3.62414129e-02, ...,\n",
      "       2.00006407e-12, 1.99423451e-12, 1.98828000e-12]), 'bb': array([0., 0., 0., ..., 0., 0., 0.]), 'te': array([0.00000000e+00, 0.00000000e+00, 2.93875049e+00, ...,\n",
      "       1.40842175e-11, 1.40724986e-11, 1.40607859e-11]), 'pp': array([0.00000000e+00, 5.94954817e-08, 8.92404300e-09, ...,\n",
      "       7.91637420e-25, 7.91001884e-25, 7.90366882e-25]), 'pt': array([0.00000000e+00, 6.20759604e-03, 1.28926184e-03, ...,\n",
      "       2.46796544e-19, 2.46782393e-19, 2.46768224e-19]), 'pe': array([ 0.00000000e+00,  0.00000000e+00, -5.60260517e-06, ...,\n",
      "        2.53157091e-22,  2.53085247e-22,  2.53013434e-22])}\n",
      "\tcls_len:\t{'tt': array([0.00000000e+00, 3.15384486e+03, 1.08437306e+03, ...,\n",
      "       4.73193243e-08, 4.72884497e-08, 4.72312005e-08]), 'ee': array([0.00000000e+00, 0.00000000e+00, 3.62435072e-02, ...,\n",
      "       5.94198156e-10, 5.93471562e-10, 5.93194004e-10]), 'bb': array([0.00000000e+00, 0.00000000e+00, 1.97459570e-06, ...,\n",
      "       3.76402516e-10, 3.76293414e-10, 3.75748914e-10]), 'te': array([ 0.00000000e+00,  0.00000000e+00,  2.93875049e+00, ...,\n",
      "       -7.69387920e-10, -7.68650143e-10, -7.67912762e-10])}\n",
      "\tLmin:\t2\n",
      "\tzbounds:\t(-1, 1)\n",
      "\tzbounds_len:\t(-1, 1)\n",
      "\tpb_ctr:\t-1\n",
      "\tpb_extent:\t1\n",
      "\tlmax_ivf:\t4000\n",
      "\tsky_coverage:\tisotropic\n",
      "\tspectrum_type:\twhite\n",
      "\tlmin_teb:\t(10, 10, 200)\n",
      "\tOBD:\tFalse\n",
      "\ttpl:\tNone\n",
      "\ttpl_kwargs:\t{}\n",
      "\tlmin_tlm:\t10\n",
      "\tlmin_elm:\t10\n",
      "\tlmin_blm:\t200\n",
      "\tnlev_t:\t0.35355339059327373\n",
      "\tnlev_p:\t0.5\n",
      "\tdata_type:\talm\n",
      "\tdata_field:\teb\n",
      "\tbeam:\t1\n",
      "\tlmax_transf:\t4096\n",
      "\tnside:\t2048\n",
      "\tsims:\t<plancklens.sims.maps.cmb_maps_nlev object at 0x145a07a74c10>\n",
      "\ttransferfunction:\tgauss_with_pixwin\n",
      "\ttransf_tlm:\t[0.         0.         0.         ... 0.72812091 0.72800689 0.72789286]\n",
      "\ttransf_elm:\t[0.         0.         0.         ... 0.72812091 0.72800689 0.72789286]\n",
      "\ttransf_blm:\t[0.         0.         0.         ... 0.72812091 0.72800689 0.72789286]\n",
      "\tftl:\t[     0.              0.              0.         ... 795858.61431245\n",
      " 797640.94798666 799477.4785886 ]\n",
      "\tfel:\t[       0.                0.                0.         ...\n",
      " 13492489.00045714 13503902.77931847 13515253.54068985]\n",
      "\tfbl:\t[       0.                0.                0.         ...\n",
      " 22813879.446963   22809348.65336904 22805009.00605706]\n",
      "\tftl_unl:\t[      0.               0.               0.         ... 1631308.6406618\n",
      " 1638373.36331302 1645594.10493452]\n",
      "\tfel_unl:\t[       0.                0.                0.         ...\n",
      " 16322785.665823   16321336.40256969 16319984.07069126]\n",
      "\tfbl_unl:\t[       0.                0.                0.         ...\n",
      " 25061944.74323243 25054096.12295443 25046247.96485967]\n",
      "\tqe_tasks:\t['calc_phi', 'calc_meanfield']\n",
      "\tqe_lm_max_qlm:\t(4000, 4000)\n",
      "\tqe_lmax_qlm:\t4000\n",
      "\tlmax_qlm:\t4000\n",
      "\tmmax_qlm:\t4000\n",
      "\tqe_filter_directional:\tisotropic\n",
      "\tivfs:\t<plancklens.filt.filt_simple.library_fullsky_sepTP object at 0x145a077a4dd0>\n",
      "\tqlms_dd:\t<plancklens.qest.library object at 0x145a07afadd0>\n",
      "\tcg_tol:\t<function l2lensrec_Transformer.build.<locals>._process_Itrec.<locals>.<lambda> at 0x145a036c8cb0>\n",
      "\tchain_model:\t\tp0:\t0\n",
      "\tp1:\t['diag_cl']\n",
      "\tp2:\tNone\n",
      "\tp3:\t2048\n",
      "\tp4:\tinf\n",
      "\tp5:\tNone\n",
      "\tp6:\ttr_cg\n",
      "\tp7:\tcache_mem\n",
      "\n",
      "\tchain_descr:\t<function l2lensrec_Transformer.build.<locals>._process_Qerec.<locals>.<lambda> at 0x145a036c8f80>\n",
      "\tcl_analysis:\tFalse\n",
      "\tbtemplate_perturbative_lensremap:\tFalse\n",
      "\tit_tasks:\t['calc_phi', 'calc_meanfield']\n",
      "\tlm_max_unl:\t(4000, 4000)\n",
      "\tit_lm_max_qlm:\t(4000, 4000)\n",
      "\tlenjob_pbgeometry:\t<lenscarf.utils_scarf.pbdGeometry object at 0x145a035eba50>\n",
      "\tlenjob_geometry:\t<scarf.Geometry object at 0x145a035ebbf0>\n",
      "\tmf_dirname:\t/pscratch/sd/s/sebibel/dlensalot/lenscarf/sims_mwe/mwe_lminB200_my_first_dlensalot_analysis/mf_Nmf002\n",
      "\tit_filter_directional:\tisotropic\n",
      "\tsims_MAP:\t<plancklens.sims.maps.cmb_maps_nlev object at 0x145a07a74c10>\n",
      "\titmax:\t10\n",
      "\titerator_typ:\tfastWF\n",
      "\tlensres:\t0.8\n",
      "\tmfvar:\tNone\n",
      "\tsoltn_cond:\t<function DLENSALOT_Itrec.<lambda> at 0x145a03756c20>\n",
      "\tstepper_model:\t\ttyp:\t-1\n",
      "\tlmax_qlm:\t-1\n",
      "\tmmax_qlm:\t-1\n",
      "\txa:\t-1\n",
      "\txb:\t-1\n",
      "\n",
      "\tcpp:\t[0.00000000e+00 0.00000000e+00 8.92404300e-09 ... 1.83803472e-23\n",
      " 1.83546046e-23 1.83288998e-23]\n",
      "\n"
     ]
    }
   ],
   "source": [
    "print(ana_mwe.dlensalot_model.__str__())"
   ]
  },
  {
   "cell_type": "markdown",
   "id": "5acce7f0",
   "metadata": {},
   "source": [
    "## And how does the simulation data look like?"
   ]
  },
  {
   "cell_type": "code",
   "execution_count": 5,
   "id": "610b76af-ade4-4d89-911b-fea4c1b244bd",
   "metadata": {},
   "outputs": [
    {
     "name": "stdout",
     "output_type": "stream",
     "text": [
      " [00:02:10] collecting bands > 00%\n",
      " [00:02:11] collecting bands > 00%\n"
     ]
    },
    {
     "data": {
      "text/plain": [
       "(array([ 4.12434467, -2.9311794 ,  3.73770884, ..., -4.04839562,\n",
       "         2.49361223,  0.78644722]),\n",
       " array([ 5.01124793, -3.78710219,  3.75455382, ..., -6.37190179,\n",
       "         9.6573793 , -7.46562312]))"
      ]
     },
     "execution_count": 5,
     "metadata": {},
     "output_type": "execute_result"
    }
   ],
   "source": [
    "ana_mwe.sims.get_sim_pmap(0)"
   ]
  },
  {
   "cell_type": "code",
   "execution_count": 6,
   "id": "7c6f518c-a160-4f2b-9530-10a8fc7668b9",
   "metadata": {},
   "outputs": [
    {
     "name": "stdout",
     "output_type": "stream",
     "text": [
      " [00:02:08] collecting bands > 00%\n",
      " [00:02:11] collecting bands > 00%\n",
      "CL[1]  16425105110948.861\n",
      "GL[1] (before subtraction)  16425087058645.094\n",
      "GL[1] (after subtraction)  -18052303.767578125\n",
      " [00:00:00] calculating p_p MF -----> 50%\n",
      "Cached  /pscratch/sd/s/sebibel/dlensalot/lenscarf/sims_mwe/mwe_lminB200_my_first_dlensalot_analysis/qlms_dd/simMF_k1p_p_031ee8071545c35ffdc0aa20da07ce2e36ce543f.fits\n"
     ]
    }
   ],
   "source": [
    "ana_mwe.run()"
   ]
  },
  {
   "cell_type": "code",
   "execution_count": 11,
   "id": "34ccf040-1719-44f5-a170-cc0148778a5b",
   "metadata": {},
   "outputs": [],
   "source": [
    "plm = ana_mwe.get_plm(0)"
   ]
  },
  {
   "cell_type": "code",
   "execution_count": 12,
   "id": "46d01cbe-0dc5-43e2-bfe9-18d99f1a151e",
   "metadata": {},
   "outputs": [
    {
     "data": {
      "image/png": "[encoded data removed]",
      "text/plain": [
       "<Figure size 432x288 with 1 Axes>"
      ]
     },
     "metadata": {
      "needs_background": "light"
     },
     "output_type": "display_data"
    }
   ],
   "source": [
    "plt.plot(hp.alm2cl(plm))\n",
    "plt.xscale('log')\n",
    "plt.yscale('log')"
   ]
  },
  {
   "cell_type": "markdown",
   "id": "ef089cf4-1ca1-42d1-be77-608ec52c4744",
   "metadata": {},
   "source": [
    "## iterative lensing reconstruction"
   ]
  },
  {
   "cell_type": "code",
   "execution_count": null,
   "id": "a528988d-0e3c-411c-ac8b-a204d4fa57a3",
   "metadata": {},
   "outputs": [],
   "source": []
  }
 ],
 "metadata": {
  "kernelspec": {
   "display_name": "py3.7p",
   "language": "python",
   "name": "py3.7p"
  },
  "language_info": {
   "codemirror_mode": {
    "name": "ipython",
    "version": 3
   },
   "file_extension": ".py",
   "mimetype": "text/x-python",
   "name": "python",
   "nbconvert_exporter": "python",
   "pygments_lexer": "ipython3",
   "version": "3.7.11"
  },
  "vscode": {
   "interpreter": {
    "hash": "96d0485bd602dee2fe546bdb1aa725bb056ad76da47667a4d750e05245214379"
   }
  }
 },
 "nbformat": 4,
 "nbformat_minor": 5
}
