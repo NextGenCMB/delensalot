{
 "cells": [
  {
   "cell_type": "markdown",
   "id": "7339e9b4-9187-4181-82fe-76cc47f93161",
   "metadata": {},
   "source": [
    "# Interactive minimal working example\n",
    "In this notebook you are going to run a single simulation, interactively, using the `simulation module` in `dlensalot/ana/config/examples/`, and our goal is to plot the lensing potential estimate."
   ]
  },
  {
   "cell_type": "markdown",
   "id": "b2f24c79",
   "metadata": {},
   "source": [
    "# Header"
   ]
  },
  {
   "cell_type": "code",
   "execution_count": 1,
   "id": "fa0679f4-94e2-46f6-89f6-4d7ca782d3b3",
   "metadata": {},
   "outputs": [
    {
     "name": "stdout",
     "output_type": "stream",
     "text": [
      "cond4mpi does not exists\n",
      "could not setup healpix hack. reverting to standard healpy\n",
      "MSC: using scarf with 2 OMP threads\n"
     ]
    }
   ],
   "source": [
    "import os\n",
    "from os.path import join as opj\n",
    "import numpy as np\n",
    "import healpy as hp\n",
    "\n",
    "import matplotlib.pyplot as plt\n",
    "\n",
    "import lenscarf\n",
    "from lenscarf.run import run"
   ]
  },
  {
   "cell_type": "markdown",
   "id": "89997871",
   "metadata": {},
   "source": [
    "# Choose analysis"
   ]
  },
  {
   "cell_type": "markdown",
   "id": "c673dd35-8bf2-4e14-b7f8-48a8e30a4721",
   "metadata": {},
   "source": [
    "## We will go step by step and do QE lens reconstruction first"
   ]
  },
  {
   "cell_type": "code",
   "execution_count": 2,
   "id": "15f61a75-9182-4379-bc43-3c0a7398e34b",
   "metadata": {},
   "outputs": [
    {
     "name": "stdout",
     "output_type": "stream",
     "text": [
      "/global/u2/s/sebibel/git/lenscarf/lenscarf/ana/config/examples/mwe/conf_mwe_fullsky.py\n",
      "WARNING:: 01-27 08:48:: root.store - config file /pscratch/sd/s/sebibel/dlensalot/lenscarf/sims_mwe/mwe_lminB200_my_first_dlensalot_analysis/conf_mwe_fullsky.py already exist. Checking differences.\n"
     ]
    }
   ],
   "source": [
    "## minimal working example\n",
    "fn = opj(os.path.dirname(os.path.abspath(lenscarf.__file__)),'ana/config/examples/mwe/conf_mwe_fullsky.py')\n",
    "print(fn)\n",
    "ana_mwe = run(config=fn, job_id='QE_lensrec', verbose=False).job"
   ]
  },
  {
   "cell_type": "markdown",
   "id": "531259de",
   "metadata": {},
   "source": [
    "# Check configuration\n",
    "Before running lensing reconstruction, let us look into the configuration file"
   ]
  },
  {
   "cell_type": "code",
   "execution_count": 3,
   "id": "29b10752-47d0-4104-96d0-4d76a5a88e28",
   "metadata": {},
   "outputs": [
    {
     "data": {
      "text/plain": [
       "dict_keys(['dversion', 'tr', 'k', 'version', 'simidxs', 'simidxs_mf', 'Nmf', 'TEMP_suffix', 'TEMP', 'lm_max_len', 'cls_unl', 'cls_len', 'Lmin', 'zbounds', 'zbounds_len', 'pb_ctr', 'pb_extent', 'lmax_ivf', 'sky_coverage', 'spectrum_type', 'lmin_teb', 'OBD', 'tpl', 'tpl_kwargs', 'lmin_tlm', 'lmin_elm', 'lmin_blm', 'nlev_t', 'nlev_p', 'data_type', 'data_field', 'beam', 'lmax_transf', 'nside', 'sims', 'transferfunction', 'transf_tlm', 'transf_elm', 'transf_blm', 'ftl', 'fel', 'fbl', 'ftl_unl', 'fel_unl', 'fbl_unl', 'qe_tasks', 'qe_lm_max_qlm', 'qe_lmax_qlm', 'lmax_qlm', 'mmax_qlm', 'qe_filter_directional', 'ivfs', 'qlms_dd', 'cg_tol', 'chain_model', 'chain_descr', 'cl_analysis', 'btemplate_perturbative_lensremap', 'it_tasks', 'lm_max_unl', 'it_lm_max_qlm', 'lenjob_pbgeometry', 'lenjob_geometry', 'mf_dirname', 'it_filter_directional', 'sims_MAP', 'itmax', 'iterator_typ', 'lensres', 'mfvar', 'soltn_cond', 'stepper_model', 'cpp', 'dlensalot_model', 'libdir_iterators', 'mf', 'plm', 'mf_resp', 'wflm', 'R_unl', 'ith', 'jobs'])"
      ]
     },
     "execution_count": 3,
     "metadata": {},
     "output_type": "execute_result"
    }
   ],
   "source": [
    "ana_mwe.__dict__.keys()"
   ]
  },
  {
   "cell_type": "code",
   "execution_count": 4,
   "id": "768d6e96-a96c-4f05-980b-6b2de8b9eee9",
   "metadata": {},
   "outputs": [
    {
     "data": {
      "text/plain": [
       "dict_keys(['pix_lib_phas', 'nlev_t', 'nlev_p', 'sims_cmb_len', 'cl_transf_T', 'cl_transf_P', 'nside'])"
      ]
     },
     "execution_count": 4,
     "metadata": {},
     "output_type": "execute_result"
    }
   ],
   "source": [
    "ana_mwe.sims.__dict__.keys()"
   ]
  },
  {
   "cell_type": "markdown",
   "id": "5acce7f0",
   "metadata": {},
   "source": [
    "## And how does the simulation data look like?"
   ]
  },
  {
   "cell_type": "code",
   "execution_count": 5,
   "id": "610b76af-ade4-4d89-911b-fea4c1b244bd",
   "metadata": {},
   "outputs": [
    {
     "name": "stdout",
     "output_type": "stream",
     "text": [
      " [00:02:10] collecting bands > 00%\n",
      " [00:02:11] collecting bands > 00%\n"
     ]
    },
    {
     "data": {
      "text/plain": [
       "(array([ 4.12434467, -2.9311794 ,  3.73770884, ..., -4.04839562,\n",
       "         2.49361223,  0.78644722]),\n",
       " array([ 5.01124793, -3.78710219,  3.75455382, ..., -6.37190179,\n",
       "         9.6573793 , -7.46562312]))"
      ]
     },
     "execution_count": 5,
     "metadata": {},
     "output_type": "execute_result"
    }
   ],
   "source": [
    "ana_mwe.sims.get_sim_pmap(0)"
   ]
  },
  {
   "cell_type": "code",
   "execution_count": null,
   "id": "7c6f518c-a160-4f2b-9530-10a8fc7668b9",
   "metadata": {},
   "outputs": [
    {
     "name": "stdout",
     "output_type": "stream",
     "text": [
      " [00:02:08] collecting bands > 00%\n"
     ]
    }
   ],
   "source": [
    "ana_mwe.run()"
   ]
  },
  {
   "cell_type": "code",
   "execution_count": null,
   "id": "34ccf040-1719-44f5-a170-cc0148778a5b",
   "metadata": {},
   "outputs": [],
   "source": [
    "plm = ana_mwe.get_plm(0, subtract_meanfield=False)"
   ]
  },
  {
   "cell_type": "code",
   "execution_count": null,
   "id": "46d01cbe-0dc5-43e2-bfe9-18d99f1a151e",
   "metadata": {},
   "outputs": [],
   "source": [
    "plt.plot(hp.alm2cl(plm))\n",
    "plt.xscale('log')\n",
    "plt.yscale('log')"
   ]
  },
  {
   "cell_type": "markdown",
   "id": "ef089cf4-1ca1-42d1-be77-608ec52c4744",
   "metadata": {},
   "source": [
    "## iterative lensing reconstruction"
   ]
  },
  {
   "cell_type": "code",
   "execution_count": null,
   "id": "a528988d-0e3c-411c-ac8b-a204d4fa57a3",
   "metadata": {},
   "outputs": [],
   "source": []
  }
 ],
 "metadata": {
  "kernelspec": {
   "display_name": "py3.7p",
   "language": "python",
   "name": "py3.7p"
  },
  "language_info": {
   "codemirror_mode": {
    "name": "ipython",
    "version": 3
   },
   "file_extension": ".py",
   "mimetype": "text/x-python",
   "name": "python",
   "nbconvert_exporter": "python",
   "pygments_lexer": "ipython3",
   "version": "3.7.11"
  },
  "vscode": {
   "interpreter": {
    "hash": "96d0485bd602dee2fe546bdb1aa725bb056ad76da47667a4d750e05245214379"
   }
  }
 },
 "nbformat": 4,
 "nbformat_minor": 5
}
