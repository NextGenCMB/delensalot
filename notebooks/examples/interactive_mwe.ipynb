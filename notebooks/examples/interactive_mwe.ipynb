{
 "cells": [
  {
   "cell_type": "markdown",
   "id": "7339e9b4-9187-4181-82fe-76cc47f93161",
   "metadata": {},
   "source": [
    "![D.lensalot logo](./../../res/dlensalot2.PNG)\n",
    "\n",
    "# Interactive minimal working example\n",
    "In this notebook you perfrom iterative lensing reconstruction for two simulations, and on the full sky.\n",
    "The simulations are created upon runtime inclusive of isotropic white noise, using the built-in FFP10 `sims` module.\n",
    "At the end, we will plot the lensing potential estimate of both, the QE and iterative lensing reconstruction.\n",
    "\n",
    "The configuration file is [here](https://github.com/NextGenCMB/D.lensalot/blob/sv3.1/lenscarf/ana/config/examples/mwe/conf_mwe_fullsky.py), and you can freely change the parameters to your liking."
   ]
  },
  {
   "cell_type": "code",
   "execution_count": 1,
   "id": "fa0679f4-94e2-46f6-89f6-4d7ca782d3b3",
   "metadata": {},
   "outputs": [
    {
     "name": "stdout",
     "output_type": "stream",
     "text": [
      "cond4mpi does not exists\n",
      "could not setup healpix hack. reverting to standard healpy\n",
      "MSC: using scarf with 2 OMP threads\n"
     ]
    }
   ],
   "source": [
    "import os\n",
    "from os.path import join as opj\n",
    "import numpy as np\n",
    "import healpy as hp\n",
    "\n",
    "import matplotlib.pyplot as plt\n",
    "\n",
    "import lenscarf\n",
    "from lenscarf.run import run"
   ]
  },
  {
   "cell_type": "markdown",
   "id": "89997871",
   "metadata": {},
   "source": [
    "# Choose analysis\n",
    "## QE lensing reconstruction\n",
    "The following cell selects an exisiting configuration file, initialises dlensalot for a QE lensing reconstruction job, and runs lensing reconstruction"
   ]
  },
  {
   "cell_type": "code",
   "execution_count": 2,
   "id": "15f61a75-9182-4379-bc43-3c0a7398e34b",
   "metadata": {
    "tags": []
   },
   "outputs": [
    {
     "name": "stdout",
     "output_type": "stream",
     "text": [
      "INFO:: 01-30 09:28:: lenscarf.lerepi.core.handler.log - load_configfile() Started: /global/u2/s/sebibel/git/lenscarf/lenscarf/ana/config/examples/mwe/conf_mwe_fullsky.py\n",
      "INFO:: 01-30 09:28:: lenscarf.lerepi.core.handler.log - load_configfile() Finished\n",
      "INFO:: 01-30 09:28:: lenscarf.lerepi.core.handler.log - store() Started\n",
      "WARNING:: 01-30 09:28:: root.store - config file /pscratch/sd/s/sebibel/dlensalot/lenscarf/sims_mwe/ffp10_lminB200_my_first_dlensalot_analysis2/conf_mwe_fullsky.py already exist. Checking differences.\n",
      "INFO:: 01-30 09:28:: lenscarf.lerepi.core.handler.log - load_configfile() Started: /pscratch/sd/s/sebibel/dlensalot/lenscarf/sims_mwe/ffp10_lminB200_my_first_dlensalot_analysis2/conf_mwe_fullsky.py\n",
      "INFO:: 01-30 09:28:: lenscarf.lerepi.core.handler.log - load_configfile() Finished\n",
      "INFO:: 01-30 09:28:: root.store - config file look the same. Resuming where I left off last time.\n",
      "INFO:: 01-30 09:28:: root.store - Matching config file found. Resuming where I left off.\n",
      "INFO:: 01-30 09:28:: lenscarf.lerepi.core.handler.log - store() Finished\n",
      "INFO:: 01-30 09:28:: lenscarf.lerepi.core.handler.log - collect_jobs() Started\n",
      "INFO:: 01-30 09:28:: lenscarf.lerepi.core.handler.log - collect_jobs() Finished\n",
      "INFO:: 01-30 09:28:: lenscarf.lerepi.core.handler.log - get_jobs() Started\n",
      "INFO:: 01-30 09:28:: lenscarf.lerepi.core.handler.log - get_jobs() Finished\n",
      "INFO:: 01-30 09:28:: lenscarf.lerepi.core.handler.log - init_job() Started\n",
      "INFO:: 01-30 09:28:: lenscarf.lerepi.core.handler.init_job - transform started\n",
      "INFO:: 01-30 09:28:: lenscarf.lerepi.core.transformer.lerepi2dlensalot.log - build() started\n",
      "INFO:: 01-30 09:28:: lenscarf.lerepi.core.transformer.lerepi2dlensalot.log - _process_Meta() started\n",
      "INFO:: 01-30 09:28:: lenscarf.lerepi.core.transformer.lerepi2dlensalot.log - _process_Meta() finished\n",
      "INFO:: 01-30 09:28:: lenscarf.lerepi.core.transformer.lerepi2dlensalot.log - _process_Computing() started\n",
      "INFO:: 01-30 09:28:: lenscarf.lerepi.core.transformer.lerepi2dlensalot.log - _process_Computing() finished\n",
      "INFO:: 01-30 09:28:: lenscarf.lerepi.core.transformer.lerepi2dlensalot.log - _process_Analysis() started\n",
      "INFO:: 01-30 09:28:: lenscarf.lerepi.core.transformer.lerepi2dlensalot.log - _process_Analysis() finished\n",
      "INFO:: 01-30 09:28:: lenscarf.lerepi.core.transformer.lerepi2dlensalot.log - _process_Noisemodel() started\n",
      "INFO:: 01-30 09:28:: lenscarf.lerepi.core.transformer.lerepi2dlensalot.log - _process_Noisemodel() finished\n",
      "INFO:: 01-30 09:28:: lenscarf.lerepi.core.transformer.lerepi2dlensalot.log - _process_Data() started\n",
      "INFO:: 01-30 09:28:: lenscarf.lerepi.core.transformer.lerepi2dlensalot.log - _process_Data() finished\n",
      "INFO:: 01-30 09:28:: lenscarf.lerepi.core.transformer.lerepi2dlensalot.log - _process_Qerec() started\n",
      "INFO:: 01-30 09:28:: lenscarf.lerepi.core.transformer.lerepi2dlensalot.log - _process_Qerec() finished\n",
      "INFO:: 01-30 09:28:: lenscarf.lerepi.core.transformer.lerepi2dlensalot.log - _process_Itrec() started\n",
      "INFO:: 01-30 09:28:: lenscarf.lerepi.core.transformer.lerepi2dlensalot.log - _process_Itrec() finished\n",
      "INFO:: 01-30 09:28:: lenscarf.lerepi.core.transformer.lerepi2dlensalot.build - I am going to work with the following values:\n",
      "INFO:: 01-30 09:28:: lenscarf.lerepi.core.transformer.lerepi2dlensalot.build - ---------------------------------------------------\n",
      "dversion:\t\n",
      "tr:\t2\n",
      "k:\tp_p\n",
      "version:\tnoMF\n",
      "simidxs:\t[0 1]\n",
      "simidxs_mf:\t[0 1]\n",
      "Nmf:\t0\n",
      "TEMP_suffix:\tmy_first_dlensalot_analysis2\n",
      "TEMP:\t/pscratch/sd/s/sebibel/dlensalot/lenscarf/sims_mwe/ffp10_lminB200_my_first_dlensalot_analysis2\n",
      "lm_max_len:\t(4000, 4000)\n",
      "cls_unl:\t{'tt': array([0.00000000e+00, 3.15384486e+03, 1.08426834e+03, ...,\n",
      "       9.66229400e-10, 9.65260803e-10, 9.64292720e-10]), 'ee': array([0.00000000e+00, 0.00000000e+00, 3.62414129e-02, ...,\n",
      "       2.00006407e-12, 1.99423451e-12, 1.98828000e-12]), 'bb': array([0., 0., 0., ..., 0., 0., 0.]), 'te': array([0.00000000e+00, 0.00000000e+00, 2.93875049e+00, ...,\n",
      "       1.40842175e-11, 1.40724986e-11, 1.40607859e-11]), 'pp': array([0.00000000e+00, 5.94954817e-08, 8.92404300e-09, ...,\n",
      "       7.91637420e-25, 7.91001884e-25, 7.90366882e-25]), 'pt': array([0.00000000e+00, 6.20759604e-03, 1.28926184e-03, ...,\n",
      "       2.46796544e-19, 2.46782393e-19, 2.46768224e-19]), 'pe': array([ 0.00000000e+00,  0.00000000e+00, -5.60260517e-06, ...,\n",
      "        2.53157091e-22,  2.53085247e-22,  2.53013434e-22])}\n",
      "cls_len:\t{'tt': array([0.00000000e+00, 3.15384486e+03, 1.08437306e+03, ...,\n",
      "       4.73193243e-08, 4.72884497e-08, 4.72312005e-08]), 'ee': array([0.00000000e+00, 0.00000000e+00, 3.62435072e-02, ...,\n",
      "       5.94198156e-10, 5.93471562e-10, 5.93194004e-10]), 'bb': array([0.00000000e+00, 0.00000000e+00, 1.97459570e-06, ...,\n",
      "       3.76402516e-10, 3.76293414e-10, 3.75748914e-10]), 'te': array([ 0.00000000e+00,  0.00000000e+00,  2.93875049e+00, ...,\n",
      "       -7.69387920e-10, -7.68650143e-10, -7.67912762e-10])}\n",
      "Lmin:\t2\n",
      "zbounds:\t(-1, 1)\n",
      "zbounds_len:\t(-1, 1)\n",
      "pb_ctr:\t-1\n",
      "pb_extent:\t1\n",
      "lm_max_ivf:\t(4000, 4000)\n",
      "lmax_ivf:\t4000\n",
      "sky_coverage:\tisotropic\n",
      "spectrum_type:\twhite\n",
      "lmin_teb:\t(10, 10, 200)\n",
      "OBD:\tFalse\n",
      "tpl:\tNone\n",
      "tpl_kwargs:\t{}\n",
      "lmin_tlm:\t10\n",
      "lmin_elm:\t10\n",
      "lmin_blm:\t200\n",
      "nlev_t:\t0.17677669529663687\n",
      "nlev_p:\t0.25\n",
      "_sims:\t<lenscarf.ana.config.examples.mwe.data_mwe.sims_mwe.ffp10 object at 0x14c04ca04890>\n",
      "data_type:\tmap\n",
      "data_field:\tqu\n",
      "sims:\t<plancklens.sims.maps.cmb_maps_nlev object at 0x14c04ca0b250>\n",
      "transferfunction:\tgauss_no_pixwin\n",
      "transf_tlm:\t[0.         0.         0.         ... 0.87993152 0.87987654 0.87982155]\n",
      "transf_elm:\t[0.         0.         0.         ... 0.87993152 0.87987654 0.87982155]\n",
      "transf_blm:\t[0.         0.         0.         ... 0.87993152 0.87987654 0.87982155]\n",
      "ftl:\t[     0.              0.              0.         ... 806471.69051678\n",
      " 808305.73650058 810195.58835996]\n",
      "fel:\t[       0.                0.                0.         ...\n",
      " 24363863.65885149 24408041.91590768 24452115.19457002]\n",
      "fbl:\t[       0.                0.                0.         ...\n",
      " 92919104.49549678 92944488.17004329 92973091.37049733]\n",
      "ftl_unl:\t[      0.               0.               0.         ... 1676532.14960305\n",
      " 1684011.41062126 1691657.64281042]\n",
      "fel_unl:\t[       0.                0.                0.         ...\n",
      " 35469626.12071145 35477435.66369931 35485714.24764148]\n",
      "fbl_unl:\t[0.00000000e+00 0.00000000e+00 0.00000000e+00 ... 1.46408234e+08\n",
      " 1.46389938e+08 1.46371639e+08]\n",
      "btemplate_perturbative_lensremap:\tTrue\n",
      "qe_tasks:\t['calc_phi', 'calc_meanfield']\n",
      "QE_subtract_meanfield:\tFalse\n",
      "qe_lm_max_qlm:\t(4000, 4000)\n",
      "qe_lmax_qlm:\t4000\n",
      "lmax_qlm:\t4000\n",
      "mmax_qlm:\t4000\n",
      "ninvjob_qe_geometry:\t<scarf.Geometry object at 0x14c04cb7e930>\n",
      "qe_filter_directional:\tisotropic\n",
      "ivfs:\t<plancklens.filt.filt_simple.library_fullsky_sepTP object at 0x14c04841b290>\n",
      "qlms_dd:\t<plancklens.qest.library object at 0x14c04ca2c810>\n",
      "cg_tol:\t<function l2lensrec_Transformer.build.<locals>._process_Itrec.<locals>.<lambda> at 0x14c049467a70>\n",
      "chain_model:\t\t p0:\t0(type:<class 'int'>)\n",
      "\t p1:\t['diag_cl'](type:<class 'list'>)\n",
      "\t p2:\tNone(type:<class 'NoneType'>)\n",
      "\t p3:\t2048(type:<class 'int'>)\n",
      "\t p4:\tinf(type:<class 'float'>)\n",
      "\t p5:\tNone(type:<class 'NoneType'>)\n",
      "\t p6:\ttr_cg(type:<class 'str'>)\n",
      "\t p7:\tcache_mem(type:<class 'str'>)\n",
      "\n",
      "chain_descr:\t<function l2lensrec_Transformer.build.<locals>._process_Qerec.<locals>.<lambda> at 0x14c049467cb0>\n",
      "cl_analysis:\tFalse\n",
      "it_tasks:\t['calc_phi', 'calc_meanfield']\n",
      "lm_max_unl:\t(4000, 4000)\n",
      "lmax_unl:\t4000\n",
      "mmax_unl:\t4000\n",
      "it_lm_max_qlm:\t(4000, 4000)\n",
      "lenjob_pbgeometry:\t<lenscarf.utils_scarf.pbdGeometry object at 0x14c04841b910>\n",
      "lenjob_geometry:\t<scarf.Geometry object at 0x14c04841b170>\n",
      "mf_dirname:\t/pscratch/sd/s/sebibel/dlensalot/lenscarf/sims_mwe/ffp10_lminB200_my_first_dlensalot_analysis2/mf_Nmf000\n",
      "it_filter_directional:\tisotropic\n",
      "sims_MAP:\t<plancklens.sims.maps.cmb_maps_nlev object at 0x14c04ca0b250>\n",
      "itmax:\t10\n",
      "iterator_typ:\tfastWF\n",
      "lensres:\t0.8\n",
      "mfvar:\tNone\n",
      "soltn_cond:\t<function DLENSALOT_Itrec.<lambda> at 0x14c0494dd560>\n",
      "stepper_model:\t\t typ:\tharmonicbump(type:<class 'str'>)\n",
      "\t lmax_qlm:\t4000(type:<class 'int'>)\n",
      "\t mmax_qlm:\t4000(type:<class 'int'>)\n",
      "\t xa:\t400(type:<class 'int'>)\n",
      "\t xb:\t1500(type:<class 'int'>)\n",
      "\n",
      "stepper:\t<lenscarf.iterators.steps.harmonicbump object at 0x14c04841b690>\n",
      "cpp:\t[0.00000000e+00 0.00000000e+00 8.92404300e-09 ... 1.83803472e-23\n",
      " 1.83546046e-23 1.83288998e-23]\n",
      "---------------------------------------------------\n",
      "\n",
      "INFO:: 01-30 09:28:: lenscarf.lerepi.core.transformer.lerepi2dlensalot.log - build() finished\n",
      "INFO:: 01-30 09:28:: lenscarf.lerepi.core.handler.init_job - transform done\n",
      "INFO:: 01-30 09:28:: lenscarf.lerepi.core.handler.init_job - model init started\n",
      "INFO:: 01-30 09:28:: lenscarf.lerepi.core.handler.init_job - model init done\n",
      "INFO:: 01-30 09:28:: lenscarf.lerepi.core.handler.init_job - collect_jobs started\n",
      "INFO:: 01-30 09:28:: lenscarf.core.handler.log - collect_jobs() started: id=None\n",
      "INFO:: 01-30 09:28:: lenscarf.core.handler.collect_jobs - [0 1] - None\n",
      "INFO:: 01-30 09:28:: lenscarf.core.handler.log - collect_jobs() finished: jobs=[[0, 1], []]\n",
      "INFO:: 01-30 09:28:: lenscarf.lerepi.core.handler.init_job - collect_jobs done\n",
      "INFO:: 01-30 09:28:: lenscarf.lerepi.core.handler.log - init_job() Finished\n",
      "INFO:: 01-30 09:28:: lenscarf.core.handler.log - run() started\n",
      "INFO:: 01-30 09:28:: lenscarf.core.handler.run - 0, task calc_phi started\n",
      "INFO:: 01-30 09:28:: lenscarf.core.handler.log - get_plm(0) started\n",
      "INFO:: 01-30 09:28:: lenscarf.core.handler.log - get_plm(0) finished\n",
      "INFO:: 01-30 09:28:: lenscarf.core.handler.log - get_plm(1) started\n",
      "INFO:: 01-30 09:28:: lenscarf.core.handler.log - get_plm(1) finished\n",
      "INFO:: 01-30 09:28:: lenscarf.core.handler.run - 0, task calc_meanfield started\n",
      "INFO:: 01-30 09:28:: lenscarf.core.handler.log - run() finished\n"
     ]
    }
   ],
   "source": [
    "fn = opj(os.path.dirname(os.path.abspath(lenscarf.__file__)),'ana/config/examples/mwe/conf_mwe_fullsky.py')\n",
    "# fn = '/pscratch/sd/s/sebibel/dlensalot/lenscarf/sims_mwe/ffp10_lminB200_my_first_dlensalot_analysis/conf_mwe_fullsky.py'\n",
    "ana_mwe = run(config=fn, job_id='QE_lensrec', verbose=True).job\n",
    "ana_mwe.run()"
   ]
  },
  {
   "cell_type": "markdown",
   "id": "ef089cf4-1ca1-42d1-be77-608ec52c4744",
   "metadata": {},
   "source": [
    "## iterative lensing reconstruction\n",
    "The following cell repeats above, for the iterative case"
   ]
  },
  {
   "cell_type": "code",
   "execution_count": null,
   "id": "a528988d-0e3c-411c-ac8b-a204d4fa57a3",
   "metadata": {},
   "outputs": [
    {
     "name": "stdout",
     "output_type": "stream",
     "text": [
      "WARNING:: 01-29 07:30:: root.store - config file /pscratch/sd/s/sebibel/dlensalot/lenscarf/sims_mwe/ffp10_lminB200_my_first_dlensalot_analysis/conf_mwe_fullsky.py already exist. Checking differences.\n",
      "CL[1]  18994092408985.168\n",
      "GL[1] (before subtraction)  18994063198072.613\n",
      "GL[1] (after subtraction)  -29210912.5546875\n"
     ]
    }
   ],
   "source": [
    "fn = opj(os.path.dirname(os.path.abspath(lenscarf.__file__)),'ana/config/examples/mwe/conf_mwe.py')\n",
    "# fn = '/pscratch/sd/s/sebibel/dlensalot/lenscarf/sims_mwe/ffp10_lminB200_my_first_dlensalot_analysis/conf_mwe_fullsky.py'\n",
    "ana_mwe = run(config=fn, job_id='MAP_lensrec', verbose=False).job\n",
    "ana_mwe.run()"
   ]
  },
  {
   "cell_type": "markdown",
   "id": "d8c0d304-9f76-4ae7-9d0e-2fe4119a07a1",
   "metadata": {},
   "source": [
    "# Check your results\n",
    "`get_plm(idx)` returns the spherical harmonics of the lensing potential estimate for simulation `idx`"
   ]
  },
  {
   "cell_type": "code",
   "execution_count": 3,
   "id": "46d01cbe-0dc5-43e2-bfe9-18d99f1a151e",
   "metadata": {},
   "outputs": [
    {
     "name": "stdout",
     "output_type": "stream",
     "text": [
      "INFO:: 01-30 09:28:: lenscarf.core.handler.log - get_plm(0) started\n",
      "INFO:: 01-30 09:28:: lenscarf.core.handler.log - get_plm(0) finished\n"
     ]
    },
    {
     "data": {
      "image/png": "[encoded data removed]",
      "text/plain": [
       "<Figure size 432x288 with 1 Axes>"
      ]
     },
     "metadata": {
      "needs_background": "light"
     },
     "output_type": "display_data"
    }
   ],
   "source": [
    "plm_QE = ana_mwe.get_plm(0)\n",
    "# plm_MAP = ana_mwe.get_plm_it(ana_mwe.itmax)\n",
    "ll = np.arange(0,4001,1)\n",
    "scale_factor = (ll*(ll+1))**2/(2*np.pi)\n",
    "plt.plot(scale_factor*hp.alm2cl(plm_QE), label=r'$C_L^{\\hat{\\phi}^{\\rm QE}\\hat{\\phi}^{\\rm QE}}$')\n",
    "plt.plot(scale_factor*ana_mwe.cpp, label=r'$C_L^{\\phi\\phi,{\\rm fid}}$')\n",
    "# plt.plot(scale_factor*ana_mwe.get_plm(1, subtract_))\n",
    "# plt.plot(hp.alm2cl(plm_MAP)*np.arange(0,4001,1)**4/(2*np.pi), label=r'$C_L^{\\phi^{\\rm MAP}\\phi^{\\rm MAP}}$')\n",
    "\n",
    "plt.legend(fontsize=18)\n",
    "plt.xlabel('Multipole, L', fontsize=14)\n",
    "plt.ylabel(r'$\\left[L(L+1)\\right]^2/(2\\pi)$', fontsize=14)\n",
    "plt.xscale('log')\n",
    "plt.xlim(1,1e3)\n",
    "plt.ylim(1e-8,5e-7)\n",
    "plt.yscale('log')"
   ]
  },
  {
   "cell_type": "markdown",
   "id": "531259de",
   "metadata": {},
   "source": [
    "# Other\n",
    "## Check configuration\n",
    "Let us look into the configuration file"
   ]
  },
  {
   "cell_type": "code",
   "execution_count": 3,
   "id": "29b10752-47d0-4104-96d0-4d76a5a88e28",
   "metadata": {
    "tags": []
   },
   "outputs": [],
   "source": [
    "print(ana_mwe.dlensalot_model.__str__())"
   ]
  },
  {
   "cell_type": "markdown",
   "id": "5acce7f0",
   "metadata": {},
   "source": [
    "## And how does the simulation data look like?"
   ]
  },
  {
   "cell_type": "code",
   "execution_count": 4,
   "id": "610b76af-ade4-4d89-911b-fea4c1b244bd",
   "metadata": {},
   "outputs": [],
   "source": [
    "hp.mollview(ana_mwe.sims.get_sim_pmap(0)[0], title='E map')"
   ]
  }
 ],
 "metadata": {
  "kernelspec": {
   "display_name": "py3.7p",
   "language": "python",
   "name": "py3.7p"
  },
  "language_info": {
   "codemirror_mode": {
    "name": "ipython",
    "version": 3
   },
   "file_extension": ".py",
   "mimetype": "text/x-python",
   "name": "python",
   "nbconvert_exporter": "python",
   "pygments_lexer": "ipython3",
   "version": "3.7.11"
  },
  "vscode": {
   "interpreter": {
    "hash": "96d0485bd602dee2fe546bdb1aa725bb056ad76da47667a4d750e05245214379"
   }
  }
 },
 "nbformat": 4,
 "nbformat_minor": 5
}
