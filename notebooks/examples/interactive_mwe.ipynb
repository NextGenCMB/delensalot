{
 "cells": [
  {
   "cell_type": "markdown",
   "id": "7339e9b4-9187-4181-82fe-76cc47f93161",
   "metadata": {},
   "source": [
    "# Interactive minimal working example\n",
    "In this notebook you are going to run a single simulation, interactively, using the `simulation module` in `dlensalot/ana/config/examples/`, and our goal is to plot the lensing potential estimate."
   ]
  },
  {
   "cell_type": "markdown",
   "id": "b2f24c79",
   "metadata": {},
   "source": [
    "# Header"
   ]
  },
  {
   "cell_type": "code",
   "execution_count": 1,
   "id": "fa0679f4-94e2-46f6-89f6-4d7ca782d3b3",
   "metadata": {},
   "outputs": [
    {
     "name": "stdout",
     "output_type": "stream",
     "text": [
      "cond4mpi does not exists\n",
      "could not setup healpix hack. reverting to standard healpy\n",
      "MSC: using scarf with 2 OMP threads\n"
     ]
    }
   ],
   "source": [
    "import os\n",
    "from os.path import join as opj\n",
    "import numpy as np\n",
    "import healpy as hp\n",
    "\n",
    "import matplotlib.pyplot as plt\n",
    "\n",
    "import lenscarf\n",
    "from lenscarf.run import run"
   ]
  },
  {
   "cell_type": "markdown",
   "id": "89997871",
   "metadata": {},
   "source": [
    "# Choose analysis"
   ]
  },
  {
   "cell_type": "code",
   "execution_count": 4,
   "id": "15f61a75-9182-4379-bc43-3c0a7398e34b",
   "metadata": {},
   "outputs": [
    {
     "name": "stdout",
     "output_type": "stream",
     "text": [
      "/global/u2/s/sebibel/git/lenscarf/lenscarf/ana/config/examples/mwe/conf_mwe_fullsky.py\n",
      "WARNING:: 01-27 00:45:: root.store - config file /pscratch/sd/s/sebibel/dlensalot/lenscarf/sims_mwe/mwe_lminB200_my_first_dlensalot_analysis/conf_mwe_fullsky.py already exist. Checking differences.\n"
     ]
    }
   ],
   "source": [
    "## minimal working example\n",
    "fn = opj(os.path.dirname(os.path.abspath(lenscarf.__file__)),'ana/config/examples/mwe/conf_mwe_fullsky.py')\n",
    "print(fn)\n",
    "ana_mwe = run(config=fn, job_id='QE_lensrec', verbose=False).job"
   ]
  },
  {
   "cell_type": "markdown",
   "id": "531259de",
   "metadata": {},
   "source": [
    "# Check configuration\n",
    "Before running lensing reconstruction, let us look into the configuration file"
   ]
  },
  {
   "cell_type": "code",
   "execution_count": 5,
   "id": "e9ef976b-1152-4ca0-b2e4-d4b20fe62f06",
   "metadata": {},
   "outputs": [
    {
     "data": {
      "text/plain": [
       "dict_keys(['dversion', 'tr', 'k', 'version', 'simidxs_mf', 'Nmf', 'TEMP_suffix', 'TEMP', 'lm_max_len', 'cls_unl', 'cls_len', 'Lmin', 'zbounds', 'zbounds_len', 'pb_ctr', 'pb_extent', 'lmax_ivf', 'sky_coverage', 'spectrum_type', 'lmin_teb', 'OBD', 'tpl', 'tpl_kwargs', 'lmin_tlm', 'lmin_elm', 'lmin_blm', 'nlev_t', 'nlev_p', 'simidxs', '_sims', 'sims', 'data_type', 'data_field', 'beam', 'nside', 'transferfunction', 'transf_tlm', 'transf_elm', 'transf_blm', 'ftl', 'fel', 'fbl', 'ftl_unl', 'fel_unl', 'fbl_unl', 'qe_tasks', 'QE_simidxs', 'qe_lm_max_qlm', 'qe_lmax_qlm', 'lmax_qlm', 'qe_filter_directional', 'filter', 'qlms_dd', 'cg_tol', 'chain_model', 'chain_descr', 'cl_analysis', 'btemplate_perturbative_lensremap', 'it_tasks', 'lm_max_unl', 'it_lm_max_qlm', 'lenjob_pbgeometry', 'lenjob_geometry', 'mf_dirname', 'it_simidxs', 'it_filter_directional', 'sims_MAP', 'itmax', 'iterator_typ', 'lensres', 'ffi', 'k_geom', 'mfvar', 'soltn_cond', 'stepper_model', 'cpp', 'dlensalot_model', 'overwrite_libdir', 'libdir_iterators', 'mf', 'plm', 'mf_resp', 'wflm', 'R_unl', 'ith', 'jobs'])"
      ]
     },
     "execution_count": 5,
     "metadata": {},
     "output_type": "execute_result"
    }
   ],
   "source": [
    "ana_mwe.__dict__.keys()"
   ]
  },
  {
   "cell_type": "code",
   "execution_count": 6,
   "id": "29b10752-47d0-4104-96d0-4d76a5a88e28",
   "metadata": {},
   "outputs": [
    {
     "data": {
      "text/plain": [
       "dict_keys(['pix_lib_phas', 'nlev_t', 'nlev_p', 'sims_cmb_len', 'cl_transf_T', 'cl_transf_P', 'nside'])"
      ]
     },
     "execution_count": 6,
     "metadata": {},
     "output_type": "execute_result"
    }
   ],
   "source": [
    "ana_mwe.sims.__dict__.keys()"
   ]
  },
  {
   "cell_type": "markdown",
   "id": "5acce7f0",
   "metadata": {},
   "source": [
    "## And how does the simulation data look like?"
   ]
  },
  {
   "cell_type": "code",
   "execution_count": 8,
   "id": "09978e67-c6f6-4418-b060-e4e737740982",
   "metadata": {
    "collapsed": true,
    "jupyter": {
     "outputs_hidden": true
    },
    "tags": []
   },
   "outputs": [
    {
     "ename": "KeyboardInterrupt",
     "evalue": "",
     "output_type": "error",
     "traceback": [
      "\u001b[0;31m---------------------------------------------------------------------------\u001b[0m",
      "\u001b[0;31mKeyboardInterrupt\u001b[0m                         Traceback (most recent call last)",
      "\u001b[0;32m/tmp/ipykernel_158497/1260189657.py\u001b[0m in \u001b[0;36m<module>\u001b[0;34m\u001b[0m\n\u001b[0;32m----> 1\u001b[0;31m \u001b[0mana_mwe\u001b[0m\u001b[0;34m.\u001b[0m\u001b[0msims\u001b[0m\u001b[0;34m.\u001b[0m\u001b[0msims\u001b[0m\u001b[0;34m.\u001b[0m\u001b[0mget_sim_pmap\u001b[0m\u001b[0;34m(\u001b[0m\u001b[0;36m0\u001b[0m\u001b[0;34m)\u001b[0m\u001b[0;34m\u001b[0m\u001b[0;34m\u001b[0m\u001b[0m\n\u001b[0m",
      "\u001b[0;32m/global/u2/s/sebibel/git/plancklens/plancklens/sims/maps.py\u001b[0m in \u001b[0;36mget_sim_pmap\u001b[0;34m(self, idx)\u001b[0m\n\u001b[1;32m     68\u001b[0m \u001b[0;34m\u001b[0m\u001b[0m\n\u001b[1;32m     69\u001b[0m         \"\"\"\n\u001b[0;32m---> 70\u001b[0;31m         \u001b[0melm\u001b[0m \u001b[0;34m=\u001b[0m \u001b[0mself\u001b[0m\u001b[0;34m.\u001b[0m\u001b[0msims_cmb_len\u001b[0m\u001b[0;34m.\u001b[0m\u001b[0mget_sim_elm\u001b[0m\u001b[0;34m(\u001b[0m\u001b[0midx\u001b[0m\u001b[0;34m)\u001b[0m\u001b[0;34m\u001b[0m\u001b[0;34m\u001b[0m\u001b[0m\n\u001b[0m\u001b[1;32m     71\u001b[0m         \u001b[0mhp\u001b[0m\u001b[0;34m.\u001b[0m\u001b[0malmxfl\u001b[0m\u001b[0;34m(\u001b[0m\u001b[0melm\u001b[0m\u001b[0;34m,\u001b[0m\u001b[0mself\u001b[0m\u001b[0;34m.\u001b[0m\u001b[0mcl_transf_P\u001b[0m\u001b[0;34m,\u001b[0m\u001b[0minplace\u001b[0m\u001b[0;34m=\u001b[0m\u001b[0;32mTrue\u001b[0m\u001b[0;34m)\u001b[0m\u001b[0;34m\u001b[0m\u001b[0;34m\u001b[0m\u001b[0m\n\u001b[1;32m     72\u001b[0m         \u001b[0mblm\u001b[0m \u001b[0;34m=\u001b[0m \u001b[0mself\u001b[0m\u001b[0;34m.\u001b[0m\u001b[0msims_cmb_len\u001b[0m\u001b[0;34m.\u001b[0m\u001b[0mget_sim_blm\u001b[0m\u001b[0;34m(\u001b[0m\u001b[0midx\u001b[0m\u001b[0;34m)\u001b[0m\u001b[0;34m\u001b[0m\u001b[0;34m\u001b[0m\u001b[0m\n",
      "\u001b[0;32m/global/u2/s/sebibel/git/lenscarf/lenscarf/sims/sims_ffp10.py\u001b[0m in \u001b[0;36mget_sim_elm\u001b[0;34m(self, idx)\u001b[0m\n\u001b[1;32m    174\u001b[0m         \u001b[0mfn_b\u001b[0m \u001b[0;34m=\u001b[0m \u001b[0;34m'blm_%04d'\u001b[0m \u001b[0;34m%\u001b[0m \u001b[0midx\u001b[0m\u001b[0;34m\u001b[0m\u001b[0;34m\u001b[0m\u001b[0m\n\u001b[1;32m    175\u001b[0m         \u001b[0;32mif\u001b[0m \u001b[0;32mnot\u001b[0m \u001b[0mself\u001b[0m\u001b[0;34m.\u001b[0m\u001b[0mcacher\u001b[0m\u001b[0;34m.\u001b[0m\u001b[0mis_cached\u001b[0m\u001b[0;34m(\u001b[0m\u001b[0mfn_e\u001b[0m\u001b[0;34m)\u001b[0m\u001b[0;34m:\u001b[0m\u001b[0;34m\u001b[0m\u001b[0;34m\u001b[0m\u001b[0m\n\u001b[0;32m--> 176\u001b[0;31m             \u001b[0mlen_elm\u001b[0m\u001b[0;34m,\u001b[0m \u001b[0mlen_blm\u001b[0m \u001b[0;34m=\u001b[0m \u001b[0mself\u001b[0m\u001b[0;34m.\u001b[0m\u001b[0m_build_eb\u001b[0m\u001b[0;34m(\u001b[0m\u001b[0midx\u001b[0m\u001b[0;34m)\u001b[0m\u001b[0;34m\u001b[0m\u001b[0;34m\u001b[0m\u001b[0m\n\u001b[0m\u001b[1;32m    177\u001b[0m             \u001b[0mself\u001b[0m\u001b[0;34m.\u001b[0m\u001b[0mcacher\u001b[0m\u001b[0;34m.\u001b[0m\u001b[0mcache\u001b[0m\u001b[0;34m(\u001b[0m\u001b[0mfn_b\u001b[0m\u001b[0;34m,\u001b[0m \u001b[0mlen_blm\u001b[0m\u001b[0;34m)\u001b[0m\u001b[0;34m\u001b[0m\u001b[0;34m\u001b[0m\u001b[0m\n\u001b[1;32m    178\u001b[0m             \u001b[0mself\u001b[0m\u001b[0;34m.\u001b[0m\u001b[0mcacher\u001b[0m\u001b[0;34m.\u001b[0m\u001b[0mcache\u001b[0m\u001b[0;34m(\u001b[0m\u001b[0mfn_e\u001b[0m\u001b[0;34m,\u001b[0m \u001b[0mlen_elm\u001b[0m\u001b[0;34m)\u001b[0m\u001b[0;34m\u001b[0m\u001b[0;34m\u001b[0m\u001b[0m\n",
      "\u001b[0;32m/global/u2/s/sebibel/git/lenscarf/lenscarf/sims/sims_ffp10.py\u001b[0m in \u001b[0;36m_build_eb\u001b[0;34m(self, idx)\u001b[0m\n\u001b[1;32m    142\u001b[0m         \u001b[0;32mfor\u001b[0m \u001b[0mi\u001b[0m\u001b[0;34m,\u001b[0m \u001b[0mpbdGeom\u001b[0m \u001b[0;32min\u001b[0m \u001b[0mutils\u001b[0m\u001b[0;34m.\u001b[0m\u001b[0menumerate_progress\u001b[0m\u001b[0;34m(\u001b[0m\u001b[0mself\u001b[0m\u001b[0;34m.\u001b[0m\u001b[0mpbdGeoms\u001b[0m\u001b[0;34m,\u001b[0m \u001b[0;34m'collecting bands'\u001b[0m\u001b[0;34m)\u001b[0m\u001b[0;34m:\u001b[0m\u001b[0;34m\u001b[0m\u001b[0;34m\u001b[0m\u001b[0m\n\u001b[1;32m    143\u001b[0m             \u001b[0mffi\u001b[0m \u001b[0;34m=\u001b[0m \u001b[0mdeflection\u001b[0m\u001b[0;34m(\u001b[0m\u001b[0mpbdGeom\u001b[0m\u001b[0;34m,\u001b[0m \u001b[0mself\u001b[0m\u001b[0;34m.\u001b[0m\u001b[0mtargetres\u001b[0m\u001b[0;34m,\u001b[0m \u001b[0mdlm\u001b[0m\u001b[0;34m,\u001b[0m \u001b[0mmmax_dlm\u001b[0m\u001b[0;34m,\u001b[0m \u001b[0mself\u001b[0m\u001b[0;34m.\u001b[0m\u001b[0mfft_tr\u001b[0m\u001b[0;34m,\u001b[0m \u001b[0mself\u001b[0m\u001b[0;34m.\u001b[0m\u001b[0msht_tr\u001b[0m\u001b[0;34m,\u001b[0m \u001b[0mverbose\u001b[0m\u001b[0;34m=\u001b[0m\u001b[0mself\u001b[0m\u001b[0;34m.\u001b[0m\u001b[0mverbose\u001b[0m\u001b[0;34m,\u001b[0m \u001b[0mdclm\u001b[0m\u001b[0;34m=\u001b[0m\u001b[0mdclm\u001b[0m\u001b[0;34m)\u001b[0m\u001b[0;34m\u001b[0m\u001b[0;34m\u001b[0m\u001b[0m\n\u001b[0;32m--> 144\u001b[0;31m             \u001b[0mlen_eblm\u001b[0m \u001b[0;34m+=\u001b[0m \u001b[0mffi\u001b[0m\u001b[0;34m.\u001b[0m\u001b[0mlensgclm\u001b[0m\u001b[0;34m(\u001b[0m\u001b[0;34m[\u001b[0m\u001b[0munl_elm\u001b[0m\u001b[0;34m,\u001b[0m \u001b[0munl_blm\u001b[0m\u001b[0;34m]\u001b[0m\u001b[0;34m,\u001b[0m \u001b[0mmmax_elm\u001b[0m\u001b[0;34m,\u001b[0m \u001b[0;36m2\u001b[0m\u001b[0;34m,\u001b[0m \u001b[0mself\u001b[0m\u001b[0;34m.\u001b[0m\u001b[0mlmax_len\u001b[0m\u001b[0;34m,\u001b[0m \u001b[0mself\u001b[0m\u001b[0;34m.\u001b[0m\u001b[0mmmax_len\u001b[0m\u001b[0;34m)\u001b[0m\u001b[0;34m\u001b[0m\u001b[0;34m\u001b[0m\u001b[0m\n\u001b[0m\u001b[1;32m    145\u001b[0m         \u001b[0;32mreturn\u001b[0m \u001b[0mlen_eblm\u001b[0m\u001b[0;34m\u001b[0m\u001b[0;34m\u001b[0m\u001b[0m\n\u001b[1;32m    146\u001b[0m \u001b[0;34m\u001b[0m\u001b[0m\n",
      "\u001b[0;32m/global/u2/s/sebibel/git/lenscarf/lenscarf/remapping.py\u001b[0m in \u001b[0;36mlensgclm\u001b[0;34m(self, gclm, mmax, spin, lmax_out, mmax_out, backwards, nomagn)\u001b[0m\n\u001b[1;32m    409\u001b[0m             \u001b[0;32mreturn\u001b[0m \u001b[0mnp\u001b[0m\u001b[0;34m.\u001b[0m\u001b[0marray\u001b[0m\u001b[0;34m(\u001b[0m\u001b[0;34m[\u001b[0m\u001b[0mglmret\u001b[0m\u001b[0;34m,\u001b[0m \u001b[0malm_copy\u001b[0m\u001b[0;34m(\u001b[0m\u001b[0mgclm\u001b[0m\u001b[0;34m[\u001b[0m\u001b[0;36m1\u001b[0m\u001b[0;34m]\u001b[0m\u001b[0;34m,\u001b[0m \u001b[0mmmax\u001b[0m\u001b[0;34m,\u001b[0m \u001b[0mlmax_out\u001b[0m\u001b[0;34m,\u001b[0m \u001b[0mmmax_out\u001b[0m\u001b[0;34m)\u001b[0m \u001b[0;32mif\u001b[0m \u001b[0mgclm\u001b[0m\u001b[0;34m[\u001b[0m\u001b[0;36m1\u001b[0m\u001b[0;34m]\u001b[0m \u001b[0;32mis\u001b[0m \u001b[0;32mnot\u001b[0m \u001b[0;32mNone\u001b[0m \u001b[0;32melse\u001b[0m \u001b[0mnp\u001b[0m\u001b[0;34m.\u001b[0m\u001b[0mzeros_like\u001b[0m\u001b[0;34m(\u001b[0m\u001b[0mglmret\u001b[0m\u001b[0;34m)\u001b[0m\u001b[0;34m]\u001b[0m\u001b[0;34m)\u001b[0m\u001b[0;34m\u001b[0m\u001b[0;34m\u001b[0m\u001b[0m\n\u001b[1;32m    410\u001b[0m         \u001b[0mself\u001b[0m\u001b[0;34m.\u001b[0m\u001b[0mtim\u001b[0m\u001b[0;34m.\u001b[0m\u001b[0mreset_t0\u001b[0m\u001b[0;34m(\u001b[0m\u001b[0;34m)\u001b[0m\u001b[0;34m\u001b[0m\u001b[0;34m\u001b[0m\u001b[0m\n\u001b[0;32m--> 411\u001b[0;31m         \u001b[0mlenm\u001b[0m \u001b[0;34m=\u001b[0m \u001b[0mself\u001b[0m\u001b[0;34m.\u001b[0m\u001b[0mgclm2lenmap\u001b[0m\u001b[0;34m(\u001b[0m\u001b[0mgclm\u001b[0m\u001b[0;34m,\u001b[0m \u001b[0mmmax\u001b[0m\u001b[0;34m,\u001b[0m \u001b[0mspin\u001b[0m\u001b[0;34m,\u001b[0m \u001b[0mbackwards\u001b[0m\u001b[0;34m,\u001b[0m \u001b[0mnomagn\u001b[0m\u001b[0;34m=\u001b[0m\u001b[0mnomagn\u001b[0m\u001b[0;34m)\u001b[0m\u001b[0;34m\u001b[0m\u001b[0;34m\u001b[0m\u001b[0m\n\u001b[0m\u001b[1;32m    412\u001b[0m         \u001b[0mself\u001b[0m\u001b[0;34m.\u001b[0m\u001b[0mtim\u001b[0m\u001b[0;34m.\u001b[0m\u001b[0madd\u001b[0m\u001b[0;34m(\u001b[0m\u001b[0;34m'gclm2lenmap, total'\u001b[0m\u001b[0;34m)\u001b[0m\u001b[0;34m\u001b[0m\u001b[0;34m\u001b[0m\u001b[0m\n\u001b[1;32m    413\u001b[0m         \u001b[0;32mif\u001b[0m \u001b[0mmmax_out\u001b[0m \u001b[0;32mis\u001b[0m \u001b[0;32mNone\u001b[0m\u001b[0;34m:\u001b[0m \u001b[0mmmax_out\u001b[0m \u001b[0;34m=\u001b[0m \u001b[0mlmax_out\u001b[0m\u001b[0;34m\u001b[0m\u001b[0;34m\u001b[0m\u001b[0m\n",
      "\u001b[0;32m/global/u2/s/sebibel/git/lenscarf/lenscarf/remapping.py\u001b[0m in \u001b[0;36mgclm2lenmap\u001b[0;34m(self, gclm, mmax, spin, backwards, nomagn)\u001b[0m\n\u001b[1;32m    375\u001b[0m         \u001b[0;31m# TODO: consider saving only grid angles and full phase factor\u001b[0m\u001b[0;34m\u001b[0m\u001b[0;34m\u001b[0m\u001b[0;34m\u001b[0m\u001b[0m\n\u001b[1;32m    376\u001b[0m         \u001b[0mself\u001b[0m\u001b[0;34m.\u001b[0m\u001b[0mtim\u001b[0m\u001b[0;34m.\u001b[0m\u001b[0mreset_t0\u001b[0m\u001b[0;34m(\u001b[0m\u001b[0;34m)\u001b[0m\u001b[0;34m\u001b[0m\u001b[0;34m\u001b[0m\u001b[0m\n\u001b[0;32m--> 377\u001b[0;31m         \u001b[0minterpjob\u001b[0m \u001b[0;34m=\u001b[0m \u001b[0mself\u001b[0m\u001b[0;34m.\u001b[0m\u001b[0m_build_interpolator\u001b[0m\u001b[0;34m(\u001b[0m\u001b[0mgclm\u001b[0m\u001b[0;34m,\u001b[0m \u001b[0mmmax\u001b[0m\u001b[0;34m,\u001b[0m \u001b[0mspin\u001b[0m\u001b[0;34m)\u001b[0m\u001b[0;34m\u001b[0m\u001b[0;34m\u001b[0m\u001b[0m\n\u001b[0m\u001b[1;32m    378\u001b[0m         self.tim.add('glm spin %s lmax %s interpolator setup' % (\n\u001b[1;32m    379\u001b[0m         spin, Alm.getlmax((gclm[0] if abs(spin) > 0 else gclm).size, mmax)))\n",
      "\u001b[0;32m/global/u2/s/sebibel/git/lenscarf/lenscarf/remapping.py\u001b[0m in \u001b[0;36m_build_interpolator\u001b[0;34m(self, gclm, mmax, spin)\u001b[0m\n\u001b[1;32m    119\u001b[0m         \u001b[0mbuffered_patch\u001b[0m \u001b[0;34m=\u001b[0m \u001b[0mskypatch\u001b[0m\u001b[0;34m(\u001b[0m\u001b[0mtbds\u001b[0m\u001b[0;34m,\u001b[0m \u001b[0;34m(\u001b[0m\u001b[0mself\u001b[0m\u001b[0;34m.\u001b[0m\u001b[0m_pbds\u001b[0m\u001b[0;34m.\u001b[0m\u001b[0mget_ctr\u001b[0m\u001b[0;34m(\u001b[0m\u001b[0;34m)\u001b[0m\u001b[0;34m,\u001b[0m \u001b[0mprange\u001b[0m\u001b[0;34m)\u001b[0m\u001b[0;34m,\u001b[0m \u001b[0mself\u001b[0m\u001b[0;34m.\u001b[0m\u001b[0m_resamin\u001b[0m\u001b[0;34m,\u001b[0m \u001b[0mpole_buffers\u001b[0m\u001b[0;34m=\u001b[0m\u001b[0;36m3\u001b[0m\u001b[0;34m)\u001b[0m\u001b[0;34m\u001b[0m\u001b[0;34m\u001b[0m\u001b[0m\n\u001b[1;32m    120\u001b[0m         return itp.bicubic_ecp_interpolator(spin, gclm, mmax, buffered_patch, self.sht_tr, self._fft_tr,\n\u001b[0;32m--> 121\u001b[0;31m                                             ns_symmetrize=symmetric * largegap, verbose=self.verbose, fftw_flags=self.fftw_flags)\n\u001b[0m\u001b[1;32m    122\u001b[0m \u001b[0;34m\u001b[0m\u001b[0m\n\u001b[1;32m    123\u001b[0m     \u001b[0;32mdef\u001b[0m \u001b[0m_init_d1\u001b[0m\u001b[0;34m(\u001b[0m\u001b[0mself\u001b[0m\u001b[0;34m)\u001b[0m\u001b[0;34m:\u001b[0m\u001b[0;34m\u001b[0m\u001b[0;34m\u001b[0m\u001b[0m\n",
      "\u001b[0;32m/global/u2/s/sebibel/git/lenscarf/lenscarf/interpolators.py\u001b[0m in \u001b[0;36m__init__\u001b[0;34m(self, spin, gclm, mmax, patch, sht_threads, fftw_threads, fftw_flags, verbose, ns_symmetrize)\u001b[0m\n\u001b[1;32m     81\u001b[0m         \u001b[0mdt\u001b[0m \u001b[0;34m=\u001b[0m \u001b[0mnp\u001b[0m\u001b[0;34m.\u001b[0m\u001b[0mabs\u001b[0m\u001b[0;34m(\u001b[0m\u001b[0;34m(\u001b[0m\u001b[0mpatch\u001b[0m\u001b[0;34m.\u001b[0m\u001b[0mtbounds\u001b[0m\u001b[0;34m[\u001b[0m\u001b[0;36m1\u001b[0m\u001b[0;34m]\u001b[0m \u001b[0;34m-\u001b[0m \u001b[0mpatch\u001b[0m\u001b[0;34m.\u001b[0m\u001b[0mtbounds\u001b[0m\u001b[0;34m[\u001b[0m\u001b[0;36m0\u001b[0m\u001b[0;34m]\u001b[0m\u001b[0;34m)\u001b[0m \u001b[0;34m/\u001b[0m \u001b[0;34m(\u001b[0m\u001b[0mecp_nt_nobuf\u001b[0m \u001b[0;34m-\u001b[0m \u001b[0;36m1.\u001b[0m\u001b[0;34m)\u001b[0m\u001b[0;34m)\u001b[0m\u001b[0;34m\u001b[0m\u001b[0;34m\u001b[0m\u001b[0m\n\u001b[1;32m     82\u001b[0m         \u001b[0;31m# SHT:\u001b[0m\u001b[0;34m\u001b[0m\u001b[0;34m\u001b[0m\u001b[0;34m\u001b[0m\u001b[0m\n\u001b[0;32m---> 83\u001b[0;31m         \u001b[0mecp_m\u001b[0m \u001b[0;34m=\u001b[0m \u001b[0mecp_job\u001b[0m\u001b[0;34m.\u001b[0m\u001b[0malm2map_spin\u001b[0m\u001b[0;34m(\u001b[0m\u001b[0mgclm\u001b[0m\u001b[0;34m,\u001b[0m \u001b[0mspin\u001b[0m\u001b[0;34m)\u001b[0m \u001b[0;32mif\u001b[0m  \u001b[0mspin\u001b[0m \u001b[0;34m>\u001b[0m \u001b[0;36m0\u001b[0m \u001b[0;32melse\u001b[0m \u001b[0mecp_job\u001b[0m\u001b[0;34m.\u001b[0m\u001b[0malm2map\u001b[0m\u001b[0;34m(\u001b[0m\u001b[0mgclm\u001b[0m\u001b[0;34m)\u001b[0m\u001b[0;34m\u001b[0m\u001b[0;34m\u001b[0m\u001b[0m\n\u001b[0m\u001b[1;32m     84\u001b[0m         \u001b[0;32mfor\u001b[0m \u001b[0misli\u001b[0m\u001b[0;34m,\u001b[0m \u001b[0mslic\u001b[0m \u001b[0;32min\u001b[0m \u001b[0menumerate\u001b[0m\u001b[0;34m(\u001b[0m\u001b[0mslices\u001b[0m\u001b[0;34m)\u001b[0m\u001b[0;34m:\u001b[0m\u001b[0;34m\u001b[0m\u001b[0;34m\u001b[0m\u001b[0m\n\u001b[1;32m     85\u001b[0m             \u001b[0mtbuf_n\u001b[0m \u001b[0;34m=\u001b[0m \u001b[0mnt_buf_n\u001b[0m \u001b[0;32mif\u001b[0m \u001b[0misli\u001b[0m \u001b[0;34m==\u001b[0m \u001b[0;36m0\u001b[0m \u001b[0;32melse\u001b[0m \u001b[0mnt_buf_s\u001b[0m\u001b[0;34m\u001b[0m\u001b[0;34m\u001b[0m\u001b[0m\n",
      "\u001b[0;32m/global/u2/s/sebibel/git/lenscarf/lenscarf/utils_scarf.py\u001b[0m in \u001b[0;36malm2map_spin\u001b[0;34m(self, gclm, spin)\u001b[0m\n\u001b[1;32m    363\u001b[0m \u001b[0;34m\u001b[0m\u001b[0m\n\u001b[1;32m    364\u001b[0m     \u001b[0;32mdef\u001b[0m \u001b[0malm2map_spin\u001b[0m\u001b[0;34m(\u001b[0m\u001b[0mself\u001b[0m\u001b[0;34m,\u001b[0m \u001b[0mgclm\u001b[0m\u001b[0;34m,\u001b[0m \u001b[0mspin\u001b[0m\u001b[0;34m)\u001b[0m\u001b[0;34m:\u001b[0m\u001b[0;34m\u001b[0m\u001b[0;34m\u001b[0m\u001b[0m\n\u001b[0;32m--> 365\u001b[0;31m         \u001b[0;32mreturn\u001b[0m \u001b[0mself\u001b[0m\u001b[0;34m.\u001b[0m\u001b[0mgeom\u001b[0m\u001b[0;34m.\u001b[0m\u001b[0malm2map_spin\u001b[0m\u001b[0;34m(\u001b[0m\u001b[0mgclm\u001b[0m\u001b[0;34m,\u001b[0m \u001b[0mspin\u001b[0m\u001b[0;34m,\u001b[0m \u001b[0mself\u001b[0m\u001b[0;34m.\u001b[0m\u001b[0mlmax\u001b[0m\u001b[0;34m,\u001b[0m \u001b[0mself\u001b[0m\u001b[0;34m.\u001b[0m\u001b[0mmmax\u001b[0m\u001b[0;34m,\u001b[0m \u001b[0mself\u001b[0m\u001b[0;34m.\u001b[0m\u001b[0mnthreads\u001b[0m\u001b[0;34m,\u001b[0m \u001b[0;34m[\u001b[0m\u001b[0;34m-\u001b[0m\u001b[0;36m1.\u001b[0m\u001b[0;34m,\u001b[0m \u001b[0;36m1.\u001b[0m\u001b[0;34m]\u001b[0m\u001b[0;34m)\u001b[0m\u001b[0;34m\u001b[0m\u001b[0;34m\u001b[0m\u001b[0m\n\u001b[0m\u001b[1;32m    366\u001b[0m \u001b[0;34m\u001b[0m\u001b[0m\n\u001b[1;32m    367\u001b[0m     \u001b[0;32mdef\u001b[0m \u001b[0mmap2alm_spin\u001b[0m\u001b[0;34m(\u001b[0m\u001b[0mself\u001b[0m\u001b[0;34m,\u001b[0m \u001b[0mm\u001b[0m\u001b[0;34m,\u001b[0m \u001b[0mspin\u001b[0m\u001b[0;34m)\u001b[0m\u001b[0;34m:\u001b[0m\u001b[0;34m\u001b[0m\u001b[0;34m\u001b[0m\u001b[0m\n",
      "\u001b[0;31mKeyboardInterrupt\u001b[0m: "
     ]
    }
   ],
   "source": [
    "ana_mwe.sims.sims.get_sim_pmap(0)"
   ]
  },
  {
   "cell_type": "markdown",
   "id": "2987fbb7",
   "metadata": {},
   "source": [
    "# Run ananlysis"
   ]
  },
  {
   "cell_type": "code",
   "execution_count": null,
   "id": "a4bb9439",
   "metadata": {},
   "outputs": [
    {
     "name": "stdout",
     "output_type": "stream",
     "text": [
      "CL[1]  18994092408985.168\n",
      "GL[1] (before subtraction)  18994063198072.613\n",
      "GL[1] (after subtraction)  -29210912.5546875\n",
      " [00:02:16] collecting bands > 00%\n"
     ]
    }
   ],
   "source": [
    "ana_mwe.run()"
   ]
  },
  {
   "cell_type": "markdown",
   "id": "819033ff",
   "metadata": {},
   "source": []
  }
 ],
 "metadata": {
  "kernelspec": {
   "display_name": "py3.7p",
   "language": "python",
   "name": "py3.7p"
  },
  "language_info": {
   "codemirror_mode": {
    "name": "ipython",
    "version": 3
   },
   "file_extension": ".py",
   "mimetype": "text/x-python",
   "name": "python",
   "nbconvert_exporter": "python",
   "pygments_lexer": "ipython3",
   "version": "3.7.11"
  },
  "vscode": {
   "interpreter": {
    "hash": "96d0485bd602dee2fe546bdb1aa725bb056ad76da47667a4d750e05245214379"
   }
  }
 },
 "nbformat": 4,
 "nbformat_minor": 5
}
