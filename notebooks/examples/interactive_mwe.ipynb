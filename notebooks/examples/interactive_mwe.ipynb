{
 "cells": [
  {
   "cell_type": "markdown",
   "id": "7339e9b4-9187-4181-82fe-76cc47f93161",
   "metadata": {},
   "source": [
    "![D.lensalot logo](res/dlensalot2.PNG)\n",
    "\n",
    "# Interactive minimal working example\n",
    "In this notebook you perfrom iterative lensing reconstruction for two simulations, and on the full sky.\n",
    "The simulations are created upon runtime inclusive of isotropic white noise, using the built-in FFP10 `sims` module.\n",
    "At the end, we will plot the lensing potential estimate of both, the QE and iterative lensing reconstruction.\n",
    "\n",
    "The configuration file is [here](https://github.com/NextGenCMB/D.lensalot/blob/sv3.1/lenscarf/ana/config/examples/mwe/conf_mwe_fullsky.py), and you can freely change the parameters to your liking."
   ]
  },
  {
   "cell_type": "code",
   "execution_count": 1,
   "id": "fa0679f4-94e2-46f6-89f6-4d7ca782d3b3",
   "metadata": {},
   "outputs": [
    {
     "name": "stdout",
     "output_type": "stream",
     "text": [
      "cond4mpi does not exists\n",
      "could not setup healpix hack. reverting to standard healpy\n",
      "MSC: using scarf with 2 OMP threads\n"
     ]
    }
   ],
   "source": [
    "import os\n",
    "from os.path import join as opj\n",
    "import numpy as np\n",
    "import healpy as hp\n",
    "\n",
    "import matplotlib.pyplot as plt\n",
    "\n",
    "import lenscarf\n",
    "from lenscarf.run import run"
   ]
  },
  {
   "cell_type": "markdown",
   "id": "89997871",
   "metadata": {},
   "source": [
    "# Choose analysis\n",
    "## QE lensing reconstruction\n",
    "The following cell selects an exisiting configuration file, initialises dlensalot for a QE lensing reconstruction job, and runs lensing reconstruction"
   ]
  },
  {
   "cell_type": "code",
   "execution_count": 2,
   "id": "15f61a75-9182-4379-bc43-3c0a7398e34b",
   "metadata": {
    "tags": []
   },
   "outputs": [
    {
     "name": "stdout",
     "output_type": "stream",
     "text": [
      "WARNING:: 01-28 05:48:: root.store - config file /pscratch/sd/s/sebibel/dlensalot/lenscarf/sims_mwe/mwe_lminB200_my_first_dlensalot_analysis/conf_mwe_fullsky.py already exist. Checking differences.\n"
     ]
    }
   ],
   "source": [
    "fn = opj(os.path.dirname(os.path.abspath(lenscarf.__file__)),'ana/config/examples/mwe/conf_mwe_fullsky.py')\n",
    "ana_mwe = run(config=fn, job_id='QE_lensrec', verbose=False).job\n",
    "ana_mwe.run()"
   ]
  },
  {
   "cell_type": "markdown",
   "id": "ef089cf4-1ca1-42d1-be77-608ec52c4744",
   "metadata": {},
   "source": [
    "## iterative lensing reconstruction\n",
    "The following cell repeats above, for the iterative case"
   ]
  },
  {
   "cell_type": "code",
   "execution_count": null,
   "id": "a528988d-0e3c-411c-ac8b-a204d4fa57a3",
   "metadata": {},
   "outputs": [
    {
     "name": "stdout",
     "output_type": "stream",
     "text": [
      "WARNING:: 01-28 05:30:: root.store - config file /pscratch/sd/s/sebibel/dlensalot/lenscarf/sims_mwe/mwe_lminB200_my_first_dlensalot_analysis/conf_mwe_fullsky.py already exist. Checking differences.\n",
      "CL[1]  16425105110948.861\n",
      "GL[1] (before subtraction)  16425087058645.094\n",
      "GL[1] (after subtraction)  -18052303.767578125\n",
      "5120 5120\n",
      " [00:02:18] collecting bands > 00%\n",
      "5120 5120\n",
      " [00:02:11] collecting bands > 00%\n",
      "deflection std is 1.44e+02 amin: this is really too high a value for something sensible\n",
      "4000 4000\n",
      "4000 4000\n"
     ]
    }
   ],
   "source": [
    "fn = opj(os.path.dirname(os.path.abspath(lenscarf.__file__)),'ana/config/examples/mwe/conf_mwe_fullsky.py')\n",
    "ana_mwe = run(config=fn, job_id='MAP_lensrec', verbose=False).job\n",
    "ana_mwe.run()"
   ]
  },
  {
   "cell_type": "markdown",
   "id": "d8c0d304-9f76-4ae7-9d0e-2fe4119a07a1",
   "metadata": {},
   "source": [
    "# Check your results\n",
    "`get_plm(idx)` returns the spherical harmonics of the lensing potential estimate for simulation `idx`"
   ]
  },
  {
   "cell_type": "code",
   "execution_count": 19,
   "id": "46d01cbe-0dc5-43e2-bfe9-18d99f1a151e",
   "metadata": {},
   "outputs": [
    {
     "data": {
      "image/png": "[encoded data removed]",
      "text/plain": [
       "<Figure size 432x288 with 1 Axes>"
      ]
     },
     "metadata": {
      "needs_background": "light"
     },
     "output_type": "display_data"
    }
   ],
   "source": [
    "plm_QE = ana_mwe.get_plm(0)\n",
    "# plm_MAP = ana_mwe.get_plm_it(ana_mwe.itmax)\n",
    "ll = np.arange(0,4001,1)\n",
    "scale_factor = (ll*(ll+1))**2/(2*np.pi)\n",
    "plt.plot(scale_factor*hp.alm2cl(plm_QE), label=r'$C_L^{\\hat{\\phi}^{\\rm QE}\\hat{\\phi}^{\\rm QE}}$')\n",
    "plt.plot(scale_factor*ana_mwe.cpp, label=r'$C_L^{\\phi\\phi,{\\rm fid}}$')\n",
    "# plt.plot(hp.alm2cl(plm_MAP)*np.arange(0,4001,1)**4/(2*np.pi), label=r'$C_L^{\\phi^{\\rm MAP}\\phi^{\\rm MAP}}$')\n",
    "\n",
    "plt.legend(fontsize=20)\n",
    "plt.xlabel('Multipole, L', fontsize=14)\n",
    "plt.ylabel(r'$\\left[L(L+1)\\right]^2/(2\\pi)$', fontsize=14)\n",
    "plt.xscale('log')\n",
    "plt.xlim(1,1e3)\n",
    "plt.ylim(1e-8,5e-7)\n",
    "plt.yscale('log')"
   ]
  },
  {
   "cell_type": "code",
   "execution_count": null,
   "id": "fb886ab6-b1e2-4374-9874-2e379fece278",
   "metadata": {},
   "outputs": [],
   "source": []
  },
  {
   "cell_type": "markdown",
   "id": "531259de",
   "metadata": {},
   "source": [
    "# Other\n",
    "## Check configuration\n",
    "Let us look into the configuration file"
   ]
  },
  {
   "cell_type": "code",
   "execution_count": 3,
   "id": "29b10752-47d0-4104-96d0-4d76a5a88e28",
   "metadata": {
    "tags": []
   },
   "outputs": [],
   "source": [
    "print(ana_mwe.dlensalot_model.__str__())"
   ]
  },
  {
   "cell_type": "markdown",
   "id": "5acce7f0",
   "metadata": {},
   "source": [
    "## And how does the simulation data look like?"
   ]
  },
  {
   "cell_type": "code",
   "execution_count": 4,
   "id": "610b76af-ade4-4d89-911b-fea4c1b244bd",
   "metadata": {},
   "outputs": [],
   "source": [
    "hp.mollview(ana_mwe.sims.get_sim_pmap(0)[0], title='E map')"
   ]
  }
 ],
 "metadata": {
  "kernelspec": {
   "display_name": "py3.7p",
   "language": "python",
   "name": "py3.7p"
  },
  "language_info": {
   "codemirror_mode": {
    "name": "ipython",
    "version": 3
   },
   "file_extension": ".py",
   "mimetype": "text/x-python",
   "name": "python",
   "nbconvert_exporter": "python",
   "pygments_lexer": "ipython3",
   "version": "3.7.11"
  },
  "vscode": {
   "interpreter": {
    "hash": "96d0485bd602dee2fe546bdb1aa725bb056ad76da47667a4d750e05245214379"
   }
  }
 },
 "nbformat": 4,
 "nbformat_minor": 5
}
