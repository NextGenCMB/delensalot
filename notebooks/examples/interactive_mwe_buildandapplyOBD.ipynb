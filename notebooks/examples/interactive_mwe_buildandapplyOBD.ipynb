{
 "cells": [
  {
   "cell_type": "markdown",
   "id": "c0e5b8a7-da3f-4009-8b35-b39c998680df",
   "metadata": {},
   "source": [
    "\n",
    "![D.lensalot logo](./../../res/dlensalot2.PNG)\n",
    "\n",
    "# Interactive minimal working example - OBD matrix\n",
    "In this tutorial you generate an overlapping B-mode deprojection matrix, and apply it to a noisemodel using a masked sky.\n",
    "At the end of this tutorial, you will plot the power spectrum of a single simulation, and deproject its B-modes using the OBD matrix.\n",
    "\n",
    "This tutorial uses two configuration files. The [first](https://github.com/NextGenCMB/D.lensalot/blob/sv3.1/lenscarf/ana/config/examples/mwe/conf_mwe_buildOBD.py) is for generating the OBD matrix, and you can freely change the parameters to your liking. \n",
    "\n",
    "The \n",
    " * `DLENSALOT_Analysis` is mainly needed for pointing D.lensalot to the mask you will generate in this notebook,\n",
    " * `DLENSALOT_Noisemodel` configures the noise model. You should choose the setting applicable to the simulations and/or data you'd like to deproject,\n",
    " * `DLENSALOT_OBD` defines where the Matrix temp and final files are stored and other simulation and/or data specific settings\n"
   ]
  },
  {
   "cell_type": "code",
   "execution_count": 1,
   "id": "131e7b36-cd19-4c52-8ead-66c3f6f8c7c1",
   "metadata": {},
   "outputs": [
    {
     "name": "stdout",
     "output_type": "stream",
     "text": [
      "cond4mpi does not exists\n",
      "could not setup healpix hack. reverting to standard healpy\n",
      "MSC: using scarf with 2 OMP threads\n"
     ]
    }
   ],
   "source": [
    "import os\n",
    "from os.path import join as opj\n",
    "import numpy as np\n",
    "import healpy as hp\n",
    "\n",
    "import matplotlib.pyplot as plt\n",
    "\n",
    "import lenscarf\n",
    "from lenscarf.run import run\n",
    "\n",
    "from lenscarf.lerepi.visalot import plot_helper as ph"
   ]
  },
  {
   "cell_type": "markdown",
   "id": "2e4b0e22-258d-4e6a-8e64-f6c3ba0e8083",
   "metadata": {},
   "source": [
    "# Create mask\n",
    "Due to masking the noise model is no longer isotropic."
   ]
  },
  {
   "cell_type": "code",
   "execution_count": 2,
   "id": "3bdcf3f3-0594-4515-85fe-f8b28b38e5dc",
   "metadata": {
    "tags": []
   },
   "outputs": [
    {
     "name": "stdout",
     "output_type": "stream",
     "text": [
      "fsky: 0.167\n",
      "INFO:: 02-04 07:49:: lenscarf.lerepi.core.handler.log - load_configfile() Started: /global/homes/s/sebibel/git/notebooks/dlensalot/dev/conf_mwe_buildOBD.py\n",
      "INFO:: 02-04 07:49:: lenscarf.lerepi.core.handler.log - load_configfile() Finished\n",
      "INFO:: 02-04 07:49:: lenscarf.lerepi.core.handler.log - store() Started\n",
      "INFO:: 02-04 07:49:: root.store - config file stored at /global/cscratch1/sd/sebibel/OBDmatrix_nside128_lmax300/conf_mwe_buildOBD.py\n",
      "INFO:: 02-04 07:49:: lenscarf.lerepi.core.handler.log - store() Finished\n",
      "INFO:: 02-04 07:49:: lenscarf.lerepi.core.handler.log - collect_jobs() Started\n",
      "INFO:: 02-04 07:49:: lenscarf.lerepi.core.handler.log - collect_jobs() Finished\n",
      "INFO:: 02-04 07:49:: lenscarf.lerepi.core.handler.log - get_jobs() Started\n",
      "INFO:: 02-04 07:49:: lenscarf.lerepi.core.handler.log - get_jobs() Finished\n",
      "INFO:: 02-04 07:49:: lenscarf.lerepi.core.handler.log - init_job() Started\n",
      "INFO:: 02-04 07:49:: lenscarf.lerepi.core.handler.init_job - transform started\n",
      "INFO:: 02-04 07:49:: lenscarf.lerepi.core.transformer.lerepi2dlensalot.log - build() started\n",
      "INFO:: 02-04 07:49:: lenscarf.lerepi.core.transformer.lerepi2dlensalot.log - _process_Computing() started\n",
      "INFO:: 02-04 07:49:: lenscarf.lerepi.core.transformer.lerepi2dlensalot.log - _process_Computing() finished\n",
      "INFO:: 02-04 07:49:: lenscarf.lerepi.core.transformer.lerepi2dlensalot.log - _process_Analysis() started\n",
      "INFO:: 02-04 07:49:: lenscarf.lerepi.core.transformer.lerepi2dlensalot.log - _process_Analysis() finished\n",
      "INFO:: 02-04 07:49:: lenscarf.lerepi.core.transformer.lerepi2dlensalot.log - () started\n",
      "INFO:: 02-04 07:49:: lenscarf.lerepi.core.transformer.lerepi2dlensalot.log - _process_OBD() finished\n",
      "INFO:: 02-04 07:49:: lenscarf.lerepi.core.transformer.lerepi2dlensalot.log - () started\n",
      "INFO:: 02-04 07:49:: lenscarf.lerepi.core.transformer.lerepi2dlensalot.log - get_ninvp() started\n",
      "INFO:: 02-04 07:49:: lenscarf.lerepi.core.transformer.lerepi2dlensalot.log - get_ninvp() finished\n",
      "INFO:: 02-04 07:49:: lenscarf.lerepi.core.transformer.lerepi2dlensalot.log - _process_Noisemodel() finished\n",
      "INFO:: 02-04 07:49:: lenscarf.lerepi.core.transformer.lerepi2dlensalot.log - build() finished\n",
      "INFO:: 02-04 07:49:: lenscarf.lerepi.core.handler.init_job - transform done\n",
      "INFO:: 02-04 07:49:: lenscarf.lerepi.core.handler.init_job - model init started\n",
      "INFO:: 02-04 07:49:: lenscarf.lerepi.core.handler.init_job - model init done\n",
      "INFO:: 02-04 07:49:: lenscarf.lerepi.core.handler.init_job - collect_jobs started\n",
      "INFO:: 02-04 07:49:: lenscarf.core.handler.log - collect_jobs() started\n",
      "INFO:: 02-04 07:49:: lenscarf.core.handler.log - collect_jobs() finished\n",
      "INFO:: 02-04 07:49:: lenscarf.lerepi.core.handler.init_job - collect_jobs done\n",
      "INFO:: 02-04 07:49:: lenscarf.lerepi.core.handler.log - init_job() Finished\n"
     ]
    },
    {
     "data": {
      "image/png": "[encoded data removed]",
      "text/plain": [
       "<Figure size 612x388.8 with 2 Axes>"
      ]
     },
     "metadata": {
      "needs_background": "light"
     },
     "output_type": "display_data"
    }
   ],
   "source": [
    "m = np.zeros(hp.nside2npix(1))\n",
    "m[5] = 1\n",
    "m[8] = 1\n",
    "m = hp.ud_grade(m, nside_out=128)\n",
    "hp.mollview(m, nest=False, title='mask')\n",
    "print('fsky: {:.3f}'.format(np.mean(m)))\n",
    "\n",
    "fn = '/global/homes/s/sebibel/git/notebooks/dlensalot/dev/conf_mwe_buildOBD.py'\n",
    "ana_mwe = run(config=fn, job_id='build_OBD', verbose=False).job\n",
    "mask_fn = opj(ana_mwe.TEMP,'mask.fits')\n",
    "if not os.path.isfile(mask_fn):\n",
    "    hp.write_map(mask_fn, m)\n",
    "    print('mask stored at {}'.format(mask_fn))"
   ]
  },
  {
   "cell_type": "markdown",
   "id": "341219b4-7675-4052-953c-2566fd698914",
   "metadata": {},
   "source": [
    "# Create the OBD matrix\n",
    "This may take a while (~120minutes), go grab a coffee"
   ]
  },
  {
   "cell_type": "code",
   "execution_count": null,
   "id": "7b059825-37f4-4333-ade9-757fe4f4ae94",
   "metadata": {},
   "outputs": [
    {
     "name": "stdout",
     "output_type": "stream",
     "text": [
      "INFO:: 02-04 07:57:: lenscarf.lerepi.core.handler.log - load_configfile() Started: /global/homes/s/sebibel/git/notebooks/dlensalot/dev/conf_mwe_buildOBD.py\n",
      "INFO:: 02-04 07:57:: lenscarf.lerepi.core.handler.log - load_configfile() Finished\n",
      "INFO:: 02-04 07:57:: lenscarf.lerepi.core.handler.log - store() Started\n",
      "WARNING:: 02-04 07:57:: root.store - config file /global/cscratch1/sd/sebibel/OBDmatrix_nside128_lmax300/conf_mwe_buildOBD.py already exist. Checking differences.\n",
      "INFO:: 02-04 07:57:: lenscarf.lerepi.core.handler.log - load_configfile() Started: /global/cscratch1/sd/sebibel/OBDmatrix_nside128_lmax300/conf_mwe_buildOBD.py\n",
      "INFO:: 02-04 07:57:: lenscarf.lerepi.core.handler.log - load_configfile() Finished\n",
      "INFO:: 02-04 07:57:: root.store - config file look the same. Resuming where I left off last time.\n",
      "INFO:: 02-04 07:57:: root.store - Matching config file found. Resuming where I left off.\n",
      "INFO:: 02-04 07:57:: lenscarf.lerepi.core.handler.log - store() Finished\n",
      "INFO:: 02-04 07:57:: lenscarf.lerepi.core.handler.log - collect_jobs() Started\n",
      "INFO:: 02-04 07:57:: lenscarf.lerepi.core.handler.log - collect_jobs() Finished\n",
      "INFO:: 02-04 07:57:: lenscarf.lerepi.core.handler.log - get_jobs() Started\n",
      "INFO:: 02-04 07:57:: lenscarf.lerepi.core.handler.log - get_jobs() Finished\n",
      "INFO:: 02-04 07:57:: lenscarf.lerepi.core.handler.log - init_job() Started\n",
      "INFO:: 02-04 07:57:: lenscarf.lerepi.core.handler.init_job - transform started\n",
      "INFO:: 02-04 07:57:: lenscarf.lerepi.core.transformer.lerepi2dlensalot.log - build() started\n",
      "INFO:: 02-04 07:57:: lenscarf.lerepi.core.transformer.lerepi2dlensalot.log - _process_Computing() started\n",
      "INFO:: 02-04 07:57:: lenscarf.lerepi.core.transformer.lerepi2dlensalot.log - _process_Computing() finished\n",
      "INFO:: 02-04 07:57:: lenscarf.lerepi.core.transformer.lerepi2dlensalot.log - _process_Analysis() started\n",
      "INFO:: 02-04 07:57:: lenscarf.lerepi.core.transformer.lerepi2dlensalot.log - _process_Analysis() finished\n",
      "INFO:: 02-04 07:57:: lenscarf.lerepi.core.transformer.lerepi2dlensalot.log - () started\n",
      "INFO:: 02-04 07:57:: lenscarf.lerepi.core.transformer.lerepi2dlensalot.log - _process_OBD() finished\n",
      "INFO:: 02-04 07:57:: lenscarf.lerepi.core.transformer.lerepi2dlensalot.log - () started\n",
      "INFO:: 02-04 07:57:: lenscarf.lerepi.core.transformer.lerepi2dlensalot.log - get_ninvp() started\n",
      "INFO:: 02-04 07:57:: lenscarf.lerepi.core.transformer.lerepi2dlensalot.log - get_ninvp() finished\n",
      "INFO:: 02-04 07:57:: lenscarf.lerepi.core.transformer.lerepi2dlensalot.log - _process_Noisemodel() finished\n",
      "INFO:: 02-04 07:57:: lenscarf.lerepi.core.transformer.lerepi2dlensalot.log - build() finished\n",
      "INFO:: 02-04 07:57:: lenscarf.lerepi.core.handler.init_job - transform done\n",
      "INFO:: 02-04 07:57:: lenscarf.lerepi.core.handler.init_job - model init started\n",
      "INFO:: 02-04 07:57:: lenscarf.lerepi.core.handler.init_job - model init done\n",
      "INFO:: 02-04 07:57:: lenscarf.lerepi.core.handler.init_job - collect_jobs started\n",
      "INFO:: 02-04 07:57:: lenscarf.core.handler.log - collect_jobs() started\n",
      "INFO:: 02-04 07:57:: lenscarf.core.handler.log - collect_jobs() finished\n",
      "INFO:: 02-04 07:57:: lenscarf.lerepi.core.handler.init_job - collect_jobs done\n",
      "INFO:: 02-04 07:57:: lenscarf.lerepi.core.handler.log - init_job() Finished\n",
      "INFO:: 02-04 07:57:: lenscarf.core.handler.log - run() started\n",
      "INFO:: 02-04 07:57:: lenscarf.opfilt.bmodes_ninv.__init__ - *** alm_filter_ninv: switching to same ninv_geometry but with unit weights\n",
      " [00:07:02] Calculating Pmat row -------> 71%"
     ]
    }
   ],
   "source": [
    "fn = '/global/homes/s/sebibel/git/notebooks/dlensalot/dev/conf_mwe_buildOBD.py'\n",
    "ana_mwe = run(config=fn, job_id='build_OBD', verbose=False).job\n",
    "ana_mwe.run()"
   ]
  },
  {
   "cell_type": "markdown",
   "id": "b9795721-f796-4471-9b41-ef3608e24817",
   "metadata": {},
   "source": [
    "# Apply to simulation data\n",
    "The second [configuration file](https://github.com/NextGenCMB/D.lensalot/blob/sv3.1/lenscarf/ana/config/examples/mwe/conf_mwe_applyOBD.py)\n",
    "generates a single simulated CMB inclusive of some noise, applies the above generated mask, and applies the OBD matrix on the noise-model to correctly deproject the B-modes"
   ]
  },
  {
   "cell_type": "code",
   "execution_count": null,
   "id": "9c0cdbe0-3b3c-47b3-80aa-8be6df227b46",
   "metadata": {},
   "outputs": [],
   "source": [
    "fn = '/global/homes/s/sebibel/git/notebooks/dlensalot/dev/conf_mwe_applyOBD.py'\n",
    "ana_mwe = run(config=fn, job_id='QE_lensrec', verbose=True).job"
   ]
  },
  {
   "cell_type": "markdown",
   "id": "6e225366-7403-4092-92e7-424bb457eaa4",
   "metadata": {},
   "source": [
    "# Check result\n",
    "You can test if it worked by plotting the B spectra after Wiener-filtering"
   ]
  },
  {
   "cell_type": "code",
   "execution_count": null,
   "id": "f9306eaf-0db5-470c-8f99-5726f2d5773e",
   "metadata": {},
   "outputs": [],
   "source": [
    "b = ana_mwe._sims.get_sim_blm(0)\n",
    "ivf_b = ana_mwe.ivfs.get_sim_bmliklm(simidx)\n",
    "plt.plot(hp.alm2cl(ivf_e), label='$C_\\ell^{BB}$')\n",
    "plt.plot(hp.alm2cl(ivf_b), label='$\\bar{C}_\\ell^{BB}$')\n",
    "plt.yscale('log')\n",
    "plt.xlim(0,300)\n",
    "\n",
    "plt.xlabel('Multipole, $\\ell$')\n",
    "plt.ylabel('$C_\\ell [\\mu $'+r'$\\rm{K}^2$]')\n",
    "plt.legend()\n",
    "plt.show()"
   ]
  }
 ],
 "metadata": {
  "kernelspec": {
   "display_name": "py3.7p",
   "language": "python",
   "name": "py3.7p"
  },
  "language_info": {
   "codemirror_mode": {
    "name": "ipython",
    "version": 3
   },
   "file_extension": ".py",
   "mimetype": "text/x-python",
   "name": "python",
   "nbconvert_exporter": "python",
   "pygments_lexer": "ipython3",
   "version": "3.7.11"
  }
 },
 "nbformat": 4,
 "nbformat_minor": 5
}
